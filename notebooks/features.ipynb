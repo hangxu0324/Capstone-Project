{
  "cells": [
    {
      "cell_type": "markdown",
      "metadata": {
        "id": "jzJstvjUCQie"
      },
      "source": [
        "GoogleSheet for planning and documentation: \n",
        "* https://docs.google.com/spreadsheets/d/1fI7d_93jsmje8tEvsGzLxQ5aRxOWq-e0KeXekkhvuXM/"
      ]
    },
    {
      "cell_type": "code",
      "execution_count": null,
      "metadata": {
        "id": "qqaOIY4cPYWp"
      },
      "outputs": [],
      "source": [
        "#Import goes here\n",
        "import pandas as pd\n",
        "import numpy as np\n",
        "from matplotlib import pyplot as plt\n",
        "import seaborn as sns\n",
        "import random\n",
        "from datetime import date\n",
        "#import sqldf"
      ]
    },
    {
      "cell_type": "code",
      "execution_count": null,
      "metadata": {
        "id": "4EtWD1erPgI5"
      },
      "outputs": [],
      "source": [
        "#Read in data from Github\n",
        "board = pd.read_csv(\"https://raw.githubusercontent.com/hangxu0324/Capstone-Project/main/data/board_anon.csv\",index_col=0)\n",
        "cx_df = pd.read_csv(\"https://raw.githubusercontent.com/hangxu0324/Capstone-Project/main/data/cx_df_anon.csv\",index_col=0)\n",
        "gx_df = pd.read_csv(\"https://raw.githubusercontent.com/hangxu0324/Capstone-Project/main/data/gx_df_anon.csv\",index_col=0)\n",
        "launch_df = pd.read_csv(\"https://raw.githubusercontent.com/hangxu0324/Capstone-Project/main/data/launch_df_anon.csv\")\n",
        "#New provided data\n",
        "#df_candidate = pd.read_csv(\"https://raw.githubusercontent.com/hangxu0324/Capstone-Project/main/data/material_candidates/df_candidates.csv\")\n",
        "country_pop = pd.read_csv(\"https://raw.githubusercontent.com/hangxu0324/Capstone-Project/main/data/material_candidates/population_anon.csv\")\n",
        "reg_deg = pd.read_csv(\"https://raw.githubusercontent.com/hangxu0324/Capstone-Project/main/data/material_candidates/reg_desig_anon.csv\")\n",
        "indication_df = pd.read_csv(\"https://raw.githubusercontent.com/hangxu0324/Capstone-Project/main/data/material_candidates/indication_df_anon.csv\")"
      ]
    },
    {
      "cell_type": "code",
      "execution_count": null,
      "metadata": {
        "colab": {
          "base_uri": "https://localhost:8080/"
        },
        "id": "BKduGfAupwL5",
        "outputId": "9004251b-1138-455e-b0be-cec5e41df3fb"
      },
      "outputs": [
        {
          "output_type": "stream",
          "name": "stdout",
          "text": [
            "1464\n"
          ]
        }
      ],
      "source": [
        "print(len(board.cluster_id.unique()))\n",
        "#print(len(df_candidate.cluster_id.unique()))\n",
        "#print(len(df_candidate_new.cluster_id.unique()))"
      ]
    },
    {
      "cell_type": "markdown",
      "metadata": {
        "id": "5ccTM4bUN8xQ"
      },
      "source": [
        "## Preprocessing functions\n",
        "\n",
        "Function `data_filter`: \n",
        "1. Filter out clusters that have a growth stage.\n",
        "2. Filter out clusters that have a launch data after 2006.\n",
        "3. If include_all=True, the filter will include data from all stages. Else, only data points that are either at the stage of growth / transitioned from growth will be included.\n",
        "4. All data after 2019/4/1 (testing data) will be included.\n",
        "\n",
        "Function `process_launch_date`: Fix some incorrect values in the launch dataset\n",
        "\n",
        "1. If the launch date is null, set it to the start of the cluster.\n",
        "2. If the launch date is after the start date of the cluster, set it to the start of the cluster."
      ]
    },
    {
      "cell_type": "code",
      "execution_count": null,
      "metadata": {
        "id": "0agLNv_NucGp"
      },
      "outputs": [],
      "source": [
        "# data filter function\n",
        "def data_filter(board, time_filter=False, include_all=False):\n",
        "\n",
        "  ''' \n",
        "  input: board is the dataframe from df_candidate_anon.csv\n",
        "  output: growth_board with 706 clusters that contain growth stages and have launch date after 2006\n",
        "                         Or 847 clusters that contain growth stages\n",
        "\n",
        "  If include_all set to false, data points that are either at the stage of growth / Maturity (Growth before) / Unknown will be included.                       \n",
        "  '''\n",
        "  board.loc[board['stage_name'] =='Forecasting', 'stage_name'] = np.nan\n",
        "  ## find all clusters with growth\n",
        "  growth_ids = board[board['stage_name']=='Growth'].cluster_id.unique()\n",
        "\n",
        "  ## choose clusters with launch date after 2006\n",
        "  if time_filter: \n",
        "    # find growth clusters with launch date\n",
        "    growth_launch_df = clean_launch_df[(clean_launch_df['cluster_id'].isin(growth_ids))].reset_index()\n",
        "    # apply filter >2006\n",
        "    growth_launch_df_filtered = growth_launch_df[pd.DatetimeIndex(growth_launch_df['launch_date']).year > 2006]\n",
        "    growth_ids = growth_launch_df_filtered.cluster_id.unique()\n",
        "\n",
        "  growth_board = board[board['cluster_id'].isin(growth_ids)].reset_index()\n",
        "\n",
        "  if not include_all:\n",
        "      ## Only keep three scenarios: stage_name = 'Growth' or stage_name = 'Maturity' and lag = 'Growth' or stage_name = Forecasting\n",
        "      growth_board = growth_board[(growth_board['stage_name']=='Growth') | \\\n",
        "                       ((growth_board['stage_name'] == 'Maturity') & (growth_board['stage_name_lag_1'] == 'Growth')) | \\\n",
        "                       (growth_board['stage_name'].isnull())].reset_index(drop=True)\n",
        "  \n",
        "  return growth_board"
      ]
    },
    {
      "cell_type": "code",
      "source": [
        "# a=data_filter(board)\n",
        "# a[a['cluster_id']=='ID_18']"
      ],
      "metadata": {
        "id": "6t7S4RSkGCxj"
      },
      "execution_count": null,
      "outputs": []
    },
    {
      "cell_type": "code",
      "execution_count": null,
      "metadata": {
        "id": "5DCnGN9AM3RW"
      },
      "outputs": [],
      "source": [
        "def process_launch_date(launch_df):\n",
        "\n",
        "  ''' \n",
        "  input: launch_df is the dataframe from launch_df.csv\n",
        "  output: launch_df with adjusted launch date\n",
        "  '''\n",
        "  start_date = board.sort_values('date').groupby('cluster_id').head(1)[['cluster_id','date']]\n",
        "  start_date = start_date.rename(columns={'date': 'start_date'})\n",
        "\n",
        "  ## when launch date is null, set it to start date of the cluster\n",
        "  temp_df = pd.merge(launch_df,start_date,on='cluster_id',how='outer')[['cluster_id','launch_date','start_date']]\n",
        "  temp_df['launch_date'] = temp_df['launch_date'].fillna(temp_df['start_date'])\n",
        "\n",
        "  ## when launch date is after start date of the cluster, set it to start date of the cluster\n",
        "  temp_df = temp_df.dropna().reset_index()\n",
        "  for i in range(len(temp_df)):\n",
        "    if temp_df.loc[i,'launch_date'] > temp_df.loc[i,'start_date']:\n",
        "      temp_df.loc[i,'launch_date'] = temp_df.loc[i,'start_date']\n",
        "      \n",
        "  return temp_df"
      ]
    },
    {
      "cell_type": "markdown",
      "metadata": {
        "id": "3QHWkgeoNsKj"
      },
      "source": [
        "## Feature Engineering functions"
      ]
    },
    {
      "cell_type": "markdown",
      "metadata": {
        "id": "bjiCQlHLPpLC"
      },
      "source": [
        "### Senqi \n",
        "Create the following features:\n",
        "\n",
        "1. launch months: how many months since the launch date.\n",
        "\n",
        "2. time_since_lost_exclusivity: the number of months since the time this drug lost its exclusivity (if this drug never has exclusivity, return NaN).\n",
        "\n",
        "3. transition_point: if the transition point from growth to maturity happned (0 if not transition point, 1 if transition).\n",
        "\n",
        "4. transition point augmentation: augment points surrounding the transition point by the given period.\n",
        "\n",
        "\n"
      ]
    },
    {
      "cell_type": "code",
      "execution_count": null,
      "metadata": {
        "id": "52GCwzemPxuM"
      },
      "outputs": [],
      "source": [
        "def launch_months(center_df):\n",
        "\n",
        "    center_df['launch_months'] = center_df.apply(lambda x: (x.date.year - x.launch_date.year) * 12 + (x.date.month - x.launch_date.month), axis=1)\n",
        "\n",
        "    return center_df\n",
        "\n",
        "def time_since_no_exclusivity(center_df):\n",
        "    center_df['time_since_no_exclusivity'] = center_df.apply(lambda x: (x.date.year - x.gx_entry_date.year) * 12 + \n",
        "                                                             (x.date.month - x.gx_entry_date.month), axis=1)\n",
        "\n",
        "    return center_df\n",
        "\n",
        "\n",
        "def transition_point(center_df, all_transistion = False):\n",
        "    '''\n",
        "    If all_transition set to True, all transition point will be marked as 1.\n",
        "    Otherwise, only growth-maturity transition will be marked as 1.\n",
        "    '''\n",
        "\n",
        "    center_df['transition_point'] = center_df.groupby(['cluster_id','stage_name','stage_name_lag_1'])['date'].rank(method='first')\n",
        "    transition = pd.DataFrame(center_df[center_df.transition_point == 1]['transition_point'])\n",
        "    center_df['transition_point'] = transition\n",
        "    center_df['transition_point'] = center_df['transition_point'].replace(np.nan, 0)\n",
        "        \n",
        "    if all_transistion:   \n",
        "        return center_df\n",
        "    else:\n",
        "        center_df['transition_point'] = center_df.apply(lambda x: 0 if x.stage_name != 'Maturity' else x.transition_point,axis=1)\n",
        "        return center_df\n",
        "\n",
        "def label_augment(center_df, aug_period):\n",
        "    '''\n",
        "    Perform data augmentation with the given period n.\n",
        "    For any point that has a label of 1, previous and next n rows will be augmented as 1.\n",
        "    '''\n",
        "    l = len(center_df)\n",
        "    copy = center_df.copy()\n",
        "\n",
        "    for i in range(l):\n",
        "        current_row = copy.loc[i,:]\n",
        "     \n",
        "        try:\n",
        "          if current_row.transition_point == 1:\n",
        "                for j in range(1,aug_period+1):\n",
        "                    prev_row = copy.loc[i-j,:]           \n",
        "                    next_row = copy.loc[i+j,:]\n",
        "\n",
        "                    if next_row.cluster_id == current_row.cluster_id:                \n",
        "                        center_df.at[i+j,'transition_point'] = 1\n",
        "\n",
        "                    if prev_row.cluster_id == current_row.cluster_id:\n",
        "                        center_df.at[i-j,'transition_point'] = 1                   \n",
        "        except:\n",
        "            continue\n",
        "\n",
        "    return center_df\n",
        "\n",
        "def categoricalize(center_df):\n",
        "    center_df.country = pd.Categorical(center_df.country)\n",
        "    center_df.cluster = pd.Categorical(center_df.cluster)\n",
        "    center_df.cluster_id = pd.Categorical(center_df.cluster_id)\n",
        "    center_df.business_unit = pd.Categorical(center_df.business_unit)\n",
        "    center_df.ther_area_fact = pd.Categorical(center_df.ther_area_fact)\n",
        "\n",
        "    return center_df\n",
        "\n",
        "def senqi_transform(center_df,aug_period=4):\n",
        "    center_df = launch_months(center_df)\n",
        "    center_df = time_since_no_exclusivity(center_df)\n",
        "    center_df = transition_point(center_df)\n",
        "    center_df = label_augment(center_df,aug_period)\n",
        "\n",
        "    return center_df"
      ]
    },
    {
      "cell_type": "markdown",
      "metadata": {
        "id": "4tNiLscUCh1A"
      },
      "source": [
        "###  Shuyue \n",
        "\n",
        "1. if_exclusive\t\tbinary variable indicating if at this date the drug has exclusivity (gx data)\n",
        "2. volume_daily_avg\t\tcalculate the daily average volume by dividing monthly number to the days in that month\n",
        "3. volume_lag_1m_pctg\t\tlast month's daily volume/current daily volume\n",
        "4. volume_lag_2m_pctg\t\tsecond last month's daily volume/current daily volume\n",
        "5. volume_lag_3m_pctg\t\tthird last month's daily volume/current daily volume\n"
      ]
    },
    {
      "cell_type": "code",
      "execution_count": null,
      "metadata": {
        "id": "o3FQ-D4xCrDV"
      },
      "outputs": [],
      "source": [
        "### Volume related features might not be available\n",
        "### 0 means not exclusive, 1 means exclusive \n",
        "def volume_daily_avgcenter_df(center_df):\n",
        "  center_df[\"volume_daily_avg\"] = center_df['volume']/center_df['date'].dt.days_in_month\n",
        "  return center_df;\n",
        "def volume_lag_1m_pctg(center_df):\n",
        "  center_df[\"volume_lag_1m_pctg\"] = center_df.groupby(['cluster_id']).shift(1)['volume_daily_avg']/center_df['volume_daily_avg']\n",
        "  return center_df;\n",
        "def volume_lag_2m_pctg(center_df):\n",
        "  center_df[\"volume_lag_2m_pctg\"] = center_df.groupby(['cluster_id']).shift(2)['volume_daily_avg']/center_df['volume_daily_avg']\n",
        "  return center_df;\n",
        "def volume_lag_3m_pctg(center_df):\n",
        "  center_df[\"volume_lag_3m_pctg\"] = center_df.groupby(['cluster_id']).shift(3)['volume_daily_avg']/center_df['volume_daily_avg']\n",
        "  return center_df;\n",
        "\n",
        "def shuyue_transform(center_df):\n",
        "  center_df = volume_daily_avgcenter_df(center_df)\n",
        "  center_df = volume_lag_1m_pctg(center_df)\n",
        "  center_df = volume_lag_2m_pctg(center_df)\n",
        "  center_df = volume_lag_3m_pctg(center_df)\n",
        "\n",
        "  return center_df"
      ]
    },
    {
      "cell_type": "markdown",
      "metadata": {
        "id": "1EmzjC31CzLX"
      },
      "source": [
        "### Hang\n",
        "1. vol_norm: nomralized volume\n",
        "2. vol_std_3m: std. of vol_nomr in the past 3 months\n",
        "3. vol_std_6m: std. of vol_nomr in the past 6 months\n",
        "4. vol_std_diff: vol_std_3m - vol_std_6m\n",
        "5. population\n",
        "6. reg_deg"
      ]
    },
    {
      "cell_type": "code",
      "execution_count": null,
      "metadata": {
        "id": "3HTKy0r-QuiW"
      },
      "outputs": [],
      "source": [
        "def feature_hang(board, country_pop = country_pop, reg_deg = reg_deg, indication_df = indication_df):\n",
        "  # temp = board\n",
        "  # # volume change rate\n",
        "  # temp = temp.sort_values(by=['country','cluster_id', 'date'], ascending= True)\n",
        "  # temp['volume_lag1'] = temp.groupby(['country','cluster_id'])['volume'].shift(1)\n",
        "  # temp['volume_change_r'] = np.log(temp['volume_lag1'] / temp['volume'])\n",
        "  \n",
        "  # # vol_norm\n",
        "  # temp_agg = temp.groupby(['country','cluster_id'])['volume_change_r'].agg(['mean','std'])\n",
        "  # new = temp.join(temp_agg, on = ['country','cluster_id'], how='left', rsuffix='_agg')\n",
        "  # new = new[['country','cluster_id','date','volume_change_r','mean','std']]\n",
        "  # new['vol_norm'] = (new['volume_change_r'] - new['mean']) / new['std']\n",
        "\n",
        "  # # vol_std_3m, vol_std_6m, vol_std_diff\n",
        "  # new = new.sort_values(by=['country','cluster_id', 'date'], ascending= True)\n",
        "  # new['vol_lag1'] = new.groupby(['country','cluster_id'])['vol_norm'].shift(1)\n",
        "  # new['vol_lag2'] = new.groupby(['country','cluster_id'])['vol_norm'].shift(2)\n",
        "  # new['vol_lag3'] = new.groupby(['country','cluster_id'])['vol_norm'].shift(3)\n",
        "  # new['vol_lag4'] = new.groupby(['country','cluster_id'])['vol_norm'].shift(4)\n",
        "  # new['vol_lag5'] = new.groupby(['country','cluster_id'])['vol_norm'].shift(5)\n",
        "  # new['vol_lag6'] = new.groupby(['country','cluster_id'])['vol_norm'].shift(6)\n",
        "  # new['vol_std_3m'] = new.loc[:,['vol_lag1','vol_lag2','vol_lag3']].std(axis = 1, skipna = False)\n",
        "  # new['vol_std_6m'] = new.loc[:,['vol_lag1','vol_lag2','vol_lag3','vol_lag4','vol_lag5','vol_lag6']].std(axis = 1, skipna = False)\n",
        "  # new['vol_std_diff'] = new['vol_std_3m'] - new['vol_std_6m']\n",
        "\n",
        "  # output = new.loc[:, ['country','cluster_id','date',\\\n",
        "  #                     'vol_norm','vol_std_3m','vol_std_6m','vol_std_diff']]\n",
        "  # output = board.merge(output, on = ['country','cluster_id', 'date'], how='left')\n",
        "  output = board.copy()\n",
        "  # population\n",
        "  output['year'] = pd.DatetimeIndex(output.date).year\n",
        "  output = output.merge(country_pop.drop(['Unnamed: 0'], axis=1), left_on = ['country', 'year'], right_on =  ['country', 'year'], how = 'left')\n",
        "\n",
        "  # reg_deg\n",
        "  output = output.merge(reg_deg.drop(['Unnamed: 0'], axis=1), left_on = 'cluster_id', right_on = 'cluster_id', how = 'left')\n",
        "\n",
        "  # indication_df\n",
        "  indication_df['date'] = pd.to_datetime(indication_df['date'])\n",
        "  temp = indication_df.drop(['Unnamed: 0'], axis = 1).groupby(['cluster_id', 'date']).indication_entry.sum().reset_index(name ='indication_num')\n",
        "  output = output.merge(temp, left_on = ['cluster_id','date'], right_on = ['cluster_id','date'], how = 'left')\n",
        "  output['indication_num'] = output['indication_num'].fillna(0)\n",
        "  output['indication_num'] = output.sort_values(['cluster_id','date']).groupby(['cluster_id'])['indication_num'].cumsum()\n",
        "\n",
        "  return output"
      ]
    },
    {
      "cell_type": "code",
      "execution_count": null,
      "metadata": {
        "id": "7s5SEOefG2AE"
      },
      "outputs": [],
      "source": [
        "# may cause information leak when doing validation in the modeling\n",
        "\n",
        "def feature_hang_addition(board):\n",
        "  output = board.copy()\n",
        "  # all time mean and standard deviation of the cluster_id\n",
        "  output_right = output.groupby(['cluster_id']).agg(vol_mean_alltime = ('volume', np.mean), vol_std_alltime = ('volume', np.std)).reset_index()\n",
        "  output = output.merge(output_right, how = 'left', on = 'cluster_id')\n",
        "  output_right = output.query('date<=\"2016-03-01\"').groupby(['cluster_id']).agg(vol_mean_before_2016 = ('volume', np.mean), vol_std_before_2016 = ('volume', np.std)).reset_index()\n",
        "  output = output.merge(output_right, how = 'left', on = 'cluster_id')\n",
        "  #\n",
        "  output_right = output.query('date<=\"2016-03-01\" & date >= \"2015-11-01\" ').groupby(['cluster_id']).agg(vol_mean_before_4m = ('volume', np.mean), vol_std_before_4m = ('volume', np.std)).reset_index()\n",
        "  output = output.merge(output_right, how = 'left', on = 'cluster_id')\n",
        "  #\n",
        "  output_right = output.query('date<=\"2016-03-01\" & date >= \"2015-03-01\" ').groupby(['cluster_id']).agg(vol_mean_before_1y = ('volume', np.mean), vol_std_before_1y = ('volume', np.std)).reset_index()\n",
        "  output = output.merge(output_right, how = 'left', on = 'cluster_id')\n",
        "  \n",
        "  # month_since_growth\n",
        "  temp = output.query(\" stage_name == 'Growth' \").sort_values(['cluster_id','date']).loc[:,['date','cluster_id']]\n",
        "  temp['rn'] = temp.groupby(['cluster_id']).rank(method = 'first', ascending = True)\n",
        "  output_right = temp.query(\"rn == 1\").rename(columns = {'date':'growth_date'})\n",
        "  output = output.merge(output_right, on = 'cluster_id', how = 'left')\n",
        "  output = output.assign(month_since_growth = lambda x: (x.date.dt.year -x.growth_date.dt.year) * 12 + (x.date.dt.month -x.growth_date.dt.month)).drop(columns = 'rn')\n",
        "  \n",
        "  # x1-x4\n",
        "  # output = output.assign(\n",
        "  #   x1 = lambda x: 100* x.vol_std_before_2016 / x.vol_mean_before_2016 ,\n",
        "  #   x2 = lambda x: 100* (x.vol_std_before_4m - x.vol_std_before_1y) / x.vol_std_before_1y ,\n",
        "  #   x3 = lambda x: 100* (x.vol_mean_before_4m - x.vol_mean_before_1y) / x.vol_mean_before_1y,\n",
        "  #   x4 = lambda x: 100* (x.vol_std_before_4m - x.vol_std_before_2016) / x.vol_std_before_2016,\n",
        "  #   )\n",
        "  # output.x1 = output.x1.fillna(0)\n",
        "  # output.x2 = output.x2.fillna(0)\n",
        "  # output.x3 = output.x3.fillna(0)\n",
        "  # output.x4 = output.x4.fillna(0)\n",
        "  return output"
      ]
    },
    {
      "cell_type": "markdown",
      "metadata": {
        "id": "OweuQ52A5mXI"
      },
      "source": [
        "There are clusters without growth stage. We need to look at it closer. "
      ]
    },
    {
      "cell_type": "markdown",
      "metadata": {
        "id": "ItK1cY0zDWD-"
      },
      "source": [
        "### Lindsey\n",
        "\n",
        "comp_num: count the current number of competitors in the market\n",
        "\n",
        "first_comp_month: calculate how many months since the first competitor enter the market (duration, 0 if no competitors, 1 for the first month of competitors entering)\n",
        "\n",
        "if_exclusive: binary variable indicating if at this date the drug has exclusivity (gx data)\n",
        "\n",
        "last_ind_days: calculate number of months since last indication was found \n",
        "\n",
        "last_stage_days: calculate number of days since last stage\n",
        "\n",
        "volume_lag_1m_pctg:\t\tlast month's daily volume/current daily volume\n",
        "\n",
        "volume_lag_2m_pctg:\t\tsecond last month's daily volume/current daily volume\n",
        "\n",
        "volume_lag_3m_pctg:\t\tthird last month's daily volume/current daily volume\n"
      ]
    },
    {
      "cell_type": "code",
      "execution_count": null,
      "metadata": {
        "id": "1i-m8tQxJ55W"
      },
      "outputs": [],
      "source": [
        "def comp_num(center_df, cx_df):\n",
        "  def return_rolling_competitors(row):\n",
        "    return len(cx_df[(cx_df.cluster_id == row.cluster_id) & (cx_df.competitor_entry_date <= row.date)])\n",
        "  \n",
        "  cx_df['competitor_entry_date'] = pd.to_datetime(cx_df['competitor_entry_date'])\n",
        "  \n",
        "  return center_df.apply(return_rolling_competitors, axis = 1)\n",
        "\n",
        "def first_comp_month(center_df, cx_df):\n",
        "  earliest_competitor = cx_df.groupby(['cluster_id']).agg({'competitor_entry_date': 'min'}).reset_index().rename({'competitor_entry_date': 'first_comp_month'}, axis = 1)\n",
        "  center_df_temp = center_df.merge(earliest_competitor, on ='cluster_id', how = 'left')\n",
        "  center_df_temp['first_comp_month'] = pd.to_datetime(center_df_temp['first_comp_month'])\n",
        "  return (center_df_temp['date'] - center_df_temp['first_comp_month']).fillna(pd.Timedelta(-1, \"d\"))\n",
        "\n",
        "def is_exclusive(center_df):\n",
        "  def if_exclusive_row(row):\n",
        "    if str(row.lose_exclusivity_date) == 'NaT':\n",
        "      return True\n",
        "    else:\n",
        "      return row.date < row.lose_exclusivity_date\n",
        "  generics_date = center_df.groupby(['cluster_id', 'date']).agg({'gx_entry_date': 'min'}).reset_index().rename({'gx_entry_date': 'lose_exclusivity_date'}, axis = 1)\n",
        "  generics_date['lose_exclusivity_date'] = pd.to_datetime(generics_date['lose_exclusivity_date'])\n",
        "  center_df_temp = center_df.merge(generics_date, on = ['date', 'cluster_id'])\n",
        "  return center_df_temp.apply(if_exclusive_row, axis=1)\n",
        "\n",
        "def last_stage_days(center_df):\n",
        "  stage_entry_date = center_df.groupby(['cluster_id', 'stage_name']).agg({'date': 'min'}).reset_index().rename({'date': 'first_month_of_current_stage'}, axis = 1)\n",
        "  center_df_temp = center_df.merge(stage_entry_date, on = ['cluster_id', 'stage_name'], how = 'left')\n",
        "  return center_df_temp.date - center_df_temp.first_month_of_current_stage  \n",
        "\n",
        "def last_ind_days(center_df, indication_df):\n",
        "  indication_agg = indication_df.groupby(['cluster_id', 'date']).agg({'indication_entry': 'sum'}).reset_index().sort_values(['cluster_id','date'])\n",
        "  # indication_agg[indication_agg.indication_entry > 0]\n",
        "\n",
        "  indication_agg['indication_num'] = indication_agg.groupby(['cluster_id'])['indication_entry'].cumsum()\n",
        "  indication_agg = indication_agg.groupby(['cluster_id', 'indication_num']).agg({'date': 'min'}).reset_index()\n",
        "  indication_agg['date'] = pd.to_datetime(indication_agg.date)\n",
        "  indication_agg = indication_agg.rename({'date': 'last_indication_date'}, axis=1)\n",
        "  indication_agg['last_indication_date'] = indication_agg['last_indication_date']\n",
        "\n",
        "  temp = center_df.merge(indication_agg, on = ['cluster_id', 'indication_num'], how = 'left')\n",
        "  return (temp['date'] - temp['last_indication_date']).fillna(pd.Timedelta(-1, \"d\"))\n",
        "\n",
        "def feature_lindsey(center_df):\n",
        "  center_df['comp_num'] = comp_num(center_df, cx_df)\n",
        "  center_df['first_comp_month'] = first_comp_month(center_df, cx_df).apply(lambda x:x.days)\n",
        "  center_df['is_exclusive'] = is_exclusive(center_df)\n",
        "  center_df['last_stage_days'] = last_stage_days(center_df).apply(lambda x:x.days)\n",
        "  center_df['last_ind_days'] = last_ind_days(center_df, indication_df)\n",
        "  # center_df['volume_lag_1m_pctg'] = volume_lag_1m_pctg(center_df)\n",
        "  # center_df['volume_lag_2m_pctg'] = volume_lag_2m_pctg(center_df)\n",
        "  # center_df['volume_lag_3m_pctg'] = volume_lag_3m_pctg(center_df)\n",
        "  # center_df['relative_volume'] = center_df['volume']/center_df['population']\n",
        "  return pd.concat([center_df, pd.get_dummies(center_df.date.apply(lambda x: x.month))], axis=1)\n",
        "    "
      ]
    },
    {
      "cell_type": "code",
      "execution_count": null,
      "metadata": {
        "id": "zOIZZU3eWPJL"
      },
      "outputs": [],
      "source": [
        "# def impute_prevalence_pct(final_df, board):\n",
        "#   for country in final_df.country.unique():\n",
        "#     final_df.loc[(final_df.prevalence_pct<=0) & (final_df.country==country),'prevalence_pct'] = board[(board.prevalence_pct>=0) & (board.country==country)].prevalence_pct.median()\n",
        "#   final_df.prevalence_pct.fillna(board[board.prevalence_pct>=0].prevalence_pct.median())\n",
        "\n",
        "def impute_popuation(final_df, country_pop):\n",
        "  for country in final_df.country.unique():\n",
        "    final_df.loc[final_df.country==country,'population'].fillna(country_pop[country_pop.country==country].population.median(), inplace=True)\n",
        "  final_df.population.fillna(country_pop.population.median(), inplace=True)\n",
        "\n",
        "def volume_change_rate(final_df):\n",
        "  temp_agg = final_df.groupby(['country','cluster_id'])['volume'].agg(['mean','std'])\n",
        "  new = final_df.join(temp_agg, on = ['country','cluster_id'], how='left', rsuffix='_agg')\n",
        "  new = new[['country','cluster_id','date','volume','mean','std']]\n",
        "  new['vol_norm'] = (new['volume'] - new['mean']) / new['std']\n",
        "  \n",
        "  temp = new.sort_values(by=['country','cluster_id', 'date'], ascending= True)\n",
        "  temp['volume_lag1'] = temp.groupby(['country','cluster_id'])['vol_norm'].shift(1)\n",
        "  return np.log(temp['volume_lag1'] / temp['vol_norm'])\n",
        "\n",
        "def feature_lindsey_addition(final_df):\n",
        "  # impute_prevalence_pct(final_df, board)\n",
        "  impute_popuation(final_df, country_pop)\n",
        "  final_df = final_df.sort_values(by=['country','cluster_id', 'date'], ascending= True)\n",
        "  final_df['prevalence'] = final_df['prevalence'] * final_df['population']\n",
        "  final_df['volume_lag_1m_pctg'] = volume_change_rate(final_df)\n",
        "  return final_df"
      ]
    },
    {
      "cell_type": "markdown",
      "metadata": {
        "id": "6kW_C7RfDX8a"
      },
      "source": [
        "## Feature Engineering Driver Codes\n",
        "\n",
        "Let's include all preprocessing and transform in the following chunks"
      ]
    },
    {
      "cell_type": "code",
      "execution_count": null,
      "metadata": {
        "colab": {
          "base_uri": "https://localhost:8080/",
          "height": 258
        },
        "id": "eOsxa1CG11g6",
        "outputId": "5a95fdc5-c744-4a5d-9817-49be4efe5ac9"
      },
      "outputs": [
        {
          "output_type": "stream",
          "name": "stdout",
          "text": [
            "(147397, 10)\n",
            "(80358, 11)\n",
            "(878,)\n"
          ]
        },
        {
          "output_type": "execute_result",
          "data": {
            "text/plain": [
              "   index_x    country   cluster cluster_id       date stage_name  \\\n",
              "0     1860  country_0  brand_43      ID_18 2012-01-01     Growth   \n",
              "1     1861  country_0  brand_43      ID_18 2012-02-01     Growth   \n",
              "2     1862  country_0  brand_43      ID_18 2012-03-01     Growth   \n",
              "3     1863  country_0  brand_43      ID_18 2012-04-01     Growth   \n",
              "4     1864  country_0  brand_43      ID_18 2012-05-01     Growth   \n",
              "\n",
              "  stage_name_lag_1        volume business_unit  ther_area_fact  prevalence  \\\n",
              "0         No_Stage  2.795290e+10           TWO               6        -1.0   \n",
              "1         No_Stage  3.315936e+10           TWO               6        -1.0   \n",
              "2         No_Stage  3.579896e+10           TWO               6        -1.0   \n",
              "3         No_Stage  3.803040e+10           TWO               6        -1.0   \n",
              "4         No_Stage  3.277213e+10           TWO               6        -1.0   \n",
              "\n",
              "  gx_entry_date  index_y launch_date  start_date  \n",
              "0    2016-08-01       17  2008-08-01  2012-01-01  \n",
              "1    2016-08-01       17  2008-08-01  2012-01-01  \n",
              "2    2016-08-01       17  2008-08-01  2012-01-01  \n",
              "3    2016-08-01       17  2008-08-01  2012-01-01  \n",
              "4    2016-08-01       17  2008-08-01  2012-01-01  "
            ],
            "text/html": [
              "\n",
              "  <div id=\"df-4916fced-c188-400c-bac7-70e121b50052\">\n",
              "    <div class=\"colab-df-container\">\n",
              "      <div>\n",
              "<style scoped>\n",
              "    .dataframe tbody tr th:only-of-type {\n",
              "        vertical-align: middle;\n",
              "    }\n",
              "\n",
              "    .dataframe tbody tr th {\n",
              "        vertical-align: top;\n",
              "    }\n",
              "\n",
              "    .dataframe thead th {\n",
              "        text-align: right;\n",
              "    }\n",
              "</style>\n",
              "<table border=\"1\" class=\"dataframe\">\n",
              "  <thead>\n",
              "    <tr style=\"text-align: right;\">\n",
              "      <th></th>\n",
              "      <th>index_x</th>\n",
              "      <th>country</th>\n",
              "      <th>cluster</th>\n",
              "      <th>cluster_id</th>\n",
              "      <th>date</th>\n",
              "      <th>stage_name</th>\n",
              "      <th>stage_name_lag_1</th>\n",
              "      <th>volume</th>\n",
              "      <th>business_unit</th>\n",
              "      <th>ther_area_fact</th>\n",
              "      <th>prevalence</th>\n",
              "      <th>gx_entry_date</th>\n",
              "      <th>index_y</th>\n",
              "      <th>launch_date</th>\n",
              "      <th>start_date</th>\n",
              "    </tr>\n",
              "  </thead>\n",
              "  <tbody>\n",
              "    <tr>\n",
              "      <th>0</th>\n",
              "      <td>1860</td>\n",
              "      <td>country_0</td>\n",
              "      <td>brand_43</td>\n",
              "      <td>ID_18</td>\n",
              "      <td>2012-01-01</td>\n",
              "      <td>Growth</td>\n",
              "      <td>No_Stage</td>\n",
              "      <td>2.795290e+10</td>\n",
              "      <td>TWO</td>\n",
              "      <td>6</td>\n",
              "      <td>-1.0</td>\n",
              "      <td>2016-08-01</td>\n",
              "      <td>17</td>\n",
              "      <td>2008-08-01</td>\n",
              "      <td>2012-01-01</td>\n",
              "    </tr>\n",
              "    <tr>\n",
              "      <th>1</th>\n",
              "      <td>1861</td>\n",
              "      <td>country_0</td>\n",
              "      <td>brand_43</td>\n",
              "      <td>ID_18</td>\n",
              "      <td>2012-02-01</td>\n",
              "      <td>Growth</td>\n",
              "      <td>No_Stage</td>\n",
              "      <td>3.315936e+10</td>\n",
              "      <td>TWO</td>\n",
              "      <td>6</td>\n",
              "      <td>-1.0</td>\n",
              "      <td>2016-08-01</td>\n",
              "      <td>17</td>\n",
              "      <td>2008-08-01</td>\n",
              "      <td>2012-01-01</td>\n",
              "    </tr>\n",
              "    <tr>\n",
              "      <th>2</th>\n",
              "      <td>1862</td>\n",
              "      <td>country_0</td>\n",
              "      <td>brand_43</td>\n",
              "      <td>ID_18</td>\n",
              "      <td>2012-03-01</td>\n",
              "      <td>Growth</td>\n",
              "      <td>No_Stage</td>\n",
              "      <td>3.579896e+10</td>\n",
              "      <td>TWO</td>\n",
              "      <td>6</td>\n",
              "      <td>-1.0</td>\n",
              "      <td>2016-08-01</td>\n",
              "      <td>17</td>\n",
              "      <td>2008-08-01</td>\n",
              "      <td>2012-01-01</td>\n",
              "    </tr>\n",
              "    <tr>\n",
              "      <th>3</th>\n",
              "      <td>1863</td>\n",
              "      <td>country_0</td>\n",
              "      <td>brand_43</td>\n",
              "      <td>ID_18</td>\n",
              "      <td>2012-04-01</td>\n",
              "      <td>Growth</td>\n",
              "      <td>No_Stage</td>\n",
              "      <td>3.803040e+10</td>\n",
              "      <td>TWO</td>\n",
              "      <td>6</td>\n",
              "      <td>-1.0</td>\n",
              "      <td>2016-08-01</td>\n",
              "      <td>17</td>\n",
              "      <td>2008-08-01</td>\n",
              "      <td>2012-01-01</td>\n",
              "    </tr>\n",
              "    <tr>\n",
              "      <th>4</th>\n",
              "      <td>1864</td>\n",
              "      <td>country_0</td>\n",
              "      <td>brand_43</td>\n",
              "      <td>ID_18</td>\n",
              "      <td>2012-05-01</td>\n",
              "      <td>Growth</td>\n",
              "      <td>No_Stage</td>\n",
              "      <td>3.277213e+10</td>\n",
              "      <td>TWO</td>\n",
              "      <td>6</td>\n",
              "      <td>-1.0</td>\n",
              "      <td>2016-08-01</td>\n",
              "      <td>17</td>\n",
              "      <td>2008-08-01</td>\n",
              "      <td>2012-01-01</td>\n",
              "    </tr>\n",
              "  </tbody>\n",
              "</table>\n",
              "</div>\n",
              "      <button class=\"colab-df-convert\" onclick=\"convertToInteractive('df-4916fced-c188-400c-bac7-70e121b50052')\"\n",
              "              title=\"Convert this dataframe to an interactive table.\"\n",
              "              style=\"display:none;\">\n",
              "        \n",
              "  <svg xmlns=\"http://www.w3.org/2000/svg\" height=\"24px\"viewBox=\"0 0 24 24\"\n",
              "       width=\"24px\">\n",
              "    <path d=\"M0 0h24v24H0V0z\" fill=\"none\"/>\n",
              "    <path d=\"M18.56 5.44l.94 2.06.94-2.06 2.06-.94-2.06-.94-.94-2.06-.94 2.06-2.06.94zm-11 1L8.5 8.5l.94-2.06 2.06-.94-2.06-.94L8.5 2.5l-.94 2.06-2.06.94zm10 10l.94 2.06.94-2.06 2.06-.94-2.06-.94-.94-2.06-.94 2.06-2.06.94z\"/><path d=\"M17.41 7.96l-1.37-1.37c-.4-.4-.92-.59-1.43-.59-.52 0-1.04.2-1.43.59L10.3 9.45l-7.72 7.72c-.78.78-.78 2.05 0 2.83L4 21.41c.39.39.9.59 1.41.59.51 0 1.02-.2 1.41-.59l7.78-7.78 2.81-2.81c.8-.78.8-2.07 0-2.86zM5.41 20L4 18.59l7.72-7.72 1.47 1.35L5.41 20z\"/>\n",
              "  </svg>\n",
              "      </button>\n",
              "      \n",
              "  <style>\n",
              "    .colab-df-container {\n",
              "      display:flex;\n",
              "      flex-wrap:wrap;\n",
              "      gap: 12px;\n",
              "    }\n",
              "\n",
              "    .colab-df-convert {\n",
              "      background-color: #E8F0FE;\n",
              "      border: none;\n",
              "      border-radius: 50%;\n",
              "      cursor: pointer;\n",
              "      display: none;\n",
              "      fill: #1967D2;\n",
              "      height: 32px;\n",
              "      padding: 0 0 0 0;\n",
              "      width: 32px;\n",
              "    }\n",
              "\n",
              "    .colab-df-convert:hover {\n",
              "      background-color: #E2EBFA;\n",
              "      box-shadow: 0px 1px 2px rgba(60, 64, 67, 0.3), 0px 1px 3px 1px rgba(60, 64, 67, 0.15);\n",
              "      fill: #174EA6;\n",
              "    }\n",
              "\n",
              "    [theme=dark] .colab-df-convert {\n",
              "      background-color: #3B4455;\n",
              "      fill: #D2E3FC;\n",
              "    }\n",
              "\n",
              "    [theme=dark] .colab-df-convert:hover {\n",
              "      background-color: #434B5C;\n",
              "      box-shadow: 0px 1px 3px 1px rgba(0, 0, 0, 0.15);\n",
              "      filter: drop-shadow(0px 1px 2px rgba(0, 0, 0, 0.3));\n",
              "      fill: #FFFFFF;\n",
              "    }\n",
              "  </style>\n",
              "\n",
              "      <script>\n",
              "        const buttonEl =\n",
              "          document.querySelector('#df-4916fced-c188-400c-bac7-70e121b50052 button.colab-df-convert');\n",
              "        buttonEl.style.display =\n",
              "          google.colab.kernel.accessAllowed ? 'block' : 'none';\n",
              "\n",
              "        async function convertToInteractive(key) {\n",
              "          const element = document.querySelector('#df-4916fced-c188-400c-bac7-70e121b50052');\n",
              "          const dataTable =\n",
              "            await google.colab.kernel.invokeFunction('convertToInteractive',\n",
              "                                                     [key], {});\n",
              "          if (!dataTable) return;\n",
              "\n",
              "          const docLinkHtml = 'Like what you see? Visit the ' +\n",
              "            '<a target=\"_blank\" href=https://colab.research.google.com/notebooks/data_table.ipynb>data table notebook</a>'\n",
              "            + ' to learn more about interactive tables.';\n",
              "          element.innerHTML = '';\n",
              "          dataTable['output_type'] = 'display_data';\n",
              "          await google.colab.output.renderOutput(dataTable, element);\n",
              "          const docLink = document.createElement('div');\n",
              "          docLink.innerHTML = docLinkHtml;\n",
              "          element.appendChild(docLink);\n",
              "        }\n",
              "      </script>\n",
              "    </div>\n",
              "  </div>\n",
              "  "
            ]
          },
          "metadata": {},
          "execution_count": 12
        }
      ],
      "source": [
        "print(board.shape)\n",
        "## clean launch_df\n",
        "clean_launch_df = process_launch_date(launch_df)\n",
        "## filter data\n",
        "center_df = data_filter(board,include_all=False)\n",
        "print(center_df.shape)\n",
        "print(center_df.cluster_id.unique().shape)\n",
        "\n",
        "## Merge tables\n",
        "## Merge with competitor dataset (Note this will increase data as relation is not 1-1)\n",
        "#center_df = center_df.merge(cx_df.drop(['country'],axis=1),on='cluster_id',how='left')\n",
        "\n",
        "## Merge exclusive data \n",
        "center_df = center_df.merge(gx_df.drop(['country'],axis=1),on='cluster_id',how='left')\n",
        "\n",
        "## Merge launch date\n",
        "center_df = center_df.merge(clean_launch_df,on='cluster_id',how='left')\n",
        "\n",
        "## Convert to datetime\n",
        "center_df['date'] = pd.to_datetime(center_df['date'])\n",
        "center_df['launch_date'] = pd.to_datetime(center_df['launch_date'])\n",
        "\n",
        "#center_df['competitor_entry_date'] = pd.to_datetime(center_df['competitor_entry_date'])\n",
        "center_df['gx_entry_date'] = pd.to_datetime(center_df['gx_entry_date'])\n",
        "\n",
        "# fillna to gx_entry_date with mode of gx entry date -- Hang added\n",
        "month_add = ((center_df.gx_entry_date.dt.year - center_df.launch_date.dt.year)*12 + (center_df.gx_entry_date.dt.month - center_df.launch_date.dt.month)).mode()\n",
        "center_df.loc[pd.isna(center_df.gx_entry_date),'gx_entry_date'] = center_df.loc[pd.isna(center_df.gx_entry_date)].launch_date + pd.offsets.DateOffset(months = int(month_add))\n",
        "center_df.head()"
      ]
    },
    {
      "cell_type": "code",
      "execution_count": null,
      "metadata": {
        "id": "3pmTrPVHLGW3",
        "colab": {
          "base_uri": "https://localhost:8080/",
          "height": 49
        },
        "outputId": "e7799c1a-3832-4525-abd2-54fb8db329b1"
      },
      "outputs": [
        {
          "output_type": "execute_result",
          "data": {
            "text/plain": [
              "Empty DataFrame\n",
              "Columns: [index_x, country, cluster, cluster_id, date, stage_name, stage_name_lag_1, volume, business_unit, ther_area_fact, prevalence, gx_entry_date, index_y, launch_date, start_date, transition_point]\n",
              "Index: []"
            ],
            "text/html": [
              "\n",
              "  <div id=\"df-52aafd05-2e9a-4dce-8116-717b0818489e\">\n",
              "    <div class=\"colab-df-container\">\n",
              "      <div>\n",
              "<style scoped>\n",
              "    .dataframe tbody tr th:only-of-type {\n",
              "        vertical-align: middle;\n",
              "    }\n",
              "\n",
              "    .dataframe tbody tr th {\n",
              "        vertical-align: top;\n",
              "    }\n",
              "\n",
              "    .dataframe thead th {\n",
              "        text-align: right;\n",
              "    }\n",
              "</style>\n",
              "<table border=\"1\" class=\"dataframe\">\n",
              "  <thead>\n",
              "    <tr style=\"text-align: right;\">\n",
              "      <th></th>\n",
              "      <th>index_x</th>\n",
              "      <th>country</th>\n",
              "      <th>cluster</th>\n",
              "      <th>cluster_id</th>\n",
              "      <th>date</th>\n",
              "      <th>stage_name</th>\n",
              "      <th>stage_name_lag_1</th>\n",
              "      <th>volume</th>\n",
              "      <th>business_unit</th>\n",
              "      <th>ther_area_fact</th>\n",
              "      <th>prevalence</th>\n",
              "      <th>gx_entry_date</th>\n",
              "      <th>index_y</th>\n",
              "      <th>launch_date</th>\n",
              "      <th>start_date</th>\n",
              "      <th>transition_point</th>\n",
              "    </tr>\n",
              "  </thead>\n",
              "  <tbody>\n",
              "  </tbody>\n",
              "</table>\n",
              "</div>\n",
              "      <button class=\"colab-df-convert\" onclick=\"convertToInteractive('df-52aafd05-2e9a-4dce-8116-717b0818489e')\"\n",
              "              title=\"Convert this dataframe to an interactive table.\"\n",
              "              style=\"display:none;\">\n",
              "        \n",
              "  <svg xmlns=\"http://www.w3.org/2000/svg\" height=\"24px\"viewBox=\"0 0 24 24\"\n",
              "       width=\"24px\">\n",
              "    <path d=\"M0 0h24v24H0V0z\" fill=\"none\"/>\n",
              "    <path d=\"M18.56 5.44l.94 2.06.94-2.06 2.06-.94-2.06-.94-.94-2.06-.94 2.06-2.06.94zm-11 1L8.5 8.5l.94-2.06 2.06-.94-2.06-.94L8.5 2.5l-.94 2.06-2.06.94zm10 10l.94 2.06.94-2.06 2.06-.94-2.06-.94-.94-2.06-.94 2.06-2.06.94z\"/><path d=\"M17.41 7.96l-1.37-1.37c-.4-.4-.92-.59-1.43-.59-.52 0-1.04.2-1.43.59L10.3 9.45l-7.72 7.72c-.78.78-.78 2.05 0 2.83L4 21.41c.39.39.9.59 1.41.59.51 0 1.02-.2 1.41-.59l7.78-7.78 2.81-2.81c.8-.78.8-2.07 0-2.86zM5.41 20L4 18.59l7.72-7.72 1.47 1.35L5.41 20z\"/>\n",
              "  </svg>\n",
              "      </button>\n",
              "      \n",
              "  <style>\n",
              "    .colab-df-container {\n",
              "      display:flex;\n",
              "      flex-wrap:wrap;\n",
              "      gap: 12px;\n",
              "    }\n",
              "\n",
              "    .colab-df-convert {\n",
              "      background-color: #E8F0FE;\n",
              "      border: none;\n",
              "      border-radius: 50%;\n",
              "      cursor: pointer;\n",
              "      display: none;\n",
              "      fill: #1967D2;\n",
              "      height: 32px;\n",
              "      padding: 0 0 0 0;\n",
              "      width: 32px;\n",
              "    }\n",
              "\n",
              "    .colab-df-convert:hover {\n",
              "      background-color: #E2EBFA;\n",
              "      box-shadow: 0px 1px 2px rgba(60, 64, 67, 0.3), 0px 1px 3px 1px rgba(60, 64, 67, 0.15);\n",
              "      fill: #174EA6;\n",
              "    }\n",
              "\n",
              "    [theme=dark] .colab-df-convert {\n",
              "      background-color: #3B4455;\n",
              "      fill: #D2E3FC;\n",
              "    }\n",
              "\n",
              "    [theme=dark] .colab-df-convert:hover {\n",
              "      background-color: #434B5C;\n",
              "      box-shadow: 0px 1px 3px 1px rgba(0, 0, 0, 0.15);\n",
              "      filter: drop-shadow(0px 1px 2px rgba(0, 0, 0, 0.3));\n",
              "      fill: #FFFFFF;\n",
              "    }\n",
              "  </style>\n",
              "\n",
              "      <script>\n",
              "        const buttonEl =\n",
              "          document.querySelector('#df-52aafd05-2e9a-4dce-8116-717b0818489e button.colab-df-convert');\n",
              "        buttonEl.style.display =\n",
              "          google.colab.kernel.accessAllowed ? 'block' : 'none';\n",
              "\n",
              "        async function convertToInteractive(key) {\n",
              "          const element = document.querySelector('#df-52aafd05-2e9a-4dce-8116-717b0818489e');\n",
              "          const dataTable =\n",
              "            await google.colab.kernel.invokeFunction('convertToInteractive',\n",
              "                                                     [key], {});\n",
              "          if (!dataTable) return;\n",
              "\n",
              "          const docLinkHtml = 'Like what you see? Visit the ' +\n",
              "            '<a target=\"_blank\" href=https://colab.research.google.com/notebooks/data_table.ipynb>data table notebook</a>'\n",
              "            + ' to learn more about interactive tables.';\n",
              "          element.innerHTML = '';\n",
              "          dataTable['output_type'] = 'display_data';\n",
              "          await google.colab.output.renderOutput(dataTable, element);\n",
              "          const docLink = document.createElement('div');\n",
              "          docLink.innerHTML = docLinkHtml;\n",
              "          element.appendChild(docLink);\n",
              "        }\n",
              "      </script>\n",
              "    </div>\n",
              "  </div>\n",
              "  "
            ]
          },
          "metadata": {},
          "execution_count": 13
        }
      ],
      "source": [
        "temp = transition_point(center_df)\n",
        "temp.query(\"transition_point == 1 & stage_name != 'Maturity'\").head()"
      ]
    },
    {
      "cell_type": "code",
      "execution_count": null,
      "metadata": {
        "id": "np-E9BoODsG-"
      },
      "outputs": [],
      "source": [
        "#center_df = comp_num(center_df)\n",
        "#center_df = first_comp_month(center_df)\n",
        "#center_df = center_df.drop(['competitor_entry_date'], axis=1).drop_duplicates()\n",
        "\n",
        "#launch_months(center_.0df)\n",
        "#time_since_no_exclusivity(center_df)\n",
        "#transition_point(center_df)\n",
        "\n",
        "#center_df = is_exclusive(center_df)\n",
        "#center_df = last_stage_days(center_df)\n",
        "\n",
        "\n",
        "#print(center_df[center_df['date']>'2019-03-01'])\n",
        "#center_df = feature_hang(center_df)\n",
        "#print(center_df[center_df['date']>'2019-03-01'])\n",
        "#center_df['prevalence'] = center_df.prevalence_pct / center_df.population\n",
        "\n",
        "#print(center_df.columns)\n",
        "#print(center_df.shape)\n",
        "\n",
        "final_df = senqi_transform(center_df)\n",
        "final_df = feature_hang(final_df)\n",
        "final_df = feature_lindsey(final_df)\n",
        "final_df = categoricalize(final_df)\n",
        "#final_df['prevalence'] = final_df.prevalence_pct / final_df.population\n",
        "final_df = final_df.drop([\"index_x\",\"index_y\"],axis=1)"
      ]
    },
    {
      "cell_type": "code",
      "source": [
        "final_df.head()"
      ],
      "metadata": {
        "colab": {
          "base_uri": "https://localhost:8080/",
          "height": 235
        },
        "id": "YPpfoDXaOPhS",
        "outputId": "cc1ad475-fa01-4153-f5ca-824e09f95645"
      },
      "execution_count": null,
      "outputs": [
        {
          "output_type": "execute_result",
          "data": {
            "text/plain": [
              "     country   cluster cluster_id       date stage_name stage_name_lag_1  \\\n",
              "0  country_0  brand_43      ID_18 2012-01-01     Growth         No_Stage   \n",
              "1  country_0  brand_43      ID_18 2012-02-01     Growth         No_Stage   \n",
              "2  country_0  brand_43      ID_18 2012-03-01     Growth         No_Stage   \n",
              "3  country_0  brand_43      ID_18 2012-04-01     Growth         No_Stage   \n",
              "4  country_0  brand_43      ID_18 2012-05-01     Growth         No_Stage   \n",
              "\n",
              "         volume business_unit ther_area_fact  prevalence  ...  3  4  5  6  7  \\\n",
              "0  2.795290e+10           TWO              6        -1.0  ...  0  0  0  0  0   \n",
              "1  3.315936e+10           TWO              6        -1.0  ...  0  0  0  0  0   \n",
              "2  3.579896e+10           TWO              6        -1.0  ...  1  0  0  0  0   \n",
              "3  3.803040e+10           TWO              6        -1.0  ...  0  1  0  0  0   \n",
              "4  3.277213e+10           TWO              6        -1.0  ...  0  0  1  0  0   \n",
              "\n",
              "   8  9  10  11  12  \n",
              "0  0  0   0   0   0  \n",
              "1  0  0   0   0   0  \n",
              "2  0  0   0   0   0  \n",
              "3  0  0   0   0   0  \n",
              "4  0  0   0   0   0  \n",
              "\n",
              "[5 rows x 37 columns]"
            ],
            "text/html": [
              "\n",
              "  <div id=\"df-2a44ce4d-5334-427b-aff9-460eba31b68a\">\n",
              "    <div class=\"colab-df-container\">\n",
              "      <div>\n",
              "<style scoped>\n",
              "    .dataframe tbody tr th:only-of-type {\n",
              "        vertical-align: middle;\n",
              "    }\n",
              "\n",
              "    .dataframe tbody tr th {\n",
              "        vertical-align: top;\n",
              "    }\n",
              "\n",
              "    .dataframe thead th {\n",
              "        text-align: right;\n",
              "    }\n",
              "</style>\n",
              "<table border=\"1\" class=\"dataframe\">\n",
              "  <thead>\n",
              "    <tr style=\"text-align: right;\">\n",
              "      <th></th>\n",
              "      <th>country</th>\n",
              "      <th>cluster</th>\n",
              "      <th>cluster_id</th>\n",
              "      <th>date</th>\n",
              "      <th>stage_name</th>\n",
              "      <th>stage_name_lag_1</th>\n",
              "      <th>volume</th>\n",
              "      <th>business_unit</th>\n",
              "      <th>ther_area_fact</th>\n",
              "      <th>prevalence</th>\n",
              "      <th>...</th>\n",
              "      <th>3</th>\n",
              "      <th>4</th>\n",
              "      <th>5</th>\n",
              "      <th>6</th>\n",
              "      <th>7</th>\n",
              "      <th>8</th>\n",
              "      <th>9</th>\n",
              "      <th>10</th>\n",
              "      <th>11</th>\n",
              "      <th>12</th>\n",
              "    </tr>\n",
              "  </thead>\n",
              "  <tbody>\n",
              "    <tr>\n",
              "      <th>0</th>\n",
              "      <td>country_0</td>\n",
              "      <td>brand_43</td>\n",
              "      <td>ID_18</td>\n",
              "      <td>2012-01-01</td>\n",
              "      <td>Growth</td>\n",
              "      <td>No_Stage</td>\n",
              "      <td>2.795290e+10</td>\n",
              "      <td>TWO</td>\n",
              "      <td>6</td>\n",
              "      <td>-1.0</td>\n",
              "      <td>...</td>\n",
              "      <td>0</td>\n",
              "      <td>0</td>\n",
              "      <td>0</td>\n",
              "      <td>0</td>\n",
              "      <td>0</td>\n",
              "      <td>0</td>\n",
              "      <td>0</td>\n",
              "      <td>0</td>\n",
              "      <td>0</td>\n",
              "      <td>0</td>\n",
              "    </tr>\n",
              "    <tr>\n",
              "      <th>1</th>\n",
              "      <td>country_0</td>\n",
              "      <td>brand_43</td>\n",
              "      <td>ID_18</td>\n",
              "      <td>2012-02-01</td>\n",
              "      <td>Growth</td>\n",
              "      <td>No_Stage</td>\n",
              "      <td>3.315936e+10</td>\n",
              "      <td>TWO</td>\n",
              "      <td>6</td>\n",
              "      <td>-1.0</td>\n",
              "      <td>...</td>\n",
              "      <td>0</td>\n",
              "      <td>0</td>\n",
              "      <td>0</td>\n",
              "      <td>0</td>\n",
              "      <td>0</td>\n",
              "      <td>0</td>\n",
              "      <td>0</td>\n",
              "      <td>0</td>\n",
              "      <td>0</td>\n",
              "      <td>0</td>\n",
              "    </tr>\n",
              "    <tr>\n",
              "      <th>2</th>\n",
              "      <td>country_0</td>\n",
              "      <td>brand_43</td>\n",
              "      <td>ID_18</td>\n",
              "      <td>2012-03-01</td>\n",
              "      <td>Growth</td>\n",
              "      <td>No_Stage</td>\n",
              "      <td>3.579896e+10</td>\n",
              "      <td>TWO</td>\n",
              "      <td>6</td>\n",
              "      <td>-1.0</td>\n",
              "      <td>...</td>\n",
              "      <td>1</td>\n",
              "      <td>0</td>\n",
              "      <td>0</td>\n",
              "      <td>0</td>\n",
              "      <td>0</td>\n",
              "      <td>0</td>\n",
              "      <td>0</td>\n",
              "      <td>0</td>\n",
              "      <td>0</td>\n",
              "      <td>0</td>\n",
              "    </tr>\n",
              "    <tr>\n",
              "      <th>3</th>\n",
              "      <td>country_0</td>\n",
              "      <td>brand_43</td>\n",
              "      <td>ID_18</td>\n",
              "      <td>2012-04-01</td>\n",
              "      <td>Growth</td>\n",
              "      <td>No_Stage</td>\n",
              "      <td>3.803040e+10</td>\n",
              "      <td>TWO</td>\n",
              "      <td>6</td>\n",
              "      <td>-1.0</td>\n",
              "      <td>...</td>\n",
              "      <td>0</td>\n",
              "      <td>1</td>\n",
              "      <td>0</td>\n",
              "      <td>0</td>\n",
              "      <td>0</td>\n",
              "      <td>0</td>\n",
              "      <td>0</td>\n",
              "      <td>0</td>\n",
              "      <td>0</td>\n",
              "      <td>0</td>\n",
              "    </tr>\n",
              "    <tr>\n",
              "      <th>4</th>\n",
              "      <td>country_0</td>\n",
              "      <td>brand_43</td>\n",
              "      <td>ID_18</td>\n",
              "      <td>2012-05-01</td>\n",
              "      <td>Growth</td>\n",
              "      <td>No_Stage</td>\n",
              "      <td>3.277213e+10</td>\n",
              "      <td>TWO</td>\n",
              "      <td>6</td>\n",
              "      <td>-1.0</td>\n",
              "      <td>...</td>\n",
              "      <td>0</td>\n",
              "      <td>0</td>\n",
              "      <td>1</td>\n",
              "      <td>0</td>\n",
              "      <td>0</td>\n",
              "      <td>0</td>\n",
              "      <td>0</td>\n",
              "      <td>0</td>\n",
              "      <td>0</td>\n",
              "      <td>0</td>\n",
              "    </tr>\n",
              "  </tbody>\n",
              "</table>\n",
              "<p>5 rows × 37 columns</p>\n",
              "</div>\n",
              "      <button class=\"colab-df-convert\" onclick=\"convertToInteractive('df-2a44ce4d-5334-427b-aff9-460eba31b68a')\"\n",
              "              title=\"Convert this dataframe to an interactive table.\"\n",
              "              style=\"display:none;\">\n",
              "        \n",
              "  <svg xmlns=\"http://www.w3.org/2000/svg\" height=\"24px\"viewBox=\"0 0 24 24\"\n",
              "       width=\"24px\">\n",
              "    <path d=\"M0 0h24v24H0V0z\" fill=\"none\"/>\n",
              "    <path d=\"M18.56 5.44l.94 2.06.94-2.06 2.06-.94-2.06-.94-.94-2.06-.94 2.06-2.06.94zm-11 1L8.5 8.5l.94-2.06 2.06-.94-2.06-.94L8.5 2.5l-.94 2.06-2.06.94zm10 10l.94 2.06.94-2.06 2.06-.94-2.06-.94-.94-2.06-.94 2.06-2.06.94z\"/><path d=\"M17.41 7.96l-1.37-1.37c-.4-.4-.92-.59-1.43-.59-.52 0-1.04.2-1.43.59L10.3 9.45l-7.72 7.72c-.78.78-.78 2.05 0 2.83L4 21.41c.39.39.9.59 1.41.59.51 0 1.02-.2 1.41-.59l7.78-7.78 2.81-2.81c.8-.78.8-2.07 0-2.86zM5.41 20L4 18.59l7.72-7.72 1.47 1.35L5.41 20z\"/>\n",
              "  </svg>\n",
              "      </button>\n",
              "      \n",
              "  <style>\n",
              "    .colab-df-container {\n",
              "      display:flex;\n",
              "      flex-wrap:wrap;\n",
              "      gap: 12px;\n",
              "    }\n",
              "\n",
              "    .colab-df-convert {\n",
              "      background-color: #E8F0FE;\n",
              "      border: none;\n",
              "      border-radius: 50%;\n",
              "      cursor: pointer;\n",
              "      display: none;\n",
              "      fill: #1967D2;\n",
              "      height: 32px;\n",
              "      padding: 0 0 0 0;\n",
              "      width: 32px;\n",
              "    }\n",
              "\n",
              "    .colab-df-convert:hover {\n",
              "      background-color: #E2EBFA;\n",
              "      box-shadow: 0px 1px 2px rgba(60, 64, 67, 0.3), 0px 1px 3px 1px rgba(60, 64, 67, 0.15);\n",
              "      fill: #174EA6;\n",
              "    }\n",
              "\n",
              "    [theme=dark] .colab-df-convert {\n",
              "      background-color: #3B4455;\n",
              "      fill: #D2E3FC;\n",
              "    }\n",
              "\n",
              "    [theme=dark] .colab-df-convert:hover {\n",
              "      background-color: #434B5C;\n",
              "      box-shadow: 0px 1px 3px 1px rgba(0, 0, 0, 0.15);\n",
              "      filter: drop-shadow(0px 1px 2px rgba(0, 0, 0, 0.3));\n",
              "      fill: #FFFFFF;\n",
              "    }\n",
              "  </style>\n",
              "\n",
              "      <script>\n",
              "        const buttonEl =\n",
              "          document.querySelector('#df-2a44ce4d-5334-427b-aff9-460eba31b68a button.colab-df-convert');\n",
              "        buttonEl.style.display =\n",
              "          google.colab.kernel.accessAllowed ? 'block' : 'none';\n",
              "\n",
              "        async function convertToInteractive(key) {\n",
              "          const element = document.querySelector('#df-2a44ce4d-5334-427b-aff9-460eba31b68a');\n",
              "          const dataTable =\n",
              "            await google.colab.kernel.invokeFunction('convertToInteractive',\n",
              "                                                     [key], {});\n",
              "          if (!dataTable) return;\n",
              "\n",
              "          const docLinkHtml = 'Like what you see? Visit the ' +\n",
              "            '<a target=\"_blank\" href=https://colab.research.google.com/notebooks/data_table.ipynb>data table notebook</a>'\n",
              "            + ' to learn more about interactive tables.';\n",
              "          element.innerHTML = '';\n",
              "          dataTable['output_type'] = 'display_data';\n",
              "          await google.colab.output.renderOutput(dataTable, element);\n",
              "          const docLink = document.createElement('div');\n",
              "          docLink.innerHTML = docLinkHtml;\n",
              "          element.appendChild(docLink);\n",
              "        }\n",
              "      </script>\n",
              "    </div>\n",
              "  </div>\n",
              "  "
            ]
          },
          "metadata": {},
          "execution_count": 16
        }
      ]
    },
    {
      "cell_type": "code",
      "execution_count": null,
      "metadata": {
        "id": "ZWAlyPXdubAT"
      },
      "outputs": [],
      "source": [
        "final_df.to_csv(\"final_df.csv\",index=False)"
      ]
    },
    {
      "cell_type": "code",
      "execution_count": null,
      "metadata": {
        "id": "iNz03LLlQuGM"
      },
      "outputs": [],
      "source": [
        "final_df_v2 = feature_hang_addition(final_df)\n",
        "final_df_v2.to_csv(\"final_df_v2.csv\",index=False)"
      ]
    },
    {
      "cell_type": "code",
      "execution_count": null,
      "metadata": {
        "id": "gCD_34ncWSn4",
        "colab": {
          "base_uri": "https://localhost:8080/"
        },
        "outputId": "cf48e56d-9656-43fb-a035-d385f6241da8"
      },
      "outputs": [
        {
          "output_type": "stream",
          "name": "stderr",
          "text": [
            "/usr/local/lib/python3.7/dist-packages/pandas/core/arraylike.py:364: RuntimeWarning: invalid value encountered in log\n",
            "  result = getattr(ufunc, method)(*inputs, **kwargs)\n"
          ]
        }
      ],
      "source": [
        "final_df_v3 = feature_lindsey_addition(final_df_v2)\n",
        "final_df_v3.to_csv(\"final_df_v3.csv\",index=False)"
      ]
    },
    {
      "cell_type": "code",
      "source": [
        "final_df_v3.head()"
      ],
      "metadata": {
        "colab": {
          "base_uri": "https://localhost:8080/",
          "height": 386
        },
        "id": "9_iA4_WkXq3p",
        "outputId": "128b9175-48bd-41f0-805f-c3cd9d0c0e7a"
      },
      "execution_count": null,
      "outputs": [
        {
          "output_type": "execute_result",
          "data": {
            "text/plain": [
              "     country   cluster cluster_id       date stage_name stage_name_lag_1  \\\n",
              "0  country_0  brand_43      ID_18 2012-01-01     Growth         No_Stage   \n",
              "1  country_0  brand_43      ID_18 2012-02-01     Growth         No_Stage   \n",
              "2  country_0  brand_43      ID_18 2012-03-01     Growth         No_Stage   \n",
              "3  country_0  brand_43      ID_18 2012-04-01     Growth         No_Stage   \n",
              "4  country_0  brand_43      ID_18 2012-05-01     Growth         No_Stage   \n",
              "\n",
              "         volume business_unit ther_area_fact  prevalence  ... vol_std_alltime  \\\n",
              "0  2.795290e+10           TWO              6  -29.393769  ...    3.596694e+10   \n",
              "1  3.315936e+10           TWO              6  -29.393769  ...    3.596694e+10   \n",
              "2  3.579896e+10           TWO              6  -29.393769  ...    3.596694e+10   \n",
              "3  3.803040e+10           TWO              6  -29.393769  ...    3.596694e+10   \n",
              "4  3.277213e+10           TWO              6  -29.393769  ...    3.596694e+10   \n",
              "\n",
              "  vol_mean_before_2016 vol_std_before_2016  vol_mean_before_4m  \\\n",
              "0         6.477512e+10        2.148358e+10        9.246055e+10   \n",
              "1         6.477512e+10        2.148358e+10        9.246055e+10   \n",
              "2         6.477512e+10        2.148358e+10        9.246055e+10   \n",
              "3         6.477512e+10        2.148358e+10        9.246055e+10   \n",
              "4         6.477512e+10        2.148358e+10        9.246055e+10   \n",
              "\n",
              "   vol_std_before_4m  vol_mean_before_1y  vol_std_before_1y  growth_date  \\\n",
              "0       1.734120e+10        8.693251e+10       1.300625e+10   2012-01-01   \n",
              "1       1.734120e+10        8.693251e+10       1.300625e+10   2012-01-01   \n",
              "2       1.734120e+10        8.693251e+10       1.300625e+10   2012-01-01   \n",
              "3       1.734120e+10        8.693251e+10       1.300625e+10   2012-01-01   \n",
              "4       1.734120e+10        8.693251e+10       1.300625e+10   2012-01-01   \n",
              "\n",
              "   month_since_growth  volume_lag_1m_pctg  \n",
              "0                   0                 NaN  \n",
              "1                   1            0.281885  \n",
              "2                   2            0.180428  \n",
              "3                   3            0.182908  \n",
              "4                   4           -0.387267  \n",
              "\n",
              "[5 rows x 48 columns]"
            ],
            "text/html": [
              "\n",
              "  <div id=\"df-2bbf6c47-736b-47c3-b883-7bfb965da6ad\">\n",
              "    <div class=\"colab-df-container\">\n",
              "      <div>\n",
              "<style scoped>\n",
              "    .dataframe tbody tr th:only-of-type {\n",
              "        vertical-align: middle;\n",
              "    }\n",
              "\n",
              "    .dataframe tbody tr th {\n",
              "        vertical-align: top;\n",
              "    }\n",
              "\n",
              "    .dataframe thead th {\n",
              "        text-align: right;\n",
              "    }\n",
              "</style>\n",
              "<table border=\"1\" class=\"dataframe\">\n",
              "  <thead>\n",
              "    <tr style=\"text-align: right;\">\n",
              "      <th></th>\n",
              "      <th>country</th>\n",
              "      <th>cluster</th>\n",
              "      <th>cluster_id</th>\n",
              "      <th>date</th>\n",
              "      <th>stage_name</th>\n",
              "      <th>stage_name_lag_1</th>\n",
              "      <th>volume</th>\n",
              "      <th>business_unit</th>\n",
              "      <th>ther_area_fact</th>\n",
              "      <th>prevalence</th>\n",
              "      <th>...</th>\n",
              "      <th>vol_std_alltime</th>\n",
              "      <th>vol_mean_before_2016</th>\n",
              "      <th>vol_std_before_2016</th>\n",
              "      <th>vol_mean_before_4m</th>\n",
              "      <th>vol_std_before_4m</th>\n",
              "      <th>vol_mean_before_1y</th>\n",
              "      <th>vol_std_before_1y</th>\n",
              "      <th>growth_date</th>\n",
              "      <th>month_since_growth</th>\n",
              "      <th>volume_lag_1m_pctg</th>\n",
              "    </tr>\n",
              "  </thead>\n",
              "  <tbody>\n",
              "    <tr>\n",
              "      <th>0</th>\n",
              "      <td>country_0</td>\n",
              "      <td>brand_43</td>\n",
              "      <td>ID_18</td>\n",
              "      <td>2012-01-01</td>\n",
              "      <td>Growth</td>\n",
              "      <td>No_Stage</td>\n",
              "      <td>2.795290e+10</td>\n",
              "      <td>TWO</td>\n",
              "      <td>6</td>\n",
              "      <td>-29.393769</td>\n",
              "      <td>...</td>\n",
              "      <td>3.596694e+10</td>\n",
              "      <td>6.477512e+10</td>\n",
              "      <td>2.148358e+10</td>\n",
              "      <td>9.246055e+10</td>\n",
              "      <td>1.734120e+10</td>\n",
              "      <td>8.693251e+10</td>\n",
              "      <td>1.300625e+10</td>\n",
              "      <td>2012-01-01</td>\n",
              "      <td>0</td>\n",
              "      <td>NaN</td>\n",
              "    </tr>\n",
              "    <tr>\n",
              "      <th>1</th>\n",
              "      <td>country_0</td>\n",
              "      <td>brand_43</td>\n",
              "      <td>ID_18</td>\n",
              "      <td>2012-02-01</td>\n",
              "      <td>Growth</td>\n",
              "      <td>No_Stage</td>\n",
              "      <td>3.315936e+10</td>\n",
              "      <td>TWO</td>\n",
              "      <td>6</td>\n",
              "      <td>-29.393769</td>\n",
              "      <td>...</td>\n",
              "      <td>3.596694e+10</td>\n",
              "      <td>6.477512e+10</td>\n",
              "      <td>2.148358e+10</td>\n",
              "      <td>9.246055e+10</td>\n",
              "      <td>1.734120e+10</td>\n",
              "      <td>8.693251e+10</td>\n",
              "      <td>1.300625e+10</td>\n",
              "      <td>2012-01-01</td>\n",
              "      <td>1</td>\n",
              "      <td>0.281885</td>\n",
              "    </tr>\n",
              "    <tr>\n",
              "      <th>2</th>\n",
              "      <td>country_0</td>\n",
              "      <td>brand_43</td>\n",
              "      <td>ID_18</td>\n",
              "      <td>2012-03-01</td>\n",
              "      <td>Growth</td>\n",
              "      <td>No_Stage</td>\n",
              "      <td>3.579896e+10</td>\n",
              "      <td>TWO</td>\n",
              "      <td>6</td>\n",
              "      <td>-29.393769</td>\n",
              "      <td>...</td>\n",
              "      <td>3.596694e+10</td>\n",
              "      <td>6.477512e+10</td>\n",
              "      <td>2.148358e+10</td>\n",
              "      <td>9.246055e+10</td>\n",
              "      <td>1.734120e+10</td>\n",
              "      <td>8.693251e+10</td>\n",
              "      <td>1.300625e+10</td>\n",
              "      <td>2012-01-01</td>\n",
              "      <td>2</td>\n",
              "      <td>0.180428</td>\n",
              "    </tr>\n",
              "    <tr>\n",
              "      <th>3</th>\n",
              "      <td>country_0</td>\n",
              "      <td>brand_43</td>\n",
              "      <td>ID_18</td>\n",
              "      <td>2012-04-01</td>\n",
              "      <td>Growth</td>\n",
              "      <td>No_Stage</td>\n",
              "      <td>3.803040e+10</td>\n",
              "      <td>TWO</td>\n",
              "      <td>6</td>\n",
              "      <td>-29.393769</td>\n",
              "      <td>...</td>\n",
              "      <td>3.596694e+10</td>\n",
              "      <td>6.477512e+10</td>\n",
              "      <td>2.148358e+10</td>\n",
              "      <td>9.246055e+10</td>\n",
              "      <td>1.734120e+10</td>\n",
              "      <td>8.693251e+10</td>\n",
              "      <td>1.300625e+10</td>\n",
              "      <td>2012-01-01</td>\n",
              "      <td>3</td>\n",
              "      <td>0.182908</td>\n",
              "    </tr>\n",
              "    <tr>\n",
              "      <th>4</th>\n",
              "      <td>country_0</td>\n",
              "      <td>brand_43</td>\n",
              "      <td>ID_18</td>\n",
              "      <td>2012-05-01</td>\n",
              "      <td>Growth</td>\n",
              "      <td>No_Stage</td>\n",
              "      <td>3.277213e+10</td>\n",
              "      <td>TWO</td>\n",
              "      <td>6</td>\n",
              "      <td>-29.393769</td>\n",
              "      <td>...</td>\n",
              "      <td>3.596694e+10</td>\n",
              "      <td>6.477512e+10</td>\n",
              "      <td>2.148358e+10</td>\n",
              "      <td>9.246055e+10</td>\n",
              "      <td>1.734120e+10</td>\n",
              "      <td>8.693251e+10</td>\n",
              "      <td>1.300625e+10</td>\n",
              "      <td>2012-01-01</td>\n",
              "      <td>4</td>\n",
              "      <td>-0.387267</td>\n",
              "    </tr>\n",
              "  </tbody>\n",
              "</table>\n",
              "<p>5 rows × 48 columns</p>\n",
              "</div>\n",
              "      <button class=\"colab-df-convert\" onclick=\"convertToInteractive('df-2bbf6c47-736b-47c3-b883-7bfb965da6ad')\"\n",
              "              title=\"Convert this dataframe to an interactive table.\"\n",
              "              style=\"display:none;\">\n",
              "        \n",
              "  <svg xmlns=\"http://www.w3.org/2000/svg\" height=\"24px\"viewBox=\"0 0 24 24\"\n",
              "       width=\"24px\">\n",
              "    <path d=\"M0 0h24v24H0V0z\" fill=\"none\"/>\n",
              "    <path d=\"M18.56 5.44l.94 2.06.94-2.06 2.06-.94-2.06-.94-.94-2.06-.94 2.06-2.06.94zm-11 1L8.5 8.5l.94-2.06 2.06-.94-2.06-.94L8.5 2.5l-.94 2.06-2.06.94zm10 10l.94 2.06.94-2.06 2.06-.94-2.06-.94-.94-2.06-.94 2.06-2.06.94z\"/><path d=\"M17.41 7.96l-1.37-1.37c-.4-.4-.92-.59-1.43-.59-.52 0-1.04.2-1.43.59L10.3 9.45l-7.72 7.72c-.78.78-.78 2.05 0 2.83L4 21.41c.39.39.9.59 1.41.59.51 0 1.02-.2 1.41-.59l7.78-7.78 2.81-2.81c.8-.78.8-2.07 0-2.86zM5.41 20L4 18.59l7.72-7.72 1.47 1.35L5.41 20z\"/>\n",
              "  </svg>\n",
              "      </button>\n",
              "      \n",
              "  <style>\n",
              "    .colab-df-container {\n",
              "      display:flex;\n",
              "      flex-wrap:wrap;\n",
              "      gap: 12px;\n",
              "    }\n",
              "\n",
              "    .colab-df-convert {\n",
              "      background-color: #E8F0FE;\n",
              "      border: none;\n",
              "      border-radius: 50%;\n",
              "      cursor: pointer;\n",
              "      display: none;\n",
              "      fill: #1967D2;\n",
              "      height: 32px;\n",
              "      padding: 0 0 0 0;\n",
              "      width: 32px;\n",
              "    }\n",
              "\n",
              "    .colab-df-convert:hover {\n",
              "      background-color: #E2EBFA;\n",
              "      box-shadow: 0px 1px 2px rgba(60, 64, 67, 0.3), 0px 1px 3px 1px rgba(60, 64, 67, 0.15);\n",
              "      fill: #174EA6;\n",
              "    }\n",
              "\n",
              "    [theme=dark] .colab-df-convert {\n",
              "      background-color: #3B4455;\n",
              "      fill: #D2E3FC;\n",
              "    }\n",
              "\n",
              "    [theme=dark] .colab-df-convert:hover {\n",
              "      background-color: #434B5C;\n",
              "      box-shadow: 0px 1px 3px 1px rgba(0, 0, 0, 0.15);\n",
              "      filter: drop-shadow(0px 1px 2px rgba(0, 0, 0, 0.3));\n",
              "      fill: #FFFFFF;\n",
              "    }\n",
              "  </style>\n",
              "\n",
              "      <script>\n",
              "        const buttonEl =\n",
              "          document.querySelector('#df-2bbf6c47-736b-47c3-b883-7bfb965da6ad button.colab-df-convert');\n",
              "        buttonEl.style.display =\n",
              "          google.colab.kernel.accessAllowed ? 'block' : 'none';\n",
              "\n",
              "        async function convertToInteractive(key) {\n",
              "          const element = document.querySelector('#df-2bbf6c47-736b-47c3-b883-7bfb965da6ad');\n",
              "          const dataTable =\n",
              "            await google.colab.kernel.invokeFunction('convertToInteractive',\n",
              "                                                     [key], {});\n",
              "          if (!dataTable) return;\n",
              "\n",
              "          const docLinkHtml = 'Like what you see? Visit the ' +\n",
              "            '<a target=\"_blank\" href=https://colab.research.google.com/notebooks/data_table.ipynb>data table notebook</a>'\n",
              "            + ' to learn more about interactive tables.';\n",
              "          element.innerHTML = '';\n",
              "          dataTable['output_type'] = 'display_data';\n",
              "          await google.colab.output.renderOutput(dataTable, element);\n",
              "          const docLink = document.createElement('div');\n",
              "          docLink.innerHTML = docLinkHtml;\n",
              "          element.appendChild(docLink);\n",
              "        }\n",
              "      </script>\n",
              "    </div>\n",
              "  </div>\n",
              "  "
            ]
          },
          "metadata": {},
          "execution_count": 22
        }
      ]
    },
    {
      "cell_type": "code",
      "execution_count": null,
      "metadata": {
        "id": "d3FyU3354I-7"
      },
      "outputs": [],
      "source": [
        "#Generate plots\n",
        "\n",
        "#Target: trainsition point, regulation designation, indication, competitor number\n",
        "\n",
        "\n",
        "\n",
        "#fig,ax = plt.subplots(2,2,figsize = (15,10))\n",
        "#sns.countplot(data=final_df,x=\"transition_point\",ax=ax[0,0]).set(title='Distribution of exlusivity')\n",
        "#sns.countplot(data=final_df,x=\"comp_num\",ax=ax[0,1]).set(title='Distribution of competitor numbers')\n",
        "#sns.countplot(data=final_df,x=\"indication_num\",ax=ax[1,0]).set(title='Distribution of indication numbers')\n",
        "#sns.countplot(data=final_df,x=\"regulatory_designations_hasany\",ax=ax[1,1]).set(title='Distribution of regulatory designations')"
      ]
    },
    {
      "cell_type": "code",
      "execution_count": null,
      "metadata": {
        "id": "fXcGyQXOA-ui"
      },
      "outputs": [],
      "source": [
        "# final_df[final_df.prevalence_pct <= 0]['prevalence_pct'] = np.nan\n",
        "# final_df[['prevalence_pct']].value_counts()"
      ]
    },
    {
      "cell_type": "markdown",
      "metadata": {
        "id": "W9aRzJKA4vdk"
      },
      "source": [
        "## Feature for Phase 2"
      ]
    },
    {
      "cell_type": "markdown",
      "metadata": {
        "id": "Gp2Np-_47_rO"
      },
      "source": [
        "* month_since_transition (Hang)\n",
        "* various volume-related features (growth rate, etc.) (Hang)"
      ]
    },
    {
      "cell_type": "code",
      "execution_count": null,
      "metadata": {
        "id": "099FDP-WUAXC"
      },
      "outputs": [],
      "source": [
        "def month_since_GtoM_trans(df):\n",
        "  test = df.copy()\n",
        "  test['rn'] = test.query(\" stage_name == 'Maturity' & stage_name_lag_1 == 'Growth' \").groupby(['cluster_id','stage_name','stage_name_lag_1'],as_index=False)['date'].rank(method = 'first')\n",
        "  #test['rn'] = test.rn.fillna(0)\n",
        "  test = test.rename(columns = {'rn':'month_since_GtoM_trans'})\n",
        "  return test"
      ]
    },
    {
      "cell_type": "code",
      "execution_count": null,
      "metadata": {
        "id": "JDMCH-zjUoRb"
      },
      "outputs": [],
      "source": [
        "def growth_rate(df):\n",
        "  # vol_standard\n",
        "  test = df.copy()\n",
        "  test = test.assign( vol_standard = (test['volume'] - test['vol_mean_alltime']) / test['vol_std_alltime'] )\n",
        "  # growth_change_rate\n",
        "  a = test.query(\" stage_name == 'Growth' & stage_name_lag_1 == 'No_Stage' \").groupby('cluster_id')['volume'].min() \n",
        "  b = test.query(\" stage_name == 'Growth' & stage_name_lag_1 == 'No_Stage' \").groupby('cluster_id')['volume'].max() \n",
        "  output_right = ((b - a) / a).reset_index().rename(columns = {\"volume\":\"growth_change_rate\"})\n",
        "  test = test.merge(output_right, how = 'left', on = 'cluster_id')\n",
        "  # adding later (growth period mean and std)\n",
        "  return test"
      ]
    },
    {
      "cell_type": "code",
      "execution_count": null,
      "metadata": {
        "id": "6h_M3Hqrls9H"
      },
      "outputs": [],
      "source": [
        "df_vol = month_since_GtoM_trans(final_df_v3)\n",
        "df_vol = growth_rate(df_vol)"
      ]
    },
    {
      "cell_type": "code",
      "execution_count": null,
      "metadata": {
        "id": "UoBgYZro1cPJ",
        "colab": {
          "base_uri": "https://localhost:8080/"
        },
        "outputId": "5c36ada4-03d3-4300-cd90-fb211afc8d02"
      },
      "outputs": [
        {
          "output_type": "stream",
          "name": "stdout",
          "text": [
            "(40180, 51)\n",
            "(40178, 51)\n",
            "80358 80358\n"
          ]
        }
      ],
      "source": [
        "p1 = df_vol.loc[0:df_vol.shape[0]/2]\n",
        "p2 = df_vol.loc[df_vol.shape[0]/2 + 1 : df_vol.shape[0] ]\n",
        "p1.to_csv(\"df_vol1.csv\",index=False)\n",
        "p2.to_csv(\"df_vol2.csv\",index=False)\n",
        "print(p1.shape)\n",
        "print(p2.shape)\n",
        "print(p1.shape[0] + p2.shape[0], df_vol.shape[0])"
      ]
    },
    {
      "cell_type": "code",
      "execution_count": null,
      "metadata": {
        "id": "6PScwjgWN-B8"
      },
      "outputs": [],
      "source": [
        "#print(final_df_v3.__dict__.keys())"
      ]
    },
    {
      "cell_type": "code",
      "execution_count": null,
      "metadata": {
        "id": "hFdC98gjapQy",
        "colab": {
          "base_uri": "https://localhost:8080/"
        },
        "outputId": "abfdb9cb-3059-47e9-d789-47a28ff28f16"
      },
      "outputs": [
        {
          "output_type": "stream",
          "name": "stdout",
          "text": [
            "(80358, 51)\n",
            "(80358, 37)\n",
            "(80358, 47)\n",
            "(80358, 48)\n"
          ]
        }
      ],
      "source": [
        "print(df_vol.shape)\n",
        "print(final_df.shape)\n",
        "print(final_df_v2.shape)\n",
        "print(final_df_v3.shape)"
      ]
    },
    {
      "cell_type": "markdown",
      "metadata": {
        "id": "u5AAJC_CAv6l"
      },
      "source": []
    },
    {
      "cell_type": "markdown",
      "metadata": {
        "id": "5-e-kie29RPe"
      },
      "source": [
        "## Quality Check\n",
        "\n",
        "Check if our features are created correctly. Choose one cluster  and manually find the ground truths. (ID_3360 right here)\n",
        "\n"
      ]
    },
    {
      "cell_type": "code",
      "execution_count": null,
      "metadata": {
        "id": "QX9sNqhZhHtu"
      },
      "outputs": [],
      "source": [
        "final_df.columns"
      ]
    },
    {
      "cell_type": "code",
      "execution_count": null,
      "metadata": {
        "id": "7TTedDglhMyx"
      },
      "outputs": [],
      "source": [
        "final_df.head(1).T"
      ]
    },
    {
      "cell_type": "code",
      "execution_count": null,
      "metadata": {
        "id": "12omAWLtaUOs"
      },
      "outputs": [],
      "source": [
        "temp_df = center_df\n",
        "# final_transformation(temp_df)\n",
        "\n",
        "temp_df = senqi_transform(temp_df)\n",
        "temp_df = feature_hang(temp_df)\n",
        "\n",
        "print(temp_df.shape)\n",
        "temp_df.columns"
      ]
    },
    {
      "cell_type": "markdown",
      "metadata": {
        "id": "46zrScSQ-t4D"
      },
      "source": [
        "ID_22:\n",
        "- no gx entry\n",
        "- 1 competitor entry date: 2006-03-01\n",
        "- Transition point: 2014-02-01 (checked)\n",
        "- Never lose exclusivity (checked)\n",
        "- Launch months 2012-01-01 (checked)\n",
        "- augment transition points (checked)\n",
        "- country: country_0 (no given population information) (checked)\n",
        "- reg_deg: 1.0 (checked)\n",
        "- no indication (checked)\n",
        "\n"
      ]
    },
    {
      "cell_type": "code",
      "execution_count": null,
      "metadata": {
        "id": "qvcAvppf9ge-"
      },
      "outputs": [],
      "source": [
        "board[board.cluster_id == \"ID_22\"].head()"
      ]
    },
    {
      "cell_type": "code",
      "execution_count": null,
      "metadata": {
        "id": "8b5kkfy-hNgJ"
      },
      "outputs": [],
      "source": [
        "#cx_df[cx_df.cluster_id == \"ID_22\"]\n",
        "#gx_df[gx_df.cluster_id == \"ID_22\"]\n",
        "#country_pop[country_pop.country == 'country_0']\n",
        "#reg_deg[reg_deg.cluster_id == \"ID_22\"]\n",
        "# indication_df[indication_df.cluster_id == \"ID_22\"]"
      ]
    },
    {
      "cell_type": "code",
      "execution_count": null,
      "metadata": {
        "id": "Al7ui_uxfLv7"
      },
      "outputs": [],
      "source": []
    },
    {
      "cell_type": "code",
      "execution_count": null,
      "metadata": {
        "id": "wSYYeAQscYYM"
      },
      "outputs": [],
      "source": [
        "#display(temp_df.loc[(temp_df.cluster_id == \"ID_22\"),['launch_date','date','launch_months']])     ## check launch months: how many months since the launch date.\n",
        "display(temp_df.loc[(temp_df.cluster_id == \"ID_22\"),['time_since_no_exclusivity']])    ## time_since_lost_exclusivity:\n",
        "#display(temp_df.loc[(temp_df.cluster_id == \"ID_22\") &( temp_df.transition_point == 1)]) ## check transition points and augment points \n",
        "#display(temp_df.loc[(temp_df.cluster_id == \"ID_22\"),['population']])  ##check population\n",
        "#display(temp_df.loc[(temp_df.cluster_id == \"ID_22\"),['regulatory_designations_hasany']])  ##check 'regulatory_designations_hasany'\n",
        "#display(temp_df.loc[(temp_df.cluster_id == \"ID_22\"),['indication_num']])  ##check indication_num\n",
        "\n"
      ]
    },
    {
      "cell_type": "code",
      "execution_count": null,
      "metadata": {
        "id": "ZoClgtMkcD7J"
      },
      "outputs": [],
      "source": [
        "temp_df[temp_df.cluster_id == \"ID_47\"].head()"
      ]
    },
    {
      "cell_type": "markdown",
      "metadata": {
        "id": "Lod0bX_2sdVo"
      },
      "source": [
        "ID_3360:\n",
        "- GX date :2022-03-01 (time_since_no_exclusivity checked)\n",
        "- 1 competitor entry date: 2020-11-01\n",
        "- no Transition point (checked)\n",
        "- lose exclusivity (checked)\n",
        "- Launch months since 2014-07-01 (checked)\n",
        "- no augment transition points (checked)\n",
        "- country_34 (no population information) (checked)\n",
        "- no reg_deg (checked)\n",
        "- no indication(checked)\n",
        "\n",
        "\n",
        "\n",
        "\n",
        "\n",
        "\n"
      ]
    },
    {
      "cell_type": "code",
      "execution_count": null,
      "metadata": {
        "id": "mko_2eBKe6xG"
      },
      "outputs": [],
      "source": [
        "temp_df[temp_df.cluster_id == \"ID_3360\"].head()"
      ]
    },
    {
      "cell_type": "code",
      "execution_count": null,
      "metadata": {
        "id": "yIO_hLBirvPj"
      },
      "outputs": [],
      "source": [
        "# gx_df[gx_df.cluster_id == \"ID_3360\"]\n",
        "# cx_df[cx_df.cluster_id == \"ID_3360\"]\n",
        "#country_pop[country_pop.country == 'country_34']\n",
        "#reg_deg[reg_deg.cluster_id == \"ID_3360\"]\n",
        "#indication_df[indication_df.cluster_id == \"ID_3360\"]"
      ]
    },
    {
      "cell_type": "code",
      "execution_count": null,
      "metadata": {
        "id": "sV3xg3wwh9xP"
      },
      "outputs": [],
      "source": [
        "#display(temp_df.loc[(temp_df.cluster_id == \"ID_3360\"),['launch_date','date','launch_months']])     ## check launch months: how many months since the launch date.\n",
        "#display(temp_df.loc[(temp_df.cluster_id == \"ID_3360\"),['date','time_since_no_exclusivity']])    ## time_since_lost_exclusivity:\n",
        "#display(temp_df.loc[(temp_df.cluster_id == \"ID_3360\") &( temp_df.transition_point == 1)]) ## check transition points and augment points \n",
        "#display(temp_df.loc[(temp_df.cluster_id == \"ID_3360\"),['regulatory_designations_hasany']])  ##check 'regulatory_designations_hasany'\n",
        "#display(temp_df.loc[(temp_df.cluster_id == \"ID_3360\"),['indication_num']])  ##check indication_num\n"
      ]
    },
    {
      "cell_type": "markdown",
      "metadata": {
        "id": "L0NDnrOcifFn"
      },
      "source": [
        "**id 22 and id 3360 neither has information about population and indications, \n",
        "we choose id 755 to check these two features:**"
      ]
    },
    {
      "cell_type": "markdown",
      "metadata": {
        "id": "dd0IhuCDj7kS"
      },
      "source": [
        "id 755\n",
        "- population: country_8 (checked)\n",
        "- indication date: 2012-04-01, 2018-04-01, 2018-11-01, 2018-11-01 (checked)"
      ]
    },
    {
      "cell_type": "code",
      "execution_count": null,
      "metadata": {
        "id": "LWQCefGxkH7U"
      },
      "outputs": [],
      "source": [
        "temp_df[temp_df.cluster_id == \"ID_755\"].head()"
      ]
    },
    {
      "cell_type": "code",
      "execution_count": null,
      "metadata": {
        "id": "-utPoZ0rkM2F"
      },
      "outputs": [],
      "source": [
        "#country_pop[country_pop.country == 'country_8'].sort_values(by = ['year'])\n",
        "#indication_df[(indication_df.cluster_id == \"ID_755\") & (indication_df.indication_entry == 1)]"
      ]
    },
    {
      "cell_type": "code",
      "execution_count": null,
      "metadata": {
        "id": "z8-BEPyEi9Lk"
      },
      "outputs": [],
      "source": [
        "#display(temp_df.loc[(temp_df.cluster_id == \"ID_755\"),['year','population']])  ##check population\n",
        "# display(temp_df.loc[(temp_df.cluster_id == \"ID_755\") & (temp_df.indication_num == 1),['date','indication_num']])  ###check indication_nums\n",
        "# display(temp_df.loc[(temp_df.cluster_id == \"ID_755\") & (temp_df.indication_num == 2),['date','indication_num']])\n",
        "# display(temp_df.loc[(temp_df.cluster_id == \"ID_755\") & (temp_df.indication_num == 3),['date','indication_num']])"
      ]
    },
    {
      "cell_type": "code",
      "execution_count": null,
      "metadata": {
        "id": "qgatnFX0_DM6"
      },
      "outputs": [],
      "source": [
        "# qc = center_df[center_df.cluster_id == \"ID_22\"]"
      ]
    },
    {
      "cell_type": "code",
      "execution_count": null,
      "metadata": {
        "id": "S6V_bMuZGT0G"
      },
      "outputs": [],
      "source": [
        "# center_df = feature_lindsey(center_df)\n",
        "# center_df.head()"
      ]
    },
    {
      "cell_type": "code",
      "execution_count": null,
      "metadata": {
        "id": "HyV-B-aOVCT-"
      },
      "outputs": [],
      "source": [
        "gx_df[gx_df.cluster_id == 'ID_45']"
      ]
    },
    {
      "cell_type": "code",
      "execution_count": null,
      "metadata": {
        "id": "18G49mpzGT3k"
      },
      "outputs": [],
      "source": [
        "cx_df[cx_df.cluster_id == 'ID_1405']"
      ]
    },
    {
      "cell_type": "code",
      "execution_count": null,
      "metadata": {
        "id": "X6iOI8N_GT6s"
      },
      "outputs": [],
      "source": [
        "#center_df[center_df.cluster_id == 'ID_1405'][['comp_num', 'first_comp_month', 'is_exclusive', 'last_stage_days']]"
      ]
    },
    {
      "cell_type": "code",
      "execution_count": null,
      "metadata": {
        "id": "pwu4o-rrGT9-"
      },
      "outputs": [],
      "source": [
        "#center_df[center_df.cluster_id == 'ID_45'][['date', 'comp_num', 'first_comp_month', 'is_exclusive', 'last_stage_days']]"
      ]
    },
    {
      "cell_type": "code",
      "execution_count": null,
      "metadata": {
        "id": "HE6cBjGvhwK2"
      },
      "outputs": [],
      "source": [
        "final_df.is_exclusive.value_counts().plot(kind='barh')"
      ]
    },
    {
      "cell_type": "code",
      "execution_count": null,
      "metadata": {
        "id": "U8T2hq3ShwTX"
      },
      "outputs": [],
      "source": [
        "final_df"
      ]
    },
    {
      "cell_type": "code",
      "execution_count": null,
      "metadata": {
        "id": "xsBqcy6SAuKV"
      },
      "outputs": [],
      "source": []
    },
    {
      "cell_type": "markdown",
      "metadata": {
        "id": "mKO5rG11REN9"
      },
      "source": [
        "Hang Working Below"
      ]
    },
    {
      "cell_type": "code",
      "execution_count": null,
      "metadata": {
        "id": "EThfgOJIRFXz"
      },
      "outputs": [],
      "source": [
        "board.query(\"cluster_id == 'ID_193'\").stage_name.value_counts()"
      ]
    },
    {
      "cell_type": "code",
      "execution_count": null,
      "metadata": {
        "id": "HjO_GrlORnD8"
      },
      "outputs": [],
      "source": [
        "cols = ['cluster_id','date','stage_name', 'stage_name_lag_1', 'volume']"
      ]
    },
    {
      "cell_type": "code",
      "execution_count": null,
      "metadata": {
        "id": "TQLFF4DKRMjD"
      },
      "outputs": [],
      "source": [
        "board.query(\"cluster_id == 'ID_193'\").loc[:,cols]"
      ]
    },
    {
      "cell_type": "code",
      "execution_count": null,
      "metadata": {
        "id": "Asmsdg_nSTM0"
      },
      "outputs": [],
      "source": [
        "board['date'] = pd.to_datetime(board.date)\n",
        "sns.lineplot(x='date',y='volume',hue='stage_name', data=board.query(\"cluster_id == 'ID_193'\"))"
      ]
    },
    {
      "cell_type": "code",
      "execution_count": null,
      "metadata": {
        "id": "5dDqYCfrTKP2"
      },
      "outputs": [],
      "source": []
    }
  ],
  "metadata": {
    "colab": {
      "collapsed_sections": [
        "5ccTM4bUN8xQ",
        "5-e-kie29RPe"
      ],
      "provenance": []
    },
    "kernelspec": {
      "display_name": "Python 3",
      "name": "python3"
    },
    "language_info": {
      "name": "python"
    }
  },
  "nbformat": 4,
  "nbformat_minor": 0
}