{
  "nbformat": 4,
  "nbformat_minor": 0,
  "metadata": {
    "colab": {
      "provenance": [],
      "collapsed_sections": [
        "ephkfFctwqNd",
        "yW1jbbWhx7wI",
        "xuAh9F_OG5U_",
        "HYCXuZCoyIll",
        "9Wyf6IqrvQd_",
        "w9-QZ7AYT-7Q",
        "ICLrRaEFhgub",
        "qGmagWmqwfRx",
        "sWaeph0YvaZK",
        "e6aVHp54AiTx"
      ],
      "toc_visible": true
    },
    "kernelspec": {
      "name": "python3",
      "display_name": "Python 3"
    },
    "language_info": {
      "name": "python"
    }
  },
  "cells": [
    {
      "cell_type": "markdown",
      "source": [
        "# Novartis Modeling"
      ],
      "metadata": {
        "id": "VPsByjzOwFL6"
      }
    },
    {
      "cell_type": "markdown",
      "source": [
        "## **Data Import and Load Packages**"
      ],
      "metadata": {
        "id": "Kw7-Araupa1H"
      }
    },
    {
      "cell_type": "code",
      "source": [
        "import random\n",
        "import seaborn as sns\n",
        "import matplotlib.pyplot as plt\n",
        "import pandas as pd\n",
        "import sklearn as sk\n",
        "from datetime import datetime\n",
        "from sklearn.pipeline import make_pipeline\n",
        "from sklearn.compose import make_column_transformer\n",
        "from sklearn.preprocessing import OneHotEncoder\n",
        "from sklearn.preprocessing import LabelEncoder\n",
        "from sklearn.ensemble import RandomForestClassifier\n",
        "from sklearn.model_selection import GridSearchCV\n",
        "from sklearn.metrics import confusion_matrix, classification_report\n",
        "from sklearn.impute import SimpleImputer"
      ],
      "metadata": {
        "id": "DbV9U3AiwbuI"
      },
      "execution_count": null,
      "outputs": []
    },
    {
      "cell_type": "code",
      "execution_count": null,
      "metadata": {
        "id": "y3Xkifd_v3tH"
      },
      "outputs": [],
      "source": [
        "final_df = pd.read_csv(\"https://raw.githubusercontent.com/hangxu0324/Capstone-Project/main/data/final_df.csv\")\n",
        "final_df[\"launch_date\"] = pd.to_datetime(final_df[\"launch_date\"])\n",
        "final_df[\"date\"] = pd.to_datetime(final_df[\"date\"])"
      ]
    },
    {
      "cell_type": "code",
      "source": [
        "final_df[\"year\"] = final_df.date.apply(lambda x: x.year)\n",
        "final_df[\"month\"] = final_df.date.apply(lambda x: x.month)"
      ],
      "metadata": {
        "id": "BxgavwcaaSLR"
      },
      "execution_count": null,
      "outputs": []
    },
    {
      "cell_type": "code",
      "source": [
        "final_df_v2 = pd.read_csv(\"https://raw.githubusercontent.com/hangxu0324/Capstone-Project/main/data/final_df_v2.csv\")\n",
        "final_df_v2[\"launch_date\"] = pd.to_datetime(final_df[\"launch_date\"])\n",
        "final_df_v2[\"date\"] = pd.to_datetime(final_df[\"date\"])\n",
        "\n",
        "final_df_v2 = final_df_v2.assign(\n",
        "    x1 = lambda x: 100* x.vol_std_before_2016 / x.vol_mean_before_2016 ,\n",
        "    x2 = lambda x: 100* (x.vol_std_before_4m - x.vol_std_before_1y)/x.vol_std_before_1y ,\n",
        "    x3 = lambda x: 100*(x.vol_mean_before_4m - x.vol_mean_before_1y) / x.vol_mean_before_1y,\n",
        "    x4 = lambda x: 100*(x.vol_std_before_4m - x.vol_std_before_2016) / x.vol_std_before_2016,\n",
        "    )\n",
        "final_df_v2.x1 = final_df_v2.x1.fillna(0)\n",
        "final_df_v2.x2 = final_df_v2.x2.fillna(0)\n",
        "final_df_v2.x3 = final_df_v2.x3.fillna(0)\n",
        "final_df_v2.x4 = final_df_v2.x4.fillna(0)"
      ],
      "metadata": {
        "id": "JZbOtCbiToep"
      },
      "execution_count": null,
      "outputs": []
    },
    {
      "cell_type": "code",
      "source": [
        "# final_df_4m  = pd.read_csv(\"https://raw.githubusercontent.com/hangxu0324/Capstone-Project/main/data/final_df_4m_aug.csv\")\n",
        "# final_df_4m[\"launch_date\"] = pd.to_datetime(final_df_4m[\"launch_date\"])\n",
        "# final_df_4m[\"date\"] = pd.to_datetime(final_df_4m[\"date\"])"
      ],
      "metadata": {
        "id": "fu8AXacFFZzp"
      },
      "execution_count": null,
      "outputs": []
    },
    {
      "cell_type": "code",
      "source": [
        "final_df_v2.query(\"date >= '2019-04-01'\").sort_values(['cluster_id', 'date']).head()"
      ],
      "metadata": {
        "colab": {
          "base_uri": "https://localhost:8080/",
          "height": 386
        },
        "id": "BqGBCuly2UEA",
        "outputId": "d0884b56-5581-4e12-ef5b-e06985252167"
      },
      "execution_count": null,
      "outputs": [
        {
          "output_type": "execute_result",
          "data": {
            "text/plain": [
              "          country   cluster cluster_id       date stage_name stage_name_lag_1  \\\n",
              "25777  country_11  brand_57    ID_1000 2019-04-01        NaN      Forecasting   \n",
              "25778  country_11  brand_57    ID_1000 2019-05-01        NaN      Forecasting   \n",
              "25779  country_11  brand_57    ID_1000 2019-06-01        NaN      Forecasting   \n",
              "25780  country_11  brand_57    ID_1000 2019-07-01        NaN      Forecasting   \n",
              "25781  country_11  brand_57    ID_1000 2019-08-01        NaN      Forecasting   \n",
              "\n",
              "       volume business_unit  ther_area_fact  prevalence  ...  \\\n",
              "25777    -1.0           ONE               2        -1.0  ...   \n",
              "25778    -1.0           ONE               2        -1.0  ...   \n",
              "25779    -1.0           ONE               2        -1.0  ...   \n",
              "25780    -1.0           ONE               2        -1.0  ...   \n",
              "25781    -1.0           ONE               2        -1.0  ...   \n",
              "\n",
              "      vol_mean_before_4m vol_std_before_4m vol_mean_before_1y  \\\n",
              "25777       1.379628e+08      1.825012e+07       1.388105e+08   \n",
              "25778       1.379628e+08      1.825012e+07       1.388105e+08   \n",
              "25779       1.379628e+08      1.825012e+07       1.388105e+08   \n",
              "25780       1.379628e+08      1.825012e+07       1.388105e+08   \n",
              "25781       1.379628e+08      1.825012e+07       1.388105e+08   \n",
              "\n",
              "       vol_std_before_1y  growth_date  month_since_growth         x1  \\\n",
              "25777       4.318079e+07   2014-01-01                  63  32.467995   \n",
              "25778       4.318079e+07   2014-01-01                  64  32.467995   \n",
              "25779       4.318079e+07   2014-01-01                  65  32.467995   \n",
              "25780       4.318079e+07   2014-01-01                  66  32.467995   \n",
              "25781       4.318079e+07   2014-01-01                  67  32.467995   \n",
              "\n",
              "              x2        x3         x4  \n",
              "25777 -57.735567 -0.610648 -53.543109  \n",
              "25778 -57.735567 -0.610648 -53.543109  \n",
              "25779 -57.735567 -0.610648 -53.543109  \n",
              "25780 -57.735567 -0.610648 -53.543109  \n",
              "25781 -57.735567 -0.610648 -53.543109  \n",
              "\n",
              "[5 rows x 51 columns]"
            ],
            "text/html": [
              "\n",
              "  <div id=\"df-64a9c415-b038-4a95-a78f-951d0563199e\">\n",
              "    <div class=\"colab-df-container\">\n",
              "      <div>\n",
              "<style scoped>\n",
              "    .dataframe tbody tr th:only-of-type {\n",
              "        vertical-align: middle;\n",
              "    }\n",
              "\n",
              "    .dataframe tbody tr th {\n",
              "        vertical-align: top;\n",
              "    }\n",
              "\n",
              "    .dataframe thead th {\n",
              "        text-align: right;\n",
              "    }\n",
              "</style>\n",
              "<table border=\"1\" class=\"dataframe\">\n",
              "  <thead>\n",
              "    <tr style=\"text-align: right;\">\n",
              "      <th></th>\n",
              "      <th>country</th>\n",
              "      <th>cluster</th>\n",
              "      <th>cluster_id</th>\n",
              "      <th>date</th>\n",
              "      <th>stage_name</th>\n",
              "      <th>stage_name_lag_1</th>\n",
              "      <th>volume</th>\n",
              "      <th>business_unit</th>\n",
              "      <th>ther_area_fact</th>\n",
              "      <th>prevalence</th>\n",
              "      <th>...</th>\n",
              "      <th>vol_mean_before_4m</th>\n",
              "      <th>vol_std_before_4m</th>\n",
              "      <th>vol_mean_before_1y</th>\n",
              "      <th>vol_std_before_1y</th>\n",
              "      <th>growth_date</th>\n",
              "      <th>month_since_growth</th>\n",
              "      <th>x1</th>\n",
              "      <th>x2</th>\n",
              "      <th>x3</th>\n",
              "      <th>x4</th>\n",
              "    </tr>\n",
              "  </thead>\n",
              "  <tbody>\n",
              "    <tr>\n",
              "      <th>25777</th>\n",
              "      <td>country_11</td>\n",
              "      <td>brand_57</td>\n",
              "      <td>ID_1000</td>\n",
              "      <td>2019-04-01</td>\n",
              "      <td>NaN</td>\n",
              "      <td>Forecasting</td>\n",
              "      <td>-1.0</td>\n",
              "      <td>ONE</td>\n",
              "      <td>2</td>\n",
              "      <td>-1.0</td>\n",
              "      <td>...</td>\n",
              "      <td>1.379628e+08</td>\n",
              "      <td>1.825012e+07</td>\n",
              "      <td>1.388105e+08</td>\n",
              "      <td>4.318079e+07</td>\n",
              "      <td>2014-01-01</td>\n",
              "      <td>63</td>\n",
              "      <td>32.467995</td>\n",
              "      <td>-57.735567</td>\n",
              "      <td>-0.610648</td>\n",
              "      <td>-53.543109</td>\n",
              "    </tr>\n",
              "    <tr>\n",
              "      <th>25778</th>\n",
              "      <td>country_11</td>\n",
              "      <td>brand_57</td>\n",
              "      <td>ID_1000</td>\n",
              "      <td>2019-05-01</td>\n",
              "      <td>NaN</td>\n",
              "      <td>Forecasting</td>\n",
              "      <td>-1.0</td>\n",
              "      <td>ONE</td>\n",
              "      <td>2</td>\n",
              "      <td>-1.0</td>\n",
              "      <td>...</td>\n",
              "      <td>1.379628e+08</td>\n",
              "      <td>1.825012e+07</td>\n",
              "      <td>1.388105e+08</td>\n",
              "      <td>4.318079e+07</td>\n",
              "      <td>2014-01-01</td>\n",
              "      <td>64</td>\n",
              "      <td>32.467995</td>\n",
              "      <td>-57.735567</td>\n",
              "      <td>-0.610648</td>\n",
              "      <td>-53.543109</td>\n",
              "    </tr>\n",
              "    <tr>\n",
              "      <th>25779</th>\n",
              "      <td>country_11</td>\n",
              "      <td>brand_57</td>\n",
              "      <td>ID_1000</td>\n",
              "      <td>2019-06-01</td>\n",
              "      <td>NaN</td>\n",
              "      <td>Forecasting</td>\n",
              "      <td>-1.0</td>\n",
              "      <td>ONE</td>\n",
              "      <td>2</td>\n",
              "      <td>-1.0</td>\n",
              "      <td>...</td>\n",
              "      <td>1.379628e+08</td>\n",
              "      <td>1.825012e+07</td>\n",
              "      <td>1.388105e+08</td>\n",
              "      <td>4.318079e+07</td>\n",
              "      <td>2014-01-01</td>\n",
              "      <td>65</td>\n",
              "      <td>32.467995</td>\n",
              "      <td>-57.735567</td>\n",
              "      <td>-0.610648</td>\n",
              "      <td>-53.543109</td>\n",
              "    </tr>\n",
              "    <tr>\n",
              "      <th>25780</th>\n",
              "      <td>country_11</td>\n",
              "      <td>brand_57</td>\n",
              "      <td>ID_1000</td>\n",
              "      <td>2019-07-01</td>\n",
              "      <td>NaN</td>\n",
              "      <td>Forecasting</td>\n",
              "      <td>-1.0</td>\n",
              "      <td>ONE</td>\n",
              "      <td>2</td>\n",
              "      <td>-1.0</td>\n",
              "      <td>...</td>\n",
              "      <td>1.379628e+08</td>\n",
              "      <td>1.825012e+07</td>\n",
              "      <td>1.388105e+08</td>\n",
              "      <td>4.318079e+07</td>\n",
              "      <td>2014-01-01</td>\n",
              "      <td>66</td>\n",
              "      <td>32.467995</td>\n",
              "      <td>-57.735567</td>\n",
              "      <td>-0.610648</td>\n",
              "      <td>-53.543109</td>\n",
              "    </tr>\n",
              "    <tr>\n",
              "      <th>25781</th>\n",
              "      <td>country_11</td>\n",
              "      <td>brand_57</td>\n",
              "      <td>ID_1000</td>\n",
              "      <td>2019-08-01</td>\n",
              "      <td>NaN</td>\n",
              "      <td>Forecasting</td>\n",
              "      <td>-1.0</td>\n",
              "      <td>ONE</td>\n",
              "      <td>2</td>\n",
              "      <td>-1.0</td>\n",
              "      <td>...</td>\n",
              "      <td>1.379628e+08</td>\n",
              "      <td>1.825012e+07</td>\n",
              "      <td>1.388105e+08</td>\n",
              "      <td>4.318079e+07</td>\n",
              "      <td>2014-01-01</td>\n",
              "      <td>67</td>\n",
              "      <td>32.467995</td>\n",
              "      <td>-57.735567</td>\n",
              "      <td>-0.610648</td>\n",
              "      <td>-53.543109</td>\n",
              "    </tr>\n",
              "  </tbody>\n",
              "</table>\n",
              "<p>5 rows × 51 columns</p>\n",
              "</div>\n",
              "      <button class=\"colab-df-convert\" onclick=\"convertToInteractive('df-64a9c415-b038-4a95-a78f-951d0563199e')\"\n",
              "              title=\"Convert this dataframe to an interactive table.\"\n",
              "              style=\"display:none;\">\n",
              "        \n",
              "  <svg xmlns=\"http://www.w3.org/2000/svg\" height=\"24px\"viewBox=\"0 0 24 24\"\n",
              "       width=\"24px\">\n",
              "    <path d=\"M0 0h24v24H0V0z\" fill=\"none\"/>\n",
              "    <path d=\"M18.56 5.44l.94 2.06.94-2.06 2.06-.94-2.06-.94-.94-2.06-.94 2.06-2.06.94zm-11 1L8.5 8.5l.94-2.06 2.06-.94-2.06-.94L8.5 2.5l-.94 2.06-2.06.94zm10 10l.94 2.06.94-2.06 2.06-.94-2.06-.94-.94-2.06-.94 2.06-2.06.94z\"/><path d=\"M17.41 7.96l-1.37-1.37c-.4-.4-.92-.59-1.43-.59-.52 0-1.04.2-1.43.59L10.3 9.45l-7.72 7.72c-.78.78-.78 2.05 0 2.83L4 21.41c.39.39.9.59 1.41.59.51 0 1.02-.2 1.41-.59l7.78-7.78 2.81-2.81c.8-.78.8-2.07 0-2.86zM5.41 20L4 18.59l7.72-7.72 1.47 1.35L5.41 20z\"/>\n",
              "  </svg>\n",
              "      </button>\n",
              "      \n",
              "  <style>\n",
              "    .colab-df-container {\n",
              "      display:flex;\n",
              "      flex-wrap:wrap;\n",
              "      gap: 12px;\n",
              "    }\n",
              "\n",
              "    .colab-df-convert {\n",
              "      background-color: #E8F0FE;\n",
              "      border: none;\n",
              "      border-radius: 50%;\n",
              "      cursor: pointer;\n",
              "      display: none;\n",
              "      fill: #1967D2;\n",
              "      height: 32px;\n",
              "      padding: 0 0 0 0;\n",
              "      width: 32px;\n",
              "    }\n",
              "\n",
              "    .colab-df-convert:hover {\n",
              "      background-color: #E2EBFA;\n",
              "      box-shadow: 0px 1px 2px rgba(60, 64, 67, 0.3), 0px 1px 3px 1px rgba(60, 64, 67, 0.15);\n",
              "      fill: #174EA6;\n",
              "    }\n",
              "\n",
              "    [theme=dark] .colab-df-convert {\n",
              "      background-color: #3B4455;\n",
              "      fill: #D2E3FC;\n",
              "    }\n",
              "\n",
              "    [theme=dark] .colab-df-convert:hover {\n",
              "      background-color: #434B5C;\n",
              "      box-shadow: 0px 1px 3px 1px rgba(0, 0, 0, 0.15);\n",
              "      filter: drop-shadow(0px 1px 2px rgba(0, 0, 0, 0.3));\n",
              "      fill: #FFFFFF;\n",
              "    }\n",
              "  </style>\n",
              "\n",
              "      <script>\n",
              "        const buttonEl =\n",
              "          document.querySelector('#df-64a9c415-b038-4a95-a78f-951d0563199e button.colab-df-convert');\n",
              "        buttonEl.style.display =\n",
              "          google.colab.kernel.accessAllowed ? 'block' : 'none';\n",
              "\n",
              "        async function convertToInteractive(key) {\n",
              "          const element = document.querySelector('#df-64a9c415-b038-4a95-a78f-951d0563199e');\n",
              "          const dataTable =\n",
              "            await google.colab.kernel.invokeFunction('convertToInteractive',\n",
              "                                                     [key], {});\n",
              "          if (!dataTable) return;\n",
              "\n",
              "          const docLinkHtml = 'Like what you see? Visit the ' +\n",
              "            '<a target=\"_blank\" href=https://colab.research.google.com/notebooks/data_table.ipynb>data table notebook</a>'\n",
              "            + ' to learn more about interactive tables.';\n",
              "          element.innerHTML = '';\n",
              "          dataTable['output_type'] = 'display_data';\n",
              "          await google.colab.output.renderOutput(dataTable, element);\n",
              "          const docLink = document.createElement('div');\n",
              "          docLink.innerHTML = docLinkHtml;\n",
              "          element.appendChild(docLink);\n",
              "        }\n",
              "      </script>\n",
              "    </div>\n",
              "  </div>\n",
              "  "
            ]
          },
          "metadata": {},
          "execution_count": 6
        }
      ]
    },
    {
      "cell_type": "markdown",
      "source": [
        "## **Helper Fucntions**"
      ],
      "metadata": {
        "id": "n5JWPWnTT6s5"
      }
    },
    {
      "cell_type": "markdown",
      "source": [
        "### Train/validtion split"
      ],
      "metadata": {
        "id": "ephkfFctwqNd"
      }
    },
    {
      "cell_type": "code",
      "source": [
        "def train_val_split(final_df, pure_growth_perc=0, balanced_val=True):\n",
        "\n",
        "  ''' \n",
        "  description: Extract train, val, test from final_df using 2016 as threshold\n",
        "  input: final_df - the dataframe with features and labels for classification task\n",
        "         pure_growth_perc - (0-1) percentage of pure growth(0) clusters added to the training set\n",
        "         balanced_val - True or False, whether balance val_set or not\n",
        "  output: train, val, test\n",
        "  '''\n",
        "\n",
        "  ## separate cluster according to time of transition point\n",
        "  # cluster ids with transition point before 2016\n",
        "  TP_before2016_id = final_df.query('stage_name!=\"Growth\" & date<=\"2016-03-01\"').cluster_id.unique()\n",
        "  # cluster ids with transition point after 2016\n",
        "  TP_after2016_id = final_df.query('stage_name==\"Growth\" & date==\"2016-03-01\"').cluster_id.unique()\n",
        "  # cluster ids with transition point after 2019\n",
        "  TP_after2019_id = final_df.query('stage_name==\"Growth\" & stage_name_lag_1==\"No_Stage\" & date==\"2019-03-01\"').cluster_id.unique()\n",
        "\n",
        "\n",
        "  ## data before 2016 is for training, data in 2016-2019 is for validation, data in 2019-2022 is for testing\n",
        "  # can be used in training\n",
        "  TP_before2016_train_df = final_df[(final_df['cluster_id'].isin(TP_before2016_id)) & (final_df['date']<=\"2016-03-01\")] # cluster_num=209\n",
        "  TP_after2016_train_df = final_df[(final_df['cluster_id'].isin(TP_after2016_id)) & (final_df['date']<=\"2016-03-01\")] # cluster_num=350\n",
        "\n",
        "  # merge training set\n",
        "  if pure_growth_perc>0:\n",
        "    ids = TP_after2016_train_df.cluster_id.unique()\n",
        "    random.seed(0)\n",
        "    added_set_id = random.sample(set(ids),int(len(ids)*pure_growth_perc))\n",
        "    added_set = TP_after2016_train_df[TP_after2016_train_df['cluster_id'].isin(added_set_id)]\n",
        "    train_df = pd.concat([TP_before2016_train_df, added_set])\n",
        "  else:\n",
        "    train_df = TP_before2016_train_df\n",
        "\n",
        "  # can be used in validation\n",
        "  val_df = final_df[(final_df['cluster_id'].isin(TP_after2016_id)) & (final_df['date']>\"2016-03-01\") \\\n",
        "                                 & (final_df['date']<=\"2019-03-01\")] # with_tp : no_tp = 4:6\n",
        "  if balanced_val == True:\n",
        "    val_id_withTP = list(set(TP_after2016_id)-set(TP_after2019_id)) # len=141\n",
        "    val_id_noTP = [id for id in TP_after2016_id if id in TP_after2019_id] # len=209\n",
        "    random.seed(0)\n",
        "    val_id_noTP_chosen = random.sample(set(val_id_noTP),141)\n",
        "    val_id = val_id_withTP + val_id_noTP_chosen # len=282\n",
        "    val_df = final_df[(final_df['cluster_id'].isin(val_id)) & (final_df['date']>\"2016-03-01\") \\\n",
        "                                 & (final_df['date']<=\"2019-03-01\")] # with_tp : no_tp = 5:5\n",
        "    \n",
        "\n",
        "  # used in final testing (submission)\n",
        "  test_df = final_df[(final_df['cluster_id'].isin(TP_after2019_id)) & (final_df['date']>\"2019-03-01\")]\n",
        "\n",
        "  return train_df, val_df, test_df\n",
        "  "
      ],
      "metadata": {
        "id": "OPfTnQrLwtEa"
      },
      "execution_count": null,
      "outputs": []
    },
    {
      "cell_type": "code",
      "source": [
        "def train_val_split_v2(final_df):\n",
        "\n",
        "  ''' \n",
        "  description: Extract train, val from final_df by cluster id randomly (you can get test from the previous function)\n",
        "               train:val=8:2\n",
        "  input: final_df - the dataframe with features and labels for classification task\n",
        "  output: train, val\n",
        "  '''\n",
        "  random.seed(0)\n",
        "  \n",
        "  clusterID_withTP = final_df.query('stage_name!=\"Growth\" & date<=\"2019-03-01\"').cluster_id.unique() # len=367\n",
        "  clusterID_noTP = final_df.query('stage_name==\"Growth\" & date==\"2019-03-01\"').cluster_id.unique() # len=295\n",
        "\n",
        "  trainID_withTP = random.sample(set(clusterID_withTP), k=int(0.8*len(clusterID_withTP))) # len=293\n",
        "  trainID_noTP = random.sample(set(clusterID_noTP), k=int(0.8*len(clusterID_noTP))) # len=236\n",
        "  trainID = trainID_withTP + trainID_noTP\n",
        "\n",
        "  valID_withTP = list(set(clusterID_withTP)-set(trainID_withTP)) # len=74\n",
        "  valID_noTP = list(set(clusterID_noTP)-set(trainID_noTP)) # len=59\n",
        "  valID = valID_withTP + valID_noTP\n",
        "\n",
        "  train_df = final_df[(final_df['cluster_id'].isin(trainID)) & (final_df['date']<=\"2019-03-01\")]\n",
        "  val_df = final_df[(final_df['cluster_id'].isin(valID)) & (final_df['date']<=\"2019-03-01\")]\n",
        "\n",
        "  return train_df, val_df"
      ],
      "metadata": {
        "id": "2yXnDC0WRvSv"
      },
      "execution_count": null,
      "outputs": []
    },
    {
      "cell_type": "markdown",
      "source": [
        "### Metrics computation functions"
      ],
      "metadata": {
        "id": "HNcta0lBnwhB"
      }
    },
    {
      "cell_type": "code",
      "source": [
        "def compute_error_validation_baseline(predicted_date):\n",
        "  ''' \n",
        "  used in average baseline performance computation\n",
        "  input: predicted_date is the dataframe with cluster_id and predicted_date for validiation cluters of the v1 split\n",
        "  output: return error df \n",
        "          print MAE and MAPE\n",
        "  '''\n",
        "  val_df_transition = val_df[(val_df['stage_name']=='Maturity')].sort_values('date').groupby('cluster_id').head(1)[['cluster_id','date']]\n",
        "  val_df_transition = val_df_transition.rename(columns={'date': 'transition_date'})\n",
        "  val_df_compute = pd.merge(predicted_date, val_df_transition,on='cluster_id',how='left')\n",
        "  \n",
        "\n",
        "  def compute_error(transition_date, predicted_date):\n",
        "    if transition_date is pd.NaT:\n",
        "      if pd.to_datetime(predicted_date)<=pd.to_datetime('2019-03-01'):\n",
        "        return 36\n",
        "      else:\n",
        "        return 0\n",
        "    else:\n",
        "      if pd.to_datetime(predicted_date)>pd.to_datetime('2019-03-01'):\n",
        "        return 36\n",
        "      elif predicted_date is pd.NaT:\n",
        "        return 36\n",
        "      else:\n",
        "        return (abs((transition_date).year - (predicted_date).year)*12 + \\\n",
        "                  ((transition_date).month - (predicted_date).month))\n",
        "        \n",
        "  val_df_compute['absolute_error'] = val_df_compute.apply(lambda val_df_compute: compute_error(val_df_compute.transition_date, val_df_compute.predicted_date), axis=1)    \n",
        "  print('mean absolute error in month: ',val_df_compute.absolute_error.mean())\n",
        "  print('mean absolute error in month adjusted by predicted duration: ',val_df_compute.absolute_error.mean()/36)    \n",
        "  return val_df_compute\n",
        "\n",
        "\n",
        "def compute_error_validation(predicted_date):\n",
        "  ''' \n",
        "  input: predicted_date is the dataframe with cluster_id and predicted_date for validiation cluters of the v1 split\n",
        "  output: return error df \n",
        "          print MAE and MAPE\n",
        "  '''\n",
        "  val_df_transition = val_df[(val_df['stage_name']=='Maturity')].sort_values('date').groupby('cluster_id').head(1)[['cluster_id','date']]\n",
        "  val_df_transition = val_df_transition.rename(columns={'date': 'transition_date'})\n",
        "  val_df_compute = pd.merge(predicted_date, val_df_transition,on='cluster_id',how='left')\n",
        "  \n",
        "\n",
        "  def compute_error(transition_date, predicted_date):\n",
        "    if transition_date is pd.NaT:\n",
        "      if predicted_date is pd.NaT:\n",
        "        return 0\n",
        "      else:\n",
        "        return 36\n",
        "    else:\n",
        "      if predicted_date is pd.NaT:\n",
        "        return 36\n",
        "      else:\n",
        "        return (abs((transition_date).year - (predicted_date).year)*12 + \\\n",
        "                  ((transition_date).month - (predicted_date).month))\n",
        "        \n",
        "  val_df_compute['absolute_error'] = val_df_compute.apply(lambda val_df_compute: compute_error(val_df_compute.transition_date, val_df_compute.predicted_date), axis=1)    \n",
        "  print('mean absolute error in month: ',val_df_compute.absolute_error.mean())\n",
        "  print('mean absolute error in month adjusted by predicted duration: ',val_df_compute.absolute_error.mean()/36)    \n",
        "  return val_df_compute\n",
        "\n",
        "\n",
        "def compute_error_test(predicted_date, true_tp):\n",
        "  ''' \n",
        "  input: predicted_date is the dataframe with cluster_id and predicted_date for test cluters of the v1 split\n",
        "  output: return error df \n",
        "          print MAE and MAPE\n",
        "  '''\n",
        "  test_df_transition = true_tp\n",
        "  test_df_compute = pd.merge(predicted_date, test_df_transition,on='cluster_id',how='left')\n",
        "  \n",
        "\n",
        "  def compute_error(transition_date, predicted_date, is_transition):\n",
        "    if is_transition == 'NO':\n",
        "      if predicted_date is pd.NaT:\n",
        "        return 0\n",
        "      else:\n",
        "        return 36\n",
        "    else:\n",
        "      if predicted_date is pd.NaT:\n",
        "        return 36\n",
        "      else:\n",
        "        return (abs((transition_date).year - (predicted_date).year)*12 + \\\n",
        "                  ((transition_date).month - (predicted_date).month))\n",
        "        \n",
        "  test_df_compute['absolute_error'] = test_df_compute.apply(lambda test_df_compute: compute_error(test_df_compute.transition_date, test_df_compute.predicted_date, test_df_compute.is_transition), axis=1)    \n",
        "  print('mean absolute error in month: ',test_df_compute.absolute_error.mean())\n",
        "  print('mean absolute error in month adjusted by predicted duration: ',test_df_compute.absolute_error.mean()/36)    \n",
        "  return test_df_compute"
      ],
      "metadata": {
        "id": "5xD3z0tCw7PR"
      },
      "execution_count": null,
      "outputs": []
    },
    {
      "cell_type": "code",
      "source": [
        "import numpy as np\n",
        "from sklearn.metrics import confusion_matrix, ConfusionMatrixDisplay\n",
        "\n",
        "def evaluate_validation(predicted_date):\n",
        "  ''' \n",
        "  input: predicted_date is the dataframe with cluster_id and predicted_date for validiation cluters\n",
        "  output: \n",
        "          plot Confusion Matrix for transition point classification\n",
        "          print MAE for clusters with correct predictions\n",
        "          return error df \n",
        "  '''\n",
        "  val_df_transition = val_df[(val_df['stage_name']=='Maturity')].sort_values('date').groupby('cluster_id').head(1)[['cluster_id','date']]\n",
        "  val_df_transition = val_df_transition.rename(columns={'date': 'transition_date'})\n",
        "  val_df_compute = pd.merge(predicted_date, val_df_transition,on='cluster_id',how='left')\n",
        "\n",
        "  def compute_error_with_transition(transition_date, predicted_date):\n",
        "    if (transition_date is not pd.NaT) &  (predicted_date is not pd.NaT):\n",
        "      return (abs((transition_date).year - (predicted_date).year)*12 + \\\n",
        "                  ((transition_date).month - (predicted_date).month))\n",
        "    else:\n",
        "      return pd.NaT\n",
        "\n",
        "  def classification(date): \n",
        "     ''' \n",
        "    input: date is our predicted date and real date\n",
        "    output: return '1' if there is a date, return '0' if the date is null\n",
        "     '''\n",
        "     if(date is pd.NaT):\n",
        "       return '0'\n",
        "     else:\n",
        "       return '1'\n",
        "\n",
        "\n",
        "  val_df_compute['absolute_error'] = val_df_compute.apply(lambda val_df_compute: compute_error_with_transition(val_df_compute.transition_date, val_df_compute.predicted_date), axis=1)    \n",
        "  val_df_compute['predicted_date_class'] = val_df_compute.apply(lambda val_df_compute: classification(val_df_compute.predicted_date), axis=1)    \n",
        "  val_df_compute['actual_date_class'] = val_df_compute.apply(lambda val_df_compute: classification(val_df_compute.transition_date), axis=1)  \n",
        "  labels = ['without tp','with gtm tp']\n",
        "  cm = confusion_matrix(val_df_compute['actual_date_class'], val_df_compute['predicted_date_class'] )\n",
        "  cmd = ConfusionMatrixDisplay(cm, display_labels=labels)\n",
        "  cmd.plot()\n",
        "\n",
        "  correct_transition = len(val_df_compute[val_df_compute['absolute_error'] == 0])\n",
        "  TP = cm[0,0]\n",
        "  FP = cm[0,1]\n",
        "  TN = cm[1,0]\n",
        "  FN = cm[1,1]\n",
        "  #accuracy = (TP+ correct_transition)/ np.sum(cm).astype('float')\n",
        "  accuracy = (TP+ FN)/ np.sum(cm).astype('float')\n",
        "\n",
        "  print('accuracy (TP vs. noTP):' ,accuracy)\n",
        "  print('mean absolute error in month for drugs with actual and predicted transition point: ',val_df_compute.absolute_error.mean())\n",
        "  print('among {} clusters with actual and predicted transition point, {} are predicted correctly'.format(cm[1][1],correct_transition))\n",
        "  print('Percentage of correct dates: {}'.format(correct_transition/cm[1][1]))\n",
        "  \n",
        "\n",
        "  return val_df_compute\n",
        "\n",
        "\n",
        "def evaluate_test(predicted_date, true_tp):\n",
        "  ''' \n",
        "  input: predicted_date is the dataframe with cluster_id and predicted_date for test cluters\n",
        "  output: \n",
        "          plot Confusion Matrix for transition point classification\n",
        "          print MAE for clusters with correct predictions\n",
        "          return error df \n",
        "  '''\n",
        "  test_df_transition = true_tp\n",
        "  val_df_compute = pd.merge(predicted_date, test_df_transition,on='cluster_id',how='left')\n",
        "\n",
        "  def compute_error_with_transition(transition_date, predicted_date, is_transition):\n",
        "    if (is_transition == 'YES') &  (predicted_date is not pd.NaT):\n",
        "      return (abs((transition_date).year - (predicted_date).year)*12 + \\\n",
        "                  ((transition_date).month - (predicted_date).month))\n",
        "    else:\n",
        "      return pd.NaT\n",
        "\n",
        "  def classification(date): \n",
        "     ''' \n",
        "    input: date is our predicted date and real date\n",
        "    output: return '1' if there is a date, return '0' if the date is null\n",
        "     '''\n",
        "     if(date is pd.NaT):\n",
        "       return '0'\n",
        "     else:\n",
        "       return '1'\n",
        "\n",
        "  def classification_1(is_transition): \n",
        "     ''' \n",
        "    input: date is our predicted date and real date\n",
        "    output: return '1' if there is a date, return '0' if the date is null\n",
        "     '''\n",
        "     if(is_transition == 'NO'):\n",
        "       return '0'\n",
        "     else:\n",
        "       return '1'\n",
        "\n",
        "  val_df_compute['absolute_error'] = val_df_compute.apply(lambda val_df_compute: compute_error_with_transition(val_df_compute.transition_date, val_df_compute.predicted_date, val_df_compute.is_transition), axis=1)    \n",
        "  val_df_compute['predicted_date_class'] = val_df_compute.apply(lambda val_df_compute: classification(val_df_compute.predicted_date), axis=1)    \n",
        "  val_df_compute['actual_date_class'] = val_df_compute.apply(lambda val_df_compute: classification_1(val_df_compute.is_transition), axis=1)  \n",
        "  labels = ['without tp','with gtm tp']\n",
        "  cm = confusion_matrix(val_df_compute['actual_date_class'], val_df_compute['predicted_date_class'] )\n",
        "  cmd = ConfusionMatrixDisplay(cm, display_labels=labels)\n",
        "  cmd.plot()\n",
        "\n",
        "  correct_transition = len(val_df_compute[val_df_compute['absolute_error'] == 0])\n",
        "  TP = cm[0,0]\n",
        "  FP = cm[0,1]\n",
        "  TN = cm[1,0]\n",
        "  FN = cm[1,1]\n",
        "  #accuracy = (TP+ correct_transition)/ np.sum(cm).astype('float')\n",
        "  accuracy = (TP+ FN)/ np.sum(cm).astype('float')\n",
        "\n",
        "  print('accuracy (TP vs. noTP):' ,accuracy)\n",
        "  print('mean absolute error in month for drugs with actual and predicted transition point: ',val_df_compute.absolute_error.mean())\n",
        "  print('among {} clusters with actual and predicted transition point, {} are predicted correctly'.format(cm[1][1],correct_transition))\n",
        "  print('Percentage of correct dates: {}'.format(correct_transition/cm[1][1]))\n",
        "  \n",
        "\n",
        "  return val_df_compute"
      ],
      "metadata": {
        "id": "fCCV7A0r8nUw"
      },
      "execution_count": null,
      "outputs": []
    },
    {
      "cell_type": "markdown",
      "source": [
        "### DNN Helper Function"
      ],
      "metadata": {
        "id": "yW1jbbWhx7wI"
      }
    },
    {
      "cell_type": "code",
      "source": [
        "#@title\n",
        "import tensorflow as tf\n",
        "from tensorflow.keras.layers import Dense, Flatten, Dropout\n",
        "from tensorflow.keras import Model\n",
        "import matplotlib.pyplot as plt\n",
        "import numpy as np\n",
        "\n",
        "def convert_to_int(df):\n",
        "  df=df.copy()\n",
        "  # object to int\n",
        "  #### df['business_unit'].replace(['TWO','ONE'], [2,1], inplace=True)\n",
        "  cat_columns = df.select_dtypes(['category']).columns\n",
        "  df[cat_columns] = df[cat_columns].astype('object')\n",
        "  cat_columns = df.select_dtypes(['object']).columns\n",
        "  df[cat_columns] = df[cat_columns].apply(lambda x: pd.factorize(x, sort=True)[0])\n",
        "\n",
        "  # Timedelta to int\n",
        "  #df['first_comp_month'] = df.first_comp_month.dt.days\n",
        "  #df['last_stage_days'] = df.last_stage_days.dt.days\n",
        "  # date, gx_entry_date, launch_date drop for now\n",
        "  drop = {\"date\",\"gx_entry_date\",\"launch_date\"}.intersection(df.columns)\n",
        "  df = df.drop(drop,axis=1)\n",
        "  # boolean to int\n",
        "  if \"is_exclusive\" in df.columns:\n",
        "    df['is_exclusive'] = df.is_exclusive.astype(int)\n",
        "\n",
        "  # impute value for nan\n",
        "  if 'time_since_no_exclusivity' in df.columns:\n",
        "    df.time_since_no_exclusivity = df.time_since_no_exclusivity.fillna(-120)\n",
        "  if 'population' in df.columns:\n",
        "    df.population = df.population.fillna(df['population'].mean())\n",
        "  if 'regulatory_designations_hasany'  in df.columns:\n",
        "    df.regulatory_designations_hasany = df.regulatory_designations_hasany.fillna(df['regulatory_designations_hasany'].mean())\n",
        "  if 'prevalence' in df.columns:\n",
        "    df.prevalence = df.prevalence.fillna(df['prevalence'].mean())\n",
        "\n",
        "  return df\n",
        "  \n",
        "def plot(history):\n",
        "  \n",
        "  # The history object contains results on the training and test\n",
        "  # sets for each epoch\n",
        "  acc = history.history['accuracy']\n",
        "  val_acc = history.history['val_accuracy']\n",
        "  loss = history.history['loss']\n",
        "  val_loss = history.history['val_loss']\n",
        "\n",
        "  # Get the number of epochs\n",
        "  epochs = range(len(acc))\n",
        "\n",
        "  plt.title('Training and validation accuracy')\n",
        "  plt.plot(epochs, acc, color='blue', label='Train')\n",
        "  plt.plot(epochs, val_acc, color='orange', label='Val')\n",
        "  plt.xlabel('Epoch')\n",
        "  plt.ylabel('Accuracy')\n",
        "  plt.legend()\n",
        "\n",
        "  _ = plt.figure()\n",
        "  plt.title('Training and validation loss')\n",
        "  plt.plot(epochs, loss, color='blue', label='Train')\n",
        "  plt.plot(epochs, val_loss, color='orange', label='Val')\n",
        "  plt.xlabel('Epoch')\n",
        "  plt.ylabel('Loss')\n",
        "  plt.legend()\n",
        "\n",
        "def data_balance(df):\n",
        "  cnt = df.stage_name.value_counts()\n",
        "  if cnt[0] == cnt[1]:\n",
        "    return df\n",
        "  elif cnt[0] > cnt[1]:\n",
        "    low = cnt[1]\n",
        "    high = cnt[0]\n",
        "    label = cnt.index[1]\n",
        "  else:\n",
        "    low = cnt[0]\n",
        "    high = cnt[1]\n",
        "    label = cnt.index[0]\n",
        "  diff = high - low\n",
        "  pool = df.index[df.stage_name == label]\n",
        "\n",
        "  adding = []\n",
        "  for i in range(diff):\n",
        "    x = random.randint(0, low - 1)\n",
        "    adding.append(pool[x])\n",
        "  df_add = df.loc[adding]\n",
        "  return pd.concat([df, df_add], axis = 0, ignore_index=True)\n",
        "\n",
        "# Prepare data\n",
        "def cat_to_obj(final_df):\n",
        "  cat_columns = final_df.select_dtypes(['category']).columns\n",
        "  final_df[cat_columns] = final_df[cat_columns].astype('object')\n",
        "  return final_df\n",
        "\n",
        "# input\n",
        "def input_hang(final_df, train_balance = False, val_balance = False, pure_growth_perc=0, col_drop = [\"transition_point\",\"stage_name_lag_1\",\"stage_id_cumsum\",\"volume\",\"start_date\"]):\n",
        "  # get train and test\n",
        "  temp = final_df.reset_index().rename(columns = {\"index\":\"index_x\"})\n",
        "  train_df, val_df, test_df = train_val_split(cat_to_obj(temp), pure_growth_perc)\n",
        "  # balance data\n",
        "  if train_balance:\n",
        "    train_df = data_balance(train_df)\n",
        "  if val_balance:\n",
        "    val_df = data_balance(val_df)\n",
        "  test_index = val_df[['index_x','cluster_id','date']]\n",
        "  # drop\n",
        "  \n",
        "  training_set = train_df.drop(col_drop,axis=1)\n",
        "  val_set = val_df.drop(col_drop,axis=1)\n",
        "  # convert data type, impute NA with mean\n",
        "  training = convert_to_int(training_set)\n",
        "  val = convert_to_int(val_set)\n",
        "\n",
        "  test_df_set = train_df.drop(col_drop,axis=1)\n",
        "  test = convert_to_int(test_df_set)\n",
        "  # shuffle\n",
        "  #training = training.sample(frac =1).reset_index()\n",
        "  # split x and y\n",
        "  (x_train, y_train) = (training.drop(['stage_name'], axis = 1), training.stage_name)\n",
        "  (x_test, y_test) = (val.drop(['stage_name'], axis = 1), val.stage_name)\n",
        "  (x_val, y_val) = (test.drop(['stage_name'], axis = 1), test.stage_name)\n",
        "  return training_set, val_set, x_train, y_train, x_test, y_test, test_df_set, x_val, y_val, val_df, test_df\n",
        "\n",
        "# prediction\n",
        "def prediction_hang(predictions, y_test, val_df):\n",
        "  pred = np.argmax(predictions, axis = 1)\n",
        "  index = y_test.index\n",
        "  output = list(zip(pred, y_test))\n",
        "  df = pd.DataFrame(output, columns=['predicitions', 'actual'], index=y_test.index)\n",
        "  df[\"correct\"] = df.apply(lambda row: row[0] == row[1], axis =1)\n",
        "  correct = df[df.correct == True]\n",
        "  incorrect = df[df.correct == False].iloc[0,:]\n",
        "  # join cluster and dates\n",
        "  output = pd.concat([val_df.loc[:,['cluster_id', 'date']], df], axis = 1)\n",
        "  output['cumsum'] = output.groupby(['cluster_id']).predicitions.cumsum()\n",
        "  output_right = output.loc[(output['cumsum'] == 1) & (output['predicitions']==1), ['cluster_id','date'] ]\n",
        "  output_left = output.groupby(['cluster_id']).agg(count = ('cluster_id','count')).reset_index()\n",
        "  output = output_left.merge(output_right, left_on = 'cluster_id', right_on = 'cluster_id', how = 'left').drop(['count'],axis=1).rename(columns = {'date':'predicted_date'})\n",
        "  return output\n",
        "\n",
        "# prediciton_v2\n",
        "def prediction_hang_v2(predictions, y_test, val_df):\n",
        "  pred = np.argmax(predictions, axis = 1)\n",
        "  index = y_test.index\n",
        "  output = list(zip(pred, y_test))\n",
        "  df = pd.DataFrame(output, columns=['predicitions', 'actual'], index=y_test.index)\n",
        "  df[\"correct\"] = df.apply(lambda row: row[0] == row[1], axis =1)\n",
        "  correct = df[df.correct == True]\n",
        "  incorrect = df[df.correct == False].iloc[0,:]\n",
        "  # join cluster and dates\n",
        "  output = pd.concat([val_df.loc[:,['cluster_id', 'date']], df], axis = 1)\n",
        "  output['cumsum'] = output.groupby(['cluster_id']).predicitions.cumsum()\n",
        "  output_right = output.loc[(output['cumsum'] == 1) & (output['predicitions']==1), ['cluster_id','date'] ]\n",
        "  output_left = output.groupby(['cluster_id']).agg(count = ('cluster_id','count')).reset_index()\n",
        "  output = output_left.merge(output_right, left_on = 'cluster_id', right_on = 'cluster_id', how = 'left').drop(['count'],axis=1).rename(columns = {'date':'predicted_date'})\n",
        "  return output"
      ],
      "metadata": {
        "id": "XHC6yuZ-zyI_"
      },
      "execution_count": null,
      "outputs": []
    },
    {
      "cell_type": "code",
      "source": [
        "def model_avg(training_set, val_set, x_train, y_train, x_test, y_test, val_df, seeds, model, n = 5, epochs = 5, batch_size = 32):\n",
        "  if seeds:\n",
        "    seeds = []\n",
        "    for i in range(n):\n",
        "      seeds.append(random.randint(0,100))\n",
        "\n",
        "  err = []\n",
        "  for i in seeds:\n",
        "    tf.keras.utils.set_random_seed(i)\n",
        "    history_test = mode_test.fit(x_train, y_train, epochs=epochs, batch_size=batch_size, verbose = 0, validation_data = (x_test, y_test))\n",
        "    predictions_test = mode_test.predict(x_test)\n",
        "    err_test = compute_error_validation(prediction_hang(predictions_test, y_test, val_df))\n",
        "    err.append(err_test.absolute_error.mean())\n",
        "  return err"
      ],
      "metadata": {
        "id": "q9ZzYM0Mff60"
      },
      "execution_count": null,
      "outputs": []
    },
    {
      "cell_type": "code",
      "source": [
        "def model_avg(training_set, val_set, x_train, y_train, x_test, y_test, val_df, seeds, model, n = 5, epochs = 5, batch_size = 32):\n",
        "  if seeds:\n",
        "    seeds = []\n",
        "    for i in range(n):\n",
        "      seeds.append(random.randint(0,100))\n",
        "\n",
        "  err = []\n",
        "  for i in seeds:\n",
        "    tf.keras.utils.set_random_seed(i)\n",
        "    history_test = mode_test.fit(x_train, y_train, epochs=epochs, batch_size=batch_size, verbose = 0, validation_data = (x_test, y_test))\n",
        "    predictions_test = mode_test.predict(x_test)\n",
        "    err_test = compute_error_validation(prediction_hang(predictions_test, y_test, val_df))\n",
        "    err.append(err_test.absolute_error.mean())\n",
        "  return err"
      ],
      "metadata": {
        "id": "EO16U7p7fgf8"
      },
      "execution_count": null,
      "outputs": []
    },
    {
      "cell_type": "markdown",
      "source": [
        "### Training set augment fucntion"
      ],
      "metadata": {
        "id": "xuAh9F_OG5U_"
      }
    },
    {
      "cell_type": "code",
      "source": [
        "def transition_point_augment(final_df, aug_period):\n",
        "    '''\n",
        "    adopt from Jason's feature code\n",
        "    find transition point\n",
        "    Perform data augmentation with the given period n.\n",
        "    For any point that has a label of 1, previous and next n rows will be augmented as 1.\n",
        "    '''\n",
        "    ## increase transition point\n",
        "    # 1. find tp\n",
        "    final_df['transition_point'] = final_df.groupby(['cluster_id','stage_name','stage_name_lag_1'])['date'].rank(method='first')\n",
        "    transition = pd.DataFrame(final_df[final_df.transition_point == 1]['transition_point'])\n",
        "    final_df['transition_point'] = transition\n",
        "    final_df['transition_point'] = final_df['transition_point'].replace(np.nan, 0)\n",
        "    final_df['transition_point'] = final_df.apply(lambda x: 0 if x.stage_name != 'Maturity' else x.transition_point,axis=1)\n",
        "\n",
        "    # 2. Perform data augmentation with the given period n\n",
        "    l = len(final_df)\n",
        "    copy = final_df.copy()\n",
        "\n",
        "    for i in range(l):\n",
        "        current_row = copy.loc[i,:]\n",
        "     \n",
        "        try:\n",
        "          if current_row.transition_point == 1:\n",
        "                for j in range(1,aug_period+1):\n",
        "                    prev_row = copy.loc[i-j,:]           \n",
        "                    next_row = copy.loc[i+j,:]\n",
        "\n",
        "                    if next_row.cluster_id == current_row.cluster_id:                \n",
        "                        final_df.at[i+j,'transition_point'] = 1\n",
        "\n",
        "                    if prev_row.cluster_id == current_row.cluster_id:\n",
        "                        final_df.at[i-j,'transition_point'] = 1                   \n",
        "        except:\n",
        "            continue\n",
        "\n",
        "    return final_df\n",
        "    \n",
        "#final_df = transition_point_augment(final_df, 6)\n",
        "#final_df[(final_df['cluster_id']=='ID_18') & (final_df['transition_point']==1)][['transition_point','date']]"
      ],
      "metadata": {
        "id": "-KwRuBctHGFN"
      },
      "execution_count": null,
      "outputs": []
    },
    {
      "cell_type": "code",
      "source": [
        "def downsample_0(train_df, perc):\n",
        "  '''\n",
        "    downsample number of 0 in the train_df\n",
        "    perc: percentage of 0 labels in the train_set\n",
        "  '''\n",
        "\n",
        "  # 1. find row indexs of 0 \n",
        "  train_df = train_df.reset_index(drop=True)\n",
        "  noTP_index = train_df.index[train_df['transition_point'] == 0].tolist()\n",
        "  TP_index = train_df.index[train_df['transition_point'] == 1].tolist()\n",
        "  # 2. random sample row index\n",
        "  random.seed(0)\n",
        "  new_noTP_index = random.sample(set(noTP_index),int(len(noTP_index)*perc))\n",
        "  # 3. delete selected rows\n",
        "  new_train_df_index = new_noTP_index + TP_index\n",
        "\n",
        "  new_train_df = train_df.loc[new_train_df_index]\n",
        "  print(f'Original number of 0s: {len(noTP_index)} after downsampling: {int(len(noTP_index)*perc)}')\n",
        "  return new_train_df"
      ],
      "metadata": {
        "id": "ma2X-YxlTlph"
      },
      "execution_count": null,
      "outputs": []
    },
    {
      "cell_type": "markdown",
      "source": [
        "### Transition point selection function"
      ],
      "metadata": {
        "id": "HYCXuZCoyIll"
      }
    },
    {
      "cell_type": "code",
      "source": [
        "def custom_prediction(validation_set,prediction,method=\"first\",truncate=5):\n",
        "    '''\n",
        "    The goal of this function is to convert the prediction list into the format that can then be feed into the error function.\n",
        "    The function also serves to control how we pick the transition point:\n",
        "    \n",
        "    By default, we pick the first predicted point as the transition point (method = \"first\")\n",
        "    We can choose the last predicted point as the transition point (method = \"last\")\n",
        "    We can choose the average as the transition point (method = \"average\")\n",
        "    We can also set a threshold to determine whether we are confident that there is a transition\n",
        "    '''\n",
        "\n",
        "    val = validation_set.copy()\n",
        "    val[\"predicted_date\"] = prediction\n",
        "\n",
        "    val_pred = val[[\"cluster_id\",\"predicted_date\",\"date\"]]\n",
        "    #Get only points predicted as 1\n",
        "    val_pred = val_pred[val_pred.predicted_date == 1]\n",
        "\n",
        "    #Truncate our prediction given threshold\n",
        "    if truncate != 0:\n",
        "        val_truncate = val_pred.groupby(\"cluster_id\")[\"date\"].count()\n",
        "        val_truncate = val_truncate[val_truncate >= truncate ]\n",
        "        truncate_indx = list(val_truncate.index)\n",
        "\n",
        "        val_pred = val_pred[val_pred.cluster_id.isin(truncate_indx)]\n",
        "\n",
        "    if method == \"first\":\n",
        "        val_pred = pd.DataFrame(val_pred.groupby(\"cluster_id\")['date'].min()).reset_index().rename({\"date\":\"predicted_date\"},axis=1)     \n",
        "        val_final = pd.DataFrame({\"cluster_id\":val.cluster_id.unique()})\n",
        "        val_final = val_final.merge(val_pred,how=\"left\")\n",
        "    elif method == \"last\":\n",
        "        val_pred = pd.DataFrame(val_pred.groupby(\"cluster_id\")['date'].max()).reset_index().rename({\"date\":\"predicted_date\"},axis=1)     \n",
        "        val_final = pd.DataFrame({\"cluster_id\":val.cluster_id.unique()})\n",
        "        val_final = val_final.merge(val_pred,how=\"left\")\n",
        "    elif method == \"average\":\n",
        "        #Take average of the predicted dates\n",
        "        val_pred = pd.DataFrame(val_pred.groupby(\"cluster_id\")['date'].mean()).reset_index().rename({\"date\":\"predicted_date\"},axis=1)\n",
        "        val_pred.predicted_date = val_pred.predicted_date.apply(lambda x: x.strftime(\"%Y-%m-01\"))\n",
        "        val_pred.predicted_date = pd.to_datetime(val_pred.predicted_date)\n",
        "        val_final = pd.DataFrame({\"cluster_id\":val.cluster_id.unique()})\n",
        "        val_final = val_final.merge(val_pred,how=\"left\")\n",
        "\n",
        "    return val_final"
      ],
      "metadata": {
        "id": "Q6qmCAGGyTlJ"
      },
      "execution_count": null,
      "outputs": []
    },
    {
      "cell_type": "markdown",
      "source": [
        "## **Modeling for train-val sets splitted by time**"
      ],
      "metadata": {
        "id": "W9Z_qdiFgt50"
      }
    },
    {
      "cell_type": "code",
      "source": [
        "train_df, val_df, test_df = train_val_split(final_df_v2, pure_growth_perc=0, balanced_val=True)\n",
        "print(len(train_df.cluster_id.unique()))\n",
        "print(len(val_df.cluster_id.unique()))\n",
        "print(len(test_df.cluster_id.unique()))\n",
        "#print(test_df.cluster_id.unique())\n",
        "#print(list(set(test_df.cluster_id.unique())-set(true_tp.cluster_id.unique())))"
      ],
      "metadata": {
        "colab": {
          "base_uri": "https://localhost:8080/"
        },
        "id": "R-Syxwsn03Wt",
        "outputId": "2e4f2480-beaf-45a2-c4a6-6395195dd4d5"
      },
      "execution_count": null,
      "outputs": [
        {
          "output_type": "stream",
          "name": "stdout",
          "text": [
            "293\n",
            "316\n",
            "298\n"
          ]
        }
      ]
    },
    {
      "cell_type": "markdown",
      "source": [
        "### *Average Baseline*"
      ],
      "metadata": {
        "id": "d5WCwV8qwKAE"
      }
    },
    {
      "cell_type": "code",
      "source": [
        "train_df_growth = train_df[train_df['stage_name']==\"Growth\"]\n",
        "compute_df = train_df_growth.sort_values('date').groupby(\"cluster_id\").tail(1)[['date','launch_date','ther_area_fact']]\n",
        "compute_df['length'] = (pd.DatetimeIndex(compute_df['date']).year - pd.DatetimeIndex(compute_df['launch_date']).year)*12 + (pd.DatetimeIndex(compute_df['date']).month - pd.DatetimeIndex(compute_df['launch_date']).month)\n",
        "means = compute_df.groupby('ther_area_fact').mean()\n",
        "#print(means)\n",
        "avg = compute_df[['length']].mean()[0]\n",
        "print('The average length of growth before maturity: {}'.format(avg))\n",
        "\n",
        "val_df_compute = val_df.copy().groupby('cluster_id').head(1).reset_index()\n",
        "val_df_compute['predicted_date'] = (val_df_compute['launch_date'] + pd.DateOffset(months=int(avg)))\n",
        "\n",
        "predicted_date = val_df_compute[['cluster_id','predicted_date']]\n",
        "def clean_predicted_date(date):\n",
        "  if date>pd.Timestamp(2019, 3, 1) or date<=pd.Timestamp(2016, 3, 1):\n",
        "    return pd.NaT\n",
        "  else:\n",
        "    return date\n",
        "predicted_date['predicted_date'] = predicted_date['predicted_date'].apply(lambda x: clean_predicted_date(x))  "
      ],
      "metadata": {
        "colab": {
          "base_uri": "https://localhost:8080/"
        },
        "id": "WLclA-9tw1yS",
        "outputId": "d7f4bbda-9335-4e2d-9914-6c8df5c04d0f"
      },
      "execution_count": null,
      "outputs": [
        {
          "output_type": "stream",
          "name": "stdout",
          "text": [
            "The average length of growth before maturity: 78.56313993174061\n"
          ]
        },
        {
          "output_type": "stream",
          "name": "stderr",
          "text": [
            "<ipython-input-18-fc393d1986f5>:18: SettingWithCopyWarning: \n",
            "A value is trying to be set on a copy of a slice from a DataFrame.\n",
            "Try using .loc[row_indexer,col_indexer] = value instead\n",
            "\n",
            "See the caveats in the documentation: https://pandas.pydata.org/pandas-docs/stable/user_guide/indexing.html#returning-a-view-versus-a-copy\n",
            "  predicted_date['predicted_date'] = predicted_date['predicted_date'].apply(lambda x: clean_predicted_date(x))\n"
          ]
        }
      ]
    },
    {
      "cell_type": "code",
      "source": [
        "compute_error_validation_baseline(predicted_date)"
      ],
      "metadata": {
        "colab": {
          "base_uri": "https://localhost:8080/",
          "height": 460
        },
        "id": "OCOILCZFoIL9",
        "outputId": "f1d0fb11-196c-4423-cd16-9e2bfffbca14"
      },
      "execution_count": null,
      "outputs": [
        {
          "output_type": "stream",
          "name": "stdout",
          "text": [
            "mean absolute error in month:  17.43354430379747\n",
            "mean absolute error in month adjusted by predicted duration:  0.4842651195499297\n"
          ]
        },
        {
          "output_type": "execute_result",
          "data": {
            "text/plain": [
              "    cluster_id predicted_date transition_date  absolute_error\n",
              "0        ID_32            NaT      2017-01-01              36\n",
              "1        ID_33            NaT      2018-05-01              36\n",
              "2        ID_36            NaT             NaT               0\n",
              "3        ID_41            NaT             NaT               0\n",
              "4        ID_45            NaT      2018-05-01              36\n",
              "..         ...            ...             ...             ...\n",
              "311    ID_3194            NaT      2018-05-01              36\n",
              "312    ID_3196            NaT             NaT               0\n",
              "313    ID_3202            NaT             NaT               0\n",
              "314    ID_3218            NaT             NaT               0\n",
              "315    ID_3221            NaT      2018-05-01              36\n",
              "\n",
              "[316 rows x 4 columns]"
            ],
            "text/html": [
              "\n",
              "  <div id=\"df-cf5ca2bd-a678-4af3-9310-8cd1f583c872\">\n",
              "    <div class=\"colab-df-container\">\n",
              "      <div>\n",
              "<style scoped>\n",
              "    .dataframe tbody tr th:only-of-type {\n",
              "        vertical-align: middle;\n",
              "    }\n",
              "\n",
              "    .dataframe tbody tr th {\n",
              "        vertical-align: top;\n",
              "    }\n",
              "\n",
              "    .dataframe thead th {\n",
              "        text-align: right;\n",
              "    }\n",
              "</style>\n",
              "<table border=\"1\" class=\"dataframe\">\n",
              "  <thead>\n",
              "    <tr style=\"text-align: right;\">\n",
              "      <th></th>\n",
              "      <th>cluster_id</th>\n",
              "      <th>predicted_date</th>\n",
              "      <th>transition_date</th>\n",
              "      <th>absolute_error</th>\n",
              "    </tr>\n",
              "  </thead>\n",
              "  <tbody>\n",
              "    <tr>\n",
              "      <th>0</th>\n",
              "      <td>ID_32</td>\n",
              "      <td>NaT</td>\n",
              "      <td>2017-01-01</td>\n",
              "      <td>36</td>\n",
              "    </tr>\n",
              "    <tr>\n",
              "      <th>1</th>\n",
              "      <td>ID_33</td>\n",
              "      <td>NaT</td>\n",
              "      <td>2018-05-01</td>\n",
              "      <td>36</td>\n",
              "    </tr>\n",
              "    <tr>\n",
              "      <th>2</th>\n",
              "      <td>ID_36</td>\n",
              "      <td>NaT</td>\n",
              "      <td>NaT</td>\n",
              "      <td>0</td>\n",
              "    </tr>\n",
              "    <tr>\n",
              "      <th>3</th>\n",
              "      <td>ID_41</td>\n",
              "      <td>NaT</td>\n",
              "      <td>NaT</td>\n",
              "      <td>0</td>\n",
              "    </tr>\n",
              "    <tr>\n",
              "      <th>4</th>\n",
              "      <td>ID_45</td>\n",
              "      <td>NaT</td>\n",
              "      <td>2018-05-01</td>\n",
              "      <td>36</td>\n",
              "    </tr>\n",
              "    <tr>\n",
              "      <th>...</th>\n",
              "      <td>...</td>\n",
              "      <td>...</td>\n",
              "      <td>...</td>\n",
              "      <td>...</td>\n",
              "    </tr>\n",
              "    <tr>\n",
              "      <th>311</th>\n",
              "      <td>ID_3194</td>\n",
              "      <td>NaT</td>\n",
              "      <td>2018-05-01</td>\n",
              "      <td>36</td>\n",
              "    </tr>\n",
              "    <tr>\n",
              "      <th>312</th>\n",
              "      <td>ID_3196</td>\n",
              "      <td>NaT</td>\n",
              "      <td>NaT</td>\n",
              "      <td>0</td>\n",
              "    </tr>\n",
              "    <tr>\n",
              "      <th>313</th>\n",
              "      <td>ID_3202</td>\n",
              "      <td>NaT</td>\n",
              "      <td>NaT</td>\n",
              "      <td>0</td>\n",
              "    </tr>\n",
              "    <tr>\n",
              "      <th>314</th>\n",
              "      <td>ID_3218</td>\n",
              "      <td>NaT</td>\n",
              "      <td>NaT</td>\n",
              "      <td>0</td>\n",
              "    </tr>\n",
              "    <tr>\n",
              "      <th>315</th>\n",
              "      <td>ID_3221</td>\n",
              "      <td>NaT</td>\n",
              "      <td>2018-05-01</td>\n",
              "      <td>36</td>\n",
              "    </tr>\n",
              "  </tbody>\n",
              "</table>\n",
              "<p>316 rows × 4 columns</p>\n",
              "</div>\n",
              "      <button class=\"colab-df-convert\" onclick=\"convertToInteractive('df-cf5ca2bd-a678-4af3-9310-8cd1f583c872')\"\n",
              "              title=\"Convert this dataframe to an interactive table.\"\n",
              "              style=\"display:none;\">\n",
              "        \n",
              "  <svg xmlns=\"http://www.w3.org/2000/svg\" height=\"24px\"viewBox=\"0 0 24 24\"\n",
              "       width=\"24px\">\n",
              "    <path d=\"M0 0h24v24H0V0z\" fill=\"none\"/>\n",
              "    <path d=\"M18.56 5.44l.94 2.06.94-2.06 2.06-.94-2.06-.94-.94-2.06-.94 2.06-2.06.94zm-11 1L8.5 8.5l.94-2.06 2.06-.94-2.06-.94L8.5 2.5l-.94 2.06-2.06.94zm10 10l.94 2.06.94-2.06 2.06-.94-2.06-.94-.94-2.06-.94 2.06-2.06.94z\"/><path d=\"M17.41 7.96l-1.37-1.37c-.4-.4-.92-.59-1.43-.59-.52 0-1.04.2-1.43.59L10.3 9.45l-7.72 7.72c-.78.78-.78 2.05 0 2.83L4 21.41c.39.39.9.59 1.41.59.51 0 1.02-.2 1.41-.59l7.78-7.78 2.81-2.81c.8-.78.8-2.07 0-2.86zM5.41 20L4 18.59l7.72-7.72 1.47 1.35L5.41 20z\"/>\n",
              "  </svg>\n",
              "      </button>\n",
              "      \n",
              "  <style>\n",
              "    .colab-df-container {\n",
              "      display:flex;\n",
              "      flex-wrap:wrap;\n",
              "      gap: 12px;\n",
              "    }\n",
              "\n",
              "    .colab-df-convert {\n",
              "      background-color: #E8F0FE;\n",
              "      border: none;\n",
              "      border-radius: 50%;\n",
              "      cursor: pointer;\n",
              "      display: none;\n",
              "      fill: #1967D2;\n",
              "      height: 32px;\n",
              "      padding: 0 0 0 0;\n",
              "      width: 32px;\n",
              "    }\n",
              "\n",
              "    .colab-df-convert:hover {\n",
              "      background-color: #E2EBFA;\n",
              "      box-shadow: 0px 1px 2px rgba(60, 64, 67, 0.3), 0px 1px 3px 1px rgba(60, 64, 67, 0.15);\n",
              "      fill: #174EA6;\n",
              "    }\n",
              "\n",
              "    [theme=dark] .colab-df-convert {\n",
              "      background-color: #3B4455;\n",
              "      fill: #D2E3FC;\n",
              "    }\n",
              "\n",
              "    [theme=dark] .colab-df-convert:hover {\n",
              "      background-color: #434B5C;\n",
              "      box-shadow: 0px 1px 3px 1px rgba(0, 0, 0, 0.15);\n",
              "      filter: drop-shadow(0px 1px 2px rgba(0, 0, 0, 0.3));\n",
              "      fill: #FFFFFF;\n",
              "    }\n",
              "  </style>\n",
              "\n",
              "      <script>\n",
              "        const buttonEl =\n",
              "          document.querySelector('#df-cf5ca2bd-a678-4af3-9310-8cd1f583c872 button.colab-df-convert');\n",
              "        buttonEl.style.display =\n",
              "          google.colab.kernel.accessAllowed ? 'block' : 'none';\n",
              "\n",
              "        async function convertToInteractive(key) {\n",
              "          const element = document.querySelector('#df-cf5ca2bd-a678-4af3-9310-8cd1f583c872');\n",
              "          const dataTable =\n",
              "            await google.colab.kernel.invokeFunction('convertToInteractive',\n",
              "                                                     [key], {});\n",
              "          if (!dataTable) return;\n",
              "\n",
              "          const docLinkHtml = 'Like what you see? Visit the ' +\n",
              "            '<a target=\"_blank\" href=https://colab.research.google.com/notebooks/data_table.ipynb>data table notebook</a>'\n",
              "            + ' to learn more about interactive tables.';\n",
              "          element.innerHTML = '';\n",
              "          dataTable['output_type'] = 'display_data';\n",
              "          await google.colab.output.renderOutput(dataTable, element);\n",
              "          const docLink = document.createElement('div');\n",
              "          docLink.innerHTML = docLinkHtml;\n",
              "          element.appendChild(docLink);\n",
              "        }\n",
              "      </script>\n",
              "    </div>\n",
              "  </div>\n",
              "  "
            ]
          },
          "metadata": {},
          "execution_count": 19
        }
      ]
    },
    {
      "cell_type": "code",
      "source": [
        "c = evaluate_validation(predicted_date)"
      ],
      "metadata": {
        "colab": {
          "base_uri": "https://localhost:8080/",
          "height": 348
        },
        "id": "dpmcdEK89re3",
        "outputId": "a92aebdd-ff4c-4d96-a941-57ceb85d220d"
      },
      "execution_count": null,
      "outputs": [
        {
          "output_type": "stream",
          "name": "stdout",
          "text": [
            "accuracy (TP vs. noTP): 0.5632911392405063\n",
            "mean absolute error in month for drugs with actual and predicted transition point:  9.434782608695652\n",
            "among 23 clusters with actual and predicted transition point, 0 are predicted correctly\n",
            "Percentage of correct dates: 0.0\n"
          ]
        },
        {
          "output_type": "display_data",
          "data": {
            "text/plain": [
              "<Figure size 432x288 with 2 Axes>"
            ],
            "image/png": "[encoded data removed]"
          },
          "metadata": {
            "needs_background": "light"
          }
        }
      ]
    },
    {
      "cell_type": "markdown",
      "source": [
        "### *Baseline (No Transisiton Point for All)*"
      ],
      "metadata": {
        "id": "9Wyf6IqrvQd_"
      }
    },
    {
      "cell_type": "code",
      "source": [
        "predicted_date['predicted_date'] = pd.NaT\n",
        "no_trans = compute_error_validation(predicted_date)"
      ],
      "metadata": {
        "id": "Fb_5b6Vx0L6j",
        "colab": {
          "base_uri": "https://localhost:8080/"
        },
        "outputId": "d51538e4-fbcc-47ae-964d-f0765beea44e"
      },
      "execution_count": null,
      "outputs": [
        {
          "output_type": "stream",
          "name": "stdout",
          "text": [
            "mean absolute error in month:  15.49367088607595\n",
            "mean absolute error in month adjusted by predicted duration:  0.43037974683544306\n"
          ]
        },
        {
          "output_type": "stream",
          "name": "stderr",
          "text": [
            "/usr/local/lib/python3.7/dist-packages/ipykernel_launcher.py:1: SettingWithCopyWarning: \n",
            "A value is trying to be set on a copy of a slice from a DataFrame.\n",
            "Try using .loc[row_indexer,col_indexer] = value instead\n",
            "\n",
            "See the caveats in the documentation: https://pandas.pydata.org/pandas-docs/stable/user_guide/indexing.html#returning-a-view-versus-a-copy\n",
            "  \"\"\"Entry point for launching an IPython kernel.\n"
          ]
        }
      ]
    },
    {
      "cell_type": "markdown",
      "source": [
        "### *Transition Point Label Classification (0,1)*"
      ],
      "metadata": {
        "id": "HxxKDVmnpBMy"
      }
    },
    {
      "cell_type": "code",
      "source": [
        "#Drop stage and volume columns\n",
        "#Might need to convert date to three features (day,month,year)\n",
        "train_df, val_df, test_df = train_val_split(final_df, pure_growth_perc=0.15)\n",
        "train_df = downsample_0(train_df, 0.5)\n",
        "print(len(train_df[train_df['transition_point']==1]))\n",
        "print(len(train_df[train_df['transition_point']==0]))\n",
        "print(len(val_df[val_df['transition_point']==1]))\n",
        "print(len(val_df[val_df['transition_point']==0]))"
      ],
      "metadata": {
        "id": "bhAW-WZlxD0K",
        "colab": {
          "base_uri": "https://localhost:8080/"
        },
        "outputId": "cbaeda3b-e615-4801-c12e-5c9ddd874140"
      },
      "execution_count": null,
      "outputs": [
        {
          "output_type": "stream",
          "name": "stdout",
          "text": [
            "Original number of 0s: 10800 after downsampling: 5400\n",
            "2317\n",
            "5400\n",
            "1175\n",
            "9580\n"
          ]
        }
      ]
    },
    {
      "cell_type": "code",
      "source": [
        "final_df_v2['month'] = final_df_v2.date.dt.month"
      ],
      "metadata": {
        "id": "n8axvenSI0o2"
      },
      "execution_count": null,
      "outputs": []
    },
    {
      "cell_type": "code",
      "source": [
        "# train_df, val_df, test_df = train_val_split(final_df_v2)\n",
        "# training_set = train_df.drop([\"date\",\"stage_name\",\"stage_name_lag_1\",\"stage_id_cumsum\",\"volume\",\"gx_entry_date\",\"launch_date\",\"start_date\",\"last_stage_days\"],axis=1)\n",
        "# val_set = val_df.drop([\"stage_name\",\"stage_name_lag_1\",\"stage_id_cumsum\",\"volume\",\"gx_entry_date\",\"launch_date\",\"start_date\",\"last_stage_days\"],axis=1)\n",
        "\n",
        "# x_train = training_set.drop([\"transition_point\"],axis=1)\n",
        "# y_train = training_set.transition_point\n",
        "\n",
        "# x_val = val_set.drop([\"transition_point\"],axis=1)\n",
        "# y_val = val_set.transition_point"
      ],
      "metadata": {
        "id": "eeXzqQiwxq7H"
      },
      "execution_count": null,
      "outputs": []
    },
    {
      "cell_type": "code",
      "source": [
        "train_df, val_df, test_df = train_val_split(final_df_v2)\n",
        "drop1 = [\"date\",\"stage_name\",\n",
        "         #\"stage_name_lag_1\",\n",
        "         # \"stage_id_cumsum\", (not available any more)\n",
        "         \"volume\",\"gx_entry_date\",\"launch_date\",\"start_date\",\"last_stage_days\",\"growth_date\",\n",
        "         #'first_comp_month',\n",
        "         'last_ind_days',\n",
        "         'population','prevalence',\n",
        "         #'prevalence_pct', (not available any more)\n",
        "         '1','2','3','4','5','6','7','8','9','10','11','12',\n",
        "         'vol_mean_alltime', 'vol_std_alltime','vol_mean_before_2016', 'vol_std_before_2016', 'vol_mean_before_4m','vol_std_before_4m', 'vol_mean_before_1y', 'vol_std_before_1y'\n",
        "         ]\n",
        "drop2 = drop1.copy()\n",
        "drop2.remove('date')\n",
        "\n",
        "training_set = train_df.drop(drop1,axis=1)\n",
        "val_set = val_df.drop(drop2, axis=1)\n",
        "\n",
        "x_train = training_set.drop([\"transition_point\"],axis=1)\n",
        "y_train = training_set.transition_point\n",
        "\n",
        "x_val = val_set.drop([\"transition_point\"],axis=1)\n",
        "y_val = val_set.transition_point"
      ],
      "metadata": {
        "id": "5PGECaLCG7J1"
      },
      "execution_count": null,
      "outputs": []
    },
    {
      "cell_type": "code",
      "source": [
        "x_val"
      ],
      "metadata": {
        "colab": {
          "base_uri": "https://localhost:8080/",
          "height": 423
        },
        "id": "AlfUqo6JCrtD",
        "outputId": "20ab786a-e392-4c68-adab-02d5b9ab2584"
      },
      "execution_count": null,
      "outputs": [
        {
          "output_type": "execute_result",
          "data": {
            "text/plain": [
              "          country    cluster cluster_id       date stage_name_lag_1  \\\n",
              "805     country_0  brand_107      ID_32 2016-04-01         No_Stage   \n",
              "806     country_0  brand_107      ID_32 2016-05-01         No_Stage   \n",
              "807     country_0  brand_107      ID_32 2016-06-01         No_Stage   \n",
              "808     country_0  brand_107      ID_32 2016-07-01         No_Stage   \n",
              "809     country_0  brand_107      ID_32 2016-08-01         No_Stage   \n",
              "...           ...        ...        ...        ...              ...   \n",
              "80316  country_34  brand_117    ID_3221 2018-11-01           Growth   \n",
              "80317  country_34  brand_117    ID_3221 2018-12-01           Growth   \n",
              "80318  country_34  brand_117    ID_3221 2019-01-01           Growth   \n",
              "80319  country_34  brand_117    ID_3221 2019-02-01           Growth   \n",
              "80320  country_34  brand_117    ID_3221 2019-03-01           Growth   \n",
              "\n",
              "      business_unit  ther_area_fact  launch_months  time_since_no_exclusivity  \\\n",
              "805             TWO               7             18                        -78   \n",
              "806             TWO               7             19                        -77   \n",
              "807             TWO               7             20                        -76   \n",
              "808             TWO               7             21                        -75   \n",
              "809             TWO               7             22                        -74   \n",
              "...             ...             ...            ...                        ...   \n",
              "80316           TWO               7            118                        -34   \n",
              "80317           TWO               7            119                        -33   \n",
              "80318           TWO               7            120                        -32   \n",
              "80319           TWO               7            121                        -31   \n",
              "80320           TWO               7            122                        -30   \n",
              "\n",
              "       year  ...  indication_num  comp_num  first_comp_month  is_exclusive  \\\n",
              "805    2016  ...             0.0         0                -1          True   \n",
              "806    2016  ...             0.0         0                -1          True   \n",
              "807    2016  ...             0.0         0                -1          True   \n",
              "808    2016  ...             0.0         0                -1          True   \n",
              "809    2016  ...             0.0         0                -1          True   \n",
              "...     ...  ...             ...       ...               ...           ...   \n",
              "80316  2018  ...             0.0        11              7640          True   \n",
              "80317  2018  ...             0.0        11              7670          True   \n",
              "80318  2019  ...             0.0        11              7701          True   \n",
              "80319  2019  ...             0.0        11              7732          True   \n",
              "80320  2019  ...             0.0        11              7760          True   \n",
              "\n",
              "       month_since_growth         x1         x2         x3         x4  month  \n",
              "805                    16  48.382131  11.428401  18.382877 -16.361266      4  \n",
              "806                    17  48.382131  11.428401  18.382877 -16.361266      5  \n",
              "807                    18  48.382131  11.428401  18.382877 -16.361266      6  \n",
              "808                    19  48.382131  11.428401  18.382877 -16.361266      7  \n",
              "809                    20  48.382131  11.428401  18.382877 -16.361266      8  \n",
              "...                   ...        ...        ...        ...        ...    ...  \n",
              "80316                  45  70.682735  -2.739037  34.936709  -4.294609     11  \n",
              "80317                  46  70.682735  -2.739037  34.936709  -4.294609     12  \n",
              "80318                  47  70.682735  -2.739037  34.936709  -4.294609      1  \n",
              "80319                  48  70.682735  -2.739037  34.936709  -4.294609      2  \n",
              "80320                  49  70.682735  -2.739037  34.936709  -4.294609      3  \n",
              "\n",
              "[10755 rows x 21 columns]"
            ],
            "text/html": [
              "\n",
              "  <div id=\"df-deebe07e-ede5-412f-ab3a-8d9e568dfea2\">\n",
              "    <div class=\"colab-df-container\">\n",
              "      <div>\n",
              "<style scoped>\n",
              "    .dataframe tbody tr th:only-of-type {\n",
              "        vertical-align: middle;\n",
              "    }\n",
              "\n",
              "    .dataframe tbody tr th {\n",
              "        vertical-align: top;\n",
              "    }\n",
              "\n",
              "    .dataframe thead th {\n",
              "        text-align: right;\n",
              "    }\n",
              "</style>\n",
              "<table border=\"1\" class=\"dataframe\">\n",
              "  <thead>\n",
              "    <tr style=\"text-align: right;\">\n",
              "      <th></th>\n",
              "      <th>country</th>\n",
              "      <th>cluster</th>\n",
              "      <th>cluster_id</th>\n",
              "      <th>date</th>\n",
              "      <th>stage_name_lag_1</th>\n",
              "      <th>business_unit</th>\n",
              "      <th>ther_area_fact</th>\n",
              "      <th>launch_months</th>\n",
              "      <th>time_since_no_exclusivity</th>\n",
              "      <th>year</th>\n",
              "      <th>...</th>\n",
              "      <th>indication_num</th>\n",
              "      <th>comp_num</th>\n",
              "      <th>first_comp_month</th>\n",
              "      <th>is_exclusive</th>\n",
              "      <th>month_since_growth</th>\n",
              "      <th>x1</th>\n",
              "      <th>x2</th>\n",
              "      <th>x3</th>\n",
              "      <th>x4</th>\n",
              "      <th>month</th>\n",
              "    </tr>\n",
              "  </thead>\n",
              "  <tbody>\n",
              "    <tr>\n",
              "      <th>805</th>\n",
              "      <td>country_0</td>\n",
              "      <td>brand_107</td>\n",
              "      <td>ID_32</td>\n",
              "      <td>2016-04-01</td>\n",
              "      <td>No_Stage</td>\n",
              "      <td>TWO</td>\n",
              "      <td>7</td>\n",
              "      <td>18</td>\n",
              "      <td>-78</td>\n",
              "      <td>2016</td>\n",
              "      <td>...</td>\n",
              "      <td>0.0</td>\n",
              "      <td>0</td>\n",
              "      <td>-1</td>\n",
              "      <td>True</td>\n",
              "      <td>16</td>\n",
              "      <td>48.382131</td>\n",
              "      <td>11.428401</td>\n",
              "      <td>18.382877</td>\n",
              "      <td>-16.361266</td>\n",
              "      <td>4</td>\n",
              "    </tr>\n",
              "    <tr>\n",
              "      <th>806</th>\n",
              "      <td>country_0</td>\n",
              "      <td>brand_107</td>\n",
              "      <td>ID_32</td>\n",
              "      <td>2016-05-01</td>\n",
              "      <td>No_Stage</td>\n",
              "      <td>TWO</td>\n",
              "      <td>7</td>\n",
              "      <td>19</td>\n",
              "      <td>-77</td>\n",
              "      <td>2016</td>\n",
              "      <td>...</td>\n",
              "      <td>0.0</td>\n",
              "      <td>0</td>\n",
              "      <td>-1</td>\n",
              "      <td>True</td>\n",
              "      <td>17</td>\n",
              "      <td>48.382131</td>\n",
              "      <td>11.428401</td>\n",
              "      <td>18.382877</td>\n",
              "      <td>-16.361266</td>\n",
              "      <td>5</td>\n",
              "    </tr>\n",
              "    <tr>\n",
              "      <th>807</th>\n",
              "      <td>country_0</td>\n",
              "      <td>brand_107</td>\n",
              "      <td>ID_32</td>\n",
              "      <td>2016-06-01</td>\n",
              "      <td>No_Stage</td>\n",
              "      <td>TWO</td>\n",
              "      <td>7</td>\n",
              "      <td>20</td>\n",
              "      <td>-76</td>\n",
              "      <td>2016</td>\n",
              "      <td>...</td>\n",
              "      <td>0.0</td>\n",
              "      <td>0</td>\n",
              "      <td>-1</td>\n",
              "      <td>True</td>\n",
              "      <td>18</td>\n",
              "      <td>48.382131</td>\n",
              "      <td>11.428401</td>\n",
              "      <td>18.382877</td>\n",
              "      <td>-16.361266</td>\n",
              "      <td>6</td>\n",
              "    </tr>\n",
              "    <tr>\n",
              "      <th>808</th>\n",
              "      <td>country_0</td>\n",
              "      <td>brand_107</td>\n",
              "      <td>ID_32</td>\n",
              "      <td>2016-07-01</td>\n",
              "      <td>No_Stage</td>\n",
              "      <td>TWO</td>\n",
              "      <td>7</td>\n",
              "      <td>21</td>\n",
              "      <td>-75</td>\n",
              "      <td>2016</td>\n",
              "      <td>...</td>\n",
              "      <td>0.0</td>\n",
              "      <td>0</td>\n",
              "      <td>-1</td>\n",
              "      <td>True</td>\n",
              "      <td>19</td>\n",
              "      <td>48.382131</td>\n",
              "      <td>11.428401</td>\n",
              "      <td>18.382877</td>\n",
              "      <td>-16.361266</td>\n",
              "      <td>7</td>\n",
              "    </tr>\n",
              "    <tr>\n",
              "      <th>809</th>\n",
              "      <td>country_0</td>\n",
              "      <td>brand_107</td>\n",
              "      <td>ID_32</td>\n",
              "      <td>2016-08-01</td>\n",
              "      <td>No_Stage</td>\n",
              "      <td>TWO</td>\n",
              "      <td>7</td>\n",
              "      <td>22</td>\n",
              "      <td>-74</td>\n",
              "      <td>2016</td>\n",
              "      <td>...</td>\n",
              "      <td>0.0</td>\n",
              "      <td>0</td>\n",
              "      <td>-1</td>\n",
              "      <td>True</td>\n",
              "      <td>20</td>\n",
              "      <td>48.382131</td>\n",
              "      <td>11.428401</td>\n",
              "      <td>18.382877</td>\n",
              "      <td>-16.361266</td>\n",
              "      <td>8</td>\n",
              "    </tr>\n",
              "    <tr>\n",
              "      <th>...</th>\n",
              "      <td>...</td>\n",
              "      <td>...</td>\n",
              "      <td>...</td>\n",
              "      <td>...</td>\n",
              "      <td>...</td>\n",
              "      <td>...</td>\n",
              "      <td>...</td>\n",
              "      <td>...</td>\n",
              "      <td>...</td>\n",
              "      <td>...</td>\n",
              "      <td>...</td>\n",
              "      <td>...</td>\n",
              "      <td>...</td>\n",
              "      <td>...</td>\n",
              "      <td>...</td>\n",
              "      <td>...</td>\n",
              "      <td>...</td>\n",
              "      <td>...</td>\n",
              "      <td>...</td>\n",
              "      <td>...</td>\n",
              "      <td>...</td>\n",
              "    </tr>\n",
              "    <tr>\n",
              "      <th>80316</th>\n",
              "      <td>country_34</td>\n",
              "      <td>brand_117</td>\n",
              "      <td>ID_3221</td>\n",
              "      <td>2018-11-01</td>\n",
              "      <td>Growth</td>\n",
              "      <td>TWO</td>\n",
              "      <td>7</td>\n",
              "      <td>118</td>\n",
              "      <td>-34</td>\n",
              "      <td>2018</td>\n",
              "      <td>...</td>\n",
              "      <td>0.0</td>\n",
              "      <td>11</td>\n",
              "      <td>7640</td>\n",
              "      <td>True</td>\n",
              "      <td>45</td>\n",
              "      <td>70.682735</td>\n",
              "      <td>-2.739037</td>\n",
              "      <td>34.936709</td>\n",
              "      <td>-4.294609</td>\n",
              "      <td>11</td>\n",
              "    </tr>\n",
              "    <tr>\n",
              "      <th>80317</th>\n",
              "      <td>country_34</td>\n",
              "      <td>brand_117</td>\n",
              "      <td>ID_3221</td>\n",
              "      <td>2018-12-01</td>\n",
              "      <td>Growth</td>\n",
              "      <td>TWO</td>\n",
              "      <td>7</td>\n",
              "      <td>119</td>\n",
              "      <td>-33</td>\n",
              "      <td>2018</td>\n",
              "      <td>...</td>\n",
              "      <td>0.0</td>\n",
              "      <td>11</td>\n",
              "      <td>7670</td>\n",
              "      <td>True</td>\n",
              "      <td>46</td>\n",
              "      <td>70.682735</td>\n",
              "      <td>-2.739037</td>\n",
              "      <td>34.936709</td>\n",
              "      <td>-4.294609</td>\n",
              "      <td>12</td>\n",
              "    </tr>\n",
              "    <tr>\n",
              "      <th>80318</th>\n",
              "      <td>country_34</td>\n",
              "      <td>brand_117</td>\n",
              "      <td>ID_3221</td>\n",
              "      <td>2019-01-01</td>\n",
              "      <td>Growth</td>\n",
              "      <td>TWO</td>\n",
              "      <td>7</td>\n",
              "      <td>120</td>\n",
              "      <td>-32</td>\n",
              "      <td>2019</td>\n",
              "      <td>...</td>\n",
              "      <td>0.0</td>\n",
              "      <td>11</td>\n",
              "      <td>7701</td>\n",
              "      <td>True</td>\n",
              "      <td>47</td>\n",
              "      <td>70.682735</td>\n",
              "      <td>-2.739037</td>\n",
              "      <td>34.936709</td>\n",
              "      <td>-4.294609</td>\n",
              "      <td>1</td>\n",
              "    </tr>\n",
              "    <tr>\n",
              "      <th>80319</th>\n",
              "      <td>country_34</td>\n",
              "      <td>brand_117</td>\n",
              "      <td>ID_3221</td>\n",
              "      <td>2019-02-01</td>\n",
              "      <td>Growth</td>\n",
              "      <td>TWO</td>\n",
              "      <td>7</td>\n",
              "      <td>121</td>\n",
              "      <td>-31</td>\n",
              "      <td>2019</td>\n",
              "      <td>...</td>\n",
              "      <td>0.0</td>\n",
              "      <td>11</td>\n",
              "      <td>7732</td>\n",
              "      <td>True</td>\n",
              "      <td>48</td>\n",
              "      <td>70.682735</td>\n",
              "      <td>-2.739037</td>\n",
              "      <td>34.936709</td>\n",
              "      <td>-4.294609</td>\n",
              "      <td>2</td>\n",
              "    </tr>\n",
              "    <tr>\n",
              "      <th>80320</th>\n",
              "      <td>country_34</td>\n",
              "      <td>brand_117</td>\n",
              "      <td>ID_3221</td>\n",
              "      <td>2019-03-01</td>\n",
              "      <td>Growth</td>\n",
              "      <td>TWO</td>\n",
              "      <td>7</td>\n",
              "      <td>122</td>\n",
              "      <td>-30</td>\n",
              "      <td>2019</td>\n",
              "      <td>...</td>\n",
              "      <td>0.0</td>\n",
              "      <td>11</td>\n",
              "      <td>7760</td>\n",
              "      <td>True</td>\n",
              "      <td>49</td>\n",
              "      <td>70.682735</td>\n",
              "      <td>-2.739037</td>\n",
              "      <td>34.936709</td>\n",
              "      <td>-4.294609</td>\n",
              "      <td>3</td>\n",
              "    </tr>\n",
              "  </tbody>\n",
              "</table>\n",
              "<p>10755 rows × 21 columns</p>\n",
              "</div>\n",
              "      <button class=\"colab-df-convert\" onclick=\"convertToInteractive('df-deebe07e-ede5-412f-ab3a-8d9e568dfea2')\"\n",
              "              title=\"Convert this dataframe to an interactive table.\"\n",
              "              style=\"display:none;\">\n",
              "        \n",
              "  <svg xmlns=\"http://www.w3.org/2000/svg\" height=\"24px\"viewBox=\"0 0 24 24\"\n",
              "       width=\"24px\">\n",
              "    <path d=\"M0 0h24v24H0V0z\" fill=\"none\"/>\n",
              "    <path d=\"M18.56 5.44l.94 2.06.94-2.06 2.06-.94-2.06-.94-.94-2.06-.94 2.06-2.06.94zm-11 1L8.5 8.5l.94-2.06 2.06-.94-2.06-.94L8.5 2.5l-.94 2.06-2.06.94zm10 10l.94 2.06.94-2.06 2.06-.94-2.06-.94-.94-2.06-.94 2.06-2.06.94z\"/><path d=\"M17.41 7.96l-1.37-1.37c-.4-.4-.92-.59-1.43-.59-.52 0-1.04.2-1.43.59L10.3 9.45l-7.72 7.72c-.78.78-.78 2.05 0 2.83L4 21.41c.39.39.9.59 1.41.59.51 0 1.02-.2 1.41-.59l7.78-7.78 2.81-2.81c.8-.78.8-2.07 0-2.86zM5.41 20L4 18.59l7.72-7.72 1.47 1.35L5.41 20z\"/>\n",
              "  </svg>\n",
              "      </button>\n",
              "      \n",
              "  <style>\n",
              "    .colab-df-container {\n",
              "      display:flex;\n",
              "      flex-wrap:wrap;\n",
              "      gap: 12px;\n",
              "    }\n",
              "\n",
              "    .colab-df-convert {\n",
              "      background-color: #E8F0FE;\n",
              "      border: none;\n",
              "      border-radius: 50%;\n",
              "      cursor: pointer;\n",
              "      display: none;\n",
              "      fill: #1967D2;\n",
              "      height: 32px;\n",
              "      padding: 0 0 0 0;\n",
              "      width: 32px;\n",
              "    }\n",
              "\n",
              "    .colab-df-convert:hover {\n",
              "      background-color: #E2EBFA;\n",
              "      box-shadow: 0px 1px 2px rgba(60, 64, 67, 0.3), 0px 1px 3px 1px rgba(60, 64, 67, 0.15);\n",
              "      fill: #174EA6;\n",
              "    }\n",
              "\n",
              "    [theme=dark] .colab-df-convert {\n",
              "      background-color: #3B4455;\n",
              "      fill: #D2E3FC;\n",
              "    }\n",
              "\n",
              "    [theme=dark] .colab-df-convert:hover {\n",
              "      background-color: #434B5C;\n",
              "      box-shadow: 0px 1px 3px 1px rgba(0, 0, 0, 0.15);\n",
              "      filter: drop-shadow(0px 1px 2px rgba(0, 0, 0, 0.3));\n",
              "      fill: #FFFFFF;\n",
              "    }\n",
              "  </style>\n",
              "\n",
              "      <script>\n",
              "        const buttonEl =\n",
              "          document.querySelector('#df-deebe07e-ede5-412f-ab3a-8d9e568dfea2 button.colab-df-convert');\n",
              "        buttonEl.style.display =\n",
              "          google.colab.kernel.accessAllowed ? 'block' : 'none';\n",
              "\n",
              "        async function convertToInteractive(key) {\n",
              "          const element = document.querySelector('#df-deebe07e-ede5-412f-ab3a-8d9e568dfea2');\n",
              "          const dataTable =\n",
              "            await google.colab.kernel.invokeFunction('convertToInteractive',\n",
              "                                                     [key], {});\n",
              "          if (!dataTable) return;\n",
              "\n",
              "          const docLinkHtml = 'Like what you see? Visit the ' +\n",
              "            '<a target=\"_blank\" href=https://colab.research.google.com/notebooks/data_table.ipynb>data table notebook</a>'\n",
              "            + ' to learn more about interactive tables.';\n",
              "          element.innerHTML = '';\n",
              "          dataTable['output_type'] = 'display_data';\n",
              "          await google.colab.output.renderOutput(dataTable, element);\n",
              "          const docLink = document.createElement('div');\n",
              "          docLink.innerHTML = docLinkHtml;\n",
              "          element.appendChild(docLink);\n",
              "        }\n",
              "      </script>\n",
              "    </div>\n",
              "  </div>\n",
              "  "
            ]
          },
          "metadata": {},
          "execution_count": 27
        }
      ]
    },
    {
      "cell_type": "markdown",
      "source": [
        "#### Random Forest"
      ],
      "metadata": {
        "id": "Pkz7tGAIw7dB"
      }
    },
    {
      "cell_type": "code",
      "source": [
        "c_feature = ['country','cluster','cluster_id','business_unit','ther_area_fact','is_exclusive','month',\"regulatory_designations_hasany\"]\n",
        "n_feature = ['indication_num','comp_num','first_comp_month','launch_months','month_since_growth','x1','x2','x3','x4']"
      ],
      "metadata": {
        "id": "3tZyodMKx0ZJ"
      },
      "execution_count": null,
      "outputs": []
    },
    {
      "cell_type": "code",
      "source": [
        "from sklearn.preprocessing import StandardScaler\n",
        "\n",
        "preprocess = make_column_transformer((OneHotEncoder(handle_unknown=\"ignore\"),c_feature),\n",
        "                                      (StandardScaler(),n_feature))\n",
        "\n",
        "# rfc_pipe = make_pipeline(preprocess, GridSearchCV(RandomForestClassifier(random_state = 0,oob_score=True,warm_start=True),\n",
        "#                                        param_grid = [{\"n_estimators\":[100,200,300],\n",
        "#                                                       \"max_features\":[\"sqrt\",\"log\"],\n",
        "#                                                       \"class_weight\":[{0:1,1:1},{0:1,1:5},{0:1,1:10}],\n",
        "#                                                       \"max_depth\":[20,50,100]}]))\n",
        "# rfc_pipe.fit(x_train,y_train)"
      ],
      "metadata": {
        "id": "r_g7CCLKx2AP"
      },
      "execution_count": null,
      "outputs": []
    },
    {
      "cell_type": "code",
      "source": [
        "y_train.value_counts()"
      ],
      "metadata": {
        "colab": {
          "base_uri": "https://localhost:8080/"
        },
        "id": "mM-_Z88NAB8O",
        "outputId": "0ba4ce15-2a47-4b2e-ba74-7070f751be53"
      },
      "execution_count": null,
      "outputs": [
        {
          "output_type": "execute_result",
          "data": {
            "text/plain": [
              "0.0    9278\n",
              "1.0    2304\n",
              "Name: transition_point, dtype: int64"
            ]
          },
          "metadata": {},
          "execution_count": 30
        }
      ]
    },
    {
      "cell_type": "code",
      "source": [
        "# grid_search_results = rfc_pipe.named_steps[\"gridsearchcv\"]\n",
        "# print(f\"Best score:\",grid_search_results.best_score_)\n",
        "# print(f\"Best parameters:\",grid_search_results.best_params_)"
      ],
      "metadata": {
        "id": "Cqoba9Qlx4HY"
      },
      "execution_count": null,
      "outputs": []
    },
    {
      "cell_type": "code",
      "source": [
        "best_rfc_pipe = make_pipeline(preprocess, RandomForestClassifier( n_estimators = 200,\n",
        "                                                                  max_features = 10,\n",
        "                                                                  class_weight = {0:1,1:20},\n",
        "                                                                  oob_score=True,\n",
        "                                                                  warm_start=True ))\n",
        "\n",
        "best_rfc_pipe.fit(x_train,y_train)"
      ],
      "metadata": {
        "colab": {
          "base_uri": "https://localhost:8080/"
        },
        "id": "XzJRrHJH5H8D",
        "outputId": "8aefd673-94b5-4702-c700-10b221f73be7"
      },
      "execution_count": null,
      "outputs": [
        {
          "output_type": "execute_result",
          "data": {
            "text/plain": [
              "Pipeline(steps=[('columntransformer',\n",
              "                 ColumnTransformer(transformers=[('onehotencoder',\n",
              "                                                  OneHotEncoder(handle_unknown='ignore'),\n",
              "                                                  ['country', 'cluster',\n",
              "                                                   'cluster_id',\n",
              "                                                   'business_unit',\n",
              "                                                   'ther_area_fact',\n",
              "                                                   'is_exclusive', 'month',\n",
              "                                                   'regulatory_designations_hasany']),\n",
              "                                                 ('standardscaler',\n",
              "                                                  StandardScaler(),\n",
              "                                                  ['indication_num', 'comp_num',\n",
              "                                                   'first_comp_month',\n",
              "                                                   'launch_months',\n",
              "                                                   'month_since_growth', 'x1',\n",
              "                                                   'x2', 'x3', 'x4'])])),\n",
              "                ('randomforestclassifier',\n",
              "                 RandomForestClassifier(class_weight={0: 1, 1: 20},\n",
              "                                        max_features=10, n_estimators=200,\n",
              "                                        oob_score=True, warm_start=True))])"
            ]
          },
          "metadata": {},
          "execution_count": 32
        }
      ]
    },
    {
      "cell_type": "code",
      "source": [
        "# import pickle\n",
        "# filename = 'rf_trans_point.sav'\n",
        "# pickle.dump(best_rfc_pipe, open(filename, 'wb'))\n",
        "import joblib\n",
        "import os\n",
        "# save suing joblib\n",
        "joblib.dump(best_rfc_pipe, \"./rf_trans_point.joblib\", compress=3)\n",
        "#### load\n",
        "# loaded_rf = joblib.load(\"./random_forest.joblib\")\n",
        "print(f\"Random Forest: {np.round(os.path.getsize('rf_trans_point.joblib') / 1024 / 1024, 2) } MB\")"
      ],
      "metadata": {
        "colab": {
          "base_uri": "https://localhost:8080/"
        },
        "id": "00q8DjcBbHfw",
        "outputId": "18949629-0d59-4253-95b6-3f21f0cce973"
      },
      "execution_count": null,
      "outputs": [
        {
          "output_type": "stream",
          "name": "stdout",
          "text": [
            "Random Forest: 12.49 MB\n"
          ]
        }
      ]
    },
    {
      "cell_type": "code",
      "source": [
        "best_rfc_pipe.score(x_val,y_val)"
      ],
      "metadata": {
        "colab": {
          "base_uri": "https://localhost:8080/"
        },
        "id": "pyb78_GEgnkx",
        "outputId": "ae116525-8724-43d1-d755-30d1d15364ee"
      },
      "execution_count": null,
      "outputs": [
        {
          "output_type": "execute_result",
          "data": {
            "text/plain": [
              "0.8383077638307764"
            ]
          },
          "metadata": {},
          "execution_count": 34
        }
      ]
    },
    {
      "cell_type": "code",
      "source": [
        "ohe_f = preprocess.named_transformers_[\"onehotencoder\"].get_feature_names().tolist()\n",
        "f_names = ohe_f + n_feature\n",
        "\n",
        "\n",
        "f_imps = zip(f_names, best_rfc_pipe.steps[1][1].feature_importances_)\n",
        "feats,imps = zip(*(sorted(list(filter(lambda x:x[1] != 0, f_imps)), key = lambda x:x[1], reverse=True)))\n",
        "ax = sns.barplot(list(imps[:20]),list(feats[:20]))\n",
        "\n",
        "plt.show()"
      ],
      "metadata": {
        "colab": {
          "base_uri": "https://localhost:8080/",
          "height": 334
        },
        "id": "5LrDrC12eVYF",
        "outputId": "901fa91c-5d14-4fb5-8fe9-76a2a357cb68"
      },
      "execution_count": null,
      "outputs": [
        {
          "output_type": "stream",
          "name": "stderr",
          "text": [
            "/usr/local/lib/python3.7/dist-packages/sklearn/utils/deprecation.py:87: FutureWarning: Function get_feature_names is deprecated; get_feature_names is deprecated in 1.0 and will be removed in 1.2. Please use get_feature_names_out instead.\n",
            "  warnings.warn(msg, category=FutureWarning)\n",
            "/usr/local/lib/python3.7/dist-packages/seaborn/_decorators.py:43: FutureWarning: Pass the following variables as keyword args: x, y. From version 0.12, the only valid positional argument will be `data`, and passing other arguments without an explicit keyword will result in an error or misinterpretation.\n",
            "  FutureWarning\n"
          ]
        },
        {
          "output_type": "display_data",
          "data": {
            "text/plain": [
              "<Figure size 432x288 with 1 Axes>"
            ],
            "image/png": "[encoded data removed]"
          },
          "metadata": {
            "needs_background": "light"
          }
        }
      ]
    },
    {
      "cell_type": "code",
      "source": [
        "print(len(f_names),\\\n",
        "len(best_rfc_pipe.steps[1][1].feature_importances_),\\\n",
        "x_val.shape[1])"
      ],
      "metadata": {
        "colab": {
          "base_uri": "https://localhost:8080/"
        },
        "id": "Q6kyWA1S14cU",
        "outputId": "b28390c1-6c3e-4af1-c1bc-5fa122b6fcc4"
      },
      "execution_count": null,
      "outputs": [
        {
          "output_type": "stream",
          "name": "stdout",
          "text": [
            "428 428 21\n"
          ]
        }
      ]
    },
    {
      "cell_type": "code",
      "source": [
        "#Feature importance\n",
        "\n",
        "# best_tree = grid_search_results.best_estimator_\n",
        "# f_imps = zip(list(x_val.columns),best_tree.feature_importances_)\n",
        "# feats,imps = zip(*(sorted(list(filter(lambda x:x[1] != 0, f_imps)), key = lambda x:x[1], reverse=True)))\n",
        "# ax = sns.barplot(list(imps[:20]),list(feats[:20]))\n",
        "\n",
        "# plt.show()"
      ],
      "metadata": {
        "id": "0X6XotIZx7aX"
      },
      "execution_count": null,
      "outputs": []
    },
    {
      "cell_type": "code",
      "source": [
        "x_val.columns"
      ],
      "metadata": {
        "id": "LNcWWB1X5Ejl",
        "outputId": "801fc227-2a7f-4864-953e-3c1443e489e3",
        "colab": {
          "base_uri": "https://localhost:8080/"
        }
      },
      "execution_count": null,
      "outputs": [
        {
          "output_type": "execute_result",
          "data": {
            "text/plain": [
              "Index(['country', 'cluster', 'cluster_id', 'date', 'stage_name_lag_1',\n",
              "       'business_unit', 'ther_area_fact', 'launch_months',\n",
              "       'time_since_no_exclusivity', 'year', 'regulatory_designations_hasany',\n",
              "       'indication_num', 'comp_num', 'first_comp_month', 'is_exclusive',\n",
              "       'month_since_growth', 'x1', 'x2', 'x3', 'x4', 'month'],\n",
              "      dtype='object')"
            ]
          },
          "metadata": {},
          "execution_count": 38
        }
      ]
    },
    {
      "cell_type": "code",
      "source": [
        "pred1 = best_rfc_pipe.predict(x_val.drop(columns=['date']))"
      ],
      "metadata": {
        "id": "Sb7vAB32x959"
      },
      "execution_count": null,
      "outputs": []
    },
    {
      "cell_type": "code",
      "source": [
        "from sklearn.metrics import f1_score\n",
        "f1_score(y_val,pred1)"
      ],
      "metadata": {
        "colab": {
          "base_uri": "https://localhost:8080/"
        },
        "id": "Ho3x3IjoB31a",
        "outputId": "747f9ada-65ed-4d12-de5c-de8e5d70ec98"
      },
      "execution_count": null,
      "outputs": [
        {
          "output_type": "execute_result",
          "data": {
            "text/plain": [
              "0.10036213140196584"
            ]
          },
          "metadata": {},
          "execution_count": 40
        }
      ]
    },
    {
      "cell_type": "code",
      "source": [
        "conf_mat = confusion_matrix(y_val, pred1)\n",
        "cmd = ConfusionMatrixDisplay(conf_mat, display_labels=['0','1'])\n",
        "cmd.plot()\n",
        "print(classification_report(y_val, pred1))"
      ],
      "metadata": {
        "colab": {
          "base_uri": "https://localhost:8080/",
          "height": 435
        },
        "id": "c8jZrd8lBpul",
        "outputId": "44fc3164-cabe-45be-a469-b8bc215bec88"
      },
      "execution_count": null,
      "outputs": [
        {
          "output_type": "stream",
          "name": "stdout",
          "text": [
            "              precision    recall  f1-score   support\n",
            "\n",
            "         0.0       0.89      0.93      0.91      9580\n",
            "         1.0       0.13      0.08      0.10      1175\n",
            "\n",
            "    accuracy                           0.84     10755\n",
            "   macro avg       0.51      0.51      0.51     10755\n",
            "weighted avg       0.81      0.84      0.82     10755\n",
            "\n"
          ]
        },
        {
          "output_type": "display_data",
          "data": {
            "text/plain": [
              "<Figure size 432x288 with 2 Axes>"
            ],
            "image/png": "[encoded data removed]"
          },
          "metadata": {
            "needs_background": "light"
          }
        }
      ]
    },
    {
      "cell_type": "code",
      "source": [
        "# conf_mat = confusion_matrix(y_val, pred1)\n",
        "# cmd = ConfusionMatrixDisplay(conf_mat, display_labels=['0','1'])\n",
        "# cmd.plot()\n",
        "# print(classification_report(y_val, pred1))"
      ],
      "metadata": {
        "id": "kRm7N-SImfb-"
      },
      "execution_count": null,
      "outputs": []
    },
    {
      "cell_type": "code",
      "source": [
        "compute_error_validation(custom_prediction(val_set,pred1,method = \"average\"))"
      ],
      "metadata": {
        "colab": {
          "base_uri": "https://localhost:8080/",
          "height": 458
        },
        "id": "rkBn_43wyDWJ",
        "outputId": "fe97e28e-a63d-4f3b-fed4-d8abaae8497e"
      },
      "execution_count": null,
      "outputs": [
        {
          "output_type": "stream",
          "name": "stdout",
          "text": [
            "mean absolute error in month:  18.370253164556964\n",
            "mean absolute error in month adjusted by predicted duration:  0.5102848101265823\n"
          ]
        },
        {
          "output_type": "execute_result",
          "data": {
            "text/plain": [
              "    cluster_id predicted_date transition_date  absolute_error\n",
              "0        ID_32     2017-01-01      2017-01-01               0\n",
              "1        ID_33            NaT      2018-05-01              36\n",
              "2        ID_36            NaT             NaT               0\n",
              "3        ID_45     2017-12-01      2018-05-01               5\n",
              "4        ID_60            NaT      2016-05-01              36\n",
              "..         ...            ...             ...             ...\n",
              "311    ID_3192            NaT             NaT               0\n",
              "312    ID_3194     2016-07-01      2018-05-01              22\n",
              "313    ID_3196            NaT             NaT               0\n",
              "314    ID_3202     2017-12-01             NaT              36\n",
              "315    ID_3221            NaT      2018-05-01              36\n",
              "\n",
              "[316 rows x 4 columns]"
            ],
            "text/html": [
              "\n",
              "  <div id=\"df-7d8d3216-0613-4cd3-875d-c6d8cf71d5e1\">\n",
              "    <div class=\"colab-df-container\">\n",
              "      <div>\n",
              "<style scoped>\n",
              "    .dataframe tbody tr th:only-of-type {\n",
              "        vertical-align: middle;\n",
              "    }\n",
              "\n",
              "    .dataframe tbody tr th {\n",
              "        vertical-align: top;\n",
              "    }\n",
              "\n",
              "    .dataframe thead th {\n",
              "        text-align: right;\n",
              "    }\n",
              "</style>\n",
              "<table border=\"1\" class=\"dataframe\">\n",
              "  <thead>\n",
              "    <tr style=\"text-align: right;\">\n",
              "      <th></th>\n",
              "      <th>cluster_id</th>\n",
              "      <th>predicted_date</th>\n",
              "      <th>transition_date</th>\n",
              "      <th>absolute_error</th>\n",
              "    </tr>\n",
              "  </thead>\n",
              "  <tbody>\n",
              "    <tr>\n",
              "      <th>0</th>\n",
              "      <td>ID_32</td>\n",
              "      <td>2017-01-01</td>\n",
              "      <td>2017-01-01</td>\n",
              "      <td>0</td>\n",
              "    </tr>\n",
              "    <tr>\n",
              "      <th>1</th>\n",
              "      <td>ID_33</td>\n",
              "      <td>NaT</td>\n",
              "      <td>2018-05-01</td>\n",
              "      <td>36</td>\n",
              "    </tr>\n",
              "    <tr>\n",
              "      <th>2</th>\n",
              "      <td>ID_36</td>\n",
              "      <td>NaT</td>\n",
              "      <td>NaT</td>\n",
              "      <td>0</td>\n",
              "    </tr>\n",
              "    <tr>\n",
              "      <th>3</th>\n",
              "      <td>ID_45</td>\n",
              "      <td>2017-12-01</td>\n",
              "      <td>2018-05-01</td>\n",
              "      <td>5</td>\n",
              "    </tr>\n",
              "    <tr>\n",
              "      <th>4</th>\n",
              "      <td>ID_60</td>\n",
              "      <td>NaT</td>\n",
              "      <td>2016-05-01</td>\n",
              "      <td>36</td>\n",
              "    </tr>\n",
              "    <tr>\n",
              "      <th>...</th>\n",
              "      <td>...</td>\n",
              "      <td>...</td>\n",
              "      <td>...</td>\n",
              "      <td>...</td>\n",
              "    </tr>\n",
              "    <tr>\n",
              "      <th>311</th>\n",
              "      <td>ID_3192</td>\n",
              "      <td>NaT</td>\n",
              "      <td>NaT</td>\n",
              "      <td>0</td>\n",
              "    </tr>\n",
              "    <tr>\n",
              "      <th>312</th>\n",
              "      <td>ID_3194</td>\n",
              "      <td>2016-07-01</td>\n",
              "      <td>2018-05-01</td>\n",
              "      <td>22</td>\n",
              "    </tr>\n",
              "    <tr>\n",
              "      <th>313</th>\n",
              "      <td>ID_3196</td>\n",
              "      <td>NaT</td>\n",
              "      <td>NaT</td>\n",
              "      <td>0</td>\n",
              "    </tr>\n",
              "    <tr>\n",
              "      <th>314</th>\n",
              "      <td>ID_3202</td>\n",
              "      <td>2017-12-01</td>\n",
              "      <td>NaT</td>\n",
              "      <td>36</td>\n",
              "    </tr>\n",
              "    <tr>\n",
              "      <th>315</th>\n",
              "      <td>ID_3221</td>\n",
              "      <td>NaT</td>\n",
              "      <td>2018-05-01</td>\n",
              "      <td>36</td>\n",
              "    </tr>\n",
              "  </tbody>\n",
              "</table>\n",
              "<p>316 rows × 4 columns</p>\n",
              "</div>\n",
              "      <button class=\"colab-df-convert\" onclick=\"convertToInteractive('df-7d8d3216-0613-4cd3-875d-c6d8cf71d5e1')\"\n",
              "              title=\"Convert this dataframe to an interactive table.\"\n",
              "              style=\"display:none;\">\n",
              "        \n",
              "  <svg xmlns=\"http://www.w3.org/2000/svg\" height=\"24px\"viewBox=\"0 0 24 24\"\n",
              "       width=\"24px\">\n",
              "    <path d=\"M0 0h24v24H0V0z\" fill=\"none\"/>\n",
              "    <path d=\"M18.56 5.44l.94 2.06.94-2.06 2.06-.94-2.06-.94-.94-2.06-.94 2.06-2.06.94zm-11 1L8.5 8.5l.94-2.06 2.06-.94-2.06-.94L8.5 2.5l-.94 2.06-2.06.94zm10 10l.94 2.06.94-2.06 2.06-.94-2.06-.94-.94-2.06-.94 2.06-2.06.94z\"/><path d=\"M17.41 7.96l-1.37-1.37c-.4-.4-.92-.59-1.43-.59-.52 0-1.04.2-1.43.59L10.3 9.45l-7.72 7.72c-.78.78-.78 2.05 0 2.83L4 21.41c.39.39.9.59 1.41.59.51 0 1.02-.2 1.41-.59l7.78-7.78 2.81-2.81c.8-.78.8-2.07 0-2.86zM5.41 20L4 18.59l7.72-7.72 1.47 1.35L5.41 20z\"/>\n",
              "  </svg>\n",
              "      </button>\n",
              "      \n",
              "  <style>\n",
              "    .colab-df-container {\n",
              "      display:flex;\n",
              "      flex-wrap:wrap;\n",
              "      gap: 12px;\n",
              "    }\n",
              "\n",
              "    .colab-df-convert {\n",
              "      background-color: #E8F0FE;\n",
              "      border: none;\n",
              "      border-radius: 50%;\n",
              "      cursor: pointer;\n",
              "      display: none;\n",
              "      fill: #1967D2;\n",
              "      height: 32px;\n",
              "      padding: 0 0 0 0;\n",
              "      width: 32px;\n",
              "    }\n",
              "\n",
              "    .colab-df-convert:hover {\n",
              "      background-color: #E2EBFA;\n",
              "      box-shadow: 0px 1px 2px rgba(60, 64, 67, 0.3), 0px 1px 3px 1px rgba(60, 64, 67, 0.15);\n",
              "      fill: #174EA6;\n",
              "    }\n",
              "\n",
              "    [theme=dark] .colab-df-convert {\n",
              "      background-color: #3B4455;\n",
              "      fill: #D2E3FC;\n",
              "    }\n",
              "\n",
              "    [theme=dark] .colab-df-convert:hover {\n",
              "      background-color: #434B5C;\n",
              "      box-shadow: 0px 1px 3px 1px rgba(0, 0, 0, 0.15);\n",
              "      filter: drop-shadow(0px 1px 2px rgba(0, 0, 0, 0.3));\n",
              "      fill: #FFFFFF;\n",
              "    }\n",
              "  </style>\n",
              "\n",
              "      <script>\n",
              "        const buttonEl =\n",
              "          document.querySelector('#df-7d8d3216-0613-4cd3-875d-c6d8cf71d5e1 button.colab-df-convert');\n",
              "        buttonEl.style.display =\n",
              "          google.colab.kernel.accessAllowed ? 'block' : 'none';\n",
              "\n",
              "        async function convertToInteractive(key) {\n",
              "          const element = document.querySelector('#df-7d8d3216-0613-4cd3-875d-c6d8cf71d5e1');\n",
              "          const dataTable =\n",
              "            await google.colab.kernel.invokeFunction('convertToInteractive',\n",
              "                                                     [key], {});\n",
              "          if (!dataTable) return;\n",
              "\n",
              "          const docLinkHtml = 'Like what you see? Visit the ' +\n",
              "            '<a target=\"_blank\" href=https://colab.research.google.com/notebooks/data_table.ipynb>data table notebook</a>'\n",
              "            + ' to learn more about interactive tables.';\n",
              "          element.innerHTML = '';\n",
              "          dataTable['output_type'] = 'display_data';\n",
              "          await google.colab.output.renderOutput(dataTable, element);\n",
              "          const docLink = document.createElement('div');\n",
              "          docLink.innerHTML = docLinkHtml;\n",
              "          element.appendChild(docLink);\n",
              "        }\n",
              "      </script>\n",
              "    </div>\n",
              "  </div>\n",
              "  "
            ]
          },
          "metadata": {},
          "execution_count": 43
        }
      ]
    },
    {
      "cell_type": "code",
      "source": [
        "evaluate_validation(custom_prediction(val_set,pred1,method = \"average\"))"
      ],
      "metadata": {
        "colab": {
          "base_uri": "https://localhost:8080/",
          "height": 755
        },
        "id": "DuOZ_zr1PQDi",
        "outputId": "e1f55046-437c-4ad7-ae47-2fa256bbd269"
      },
      "execution_count": null,
      "outputs": [
        {
          "output_type": "stream",
          "name": "stdout",
          "text": [
            "accuracy (TP vs. noTP): 0.5126582278481012\n",
            "mean absolute error in month for drugs with actual and predicted transition point:  9.321428571428571\n",
            "among 28 clusters with actual and predicted transition point, 2 are predicted correctly\n",
            "Percentage of correct dates: 0.07142857142857142\n"
          ]
        },
        {
          "output_type": "execute_result",
          "data": {
            "text/plain": [
              "    cluster_id predicted_date transition_date absolute_error  \\\n",
              "0        ID_32     2017-01-01      2017-01-01              0   \n",
              "1        ID_33            NaT      2018-05-01            NaT   \n",
              "2        ID_36            NaT             NaT            NaT   \n",
              "3        ID_45     2017-12-01      2018-05-01              5   \n",
              "4        ID_60            NaT      2016-05-01            NaT   \n",
              "..         ...            ...             ...            ...   \n",
              "311    ID_3192            NaT             NaT            NaT   \n",
              "312    ID_3194     2016-07-01      2018-05-01             22   \n",
              "313    ID_3196            NaT             NaT            NaT   \n",
              "314    ID_3202     2017-12-01             NaT            NaT   \n",
              "315    ID_3221            NaT      2018-05-01            NaT   \n",
              "\n",
              "    predicted_date_class actual_date_class  \n",
              "0                      1                 1  \n",
              "1                      0                 1  \n",
              "2                      0                 0  \n",
              "3                      1                 1  \n",
              "4                      0                 1  \n",
              "..                   ...               ...  \n",
              "311                    0                 0  \n",
              "312                    1                 1  \n",
              "313                    0                 0  \n",
              "314                    1                 0  \n",
              "315                    0                 1  \n",
              "\n",
              "[316 rows x 6 columns]"
            ],
            "text/html": [
              "\n",
              "  <div id=\"df-e95634a1-cd6d-4644-a75d-5c0dc86689bb\">\n",
              "    <div class=\"colab-df-container\">\n",
              "      <div>\n",
              "<style scoped>\n",
              "    .dataframe tbody tr th:only-of-type {\n",
              "        vertical-align: middle;\n",
              "    }\n",
              "\n",
              "    .dataframe tbody tr th {\n",
              "        vertical-align: top;\n",
              "    }\n",
              "\n",
              "    .dataframe thead th {\n",
              "        text-align: right;\n",
              "    }\n",
              "</style>\n",
              "<table border=\"1\" class=\"dataframe\">\n",
              "  <thead>\n",
              "    <tr style=\"text-align: right;\">\n",
              "      <th></th>\n",
              "      <th>cluster_id</th>\n",
              "      <th>predicted_date</th>\n",
              "      <th>transition_date</th>\n",
              "      <th>absolute_error</th>\n",
              "      <th>predicted_date_class</th>\n",
              "      <th>actual_date_class</th>\n",
              "    </tr>\n",
              "  </thead>\n",
              "  <tbody>\n",
              "    <tr>\n",
              "      <th>0</th>\n",
              "      <td>ID_32</td>\n",
              "      <td>2017-01-01</td>\n",
              "      <td>2017-01-01</td>\n",
              "      <td>0</td>\n",
              "      <td>1</td>\n",
              "      <td>1</td>\n",
              "    </tr>\n",
              "    <tr>\n",
              "      <th>1</th>\n",
              "      <td>ID_33</td>\n",
              "      <td>NaT</td>\n",
              "      <td>2018-05-01</td>\n",
              "      <td>NaT</td>\n",
              "      <td>0</td>\n",
              "      <td>1</td>\n",
              "    </tr>\n",
              "    <tr>\n",
              "      <th>2</th>\n",
              "      <td>ID_36</td>\n",
              "      <td>NaT</td>\n",
              "      <td>NaT</td>\n",
              "      <td>NaT</td>\n",
              "      <td>0</td>\n",
              "      <td>0</td>\n",
              "    </tr>\n",
              "    <tr>\n",
              "      <th>3</th>\n",
              "      <td>ID_45</td>\n",
              "      <td>2017-12-01</td>\n",
              "      <td>2018-05-01</td>\n",
              "      <td>5</td>\n",
              "      <td>1</td>\n",
              "      <td>1</td>\n",
              "    </tr>\n",
              "    <tr>\n",
              "      <th>4</th>\n",
              "      <td>ID_60</td>\n",
              "      <td>NaT</td>\n",
              "      <td>2016-05-01</td>\n",
              "      <td>NaT</td>\n",
              "      <td>0</td>\n",
              "      <td>1</td>\n",
              "    </tr>\n",
              "    <tr>\n",
              "      <th>...</th>\n",
              "      <td>...</td>\n",
              "      <td>...</td>\n",
              "      <td>...</td>\n",
              "      <td>...</td>\n",
              "      <td>...</td>\n",
              "      <td>...</td>\n",
              "    </tr>\n",
              "    <tr>\n",
              "      <th>311</th>\n",
              "      <td>ID_3192</td>\n",
              "      <td>NaT</td>\n",
              "      <td>NaT</td>\n",
              "      <td>NaT</td>\n",
              "      <td>0</td>\n",
              "      <td>0</td>\n",
              "    </tr>\n",
              "    <tr>\n",
              "      <th>312</th>\n",
              "      <td>ID_3194</td>\n",
              "      <td>2016-07-01</td>\n",
              "      <td>2018-05-01</td>\n",
              "      <td>22</td>\n",
              "      <td>1</td>\n",
              "      <td>1</td>\n",
              "    </tr>\n",
              "    <tr>\n",
              "      <th>313</th>\n",
              "      <td>ID_3196</td>\n",
              "      <td>NaT</td>\n",
              "      <td>NaT</td>\n",
              "      <td>NaT</td>\n",
              "      <td>0</td>\n",
              "      <td>0</td>\n",
              "    </tr>\n",
              "    <tr>\n",
              "      <th>314</th>\n",
              "      <td>ID_3202</td>\n",
              "      <td>2017-12-01</td>\n",
              "      <td>NaT</td>\n",
              "      <td>NaT</td>\n",
              "      <td>1</td>\n",
              "      <td>0</td>\n",
              "    </tr>\n",
              "    <tr>\n",
              "      <th>315</th>\n",
              "      <td>ID_3221</td>\n",
              "      <td>NaT</td>\n",
              "      <td>2018-05-01</td>\n",
              "      <td>NaT</td>\n",
              "      <td>0</td>\n",
              "      <td>1</td>\n",
              "    </tr>\n",
              "  </tbody>\n",
              "</table>\n",
              "<p>316 rows × 6 columns</p>\n",
              "</div>\n",
              "      <button class=\"colab-df-convert\" onclick=\"convertToInteractive('df-e95634a1-cd6d-4644-a75d-5c0dc86689bb')\"\n",
              "              title=\"Convert this dataframe to an interactive table.\"\n",
              "              style=\"display:none;\">\n",
              "        \n",
              "  <svg xmlns=\"http://www.w3.org/2000/svg\" height=\"24px\"viewBox=\"0 0 24 24\"\n",
              "       width=\"24px\">\n",
              "    <path d=\"M0 0h24v24H0V0z\" fill=\"none\"/>\n",
              "    <path d=\"M18.56 5.44l.94 2.06.94-2.06 2.06-.94-2.06-.94-.94-2.06-.94 2.06-2.06.94zm-11 1L8.5 8.5l.94-2.06 2.06-.94-2.06-.94L8.5 2.5l-.94 2.06-2.06.94zm10 10l.94 2.06.94-2.06 2.06-.94-2.06-.94-.94-2.06-.94 2.06-2.06.94z\"/><path d=\"M17.41 7.96l-1.37-1.37c-.4-.4-.92-.59-1.43-.59-.52 0-1.04.2-1.43.59L10.3 9.45l-7.72 7.72c-.78.78-.78 2.05 0 2.83L4 21.41c.39.39.9.59 1.41.59.51 0 1.02-.2 1.41-.59l7.78-7.78 2.81-2.81c.8-.78.8-2.07 0-2.86zM5.41 20L4 18.59l7.72-7.72 1.47 1.35L5.41 20z\"/>\n",
              "  </svg>\n",
              "      </button>\n",
              "      \n",
              "  <style>\n",
              "    .colab-df-container {\n",
              "      display:flex;\n",
              "      flex-wrap:wrap;\n",
              "      gap: 12px;\n",
              "    }\n",
              "\n",
              "    .colab-df-convert {\n",
              "      background-color: #E8F0FE;\n",
              "      border: none;\n",
              "      border-radius: 50%;\n",
              "      cursor: pointer;\n",
              "      display: none;\n",
              "      fill: #1967D2;\n",
              "      height: 32px;\n",
              "      padding: 0 0 0 0;\n",
              "      width: 32px;\n",
              "    }\n",
              "\n",
              "    .colab-df-convert:hover {\n",
              "      background-color: #E2EBFA;\n",
              "      box-shadow: 0px 1px 2px rgba(60, 64, 67, 0.3), 0px 1px 3px 1px rgba(60, 64, 67, 0.15);\n",
              "      fill: #174EA6;\n",
              "    }\n",
              "\n",
              "    [theme=dark] .colab-df-convert {\n",
              "      background-color: #3B4455;\n",
              "      fill: #D2E3FC;\n",
              "    }\n",
              "\n",
              "    [theme=dark] .colab-df-convert:hover {\n",
              "      background-color: #434B5C;\n",
              "      box-shadow: 0px 1px 3px 1px rgba(0, 0, 0, 0.15);\n",
              "      filter: drop-shadow(0px 1px 2px rgba(0, 0, 0, 0.3));\n",
              "      fill: #FFFFFF;\n",
              "    }\n",
              "  </style>\n",
              "\n",
              "      <script>\n",
              "        const buttonEl =\n",
              "          document.querySelector('#df-e95634a1-cd6d-4644-a75d-5c0dc86689bb button.colab-df-convert');\n",
              "        buttonEl.style.display =\n",
              "          google.colab.kernel.accessAllowed ? 'block' : 'none';\n",
              "\n",
              "        async function convertToInteractive(key) {\n",
              "          const element = document.querySelector('#df-e95634a1-cd6d-4644-a75d-5c0dc86689bb');\n",
              "          const dataTable =\n",
              "            await google.colab.kernel.invokeFunction('convertToInteractive',\n",
              "                                                     [key], {});\n",
              "          if (!dataTable) return;\n",
              "\n",
              "          const docLinkHtml = 'Like what you see? Visit the ' +\n",
              "            '<a target=\"_blank\" href=https://colab.research.google.com/notebooks/data_table.ipynb>data table notebook</a>'\n",
              "            + ' to learn more about interactive tables.';\n",
              "          element.innerHTML = '';\n",
              "          dataTable['output_type'] = 'display_data';\n",
              "          await google.colab.output.renderOutput(dataTable, element);\n",
              "          const docLink = document.createElement('div');\n",
              "          docLink.innerHTML = docLinkHtml;\n",
              "          element.appendChild(docLink);\n",
              "        }\n",
              "      </script>\n",
              "    </div>\n",
              "  </div>\n",
              "  "
            ]
          },
          "metadata": {},
          "execution_count": 44
        },
        {
          "output_type": "display_data",
          "data": {
            "text/plain": [
              "<Figure size 432x288 with 2 Axes>"
            ],
            "image/png": "[encoded data removed]"
          },
          "metadata": {
            "needs_background": "light"
          }
        }
      ]
    },
    {
      "cell_type": "markdown",
      "source": [
        "#### Test performance"
      ],
      "metadata": {
        "id": "lEEOB1BhCb4Y"
      }
    },
    {
      "cell_type": "code",
      "source": [
        "true_tp = pd.read_csv(\"https://raw.githubusercontent.com/hangxu0324/Capstone-Project/main/data/material_candidates/submission_part_one.csv\")\n",
        "true_tp[\"transition_date\"] = pd.to_datetime(true_tp[\"transition_date\"])\n",
        "test_df = final_df_v2[(final_df_v2['cluster_id'].isin(true_tp.cluster_id.unique())) & (final_df_v2['date']>\"2019-03-01\")]\n",
        "print(len(test_df.cluster_id.unique()))"
      ],
      "metadata": {
        "colab": {
          "base_uri": "https://localhost:8080/"
        },
        "id": "LWMrHCTaEC0l",
        "outputId": "12833b4b-8395-4a5c-b81b-96fb4bd2dc4e"
      },
      "execution_count": null,
      "outputs": [
        {
          "output_type": "stream",
          "name": "stdout",
          "text": [
            "226\n"
          ]
        }
      ]
    },
    {
      "cell_type": "code",
      "source": [
        "drop = [\"stage_name\",\n",
        "         #\"stage_name_lag_1\",\n",
        "         # \"stage_id_cumsum\", (not available any more)\n",
        "         \"volume\",\"gx_entry_date\",\"launch_date\",\"start_date\",\"last_stage_days\",\"growth_date\",\n",
        "         #'first_comp_month',\n",
        "         'last_ind_days',\n",
        "         'population','prevalence',\n",
        "         #'prevalence_pct', (not available any more)\n",
        "         '1','2','3','4','5','6','7','8','9','10','11','12',\n",
        "         'vol_mean_alltime', 'vol_std_alltime','vol_mean_before_2016', 'vol_std_before_2016', 'vol_mean_before_4m','vol_std_before_4m', 'vol_mean_before_1y', 'vol_std_before_1y'\n",
        "         ]\n",
        "test_set = test_df.drop(drop, axis=1)\n",
        "x_test = test_set.drop([\"transition_point\"],axis=1)"
      ],
      "metadata": {
        "id": "7M_YXPsgEQDs"
      },
      "execution_count": null,
      "outputs": []
    },
    {
      "cell_type": "code",
      "source": [
        "pred_test = best_rfc_pipe.predict(x_test.drop(columns=['date']))"
      ],
      "metadata": {
        "id": "GJbyoKVqEQpG"
      },
      "execution_count": null,
      "outputs": []
    },
    {
      "cell_type": "code",
      "source": [
        "compute_error_test(custom_prediction(test_set,pred_test,method = \"average\"),true_tp)"
      ],
      "metadata": {
        "colab": {
          "base_uri": "https://localhost:8080/",
          "height": 458
        },
        "id": "uzxGkXv0E45H",
        "outputId": "b6cab3ba-964a-4424-9321-1392f317d62d"
      },
      "execution_count": null,
      "outputs": [
        {
          "output_type": "stream",
          "name": "stdout",
          "text": [
            "mean absolute error in month:  27.79646017699115\n",
            "mean absolute error in month adjusted by predicted duration:  0.7721238938053098\n"
          ]
        },
        {
          "output_type": "execute_result",
          "data": {
            "text/plain": [
              "    cluster_id predicted_date  Unnamed: 0 transition_date is_transition  \\\n",
              "0        ID_35            NaT           0      2020-11-01           YES   \n",
              "1        ID_38            NaT           1      2019-12-01           YES   \n",
              "2        ID_39            NaT           2      2021-02-01           YES   \n",
              "3        ID_41            NaT           3      2020-07-01           YES   \n",
              "4        ID_62            NaT           4      2021-02-01           YES   \n",
              "..         ...            ...         ...             ...           ...   \n",
              "221    ID_3117            NaT         221      2021-03-01           YES   \n",
              "222    ID_3183            NaT         222      2020-12-01           YES   \n",
              "223    ID_3187            NaT         223      2019-10-01           YES   \n",
              "224    ID_3192            NaT         224      2019-12-01           YES   \n",
              "225    ID_3218            NaT         225      2019-10-01           YES   \n",
              "\n",
              "     absolute_error  \n",
              "0                36  \n",
              "1                36  \n",
              "2                36  \n",
              "3                36  \n",
              "4                36  \n",
              "..              ...  \n",
              "221              36  \n",
              "222              36  \n",
              "223              36  \n",
              "224              36  \n",
              "225              36  \n",
              "\n",
              "[226 rows x 6 columns]"
            ],
            "text/html": [
              "\n",
              "  <div id=\"df-c056f5bd-cbdd-446b-98ba-3de121c83fd9\">\n",
              "    <div class=\"colab-df-container\">\n",
              "      <div>\n",
              "<style scoped>\n",
              "    .dataframe tbody tr th:only-of-type {\n",
              "        vertical-align: middle;\n",
              "    }\n",
              "\n",
              "    .dataframe tbody tr th {\n",
              "        vertical-align: top;\n",
              "    }\n",
              "\n",
              "    .dataframe thead th {\n",
              "        text-align: right;\n",
              "    }\n",
              "</style>\n",
              "<table border=\"1\" class=\"dataframe\">\n",
              "  <thead>\n",
              "    <tr style=\"text-align: right;\">\n",
              "      <th></th>\n",
              "      <th>cluster_id</th>\n",
              "      <th>predicted_date</th>\n",
              "      <th>Unnamed: 0</th>\n",
              "      <th>transition_date</th>\n",
              "      <th>is_transition</th>\n",
              "      <th>absolute_error</th>\n",
              "    </tr>\n",
              "  </thead>\n",
              "  <tbody>\n",
              "    <tr>\n",
              "      <th>0</th>\n",
              "      <td>ID_35</td>\n",
              "      <td>NaT</td>\n",
              "      <td>0</td>\n",
              "      <td>2020-11-01</td>\n",
              "      <td>YES</td>\n",
              "      <td>36</td>\n",
              "    </tr>\n",
              "    <tr>\n",
              "      <th>1</th>\n",
              "      <td>ID_38</td>\n",
              "      <td>NaT</td>\n",
              "      <td>1</td>\n",
              "      <td>2019-12-01</td>\n",
              "      <td>YES</td>\n",
              "      <td>36</td>\n",
              "    </tr>\n",
              "    <tr>\n",
              "      <th>2</th>\n",
              "      <td>ID_39</td>\n",
              "      <td>NaT</td>\n",
              "      <td>2</td>\n",
              "      <td>2021-02-01</td>\n",
              "      <td>YES</td>\n",
              "      <td>36</td>\n",
              "    </tr>\n",
              "    <tr>\n",
              "      <th>3</th>\n",
              "      <td>ID_41</td>\n",
              "      <td>NaT</td>\n",
              "      <td>3</td>\n",
              "      <td>2020-07-01</td>\n",
              "      <td>YES</td>\n",
              "      <td>36</td>\n",
              "    </tr>\n",
              "    <tr>\n",
              "      <th>4</th>\n",
              "      <td>ID_62</td>\n",
              "      <td>NaT</td>\n",
              "      <td>4</td>\n",
              "      <td>2021-02-01</td>\n",
              "      <td>YES</td>\n",
              "      <td>36</td>\n",
              "    </tr>\n",
              "    <tr>\n",
              "      <th>...</th>\n",
              "      <td>...</td>\n",
              "      <td>...</td>\n",
              "      <td>...</td>\n",
              "      <td>...</td>\n",
              "      <td>...</td>\n",
              "      <td>...</td>\n",
              "    </tr>\n",
              "    <tr>\n",
              "      <th>221</th>\n",
              "      <td>ID_3117</td>\n",
              "      <td>NaT</td>\n",
              "      <td>221</td>\n",
              "      <td>2021-03-01</td>\n",
              "      <td>YES</td>\n",
              "      <td>36</td>\n",
              "    </tr>\n",
              "    <tr>\n",
              "      <th>222</th>\n",
              "      <td>ID_3183</td>\n",
              "      <td>NaT</td>\n",
              "      <td>222</td>\n",
              "      <td>2020-12-01</td>\n",
              "      <td>YES</td>\n",
              "      <td>36</td>\n",
              "    </tr>\n",
              "    <tr>\n",
              "      <th>223</th>\n",
              "      <td>ID_3187</td>\n",
              "      <td>NaT</td>\n",
              "      <td>223</td>\n",
              "      <td>2019-10-01</td>\n",
              "      <td>YES</td>\n",
              "      <td>36</td>\n",
              "    </tr>\n",
              "    <tr>\n",
              "      <th>224</th>\n",
              "      <td>ID_3192</td>\n",
              "      <td>NaT</td>\n",
              "      <td>224</td>\n",
              "      <td>2019-12-01</td>\n",
              "      <td>YES</td>\n",
              "      <td>36</td>\n",
              "    </tr>\n",
              "    <tr>\n",
              "      <th>225</th>\n",
              "      <td>ID_3218</td>\n",
              "      <td>NaT</td>\n",
              "      <td>225</td>\n",
              "      <td>2019-10-01</td>\n",
              "      <td>YES</td>\n",
              "      <td>36</td>\n",
              "    </tr>\n",
              "  </tbody>\n",
              "</table>\n",
              "<p>226 rows × 6 columns</p>\n",
              "</div>\n",
              "      <button class=\"colab-df-convert\" onclick=\"convertToInteractive('df-c056f5bd-cbdd-446b-98ba-3de121c83fd9')\"\n",
              "              title=\"Convert this dataframe to an interactive table.\"\n",
              "              style=\"display:none;\">\n",
              "        \n",
              "  <svg xmlns=\"http://www.w3.org/2000/svg\" height=\"24px\"viewBox=\"0 0 24 24\"\n",
              "       width=\"24px\">\n",
              "    <path d=\"M0 0h24v24H0V0z\" fill=\"none\"/>\n",
              "    <path d=\"M18.56 5.44l.94 2.06.94-2.06 2.06-.94-2.06-.94-.94-2.06-.94 2.06-2.06.94zm-11 1L8.5 8.5l.94-2.06 2.06-.94-2.06-.94L8.5 2.5l-.94 2.06-2.06.94zm10 10l.94 2.06.94-2.06 2.06-.94-2.06-.94-.94-2.06-.94 2.06-2.06.94z\"/><path d=\"M17.41 7.96l-1.37-1.37c-.4-.4-.92-.59-1.43-.59-.52 0-1.04.2-1.43.59L10.3 9.45l-7.72 7.72c-.78.78-.78 2.05 0 2.83L4 21.41c.39.39.9.59 1.41.59.51 0 1.02-.2 1.41-.59l7.78-7.78 2.81-2.81c.8-.78.8-2.07 0-2.86zM5.41 20L4 18.59l7.72-7.72 1.47 1.35L5.41 20z\"/>\n",
              "  </svg>\n",
              "      </button>\n",
              "      \n",
              "  <style>\n",
              "    .colab-df-container {\n",
              "      display:flex;\n",
              "      flex-wrap:wrap;\n",
              "      gap: 12px;\n",
              "    }\n",
              "\n",
              "    .colab-df-convert {\n",
              "      background-color: #E8F0FE;\n",
              "      border: none;\n",
              "      border-radius: 50%;\n",
              "      cursor: pointer;\n",
              "      display: none;\n",
              "      fill: #1967D2;\n",
              "      height: 32px;\n",
              "      padding: 0 0 0 0;\n",
              "      width: 32px;\n",
              "    }\n",
              "\n",
              "    .colab-df-convert:hover {\n",
              "      background-color: #E2EBFA;\n",
              "      box-shadow: 0px 1px 2px rgba(60, 64, 67, 0.3), 0px 1px 3px 1px rgba(60, 64, 67, 0.15);\n",
              "      fill: #174EA6;\n",
              "    }\n",
              "\n",
              "    [theme=dark] .colab-df-convert {\n",
              "      background-color: #3B4455;\n",
              "      fill: #D2E3FC;\n",
              "    }\n",
              "\n",
              "    [theme=dark] .colab-df-convert:hover {\n",
              "      background-color: #434B5C;\n",
              "      box-shadow: 0px 1px 3px 1px rgba(0, 0, 0, 0.15);\n",
              "      filter: drop-shadow(0px 1px 2px rgba(0, 0, 0, 0.3));\n",
              "      fill: #FFFFFF;\n",
              "    }\n",
              "  </style>\n",
              "\n",
              "      <script>\n",
              "        const buttonEl =\n",
              "          document.querySelector('#df-c056f5bd-cbdd-446b-98ba-3de121c83fd9 button.colab-df-convert');\n",
              "        buttonEl.style.display =\n",
              "          google.colab.kernel.accessAllowed ? 'block' : 'none';\n",
              "\n",
              "        async function convertToInteractive(key) {\n",
              "          const element = document.querySelector('#df-c056f5bd-cbdd-446b-98ba-3de121c83fd9');\n",
              "          const dataTable =\n",
              "            await google.colab.kernel.invokeFunction('convertToInteractive',\n",
              "                                                     [key], {});\n",
              "          if (!dataTable) return;\n",
              "\n",
              "          const docLinkHtml = 'Like what you see? Visit the ' +\n",
              "            '<a target=\"_blank\" href=https://colab.research.google.com/notebooks/data_table.ipynb>data table notebook</a>'\n",
              "            + ' to learn more about interactive tables.';\n",
              "          element.innerHTML = '';\n",
              "          dataTable['output_type'] = 'display_data';\n",
              "          await google.colab.output.renderOutput(dataTable, element);\n",
              "          const docLink = document.createElement('div');\n",
              "          docLink.innerHTML = docLinkHtml;\n",
              "          element.appendChild(docLink);\n",
              "        }\n",
              "      </script>\n",
              "    </div>\n",
              "  </div>\n",
              "  "
            ]
          },
          "metadata": {},
          "execution_count": 52
        }
      ]
    },
    {
      "cell_type": "code",
      "source": [
        "evaluate_test(custom_prediction(test_set,pred_test,method = \"average\"),true_tp)"
      ],
      "metadata": {
        "colab": {
          "base_uri": "https://localhost:8080/",
          "height": 755
        },
        "id": "qJHw5W2xFiAN",
        "outputId": "ed997c83-1388-4421-ab24-641dcd91cdf5"
      },
      "execution_count": null,
      "outputs": [
        {
          "output_type": "stream",
          "name": "stdout",
          "text": [
            "accuracy (TP vs. noTP): 0.23008849557522124\n",
            "mean absolute error in month for drugs with actual and predicted transition point:  6.875\n",
            "among 8 clusters with actual and predicted transition point, 0 are predicted correctly\n",
            "Percentage of correct dates: 0.0\n"
          ]
        },
        {
          "output_type": "execute_result",
          "data": {
            "text/plain": [
              "    cluster_id predicted_date  Unnamed: 0 transition_date is_transition  \\\n",
              "0        ID_35            NaT           0      2020-11-01           YES   \n",
              "1        ID_38            NaT           1      2019-12-01           YES   \n",
              "2        ID_39            NaT           2      2021-02-01           YES   \n",
              "3        ID_41            NaT           3      2020-07-01           YES   \n",
              "4        ID_62            NaT           4      2021-02-01           YES   \n",
              "..         ...            ...         ...             ...           ...   \n",
              "221    ID_3117            NaT         221      2021-03-01           YES   \n",
              "222    ID_3183            NaT         222      2020-12-01           YES   \n",
              "223    ID_3187            NaT         223      2019-10-01           YES   \n",
              "224    ID_3192            NaT         224      2019-12-01           YES   \n",
              "225    ID_3218            NaT         225      2019-10-01           YES   \n",
              "\n",
              "    absolute_error predicted_date_class actual_date_class  \n",
              "0              NaT                    0                 1  \n",
              "1              NaT                    0                 1  \n",
              "2              NaT                    0                 1  \n",
              "3              NaT                    0                 1  \n",
              "4              NaT                    0                 1  \n",
              "..             ...                  ...               ...  \n",
              "221            NaT                    0                 1  \n",
              "222            NaT                    0                 1  \n",
              "223            NaT                    0                 1  \n",
              "224            NaT                    0                 1  \n",
              "225            NaT                    0                 1  \n",
              "\n",
              "[226 rows x 8 columns]"
            ],
            "text/html": [
              "\n",
              "  <div id=\"df-5336322f-a91b-44fe-9c07-75670a83da7e\">\n",
              "    <div class=\"colab-df-container\">\n",
              "      <div>\n",
              "<style scoped>\n",
              "    .dataframe tbody tr th:only-of-type {\n",
              "        vertical-align: middle;\n",
              "    }\n",
              "\n",
              "    .dataframe tbody tr th {\n",
              "        vertical-align: top;\n",
              "    }\n",
              "\n",
              "    .dataframe thead th {\n",
              "        text-align: right;\n",
              "    }\n",
              "</style>\n",
              "<table border=\"1\" class=\"dataframe\">\n",
              "  <thead>\n",
              "    <tr style=\"text-align: right;\">\n",
              "      <th></th>\n",
              "      <th>cluster_id</th>\n",
              "      <th>predicted_date</th>\n",
              "      <th>Unnamed: 0</th>\n",
              "      <th>transition_date</th>\n",
              "      <th>is_transition</th>\n",
              "      <th>absolute_error</th>\n",
              "      <th>predicted_date_class</th>\n",
              "      <th>actual_date_class</th>\n",
              "    </tr>\n",
              "  </thead>\n",
              "  <tbody>\n",
              "    <tr>\n",
              "      <th>0</th>\n",
              "      <td>ID_35</td>\n",
              "      <td>NaT</td>\n",
              "      <td>0</td>\n",
              "      <td>2020-11-01</td>\n",
              "      <td>YES</td>\n",
              "      <td>NaT</td>\n",
              "      <td>0</td>\n",
              "      <td>1</td>\n",
              "    </tr>\n",
              "    <tr>\n",
              "      <th>1</th>\n",
              "      <td>ID_38</td>\n",
              "      <td>NaT</td>\n",
              "      <td>1</td>\n",
              "      <td>2019-12-01</td>\n",
              "      <td>YES</td>\n",
              "      <td>NaT</td>\n",
              "      <td>0</td>\n",
              "      <td>1</td>\n",
              "    </tr>\n",
              "    <tr>\n",
              "      <th>2</th>\n",
              "      <td>ID_39</td>\n",
              "      <td>NaT</td>\n",
              "      <td>2</td>\n",
              "      <td>2021-02-01</td>\n",
              "      <td>YES</td>\n",
              "      <td>NaT</td>\n",
              "      <td>0</td>\n",
              "      <td>1</td>\n",
              "    </tr>\n",
              "    <tr>\n",
              "      <th>3</th>\n",
              "      <td>ID_41</td>\n",
              "      <td>NaT</td>\n",
              "      <td>3</td>\n",
              "      <td>2020-07-01</td>\n",
              "      <td>YES</td>\n",
              "      <td>NaT</td>\n",
              "      <td>0</td>\n",
              "      <td>1</td>\n",
              "    </tr>\n",
              "    <tr>\n",
              "      <th>4</th>\n",
              "      <td>ID_62</td>\n",
              "      <td>NaT</td>\n",
              "      <td>4</td>\n",
              "      <td>2021-02-01</td>\n",
              "      <td>YES</td>\n",
              "      <td>NaT</td>\n",
              "      <td>0</td>\n",
              "      <td>1</td>\n",
              "    </tr>\n",
              "    <tr>\n",
              "      <th>...</th>\n",
              "      <td>...</td>\n",
              "      <td>...</td>\n",
              "      <td>...</td>\n",
              "      <td>...</td>\n",
              "      <td>...</td>\n",
              "      <td>...</td>\n",
              "      <td>...</td>\n",
              "      <td>...</td>\n",
              "    </tr>\n",
              "    <tr>\n",
              "      <th>221</th>\n",
              "      <td>ID_3117</td>\n",
              "      <td>NaT</td>\n",
              "      <td>221</td>\n",
              "      <td>2021-03-01</td>\n",
              "      <td>YES</td>\n",
              "      <td>NaT</td>\n",
              "      <td>0</td>\n",
              "      <td>1</td>\n",
              "    </tr>\n",
              "    <tr>\n",
              "      <th>222</th>\n",
              "      <td>ID_3183</td>\n",
              "      <td>NaT</td>\n",
              "      <td>222</td>\n",
              "      <td>2020-12-01</td>\n",
              "      <td>YES</td>\n",
              "      <td>NaT</td>\n",
              "      <td>0</td>\n",
              "      <td>1</td>\n",
              "    </tr>\n",
              "    <tr>\n",
              "      <th>223</th>\n",
              "      <td>ID_3187</td>\n",
              "      <td>NaT</td>\n",
              "      <td>223</td>\n",
              "      <td>2019-10-01</td>\n",
              "      <td>YES</td>\n",
              "      <td>NaT</td>\n",
              "      <td>0</td>\n",
              "      <td>1</td>\n",
              "    </tr>\n",
              "    <tr>\n",
              "      <th>224</th>\n",
              "      <td>ID_3192</td>\n",
              "      <td>NaT</td>\n",
              "      <td>224</td>\n",
              "      <td>2019-12-01</td>\n",
              "      <td>YES</td>\n",
              "      <td>NaT</td>\n",
              "      <td>0</td>\n",
              "      <td>1</td>\n",
              "    </tr>\n",
              "    <tr>\n",
              "      <th>225</th>\n",
              "      <td>ID_3218</td>\n",
              "      <td>NaT</td>\n",
              "      <td>225</td>\n",
              "      <td>2019-10-01</td>\n",
              "      <td>YES</td>\n",
              "      <td>NaT</td>\n",
              "      <td>0</td>\n",
              "      <td>1</td>\n",
              "    </tr>\n",
              "  </tbody>\n",
              "</table>\n",
              "<p>226 rows × 8 columns</p>\n",
              "</div>\n",
              "      <button class=\"colab-df-convert\" onclick=\"convertToInteractive('df-5336322f-a91b-44fe-9c07-75670a83da7e')\"\n",
              "              title=\"Convert this dataframe to an interactive table.\"\n",
              "              style=\"display:none;\">\n",
              "        \n",
              "  <svg xmlns=\"http://www.w3.org/2000/svg\" height=\"24px\"viewBox=\"0 0 24 24\"\n",
              "       width=\"24px\">\n",
              "    <path d=\"M0 0h24v24H0V0z\" fill=\"none\"/>\n",
              "    <path d=\"M18.56 5.44l.94 2.06.94-2.06 2.06-.94-2.06-.94-.94-2.06-.94 2.06-2.06.94zm-11 1L8.5 8.5l.94-2.06 2.06-.94-2.06-.94L8.5 2.5l-.94 2.06-2.06.94zm10 10l.94 2.06.94-2.06 2.06-.94-2.06-.94-.94-2.06-.94 2.06-2.06.94z\"/><path d=\"M17.41 7.96l-1.37-1.37c-.4-.4-.92-.59-1.43-.59-.52 0-1.04.2-1.43.59L10.3 9.45l-7.72 7.72c-.78.78-.78 2.05 0 2.83L4 21.41c.39.39.9.59 1.41.59.51 0 1.02-.2 1.41-.59l7.78-7.78 2.81-2.81c.8-.78.8-2.07 0-2.86zM5.41 20L4 18.59l7.72-7.72 1.47 1.35L5.41 20z\"/>\n",
              "  </svg>\n",
              "      </button>\n",
              "      \n",
              "  <style>\n",
              "    .colab-df-container {\n",
              "      display:flex;\n",
              "      flex-wrap:wrap;\n",
              "      gap: 12px;\n",
              "    }\n",
              "\n",
              "    .colab-df-convert {\n",
              "      background-color: #E8F0FE;\n",
              "      border: none;\n",
              "      border-radius: 50%;\n",
              "      cursor: pointer;\n",
              "      display: none;\n",
              "      fill: #1967D2;\n",
              "      height: 32px;\n",
              "      padding: 0 0 0 0;\n",
              "      width: 32px;\n",
              "    }\n",
              "\n",
              "    .colab-df-convert:hover {\n",
              "      background-color: #E2EBFA;\n",
              "      box-shadow: 0px 1px 2px rgba(60, 64, 67, 0.3), 0px 1px 3px 1px rgba(60, 64, 67, 0.15);\n",
              "      fill: #174EA6;\n",
              "    }\n",
              "\n",
              "    [theme=dark] .colab-df-convert {\n",
              "      background-color: #3B4455;\n",
              "      fill: #D2E3FC;\n",
              "    }\n",
              "\n",
              "    [theme=dark] .colab-df-convert:hover {\n",
              "      background-color: #434B5C;\n",
              "      box-shadow: 0px 1px 3px 1px rgba(0, 0, 0, 0.15);\n",
              "      filter: drop-shadow(0px 1px 2px rgba(0, 0, 0, 0.3));\n",
              "      fill: #FFFFFF;\n",
              "    }\n",
              "  </style>\n",
              "\n",
              "      <script>\n",
              "        const buttonEl =\n",
              "          document.querySelector('#df-5336322f-a91b-44fe-9c07-75670a83da7e button.colab-df-convert');\n",
              "        buttonEl.style.display =\n",
              "          google.colab.kernel.accessAllowed ? 'block' : 'none';\n",
              "\n",
              "        async function convertToInteractive(key) {\n",
              "          const element = document.querySelector('#df-5336322f-a91b-44fe-9c07-75670a83da7e');\n",
              "          const dataTable =\n",
              "            await google.colab.kernel.invokeFunction('convertToInteractive',\n",
              "                                                     [key], {});\n",
              "          if (!dataTable) return;\n",
              "\n",
              "          const docLinkHtml = 'Like what you see? Visit the ' +\n",
              "            '<a target=\"_blank\" href=https://colab.research.google.com/notebooks/data_table.ipynb>data table notebook</a>'\n",
              "            + ' to learn more about interactive tables.';\n",
              "          element.innerHTML = '';\n",
              "          dataTable['output_type'] = 'display_data';\n",
              "          await google.colab.output.renderOutput(dataTable, element);\n",
              "          const docLink = document.createElement('div');\n",
              "          docLink.innerHTML = docLinkHtml;\n",
              "          element.appendChild(docLink);\n",
              "        }\n",
              "      </script>\n",
              "    </div>\n",
              "  </div>\n",
              "  "
            ]
          },
          "metadata": {},
          "execution_count": 224
        },
        {
          "output_type": "display_data",
          "data": {
            "text/plain": [
              "<Figure size 432x288 with 2 Axes>"
            ],
            "image/png": "[encoded data removed]"
          },
          "metadata": {
            "needs_background": "light"
          }
        }
      ]
    },
    {
      "cell_type": "markdown",
      "source": [
        "#### xgboost"
      ],
      "metadata": {
        "id": "-IQqQ_E5426N"
      }
    },
    {
      "cell_type": "code",
      "source": [
        "import xgboost as xgb\n",
        "# Init classifier\n",
        "xgb_cl = xgb.XGBClassifier()\n",
        "\n",
        "# build pipeline\n",
        "c_feature = ['country','cluster','cluster_id','business_unit','ther_area_fact','is_exclusive','month',\"regulatory_designations_hasany\"]\n",
        "n_feature = ['indication_num','comp_num','first_comp_month','launch_months','month_since_growth','x1','x2','x3','x4']\n",
        "preprocess = make_column_transformer((OneHotEncoder(handle_unknown=\"ignore\"),c_feature),\n",
        "                                      (StandardScaler(),n_feature))\n",
        "best_rfc_pipe = make_pipeline(preprocess, xgb_cl)\n",
        "\n",
        "# Fit\n",
        "best_rfc_pipe.fit(x_train,y_train)\n",
        "\n",
        "# Predict\n",
        "preds = best_rfc_pipe.predict(x_val)\n",
        "\n",
        "# results\n",
        "conf_mat = confusion_matrix(y_val, preds)\n",
        "cmd = ConfusionMatrixDisplay(conf_mat, display_labels=['0','1'])\n",
        "cmd.plot()\n",
        "print(classification_report(y_val, preds))"
      ],
      "metadata": {
        "colab": {
          "base_uri": "https://localhost:8080/",
          "height": 436
        },
        "id": "w7JsX0Sg51PZ",
        "outputId": "6ca3c096-0e86-4b39-93ea-a05becbafe58"
      },
      "execution_count": null,
      "outputs": [
        {
          "output_type": "stream",
          "name": "stdout",
          "text": [
            "              precision    recall  f1-score   support\n",
            "\n",
            "         0.0       0.90      0.85      0.87      9580\n",
            "         1.0       0.16      0.23      0.19      1175\n",
            "\n",
            "    accuracy                           0.78     10755\n",
            "   macro avg       0.53      0.54      0.53     10755\n",
            "weighted avg       0.82      0.78      0.80     10755\n",
            "\n"
          ]
        },
        {
          "output_type": "display_data",
          "data": {
            "text/plain": [
              "<Figure size 432x288 with 2 Axes>"
            ],
            "image/png": "[encoded data removed]"
          },
          "metadata": {
            "needs_background": "light"
          }
        }
      ]
    },
    {
      "cell_type": "code",
      "source": [
        "compute_error_validation(custom_prediction(val_set,preds,method = \"average\"))"
      ],
      "metadata": {
        "id": "RcwDwDyR7nsn",
        "colab": {
          "base_uri": "https://localhost:8080/",
          "height": 458
        },
        "outputId": "123d19a9-a6cb-42e9-d17b-f6831f14ba89"
      },
      "execution_count": null,
      "outputs": [
        {
          "output_type": "stream",
          "name": "stdout",
          "text": [
            "mean absolute error in month:  19.879746835443036\n",
            "mean absolute error in month adjusted by predicted duration:  0.5522151898734177\n"
          ]
        },
        {
          "output_type": "execute_result",
          "data": {
            "text/plain": [
              "    cluster_id predicted_date transition_date  absolute_error\n",
              "0        ID_32     2016-12-01      2017-01-01               1\n",
              "1        ID_33            NaT      2018-05-01              36\n",
              "2        ID_36     2017-07-01             NaT              36\n",
              "3        ID_41     2017-05-01             NaT              36\n",
              "4        ID_45     2017-10-01      2018-05-01               7\n",
              "..         ...            ...             ...             ...\n",
              "311    ID_3192            NaT             NaT               0\n",
              "312    ID_3194     2016-07-01      2018-05-01              22\n",
              "313    ID_3196     2016-08-01             NaT              36\n",
              "314    ID_3218            NaT             NaT               0\n",
              "315    ID_3221     2017-03-01      2018-05-01              14\n",
              "\n",
              "[316 rows x 4 columns]"
            ],
            "text/html": [
              "\n",
              "  <div id=\"df-3e8a0b5e-f1be-4935-9eb5-b304edf5a4e0\">\n",
              "    <div class=\"colab-df-container\">\n",
              "      <div>\n",
              "<style scoped>\n",
              "    .dataframe tbody tr th:only-of-type {\n",
              "        vertical-align: middle;\n",
              "    }\n",
              "\n",
              "    .dataframe tbody tr th {\n",
              "        vertical-align: top;\n",
              "    }\n",
              "\n",
              "    .dataframe thead th {\n",
              "        text-align: right;\n",
              "    }\n",
              "</style>\n",
              "<table border=\"1\" class=\"dataframe\">\n",
              "  <thead>\n",
              "    <tr style=\"text-align: right;\">\n",
              "      <th></th>\n",
              "      <th>cluster_id</th>\n",
              "      <th>predicted_date</th>\n",
              "      <th>transition_date</th>\n",
              "      <th>absolute_error</th>\n",
              "    </tr>\n",
              "  </thead>\n",
              "  <tbody>\n",
              "    <tr>\n",
              "      <th>0</th>\n",
              "      <td>ID_32</td>\n",
              "      <td>2016-12-01</td>\n",
              "      <td>2017-01-01</td>\n",
              "      <td>1</td>\n",
              "    </tr>\n",
              "    <tr>\n",
              "      <th>1</th>\n",
              "      <td>ID_33</td>\n",
              "      <td>NaT</td>\n",
              "      <td>2018-05-01</td>\n",
              "      <td>36</td>\n",
              "    </tr>\n",
              "    <tr>\n",
              "      <th>2</th>\n",
              "      <td>ID_36</td>\n",
              "      <td>2017-07-01</td>\n",
              "      <td>NaT</td>\n",
              "      <td>36</td>\n",
              "    </tr>\n",
              "    <tr>\n",
              "      <th>3</th>\n",
              "      <td>ID_41</td>\n",
              "      <td>2017-05-01</td>\n",
              "      <td>NaT</td>\n",
              "      <td>36</td>\n",
              "    </tr>\n",
              "    <tr>\n",
              "      <th>4</th>\n",
              "      <td>ID_45</td>\n",
              "      <td>2017-10-01</td>\n",
              "      <td>2018-05-01</td>\n",
              "      <td>7</td>\n",
              "    </tr>\n",
              "    <tr>\n",
              "      <th>...</th>\n",
              "      <td>...</td>\n",
              "      <td>...</td>\n",
              "      <td>...</td>\n",
              "      <td>...</td>\n",
              "    </tr>\n",
              "    <tr>\n",
              "      <th>311</th>\n",
              "      <td>ID_3192</td>\n",
              "      <td>NaT</td>\n",
              "      <td>NaT</td>\n",
              "      <td>0</td>\n",
              "    </tr>\n",
              "    <tr>\n",
              "      <th>312</th>\n",
              "      <td>ID_3194</td>\n",
              "      <td>2016-07-01</td>\n",
              "      <td>2018-05-01</td>\n",
              "      <td>22</td>\n",
              "    </tr>\n",
              "    <tr>\n",
              "      <th>313</th>\n",
              "      <td>ID_3196</td>\n",
              "      <td>2016-08-01</td>\n",
              "      <td>NaT</td>\n",
              "      <td>36</td>\n",
              "    </tr>\n",
              "    <tr>\n",
              "      <th>314</th>\n",
              "      <td>ID_3218</td>\n",
              "      <td>NaT</td>\n",
              "      <td>NaT</td>\n",
              "      <td>0</td>\n",
              "    </tr>\n",
              "    <tr>\n",
              "      <th>315</th>\n",
              "      <td>ID_3221</td>\n",
              "      <td>2017-03-01</td>\n",
              "      <td>2018-05-01</td>\n",
              "      <td>14</td>\n",
              "    </tr>\n",
              "  </tbody>\n",
              "</table>\n",
              "<p>316 rows × 4 columns</p>\n",
              "</div>\n",
              "      <button class=\"colab-df-convert\" onclick=\"convertToInteractive('df-3e8a0b5e-f1be-4935-9eb5-b304edf5a4e0')\"\n",
              "              title=\"Convert this dataframe to an interactive table.\"\n",
              "              style=\"display:none;\">\n",
              "        \n",
              "  <svg xmlns=\"http://www.w3.org/2000/svg\" height=\"24px\"viewBox=\"0 0 24 24\"\n",
              "       width=\"24px\">\n",
              "    <path d=\"M0 0h24v24H0V0z\" fill=\"none\"/>\n",
              "    <path d=\"M18.56 5.44l.94 2.06.94-2.06 2.06-.94-2.06-.94-.94-2.06-.94 2.06-2.06.94zm-11 1L8.5 8.5l.94-2.06 2.06-.94-2.06-.94L8.5 2.5l-.94 2.06-2.06.94zm10 10l.94 2.06.94-2.06 2.06-.94-2.06-.94-.94-2.06-.94 2.06-2.06.94z\"/><path d=\"M17.41 7.96l-1.37-1.37c-.4-.4-.92-.59-1.43-.59-.52 0-1.04.2-1.43.59L10.3 9.45l-7.72 7.72c-.78.78-.78 2.05 0 2.83L4 21.41c.39.39.9.59 1.41.59.51 0 1.02-.2 1.41-.59l7.78-7.78 2.81-2.81c.8-.78.8-2.07 0-2.86zM5.41 20L4 18.59l7.72-7.72 1.47 1.35L5.41 20z\"/>\n",
              "  </svg>\n",
              "      </button>\n",
              "      \n",
              "  <style>\n",
              "    .colab-df-container {\n",
              "      display:flex;\n",
              "      flex-wrap:wrap;\n",
              "      gap: 12px;\n",
              "    }\n",
              "\n",
              "    .colab-df-convert {\n",
              "      background-color: #E8F0FE;\n",
              "      border: none;\n",
              "      border-radius: 50%;\n",
              "      cursor: pointer;\n",
              "      display: none;\n",
              "      fill: #1967D2;\n",
              "      height: 32px;\n",
              "      padding: 0 0 0 0;\n",
              "      width: 32px;\n",
              "    }\n",
              "\n",
              "    .colab-df-convert:hover {\n",
              "      background-color: #E2EBFA;\n",
              "      box-shadow: 0px 1px 2px rgba(60, 64, 67, 0.3), 0px 1px 3px 1px rgba(60, 64, 67, 0.15);\n",
              "      fill: #174EA6;\n",
              "    }\n",
              "\n",
              "    [theme=dark] .colab-df-convert {\n",
              "      background-color: #3B4455;\n",
              "      fill: #D2E3FC;\n",
              "    }\n",
              "\n",
              "    [theme=dark] .colab-df-convert:hover {\n",
              "      background-color: #434B5C;\n",
              "      box-shadow: 0px 1px 3px 1px rgba(0, 0, 0, 0.15);\n",
              "      filter: drop-shadow(0px 1px 2px rgba(0, 0, 0, 0.3));\n",
              "      fill: #FFFFFF;\n",
              "    }\n",
              "  </style>\n",
              "\n",
              "      <script>\n",
              "        const buttonEl =\n",
              "          document.querySelector('#df-3e8a0b5e-f1be-4935-9eb5-b304edf5a4e0 button.colab-df-convert');\n",
              "        buttonEl.style.display =\n",
              "          google.colab.kernel.accessAllowed ? 'block' : 'none';\n",
              "\n",
              "        async function convertToInteractive(key) {\n",
              "          const element = document.querySelector('#df-3e8a0b5e-f1be-4935-9eb5-b304edf5a4e0');\n",
              "          const dataTable =\n",
              "            await google.colab.kernel.invokeFunction('convertToInteractive',\n",
              "                                                     [key], {});\n",
              "          if (!dataTable) return;\n",
              "\n",
              "          const docLinkHtml = 'Like what you see? Visit the ' +\n",
              "            '<a target=\"_blank\" href=https://colab.research.google.com/notebooks/data_table.ipynb>data table notebook</a>'\n",
              "            + ' to learn more about interactive tables.';\n",
              "          element.innerHTML = '';\n",
              "          dataTable['output_type'] = 'display_data';\n",
              "          await google.colab.output.renderOutput(dataTable, element);\n",
              "          const docLink = document.createElement('div');\n",
              "          docLink.innerHTML = docLinkHtml;\n",
              "          element.appendChild(docLink);\n",
              "        }\n",
              "      </script>\n",
              "    </div>\n",
              "  </div>\n",
              "  "
            ]
          },
          "metadata": {},
          "execution_count": 219
        }
      ]
    },
    {
      "cell_type": "code",
      "source": [
        "evaluate_validation(custom_prediction(val_set,preds,method = \"average\",truncate=0))"
      ],
      "metadata": {
        "id": "24DapeR-7tRP",
        "colab": {
          "base_uri": "https://localhost:8080/",
          "height": 755
        },
        "outputId": "cb191cc3-cecb-465d-98d4-d06e296cda2a"
      },
      "execution_count": null,
      "outputs": [
        {
          "output_type": "stream",
          "name": "stdout",
          "text": [
            "accuracy (TP vs. noTP): 0.4430379746835443\n",
            "mean absolute error in month for drugs with actual and predicted transition point:  9.30379746835443\n",
            "among 79 clusters with actual and predicted transition point, 8 are predicted correctly\n",
            "Percentage of correct dates: 0.10126582278481013\n"
          ]
        },
        {
          "output_type": "execute_result",
          "data": {
            "text/plain": [
              "    cluster_id predicted_date transition_date absolute_error  \\\n",
              "0        ID_32     2016-12-01      2017-01-01              1   \n",
              "1        ID_33            NaT      2018-05-01            NaT   \n",
              "2        ID_36     2017-07-01             NaT            NaT   \n",
              "3        ID_41     2017-05-01             NaT            NaT   \n",
              "4        ID_45     2017-10-01      2018-05-01              7   \n",
              "..         ...            ...             ...            ...   \n",
              "311    ID_3192            NaT             NaT            NaT   \n",
              "312    ID_3194     2016-07-01      2018-05-01             22   \n",
              "313    ID_3196     2016-08-01             NaT            NaT   \n",
              "314    ID_3218            NaT             NaT            NaT   \n",
              "315    ID_3221     2017-03-01      2018-05-01             14   \n",
              "\n",
              "    predicted_date_class actual_date_class  \n",
              "0                      1                 1  \n",
              "1                      0                 1  \n",
              "2                      1                 0  \n",
              "3                      1                 0  \n",
              "4                      1                 1  \n",
              "..                   ...               ...  \n",
              "311                    0                 0  \n",
              "312                    1                 1  \n",
              "313                    1                 0  \n",
              "314                    0                 0  \n",
              "315                    1                 1  \n",
              "\n",
              "[316 rows x 6 columns]"
            ],
            "text/html": [
              "\n",
              "  <div id=\"df-929c65f9-1d5c-4898-a2c4-04deaf174ccd\">\n",
              "    <div class=\"colab-df-container\">\n",
              "      <div>\n",
              "<style scoped>\n",
              "    .dataframe tbody tr th:only-of-type {\n",
              "        vertical-align: middle;\n",
              "    }\n",
              "\n",
              "    .dataframe tbody tr th {\n",
              "        vertical-align: top;\n",
              "    }\n",
              "\n",
              "    .dataframe thead th {\n",
              "        text-align: right;\n",
              "    }\n",
              "</style>\n",
              "<table border=\"1\" class=\"dataframe\">\n",
              "  <thead>\n",
              "    <tr style=\"text-align: right;\">\n",
              "      <th></th>\n",
              "      <th>cluster_id</th>\n",
              "      <th>predicted_date</th>\n",
              "      <th>transition_date</th>\n",
              "      <th>absolute_error</th>\n",
              "      <th>predicted_date_class</th>\n",
              "      <th>actual_date_class</th>\n",
              "    </tr>\n",
              "  </thead>\n",
              "  <tbody>\n",
              "    <tr>\n",
              "      <th>0</th>\n",
              "      <td>ID_32</td>\n",
              "      <td>2016-12-01</td>\n",
              "      <td>2017-01-01</td>\n",
              "      <td>1</td>\n",
              "      <td>1</td>\n",
              "      <td>1</td>\n",
              "    </tr>\n",
              "    <tr>\n",
              "      <th>1</th>\n",
              "      <td>ID_33</td>\n",
              "      <td>NaT</td>\n",
              "      <td>2018-05-01</td>\n",
              "      <td>NaT</td>\n",
              "      <td>0</td>\n",
              "      <td>1</td>\n",
              "    </tr>\n",
              "    <tr>\n",
              "      <th>2</th>\n",
              "      <td>ID_36</td>\n",
              "      <td>2017-07-01</td>\n",
              "      <td>NaT</td>\n",
              "      <td>NaT</td>\n",
              "      <td>1</td>\n",
              "      <td>0</td>\n",
              "    </tr>\n",
              "    <tr>\n",
              "      <th>3</th>\n",
              "      <td>ID_41</td>\n",
              "      <td>2017-05-01</td>\n",
              "      <td>NaT</td>\n",
              "      <td>NaT</td>\n",
              "      <td>1</td>\n",
              "      <td>0</td>\n",
              "    </tr>\n",
              "    <tr>\n",
              "      <th>4</th>\n",
              "      <td>ID_45</td>\n",
              "      <td>2017-10-01</td>\n",
              "      <td>2018-05-01</td>\n",
              "      <td>7</td>\n",
              "      <td>1</td>\n",
              "      <td>1</td>\n",
              "    </tr>\n",
              "    <tr>\n",
              "      <th>...</th>\n",
              "      <td>...</td>\n",
              "      <td>...</td>\n",
              "      <td>...</td>\n",
              "      <td>...</td>\n",
              "      <td>...</td>\n",
              "      <td>...</td>\n",
              "    </tr>\n",
              "    <tr>\n",
              "      <th>311</th>\n",
              "      <td>ID_3192</td>\n",
              "      <td>NaT</td>\n",
              "      <td>NaT</td>\n",
              "      <td>NaT</td>\n",
              "      <td>0</td>\n",
              "      <td>0</td>\n",
              "    </tr>\n",
              "    <tr>\n",
              "      <th>312</th>\n",
              "      <td>ID_3194</td>\n",
              "      <td>2016-07-01</td>\n",
              "      <td>2018-05-01</td>\n",
              "      <td>22</td>\n",
              "      <td>1</td>\n",
              "      <td>1</td>\n",
              "    </tr>\n",
              "    <tr>\n",
              "      <th>313</th>\n",
              "      <td>ID_3196</td>\n",
              "      <td>2016-08-01</td>\n",
              "      <td>NaT</td>\n",
              "      <td>NaT</td>\n",
              "      <td>1</td>\n",
              "      <td>0</td>\n",
              "    </tr>\n",
              "    <tr>\n",
              "      <th>314</th>\n",
              "      <td>ID_3218</td>\n",
              "      <td>NaT</td>\n",
              "      <td>NaT</td>\n",
              "      <td>NaT</td>\n",
              "      <td>0</td>\n",
              "      <td>0</td>\n",
              "    </tr>\n",
              "    <tr>\n",
              "      <th>315</th>\n",
              "      <td>ID_3221</td>\n",
              "      <td>2017-03-01</td>\n",
              "      <td>2018-05-01</td>\n",
              "      <td>14</td>\n",
              "      <td>1</td>\n",
              "      <td>1</td>\n",
              "    </tr>\n",
              "  </tbody>\n",
              "</table>\n",
              "<p>316 rows × 6 columns</p>\n",
              "</div>\n",
              "      <button class=\"colab-df-convert\" onclick=\"convertToInteractive('df-929c65f9-1d5c-4898-a2c4-04deaf174ccd')\"\n",
              "              title=\"Convert this dataframe to an interactive table.\"\n",
              "              style=\"display:none;\">\n",
              "        \n",
              "  <svg xmlns=\"http://www.w3.org/2000/svg\" height=\"24px\"viewBox=\"0 0 24 24\"\n",
              "       width=\"24px\">\n",
              "    <path d=\"M0 0h24v24H0V0z\" fill=\"none\"/>\n",
              "    <path d=\"M18.56 5.44l.94 2.06.94-2.06 2.06-.94-2.06-.94-.94-2.06-.94 2.06-2.06.94zm-11 1L8.5 8.5l.94-2.06 2.06-.94-2.06-.94L8.5 2.5l-.94 2.06-2.06.94zm10 10l.94 2.06.94-2.06 2.06-.94-2.06-.94-.94-2.06-.94 2.06-2.06.94z\"/><path d=\"M17.41 7.96l-1.37-1.37c-.4-.4-.92-.59-1.43-.59-.52 0-1.04.2-1.43.59L10.3 9.45l-7.72 7.72c-.78.78-.78 2.05 0 2.83L4 21.41c.39.39.9.59 1.41.59.51 0 1.02-.2 1.41-.59l7.78-7.78 2.81-2.81c.8-.78.8-2.07 0-2.86zM5.41 20L4 18.59l7.72-7.72 1.47 1.35L5.41 20z\"/>\n",
              "  </svg>\n",
              "      </button>\n",
              "      \n",
              "  <style>\n",
              "    .colab-df-container {\n",
              "      display:flex;\n",
              "      flex-wrap:wrap;\n",
              "      gap: 12px;\n",
              "    }\n",
              "\n",
              "    .colab-df-convert {\n",
              "      background-color: #E8F0FE;\n",
              "      border: none;\n",
              "      border-radius: 50%;\n",
              "      cursor: pointer;\n",
              "      display: none;\n",
              "      fill: #1967D2;\n",
              "      height: 32px;\n",
              "      padding: 0 0 0 0;\n",
              "      width: 32px;\n",
              "    }\n",
              "\n",
              "    .colab-df-convert:hover {\n",
              "      background-color: #E2EBFA;\n",
              "      box-shadow: 0px 1px 2px rgba(60, 64, 67, 0.3), 0px 1px 3px 1px rgba(60, 64, 67, 0.15);\n",
              "      fill: #174EA6;\n",
              "    }\n",
              "\n",
              "    [theme=dark] .colab-df-convert {\n",
              "      background-color: #3B4455;\n",
              "      fill: #D2E3FC;\n",
              "    }\n",
              "\n",
              "    [theme=dark] .colab-df-convert:hover {\n",
              "      background-color: #434B5C;\n",
              "      box-shadow: 0px 1px 3px 1px rgba(0, 0, 0, 0.15);\n",
              "      filter: drop-shadow(0px 1px 2px rgba(0, 0, 0, 0.3));\n",
              "      fill: #FFFFFF;\n",
              "    }\n",
              "  </style>\n",
              "\n",
              "      <script>\n",
              "        const buttonEl =\n",
              "          document.querySelector('#df-929c65f9-1d5c-4898-a2c4-04deaf174ccd button.colab-df-convert');\n",
              "        buttonEl.style.display =\n",
              "          google.colab.kernel.accessAllowed ? 'block' : 'none';\n",
              "\n",
              "        async function convertToInteractive(key) {\n",
              "          const element = document.querySelector('#df-929c65f9-1d5c-4898-a2c4-04deaf174ccd');\n",
              "          const dataTable =\n",
              "            await google.colab.kernel.invokeFunction('convertToInteractive',\n",
              "                                                     [key], {});\n",
              "          if (!dataTable) return;\n",
              "\n",
              "          const docLinkHtml = 'Like what you see? Visit the ' +\n",
              "            '<a target=\"_blank\" href=https://colab.research.google.com/notebooks/data_table.ipynb>data table notebook</a>'\n",
              "            + ' to learn more about interactive tables.';\n",
              "          element.innerHTML = '';\n",
              "          dataTable['output_type'] = 'display_data';\n",
              "          await google.colab.output.renderOutput(dataTable, element);\n",
              "          const docLink = document.createElement('div');\n",
              "          docLink.innerHTML = docLinkHtml;\n",
              "          element.appendChild(docLink);\n",
              "        }\n",
              "      </script>\n",
              "    </div>\n",
              "  </div>\n",
              "  "
            ]
          },
          "metadata": {},
          "execution_count": 220
        },
        {
          "output_type": "display_data",
          "data": {
            "text/plain": [
              "<Figure size 432x288 with 2 Axes>"
            ],
            "image/png": "[encoded data removed]"
          },
          "metadata": {
            "needs_background": "light"
          }
        }
      ]
    },
    {
      "cell_type": "markdown",
      "source": [
        "### *Growth vs Maturity Label Classification*"
      ],
      "metadata": {
        "id": "EExjf0nP57KZ"
      }
    },
    {
      "cell_type": "code",
      "source": [
        "train_df, val_df, test_df = train_val_split(final_df_v2)\n",
        "train_df = downsample_0(train_df, 0.5)\n",
        "training_set = train_df.drop([\"date\",\"stage_name_lag_1\",\"volume\",\"gx_entry_date\",\"launch_date\",\"start_date\",\"transition_point\"],axis=1)\n",
        "val_set = val_df.drop([\"stage_name_lag_1\",\"volume\",\"gx_entry_date\",\"launch_date\",\"start_date\",\"transition_point\"],axis=1)\n",
        "\n",
        "le = LabelEncoder()\n",
        "training_set.stage_name = le.fit_transform(training_set.stage_name)\n",
        "val_set.stage_name = le.transform(val_set.stage_name)"
      ],
      "metadata": {
        "id": "u9Damfr0zwrl",
        "colab": {
          "base_uri": "https://localhost:8080/"
        },
        "outputId": "ea9cd921-f01d-414a-833f-77429b8ef14d"
      },
      "execution_count": null,
      "outputs": [
        {
          "output_type": "stream",
          "name": "stdout",
          "text": [
            "Original number of 0s: 9278 after downsampling: 4639\n"
          ]
        }
      ]
    },
    {
      "cell_type": "code",
      "source": [
        "x_train = training_set.drop([\"stage_name\"],axis=1)\n",
        "y_train = training_set.stage_name\n",
        "\n",
        "x_val = val_set.drop([\"stage_name\"],axis=1)\n",
        "y_val = val_set.stage_name"
      ],
      "metadata": {
        "id": "eMBfD_pK6fBc"
      },
      "execution_count": null,
      "outputs": []
    },
    {
      "cell_type": "code",
      "source": [
        "print(len(train_df[train_df[\"stage_name\"]=='Growth']))\n",
        "print(len(train_df[train_df[\"stage_name\"]=='Maturity']))"
      ],
      "metadata": {
        "id": "rMjf89_F-gRq",
        "colab": {
          "base_uri": "https://localhost:8080/"
        },
        "outputId": "2183f3c3-2199-4702-c911-e55a9007ea2a"
      },
      "execution_count": null,
      "outputs": [
        {
          "output_type": "stream",
          "name": "stdout",
          "text": [
            "3922\n",
            "3021\n"
          ]
        }
      ]
    },
    {
      "cell_type": "markdown",
      "source": [
        "#### Random Forest"
      ],
      "metadata": {
        "id": "Lg0vny-sz_0a"
      }
    },
    {
      "cell_type": "code",
      "source": [
        "# rfc_pipe2 = make_pipeline(preprocess, GridSearchCV(RandomForestClassifier(random_state = 0,oob_score=True,warm_start=True),\n",
        "#                                        param_grid = [{\"n_estimators\":[100,200,300],\n",
        "#                                                       \"max_features\":[10,15,20],\n",
        "#                                                       \"class_weight\":[{0:1,1:5},{0:1,1:10}]}]))\n",
        "# rfc_pipe2.fit(x_train,y_train)"
      ],
      "metadata": {
        "id": "zR_Omoca6nDg"
      },
      "execution_count": null,
      "outputs": []
    },
    {
      "cell_type": "code",
      "source": [
        "# grid_search_results = rfc_pipe2.named_steps[\"gridsearchcv\"]\n",
        "# print(f\"Best score:\",grid_search_results.best_score_)\n",
        "# print(f\"Best parameters:\",grid_search_results.best_params_)"
      ],
      "metadata": {
        "id": "2BT6arSJ8VJo"
      },
      "execution_count": null,
      "outputs": []
    },
    {
      "cell_type": "code",
      "source": [
        "best_rfc_pipe2 = make_pipeline(preprocess, RandomForestClassifier(random_state = 0, \n",
        "                                  n_estimators = 300,\n",
        "                                  max_features = 10,\n",
        "                                  oob_score=True,\n",
        "                                  warm_start=True))\n",
        "\n",
        "best_rfc_pipe2.fit(x_train,y_train)\n",
        "\n",
        "\n",
        "pred2 = best_rfc_pipe2.predict(x_val)"
      ],
      "metadata": {
        "id": "c6WD3IrKhlve"
      },
      "execution_count": null,
      "outputs": []
    },
    {
      "cell_type": "code",
      "source": [
        "# pred = rfc_pipe2.predict(x_val)"
      ],
      "metadata": {
        "id": "Q4EWP4Vx76S3"
      },
      "execution_count": null,
      "outputs": []
    },
    {
      "cell_type": "code",
      "source": [
        "compute_error_validation(custom_prediction(val_set,pred2,method=\"average\",truncate=18))"
      ],
      "metadata": {
        "id": "zhIx_Q1k79KQ"
      },
      "execution_count": null,
      "outputs": []
    },
    {
      "cell_type": "code",
      "source": [
        "evaluate_validation(custom_prediction(val_set,pred2))"
      ],
      "metadata": {
        "id": "1ZRgUllvtunM"
      },
      "execution_count": null,
      "outputs": []
    },
    {
      "cell_type": "code",
      "source": [
        "#Final training set\n",
        "\n",
        "final_training_set = pd.concat([train_df,val_df])\n",
        "final_training_set = downsample_gm(final_training_set,0.6)\n",
        "\n",
        "drop1 = [\"date\",\n",
        "         #\"stage_name_lag_1\",\n",
        "         # \"stage_id_cumsum\", (not available any more)\n",
        "         \"volume\",\"gx_entry_date\",\"launch_date\",\"start_date\",\"last_stage_days\",\"growth_date\",\n",
        "         #'first_comp_month',\n",
        "         'last_ind_days','transition_point',\n",
        "         'population','prevalence',\n",
        "         #'prevalence_pct', (not available any more)\n",
        "         '1','2','3','4','5','6','7','8','9','10','11','12',\n",
        "         'vol_mean_alltime', 'vol_std_alltime','vol_mean_before_2016', 'vol_std_before_2016', 'vol_mean_before_4m','vol_std_before_4m', 'vol_mean_before_1y', 'vol_std_before_1y'\n",
        "         ]\n",
        "\n",
        "final_training_set = final_training_set.drop(drop1,axis=1)\n",
        "\n",
        "le = LabelEncoder()\n",
        "final_training_set.stage_name = le.fit_transform(final_training_set.stage_name)\n",
        "\n",
        "final_x_train = final_training_set.drop([\"stage_name\"],axis=1)\n",
        "final_y_train = final_training_set.stage_name"
      ],
      "metadata": {
        "colab": {
          "base_uri": "https://localhost:8080/"
        },
        "id": "TNe5HlVC37JX",
        "outputId": "b751a410-9c08-4709-eeaa-4dcac905c2b2"
      },
      "execution_count": null,
      "outputs": [
        {
          "output_type": "stream",
          "name": "stdout",
          "text": [
            "Original number of 0s: 12108 after downsampling: 7264\n"
          ]
        }
      ]
    },
    {
      "cell_type": "code",
      "source": [
        "def downsample_gm(train_df, perc):\n",
        "  '''\n",
        "    downsample number of 0 in the train_df\n",
        "    perc: percentage of 0 labels in the train_set\n",
        "  '''\n",
        "\n",
        "  # 1. find row indexs of 0 \n",
        "  train_df = train_df.reset_index(drop=True)\n",
        "  growth_index = train_df.index[train_df['stage_name'] == \"Growth\"].tolist()\n",
        "  maturity_index = train_df.index[train_df['stage_name'] == \"Maturity\"].tolist()\n",
        "  # 2. random sample row index\n",
        "  random.seed(0)\n",
        "  new_growth_index = random.sample(set(growth_index),int(len(growth_index)*perc))\n",
        "  # 3. delete selected rows\n",
        "  new_train_df_index = new_growth_index + maturity_index\n",
        "\n",
        "  new_train_df = train_df.loc[new_train_df_index]\n",
        "  print(f'Original number of 0s: {len(growth_index)} after downsampling: {int(len(growth_index)*perc)}')\n",
        "  return new_train_df"
      ],
      "metadata": {
        "id": "euzx9uMy-qrw"
      },
      "execution_count": null,
      "outputs": []
    },
    {
      "cell_type": "code",
      "source": [
        "best_rfc_pipe_final = make_pipeline(preprocess, RandomForestClassifier(random_state = 0, \n",
        "                                  n_estimators = 300,\n",
        "                                  max_features = 10,\n",
        "                                  oob_score=True,\n",
        "                                  warm_start=True))\n",
        "\n",
        "best_rfc_pipe_final.fit(final_x_train,final_y_train)"
      ],
      "metadata": {
        "colab": {
          "base_uri": "https://localhost:8080/"
        },
        "id": "6TQQ9iDH5egc",
        "outputId": "a8606d77-06bd-450b-da86-d029e12b9700"
      },
      "execution_count": null,
      "outputs": [
        {
          "output_type": "execute_result",
          "data": {
            "text/plain": [
              "Pipeline(steps=[('columntransformer',\n",
              "                 ColumnTransformer(transformers=[('onehotencoder',\n",
              "                                                  OneHotEncoder(handle_unknown='ignore'),\n",
              "                                                  ['country', 'cluster',\n",
              "                                                   'cluster_id',\n",
              "                                                   'business_unit',\n",
              "                                                   'ther_area_fact',\n",
              "                                                   'is_exclusive', 'month',\n",
              "                                                   'regulatory_designations_hasany']),\n",
              "                                                 ('standardscaler',\n",
              "                                                  StandardScaler(),\n",
              "                                                  ['indication_num', 'comp_num',\n",
              "                                                   'first_comp_month',\n",
              "                                                   'launch_months',\n",
              "                                                   'month_since_growth', 'x1',\n",
              "                                                   'x2', 'x3', 'x4'])])),\n",
              "                ('randomforestclassifier',\n",
              "                 RandomForestClassifier(max_features=10, n_estimators=300,\n",
              "                                        oob_score=True, random_state=0,\n",
              "                                        warm_start=True))])"
            ]
          },
          "metadata": {},
          "execution_count": 181
        }
      ]
    },
    {
      "cell_type": "code",
      "source": [
        "true_tp = pd.read_csv(\"https://raw.githubusercontent.com/hangxu0324/Capstone-Project/main/data/material_candidates/submission_part_one.csv\")\n",
        "true_tp[\"transition_date\"] = pd.to_datetime(true_tp[\"transition_date\"])\n",
        "test_df = final_df_v2[(final_df_v2['cluster_id'].isin(true_tp.cluster_id.unique())) & (final_df_v2['date']>\"2019-03-01\")]\n",
        "print(len(test_df.cluster_id.unique()))"
      ],
      "metadata": {
        "colab": {
          "base_uri": "https://localhost:8080/"
        },
        "id": "oMlQ49t60Jmm",
        "outputId": "64bdd3b9-12de-4be5-ff7a-0ec941e32dd5"
      },
      "execution_count": null,
      "outputs": [
        {
          "output_type": "stream",
          "name": "stdout",
          "text": [
            "226\n"
          ]
        }
      ]
    },
    {
      "cell_type": "code",
      "source": [
        "drop = [\"transition_point\",\n",
        "         #\"stage_name_lag_1\",\n",
        "         # \"stage_id_cumsum\", (not available any more)\n",
        "         \"volume\",\"gx_entry_date\",\"launch_date\",\"start_date\",\"last_stage_days\",\"growth_date\",\n",
        "         #'first_comp_month',\n",
        "         'last_ind_days',\n",
        "         'population','prevalence',\n",
        "         #'prevalence_pct', (not available any more)\n",
        "         '1','2','3','4','5','6','7','8','9','10','11','12',\n",
        "         'vol_mean_alltime', 'vol_std_alltime','vol_mean_before_2016', 'vol_std_before_2016', 'vol_mean_before_4m','vol_std_before_4m', 'vol_mean_before_1y', 'vol_std_before_1y'\n",
        "         ]\n",
        "\n",
        "test_set = test_df.drop(drop, axis=1)\n",
        "x_test = test_set.drop([\"stage_name\"],axis=1)\n",
        "y_test = test_set.stage_name"
      ],
      "metadata": {
        "id": "h8UYNoGK0O7N"
      },
      "execution_count": null,
      "outputs": []
    },
    {
      "cell_type": "code",
      "source": [
        "pred_test = best_rfc_pipe_final.predict(x_test.drop(columns=['date']))"
      ],
      "metadata": {
        "id": "ZRx0ZwCC0RiI"
      },
      "execution_count": null,
      "outputs": []
    },
    {
      "cell_type": "code",
      "source": [
        "df = compute_error_test(custom_prediction(test_set,pred_test,method = \"average\",truncate=0),true_tp)"
      ],
      "metadata": {
        "colab": {
          "base_uri": "https://localhost:8080/"
        },
        "id": "Z6Y4Ve4r0X1x",
        "outputId": "0e87760c-4542-47e8-df17-434a15e79e54"
      },
      "execution_count": null,
      "outputs": [
        {
          "output_type": "stream",
          "name": "stdout",
          "text": [
            "mean absolute error in month:  22.3141592920354\n",
            "mean absolute error in month adjusted by predicted duration:  0.6198377581120944\n"
          ]
        }
      ]
    },
    {
      "cell_type": "code",
      "source": [
        "df.to_csv(\"pred_eval.csv\")"
      ],
      "metadata": {
        "id": "ovjfrYLADcrk"
      },
      "execution_count": null,
      "outputs": []
    },
    {
      "cell_type": "markdown",
      "source": [
        "#### DNN model"
      ],
      "metadata": {
        "id": "w9-QZ7AYT-7Q"
      }
    },
    {
      "cell_type": "markdown",
      "source": [
        "###### Training Set Balanced"
      ],
      "metadata": {
        "id": "j73rysnduxcc"
      }
    },
    {
      "cell_type": "code",
      "source": [
        "tf.keras.utils.set_random_seed(1234)\n",
        "# Set up model\n",
        "model = tf.keras.models.Sequential([\n",
        "    Dense(128, activation = \"relu\"),\n",
        "    #Dropout(0.2),\n",
        "    #Dense(32, activation = \"relu\"),\n",
        "    Dropout(0.2),\n",
        "    Dense(2, activation = \"softmax\")\n",
        "])\n",
        "model.compile(\n",
        "    optimizer='adam',\n",
        "    loss='sparse_categorical_crossentropy',\n",
        "    #loss = 'sparse_categorical_accuracy',\n",
        "    metrics=['accuracy']\n",
        ")\n",
        "\n",
        "#\n",
        "epochs = 30\n",
        "batch_size = 500\n",
        "\n",
        "col_drop = [\n",
        "            \"transition_point\", 'gx_entry_date', 'launch_date','date',\n",
        "            \"stage_name_lag_1\",\n",
        "            #\"stage_id_cumsum\",\n",
        "            \"volume\",\"start_date\",'cluster','growth_date',\\\n",
        "            '1', '2', '3', '4', '5', '6', '7', '8', '9', '10', '11', '12', \\\n",
        "            'vol_mean_alltime', 'vol_std_alltime',\\\n",
        "            'vol_mean_before_2016', 'vol_std_before_2016', \n",
        "            'vol_mean_before_4m','vol_std_before_4m', \\\n",
        "            'vol_mean_before_1y', 'vol_std_before_1y', \\\n",
        "            'population','prevalence',\n",
        "            'regulatory_designations_hasany',\n",
        "            'index_x','last_ind_days','year',\n",
        "            \"last_stage_days\"\\\n",
        "            ]\n",
        "\n",
        "training_set, val_set, x_train, y_train, x_test, y_test, test_df_set, x_val, y_val, val_df, test_df = input_hang(final_df_v2, train_balance = False, val_balance = False, col_drop=col_drop)\n",
        "history1 = model.fit(x_train, y_train, epochs=epochs, batch_size=batch_size, verbose = 0, validation_data = (x_test, y_test))"
      ],
      "metadata": {
        "id": "dKfOhQp6z-AK"
      },
      "execution_count": null,
      "outputs": []
    },
    {
      "cell_type": "code",
      "source": [
        "predictions1 = model.predict(x_test)\n",
        "print(f'x_train shape: {x_train.shape}')\n",
        "print(f'x_test shape: {x_test.shape}')\n",
        "print(f'maturity predicted: {sum(np.argmax(predictions1, axis=1))}')\n",
        "err1 = compute_error_validation(prediction_hang(predictions1, y_test, val_df))\n",
        "evaluate_validation(err1.loc[:,['cluster_id','predicted_date']])"
      ],
      "metadata": {
        "id": "rCIi7XcCrJic",
        "colab": {
          "base_uri": "https://localhost:8080/",
          "height": 859
        },
        "outputId": "ada01f76-5c96-4812-d144-d5fdf1ce289a"
      },
      "execution_count": null,
      "outputs": [
        {
          "output_type": "stream",
          "name": "stdout",
          "text": [
            "337/337 [==============================] - 1s 2ms/step\n",
            "x_train shape: (11582, 16)\n",
            "x_test shape: (10755, 16)\n",
            "maturity predicted: 6776\n",
            "mean absolute error in month:  23.974683544303797\n",
            "mean absolute error in month adjusted by predicted duration:  0.6659634317862166\n",
            "accuracy (TP vs. noTP): 0.4525316455696203\n",
            "mean absolute error in month for drugs with actual and predicted transition point:  11.824561403508772\n",
            "among 114 clusters with actual and predicted transition point, 2 are predicted correctly\n",
            "Percentage of correct dates: 0.017543859649122806\n"
          ]
        },
        {
          "output_type": "execute_result",
          "data": {
            "text/plain": [
              "    cluster_id predicted_date transition_date absolute_error  \\\n",
              "0      ID_1003     2018-01-01             NaT            NaT   \n",
              "1      ID_1006     2016-04-01             NaT            NaT   \n",
              "2      ID_1009     2017-04-01      2018-05-01             13   \n",
              "3      ID_1011     2017-05-01             NaT            NaT   \n",
              "4      ID_1015     2017-01-01             NaT            NaT   \n",
              "..         ...            ...             ...            ...   \n",
              "311     ID_952     2017-06-01             NaT            NaT   \n",
              "312      ID_96     2016-04-01             NaT            NaT   \n",
              "313     ID_996     2016-04-01             NaT            NaT   \n",
              "314     ID_997            NaT             NaT            NaT   \n",
              "315     ID_999     2016-05-01      2018-05-01             24   \n",
              "\n",
              "    predicted_date_class actual_date_class  \n",
              "0                      1                 0  \n",
              "1                      1                 0  \n",
              "2                      1                 1  \n",
              "3                      1                 0  \n",
              "4                      1                 0  \n",
              "..                   ...               ...  \n",
              "311                    1                 0  \n",
              "312                    1                 0  \n",
              "313                    1                 0  \n",
              "314                    0                 0  \n",
              "315                    1                 1  \n",
              "\n",
              "[316 rows x 6 columns]"
            ],
            "text/html": [
              "\n",
              "  <div id=\"df-c1df9be6-0db1-42c3-b03e-a91edfada334\">\n",
              "    <div class=\"colab-df-container\">\n",
              "      <div>\n",
              "<style scoped>\n",
              "    .dataframe tbody tr th:only-of-type {\n",
              "        vertical-align: middle;\n",
              "    }\n",
              "\n",
              "    .dataframe tbody tr th {\n",
              "        vertical-align: top;\n",
              "    }\n",
              "\n",
              "    .dataframe thead th {\n",
              "        text-align: right;\n",
              "    }\n",
              "</style>\n",
              "<table border=\"1\" class=\"dataframe\">\n",
              "  <thead>\n",
              "    <tr style=\"text-align: right;\">\n",
              "      <th></th>\n",
              "      <th>cluster_id</th>\n",
              "      <th>predicted_date</th>\n",
              "      <th>transition_date</th>\n",
              "      <th>absolute_error</th>\n",
              "      <th>predicted_date_class</th>\n",
              "      <th>actual_date_class</th>\n",
              "    </tr>\n",
              "  </thead>\n",
              "  <tbody>\n",
              "    <tr>\n",
              "      <th>0</th>\n",
              "      <td>ID_1003</td>\n",
              "      <td>2018-01-01</td>\n",
              "      <td>NaT</td>\n",
              "      <td>NaT</td>\n",
              "      <td>1</td>\n",
              "      <td>0</td>\n",
              "    </tr>\n",
              "    <tr>\n",
              "      <th>1</th>\n",
              "      <td>ID_1006</td>\n",
              "      <td>2016-04-01</td>\n",
              "      <td>NaT</td>\n",
              "      <td>NaT</td>\n",
              "      <td>1</td>\n",
              "      <td>0</td>\n",
              "    </tr>\n",
              "    <tr>\n",
              "      <th>2</th>\n",
              "      <td>ID_1009</td>\n",
              "      <td>2017-04-01</td>\n",
              "      <td>2018-05-01</td>\n",
              "      <td>13</td>\n",
              "      <td>1</td>\n",
              "      <td>1</td>\n",
              "    </tr>\n",
              "    <tr>\n",
              "      <th>3</th>\n",
              "      <td>ID_1011</td>\n",
              "      <td>2017-05-01</td>\n",
              "      <td>NaT</td>\n",
              "      <td>NaT</td>\n",
              "      <td>1</td>\n",
              "      <td>0</td>\n",
              "    </tr>\n",
              "    <tr>\n",
              "      <th>4</th>\n",
              "      <td>ID_1015</td>\n",
              "      <td>2017-01-01</td>\n",
              "      <td>NaT</td>\n",
              "      <td>NaT</td>\n",
              "      <td>1</td>\n",
              "      <td>0</td>\n",
              "    </tr>\n",
              "    <tr>\n",
              "      <th>...</th>\n",
              "      <td>...</td>\n",
              "      <td>...</td>\n",
              "      <td>...</td>\n",
              "      <td>...</td>\n",
              "      <td>...</td>\n",
              "      <td>...</td>\n",
              "    </tr>\n",
              "    <tr>\n",
              "      <th>311</th>\n",
              "      <td>ID_952</td>\n",
              "      <td>2017-06-01</td>\n",
              "      <td>NaT</td>\n",
              "      <td>NaT</td>\n",
              "      <td>1</td>\n",
              "      <td>0</td>\n",
              "    </tr>\n",
              "    <tr>\n",
              "      <th>312</th>\n",
              "      <td>ID_96</td>\n",
              "      <td>2016-04-01</td>\n",
              "      <td>NaT</td>\n",
              "      <td>NaT</td>\n",
              "      <td>1</td>\n",
              "      <td>0</td>\n",
              "    </tr>\n",
              "    <tr>\n",
              "      <th>313</th>\n",
              "      <td>ID_996</td>\n",
              "      <td>2016-04-01</td>\n",
              "      <td>NaT</td>\n",
              "      <td>NaT</td>\n",
              "      <td>1</td>\n",
              "      <td>0</td>\n",
              "    </tr>\n",
              "    <tr>\n",
              "      <th>314</th>\n",
              "      <td>ID_997</td>\n",
              "      <td>NaT</td>\n",
              "      <td>NaT</td>\n",
              "      <td>NaT</td>\n",
              "      <td>0</td>\n",
              "      <td>0</td>\n",
              "    </tr>\n",
              "    <tr>\n",
              "      <th>315</th>\n",
              "      <td>ID_999</td>\n",
              "      <td>2016-05-01</td>\n",
              "      <td>2018-05-01</td>\n",
              "      <td>24</td>\n",
              "      <td>1</td>\n",
              "      <td>1</td>\n",
              "    </tr>\n",
              "  </tbody>\n",
              "</table>\n",
              "<p>316 rows × 6 columns</p>\n",
              "</div>\n",
              "      <button class=\"colab-df-convert\" onclick=\"convertToInteractive('df-c1df9be6-0db1-42c3-b03e-a91edfada334')\"\n",
              "              title=\"Convert this dataframe to an interactive table.\"\n",
              "              style=\"display:none;\">\n",
              "        \n",
              "  <svg xmlns=\"http://www.w3.org/2000/svg\" height=\"24px\"viewBox=\"0 0 24 24\"\n",
              "       width=\"24px\">\n",
              "    <path d=\"M0 0h24v24H0V0z\" fill=\"none\"/>\n",
              "    <path d=\"M18.56 5.44l.94 2.06.94-2.06 2.06-.94-2.06-.94-.94-2.06-.94 2.06-2.06.94zm-11 1L8.5 8.5l.94-2.06 2.06-.94-2.06-.94L8.5 2.5l-.94 2.06-2.06.94zm10 10l.94 2.06.94-2.06 2.06-.94-2.06-.94-.94-2.06-.94 2.06-2.06.94z\"/><path d=\"M17.41 7.96l-1.37-1.37c-.4-.4-.92-.59-1.43-.59-.52 0-1.04.2-1.43.59L10.3 9.45l-7.72 7.72c-.78.78-.78 2.05 0 2.83L4 21.41c.39.39.9.59 1.41.59.51 0 1.02-.2 1.41-.59l7.78-7.78 2.81-2.81c.8-.78.8-2.07 0-2.86zM5.41 20L4 18.59l7.72-7.72 1.47 1.35L5.41 20z\"/>\n",
              "  </svg>\n",
              "      </button>\n",
              "      \n",
              "  <style>\n",
              "    .colab-df-container {\n",
              "      display:flex;\n",
              "      flex-wrap:wrap;\n",
              "      gap: 12px;\n",
              "    }\n",
              "\n",
              "    .colab-df-convert {\n",
              "      background-color: #E8F0FE;\n",
              "      border: none;\n",
              "      border-radius: 50%;\n",
              "      cursor: pointer;\n",
              "      display: none;\n",
              "      fill: #1967D2;\n",
              "      height: 32px;\n",
              "      padding: 0 0 0 0;\n",
              "      width: 32px;\n",
              "    }\n",
              "\n",
              "    .colab-df-convert:hover {\n",
              "      background-color: #E2EBFA;\n",
              "      box-shadow: 0px 1px 2px rgba(60, 64, 67, 0.3), 0px 1px 3px 1px rgba(60, 64, 67, 0.15);\n",
              "      fill: #174EA6;\n",
              "    }\n",
              "\n",
              "    [theme=dark] .colab-df-convert {\n",
              "      background-color: #3B4455;\n",
              "      fill: #D2E3FC;\n",
              "    }\n",
              "\n",
              "    [theme=dark] .colab-df-convert:hover {\n",
              "      background-color: #434B5C;\n",
              "      box-shadow: 0px 1px 3px 1px rgba(0, 0, 0, 0.15);\n",
              "      filter: drop-shadow(0px 1px 2px rgba(0, 0, 0, 0.3));\n",
              "      fill: #FFFFFF;\n",
              "    }\n",
              "  </style>\n",
              "\n",
              "      <script>\n",
              "        const buttonEl =\n",
              "          document.querySelector('#df-c1df9be6-0db1-42c3-b03e-a91edfada334 button.colab-df-convert');\n",
              "        buttonEl.style.display =\n",
              "          google.colab.kernel.accessAllowed ? 'block' : 'none';\n",
              "\n",
              "        async function convertToInteractive(key) {\n",
              "          const element = document.querySelector('#df-c1df9be6-0db1-42c3-b03e-a91edfada334');\n",
              "          const dataTable =\n",
              "            await google.colab.kernel.invokeFunction('convertToInteractive',\n",
              "                                                     [key], {});\n",
              "          if (!dataTable) return;\n",
              "\n",
              "          const docLinkHtml = 'Like what you see? Visit the ' +\n",
              "            '<a target=\"_blank\" href=https://colab.research.google.com/notebooks/data_table.ipynb>data table notebook</a>'\n",
              "            + ' to learn more about interactive tables.';\n",
              "          element.innerHTML = '';\n",
              "          dataTable['output_type'] = 'display_data';\n",
              "          await google.colab.output.renderOutput(dataTable, element);\n",
              "          const docLink = document.createElement('div');\n",
              "          docLink.innerHTML = docLinkHtml;\n",
              "          element.appendChild(docLink);\n",
              "        }\n",
              "      </script>\n",
              "    </div>\n",
              "  </div>\n",
              "  "
            ]
          },
          "metadata": {},
          "execution_count": 164
        },
        {
          "output_type": "display_data",
          "data": {
            "text/plain": [
              "<Figure size 432x288 with 2 Axes>"
            ],
            "image/png": "[encoded data removed]"
          },
          "metadata": {
            "needs_background": "light"
          }
        }
      ]
    },
    {
      "cell_type": "markdown",
      "source": [
        "###### Test Performance DNN"
      ],
      "metadata": {
        "id": "MU9aR3pQpLdC"
      }
    },
    {
      "cell_type": "code",
      "source": [
        "def x_1_to_4(final_df_v2):\n",
        "  output = final_df_v2.copy()\n",
        "  output = output.drop(columns = ['vol_mean_before_2016', 'vol_std_before_2016', 'vol_mean_before_4m','vol_std_before_4m', 'vol_mean_before_1y', 'vol_std_before_1y','x1','x2','x3','x4'])\n",
        "  output_right = output.query('date<=\"2019-03-01\"').groupby(['cluster_id']).agg(vol_mean_before_2016 = ('volume', np.mean), vol_std_before_2016 = ('volume', np.std)).reset_index()\n",
        "  output = output.merge(output_right, how = 'left', on = 'cluster_id')\n",
        "  #\n",
        "  output_right = output.query('date<=\"2019-03-01\" & date >= \"2018-11-01\" ').groupby(['cluster_id']).agg(vol_mean_before_4m = ('volume', np.mean), vol_std_before_4m = ('volume', np.std)).reset_index()\n",
        "  output = output.merge(output_right, how = 'left', on = 'cluster_id')\n",
        "  #\n",
        "  output_right = output.query('date<=\"2019-03-01\" & date >= \"2018-03-01\" ').groupby(['cluster_id']).agg(vol_mean_before_1y = ('volume', np.mean), vol_std_before_1y = ('volume', np.std)).reset_index()\n",
        "  output = output.merge(output_right, how = 'left', on = 'cluster_id')\n",
        "  output = output.assign(\n",
        "    x1 = lambda x: 100* x.vol_mean_alltime / x.vol_std_alltime ,\n",
        "    x2 = lambda x: 100* (x.vol_std_before_4m - x.vol_std_before_1y)/ x.vol_std_before_1y ,\n",
        "    x3 = lambda x: 100*(x.vol_mean_before_4m - x.vol_mean_before_1y) / x.vol_mean_before_1y,\n",
        "    x4 = lambda x: 100*(x.vol_std_before_4m - x.vol_std_before_2016) / x.vol_std_before_2016,\n",
        "    )\n",
        "  output.x1 = output.x1.fillna(0)\n",
        "  output.x2 = output.x2.fillna(0)\n",
        "  output.x3 = output.x3.fillna(0)\n",
        "  output.x4 = output.x4.fillna(0)\n",
        "  return output"
      ],
      "metadata": {
        "id": "qg-Ra_f063UZ"
      },
      "execution_count": null,
      "outputs": []
    },
    {
      "cell_type": "code",
      "source": [
        "training_set, val_set, x_train, y_train, x_test, y_test, test_df_set, x_val, y_val, val_df, test_df = input_hang(x_1_to_4(final_df_v2), train_balance = False, val_balance = False, col_drop=col_drop)\n",
        "test_df = test_df[(test_df['cluster_id'].isin(true_tp.cluster_id.unique())) & (test_df['date']>\"2019-03-01\")]\n",
        "test_df_set = test_df.drop(set(col_drop).intersection(test_df),axis=1)\n",
        "test = convert_to_int(test_df_set)\n",
        "(x_val, y_val) = (test.drop(['stage_name'], axis = 1), test.stage_name)"
      ],
      "metadata": {
        "id": "uBkljIYoyGYe"
      },
      "execution_count": null,
      "outputs": []
    },
    {
      "cell_type": "code",
      "source": [
        "predictions = model.predict(x_val)\n",
        "print(f'x_train shape: {x_train.shape}')\n",
        "print(f'x_test shape: {x_val.shape}')\n",
        "print(f'maturity predicted: {sum(np.argmax(predictions, axis=1))}')\n",
        "err1 = compute_error_validation(prediction_hang(predictions, y_val, test_df))\n",
        "evaluate_validation(err1.loc[:,['cluster_id','predicted_date']])"
      ],
      "metadata": {
        "colab": {
          "base_uri": "https://localhost:8080/",
          "height": 876
        },
        "id": "HetNNct7peE8",
        "outputId": "387e6198-dfc4-4cbb-9e2b-7f4311a09b07"
      },
      "execution_count": null,
      "outputs": [
        {
          "output_type": "stream",
          "name": "stdout",
          "text": [
            "240/240 [==============================] - 0s 2ms/step\n",
            "x_train shape: (11582, 16)\n",
            "x_test shape: (7659, 16)\n",
            "maturity predicted: 7413\n",
            "mean absolute error in month:  35.82608695652174\n",
            "mean absolute error in month adjusted by predicted duration:  0.995169082125604\n",
            "accuracy (TP vs. noTP): 0.004830917874396135\n",
            "mean absolute error in month for drugs with actual and predicted transition point:  NaT\n",
            "among 0 clusters with actual and predicted transition point, 0 are predicted correctly\n",
            "Percentage of correct dates: nan\n"
          ]
        },
        {
          "output_type": "stream",
          "name": "stderr",
          "text": [
            "/usr/local/lib/python3.7/dist-packages/ipykernel_launcher.py:53: RuntimeWarning: invalid value encountered in long_scalars\n"
          ]
        },
        {
          "output_type": "execute_result",
          "data": {
            "text/plain": [
              "    cluster_id predicted_date transition_date absolute_error  \\\n",
              "0      ID_1004     2019-04-01             NaT            NaT   \n",
              "1      ID_1058     2019-04-01             NaT            NaT   \n",
              "2      ID_1069     2019-04-01             NaT            NaT   \n",
              "3      ID_1073     2019-04-01             NaT            NaT   \n",
              "4      ID_1074     2019-04-01             NaT            NaT   \n",
              "..         ...            ...             ...            ...   \n",
              "202     ID_919     2019-04-01             NaT            NaT   \n",
              "203     ID_925     2019-04-01             NaT            NaT   \n",
              "204     ID_952     2019-04-01             NaT            NaT   \n",
              "205      ID_96     2019-04-01             NaT            NaT   \n",
              "206     ID_997     2020-06-01             NaT            NaT   \n",
              "\n",
              "    predicted_date_class actual_date_class  \n",
              "0                      1                 0  \n",
              "1                      1                 0  \n",
              "2                      1                 0  \n",
              "3                      1                 0  \n",
              "4                      1                 0  \n",
              "..                   ...               ...  \n",
              "202                    1                 0  \n",
              "203                    1                 0  \n",
              "204                    1                 0  \n",
              "205                    1                 0  \n",
              "206                    1                 0  \n",
              "\n",
              "[207 rows x 6 columns]"
            ],
            "text/html": [
              "\n",
              "  <div id=\"df-787b2079-8079-4f80-bb32-4f680bc4d0f8\">\n",
              "    <div class=\"colab-df-container\">\n",
              "      <div>\n",
              "<style scoped>\n",
              "    .dataframe tbody tr th:only-of-type {\n",
              "        vertical-align: middle;\n",
              "    }\n",
              "\n",
              "    .dataframe tbody tr th {\n",
              "        vertical-align: top;\n",
              "    }\n",
              "\n",
              "    .dataframe thead th {\n",
              "        text-align: right;\n",
              "    }\n",
              "</style>\n",
              "<table border=\"1\" class=\"dataframe\">\n",
              "  <thead>\n",
              "    <tr style=\"text-align: right;\">\n",
              "      <th></th>\n",
              "      <th>cluster_id</th>\n",
              "      <th>predicted_date</th>\n",
              "      <th>transition_date</th>\n",
              "      <th>absolute_error</th>\n",
              "      <th>predicted_date_class</th>\n",
              "      <th>actual_date_class</th>\n",
              "    </tr>\n",
              "  </thead>\n",
              "  <tbody>\n",
              "    <tr>\n",
              "      <th>0</th>\n",
              "      <td>ID_1004</td>\n",
              "      <td>2019-04-01</td>\n",
              "      <td>NaT</td>\n",
              "      <td>NaT</td>\n",
              "      <td>1</td>\n",
              "      <td>0</td>\n",
              "    </tr>\n",
              "    <tr>\n",
              "      <th>1</th>\n",
              "      <td>ID_1058</td>\n",
              "      <td>2019-04-01</td>\n",
              "      <td>NaT</td>\n",
              "      <td>NaT</td>\n",
              "      <td>1</td>\n",
              "      <td>0</td>\n",
              "    </tr>\n",
              "    <tr>\n",
              "      <th>2</th>\n",
              "      <td>ID_1069</td>\n",
              "      <td>2019-04-01</td>\n",
              "      <td>NaT</td>\n",
              "      <td>NaT</td>\n",
              "      <td>1</td>\n",
              "      <td>0</td>\n",
              "    </tr>\n",
              "    <tr>\n",
              "      <th>3</th>\n",
              "      <td>ID_1073</td>\n",
              "      <td>2019-04-01</td>\n",
              "      <td>NaT</td>\n",
              "      <td>NaT</td>\n",
              "      <td>1</td>\n",
              "      <td>0</td>\n",
              "    </tr>\n",
              "    <tr>\n",
              "      <th>4</th>\n",
              "      <td>ID_1074</td>\n",
              "      <td>2019-04-01</td>\n",
              "      <td>NaT</td>\n",
              "      <td>NaT</td>\n",
              "      <td>1</td>\n",
              "      <td>0</td>\n",
              "    </tr>\n",
              "    <tr>\n",
              "      <th>...</th>\n",
              "      <td>...</td>\n",
              "      <td>...</td>\n",
              "      <td>...</td>\n",
              "      <td>...</td>\n",
              "      <td>...</td>\n",
              "      <td>...</td>\n",
              "    </tr>\n",
              "    <tr>\n",
              "      <th>202</th>\n",
              "      <td>ID_919</td>\n",
              "      <td>2019-04-01</td>\n",
              "      <td>NaT</td>\n",
              "      <td>NaT</td>\n",
              "      <td>1</td>\n",
              "      <td>0</td>\n",
              "    </tr>\n",
              "    <tr>\n",
              "      <th>203</th>\n",
              "      <td>ID_925</td>\n",
              "      <td>2019-04-01</td>\n",
              "      <td>NaT</td>\n",
              "      <td>NaT</td>\n",
              "      <td>1</td>\n",
              "      <td>0</td>\n",
              "    </tr>\n",
              "    <tr>\n",
              "      <th>204</th>\n",
              "      <td>ID_952</td>\n",
              "      <td>2019-04-01</td>\n",
              "      <td>NaT</td>\n",
              "      <td>NaT</td>\n",
              "      <td>1</td>\n",
              "      <td>0</td>\n",
              "    </tr>\n",
              "    <tr>\n",
              "      <th>205</th>\n",
              "      <td>ID_96</td>\n",
              "      <td>2019-04-01</td>\n",
              "      <td>NaT</td>\n",
              "      <td>NaT</td>\n",
              "      <td>1</td>\n",
              "      <td>0</td>\n",
              "    </tr>\n",
              "    <tr>\n",
              "      <th>206</th>\n",
              "      <td>ID_997</td>\n",
              "      <td>2020-06-01</td>\n",
              "      <td>NaT</td>\n",
              "      <td>NaT</td>\n",
              "      <td>1</td>\n",
              "      <td>0</td>\n",
              "    </tr>\n",
              "  </tbody>\n",
              "</table>\n",
              "<p>207 rows × 6 columns</p>\n",
              "</div>\n",
              "      <button class=\"colab-df-convert\" onclick=\"convertToInteractive('df-787b2079-8079-4f80-bb32-4f680bc4d0f8')\"\n",
              "              title=\"Convert this dataframe to an interactive table.\"\n",
              "              style=\"display:none;\">\n",
              "        \n",
              "  <svg xmlns=\"http://www.w3.org/2000/svg\" height=\"24px\"viewBox=\"0 0 24 24\"\n",
              "       width=\"24px\">\n",
              "    <path d=\"M0 0h24v24H0V0z\" fill=\"none\"/>\n",
              "    <path d=\"M18.56 5.44l.94 2.06.94-2.06 2.06-.94-2.06-.94-.94-2.06-.94 2.06-2.06.94zm-11 1L8.5 8.5l.94-2.06 2.06-.94-2.06-.94L8.5 2.5l-.94 2.06-2.06.94zm10 10l.94 2.06.94-2.06 2.06-.94-2.06-.94-.94-2.06-.94 2.06-2.06.94z\"/><path d=\"M17.41 7.96l-1.37-1.37c-.4-.4-.92-.59-1.43-.59-.52 0-1.04.2-1.43.59L10.3 9.45l-7.72 7.72c-.78.78-.78 2.05 0 2.83L4 21.41c.39.39.9.59 1.41.59.51 0 1.02-.2 1.41-.59l7.78-7.78 2.81-2.81c.8-.78.8-2.07 0-2.86zM5.41 20L4 18.59l7.72-7.72 1.47 1.35L5.41 20z\"/>\n",
              "  </svg>\n",
              "      </button>\n",
              "      \n",
              "  <style>\n",
              "    .colab-df-container {\n",
              "      display:flex;\n",
              "      flex-wrap:wrap;\n",
              "      gap: 12px;\n",
              "    }\n",
              "\n",
              "    .colab-df-convert {\n",
              "      background-color: #E8F0FE;\n",
              "      border: none;\n",
              "      border-radius: 50%;\n",
              "      cursor: pointer;\n",
              "      display: none;\n",
              "      fill: #1967D2;\n",
              "      height: 32px;\n",
              "      padding: 0 0 0 0;\n",
              "      width: 32px;\n",
              "    }\n",
              "\n",
              "    .colab-df-convert:hover {\n",
              "      background-color: #E2EBFA;\n",
              "      box-shadow: 0px 1px 2px rgba(60, 64, 67, 0.3), 0px 1px 3px 1px rgba(60, 64, 67, 0.15);\n",
              "      fill: #174EA6;\n",
              "    }\n",
              "\n",
              "    [theme=dark] .colab-df-convert {\n",
              "      background-color: #3B4455;\n",
              "      fill: #D2E3FC;\n",
              "    }\n",
              "\n",
              "    [theme=dark] .colab-df-convert:hover {\n",
              "      background-color: #434B5C;\n",
              "      box-shadow: 0px 1px 3px 1px rgba(0, 0, 0, 0.15);\n",
              "      filter: drop-shadow(0px 1px 2px rgba(0, 0, 0, 0.3));\n",
              "      fill: #FFFFFF;\n",
              "    }\n",
              "  </style>\n",
              "\n",
              "      <script>\n",
              "        const buttonEl =\n",
              "          document.querySelector('#df-787b2079-8079-4f80-bb32-4f680bc4d0f8 button.colab-df-convert');\n",
              "        buttonEl.style.display =\n",
              "          google.colab.kernel.accessAllowed ? 'block' : 'none';\n",
              "\n",
              "        async function convertToInteractive(key) {\n",
              "          const element = document.querySelector('#df-787b2079-8079-4f80-bb32-4f680bc4d0f8');\n",
              "          const dataTable =\n",
              "            await google.colab.kernel.invokeFunction('convertToInteractive',\n",
              "                                                     [key], {});\n",
              "          if (!dataTable) return;\n",
              "\n",
              "          const docLinkHtml = 'Like what you see? Visit the ' +\n",
              "            '<a target=\"_blank\" href=https://colab.research.google.com/notebooks/data_table.ipynb>data table notebook</a>'\n",
              "            + ' to learn more about interactive tables.';\n",
              "          element.innerHTML = '';\n",
              "          dataTable['output_type'] = 'display_data';\n",
              "          await google.colab.output.renderOutput(dataTable, element);\n",
              "          const docLink = document.createElement('div');\n",
              "          docLink.innerHTML = docLinkHtml;\n",
              "          element.appendChild(docLink);\n",
              "        }\n",
              "      </script>\n",
              "    </div>\n",
              "  </div>\n",
              "  "
            ]
          },
          "metadata": {},
          "execution_count": 190
        },
        {
          "output_type": "display_data",
          "data": {
            "text/plain": [
              "<Figure size 432x288 with 2 Axes>"
            ],
            "image/png": "[encoded data removed]"
          },
          "metadata": {
            "needs_background": "light"
          }
        }
      ]
    },
    {
      "cell_type": "markdown",
      "source": [
        "###### Training Set Not Balanced"
      ],
      "metadata": {
        "id": "ov-tt6z5vGZY"
      }
    },
    {
      "cell_type": "code",
      "source": [
        "tf.keras.utils.set_random_seed(1234)\n",
        "\n",
        "mode_test = tf.keras.models.Sequential([\n",
        "      #tf.keras.layers.BatchNormalization(),\n",
        "      Dense(128, activation = \"relu\"),\n",
        "      #Dense(64, activation = \"relu\"),\n",
        "      #Dense(32, activation = \"relu\"),\n",
        "      #Dense(8, activation = \"relu\"),\n",
        "      Dense(2, activation = \"softmax\")\n",
        "  ])\n",
        "\n",
        "mode_test.compile(\n",
        "      optimizer='adam',\n",
        "      loss='sparse_categorical_crossentropy',\n",
        "      metrics=['accuracy']\n",
        "  )\n",
        "# slightly higher when include month\n",
        "# much higher after exclude last_stage_days\n",
        "\n",
        "epochs = 30\n",
        "batch_size = 200\n",
        "\n",
        "col_drop = col_drop = [\n",
        "            \"transition_point\",\n",
        "            #\"stage_name_lag_1\",\n",
        "            #\"stage_id_cumsum\",\n",
        "            \"volume\",\"start_date\",'cluster',\\\n",
        "            '1', '2', '3', '4', '5', '6', '7', '8', '9', '10', '11', '12', \\\n",
        "            'vol_mean_alltime', 'vol_std_alltime',\\\n",
        "            'vol_mean_before_2016', 'vol_std_before_2016', \n",
        "            'vol_mean_before_4m','vol_std_before_4m', \\\n",
        "            'vol_mean_before_1y', 'vol_std_before_1y', \\\n",
        "            'population','prevalence','growth_date',\n",
        "            #'prevalence_pct',\n",
        "            'regulatory_designations_hasany',\n",
        "            'index_x','last_ind_days','year',\n",
        "            #'x1','x2','x3'\\\n",
        "            \"last_stage_days\"\\\n",
        "            ]\n",
        "\n",
        "drop1 = [\"date\",\n",
        "         #\"stage_name\",\n",
        "         \"stage_name_lag_1\",\n",
        "         # \"stage_id_cumsum\", (not available any more)\n",
        "         \"volume\",\"gx_entry_date\",\"launch_date\",\"start_date\",\"last_stage_days\",\"growth_date\",\n",
        "         #'first_comp_month',\n",
        "         'last_ind_days',\n",
        "         'population','prevalence',\n",
        "         #'prevalence_pct', (not available any more)\n",
        "         '1','2','3','4','5','6','7','8','9','10','11','12',\n",
        "         'vol_mean_alltime', 'vol_std_alltime','vol_mean_before_2016', 'vol_std_before_2016', 'vol_mean_before_4m','vol_std_before_4m', 'vol_mean_before_1y', 'vol_std_before_1y'\n",
        "         ]\n",
        "\n",
        "pure_growth_perc = 1\n",
        "training_set, val_set, x_train, y_train, x_test, y_test, val_df = input_hang(final_df_v2, train_balance = False, val_balance = False, col_drop = col_drop, pure_growth_perc=pure_growth_perc)\n",
        "\n",
        "n = 10\n",
        "\n",
        "result = model_avg(\n",
        "    training_set =training_set, \n",
        "    val_set = val_set, \n",
        "    x_train = x_train, \n",
        "    y_train = y_train, \n",
        "    x_test = x_test, \n",
        "    y_test = y_test, \n",
        "    val_df = val_df, \n",
        "    seeds = True,\n",
        "    n = n, \n",
        "    epochs = epochs, \n",
        "    batch_size = batch_size, \n",
        "    model = mode_test\n",
        "                   )\n",
        "print(result)\n",
        "print(f'the average of the result is: {np.mean(result)}')"
      ],
      "metadata": {
        "id": "NZk-DHa6TeXu"
      },
      "execution_count": null,
      "outputs": []
    },
    {
      "cell_type": "code",
      "source": [
        "final_df.columns"
      ],
      "metadata": {
        "id": "zKkYMGRxgLec"
      },
      "execution_count": null,
      "outputs": []
    },
    {
      "cell_type": "markdown",
      "source": [
        "## **Modeling for train-val set splitted by cluster_id**"
      ],
      "metadata": {
        "id": "ICLrRaEFhgub"
      }
    },
    {
      "cell_type": "code",
      "source": [
        "train_df, val_df= train_val_split_v2(final_df)\n",
        "print(len(train_df.cluster_id.unique()))\n",
        "print(len(val_df.cluster_id.unique()))"
      ],
      "metadata": {
        "id": "jZ3uncdd07oK"
      },
      "execution_count": null,
      "outputs": []
    },
    {
      "cell_type": "markdown",
      "source": [
        "### Average Baseline"
      ],
      "metadata": {
        "id": "qGmagWmqwfRx"
      }
    },
    {
      "cell_type": "code",
      "source": [
        "train_df, val_df = train_val_split_v2(final_df)\n",
        "train_df_growth = train_df[train_df['stage_name']==\"Growth\"]\n",
        "compute_df = train_df_growth.sort_values('date').groupby(\"cluster_id\").tail(1)[['date','launch_date','ther_area_fact']]\n",
        "compute_df['length'] = (pd.DatetimeIndex(compute_df['date']).year - pd.DatetimeIndex(compute_df['launch_date']).year)*12 + (pd.DatetimeIndex(compute_df['date']).month - pd.DatetimeIndex(compute_df['launch_date']).month)\n",
        "means = compute_df.groupby('ther_area_fact').mean()\n",
        "#print(means)\n",
        "avg = compute_df[['length']].mean()[0]\n",
        "print('The average length of growth before maturity: {}'.format(avg))\n",
        "\n",
        "val_df_compute = val_df.copy().groupby('cluster_id').head(1)\n",
        "val_df_compute['predicted_date'] = (val_df_compute['launch_date'] + pd.DateOffset(months=int(avg)))\n",
        "predicted_date = val_df_compute[['cluster_id','predicted_date']]"
      ],
      "metadata": {
        "id": "ADL94QpAhUlc"
      },
      "execution_count": null,
      "outputs": []
    },
    {
      "cell_type": "code",
      "source": [
        "compute_error_validation(predicted_date)"
      ],
      "metadata": {
        "id": "s3cRJhd7haCc"
      },
      "execution_count": null,
      "outputs": []
    },
    {
      "cell_type": "code",
      "source": [
        "c = evaluate_validation(predicted_date)"
      ],
      "metadata": {
        "id": "SmH4m31nhdIa"
      },
      "execution_count": null,
      "outputs": []
    },
    {
      "cell_type": "code",
      "source": [
        "c[c['absolute_error'] == 0]"
      ],
      "metadata": {
        "id": "F4rLW9xXhwrj"
      },
      "execution_count": null,
      "outputs": []
    },
    {
      "cell_type": "markdown",
      "source": [
        "### Transition Point Label Classification (0,1)"
      ],
      "metadata": {
        "id": "R9hCxdWqzM8Y"
      }
    },
    {
      "cell_type": "code",
      "source": [
        "train2,val2 = train_val_split_v2(final_df_v2)\n",
        "\n",
        "train2 = downsample_0(train2, 0.5)"
      ],
      "metadata": {
        "id": "ZSkQtFg4k0_p"
      },
      "execution_count": null,
      "outputs": []
    },
    {
      "cell_type": "code",
      "source": [
        "training_set2 = train2.drop([\"date\",\"stage_name\",\"stage_name_lag_1\",\"stage_id_cumsum\",\"volume\",\"gx_entry_date\",\"launch_date\",\"start_date\"],axis=1)\n",
        "val_set2 = val2.drop([\"stage_name\",\"stage_name_lag_1\",\"stage_id_cumsum\",\"volume\",\"gx_entry_date\",\"launch_date\",\"start_date\"],axis=1)"
      ],
      "metadata": {
        "id": "iT1ngJ7qk6OW"
      },
      "execution_count": null,
      "outputs": []
    },
    {
      "cell_type": "code",
      "source": [
        "x_train2 = training_set2.drop([\"transition_point\"],axis=1)\n",
        "y_train2 = training_set2.transition_point\n",
        "\n",
        "x_val2 = val_set2.drop([\"transition_point\"],axis=1)\n",
        "y_val2 = val_set2.transition_point"
      ],
      "metadata": {
        "id": "MM9rmchSk8vx"
      },
      "execution_count": null,
      "outputs": []
    },
    {
      "cell_type": "markdown",
      "source": [
        "##### random forest\n"
      ],
      "metadata": {
        "id": "e-cbx4MWxA01"
      }
    },
    {
      "cell_type": "code",
      "source": [
        "rfc_pipe3 = make_pipeline(preprocess, RandomForestClassifier(random_state = 0, \n",
        "                                  n_estimators = 300,\n",
        "                                  max_features = 10,\n",
        "                                  #class_weight = {0:1,1:90},\n",
        "                                  oob_score=True,\n",
        "                                  warm_start=True))\n",
        "\n",
        "rfc_pipe3.fit(x_train2,y_train2)"
      ],
      "metadata": {
        "id": "3XZ3B69Wk_yh"
      },
      "execution_count": null,
      "outputs": []
    },
    {
      "cell_type": "code",
      "source": [
        "pred = rfc_pipe3.predict(x_val2)"
      ],
      "metadata": {
        "id": "vmM1vbXUlBUB"
      },
      "execution_count": null,
      "outputs": []
    },
    {
      "cell_type": "code",
      "source": [
        "rfc_pipe3.score(x_val2,y_val2)"
      ],
      "metadata": {
        "id": "_UtQoNvXaHHr"
      },
      "execution_count": null,
      "outputs": []
    },
    {
      "cell_type": "code",
      "source": [
        "compute_error_validation(custom_prediction(val_set2,pred,truncate=0))"
      ],
      "metadata": {
        "id": "cIbodhAra1fW"
      },
      "execution_count": null,
      "outputs": []
    },
    {
      "cell_type": "code",
      "source": [
        "evaluate_validation(custom_prediction(val_set2,pred,truncate=0))"
      ],
      "metadata": {
        "id": "tO4iOutharaj"
      },
      "execution_count": null,
      "outputs": []
    },
    {
      "cell_type": "markdown",
      "source": [
        "### Growth vs Maturity Label Classification"
      ],
      "metadata": {
        "id": "CnIe5LgczNPt"
      }
    },
    {
      "cell_type": "markdown",
      "source": [
        "## **Model Evaluation**"
      ],
      "metadata": {
        "id": "sWaeph0YvaZK"
      }
    },
    {
      "cell_type": "code",
      "source": [
        "predictions1 = model.predict(x_test)\n",
        "err1 = compute_error_validation(prediction_hang(predictions1, y_test, val_df))\n",
        "err1_1 = evaluate_validation(err1.loc[:,['cluster_id','predicted_date']])"
      ],
      "metadata": {
        "id": "YpXXcx1Svcd8"
      },
      "execution_count": null,
      "outputs": []
    },
    {
      "cell_type": "code",
      "source": [
        "predictions2 = mode2.predict(x_test)\n",
        "err2 = compute_error_validation(prediction_hang(predictions2, y_test, val_df))\n",
        "err2_2 = evaluate_validation(err2.loc[:,['cluster_id','predicted_date']])"
      ],
      "metadata": {
        "id": "qY6_5g9YvjUd"
      },
      "execution_count": null,
      "outputs": []
    },
    {
      "cell_type": "markdown",
      "source": [
        "## **Working Code**"
      ],
      "metadata": {
        "id": "e6aVHp54AiTx"
      }
    },
    {
      "cell_type": "markdown",
      "source": [
        "### Working Code (Hang)"
      ],
      "metadata": {
        "id": "_N_1nwfQQ0_Z"
      }
    },
    {
      "cell_type": "markdown",
      "source": [
        "#### Adding new features"
      ],
      "metadata": {
        "id": "0iotN9HfT9Qy"
      }
    },
    {
      "cell_type": "code",
      "source": [
        "final_df = transition_point_augment(final_df_v2, 6)"
      ],
      "metadata": {
        "id": "geCY1QEOfd8R"
      },
      "execution_count": null,
      "outputs": []
    },
    {
      "cell_type": "code",
      "source": [
        "final_df['month'] = final_df.date.dt.month\n",
        "final_df['last_ind_days'] = final_df.last_ind_days.astype(int)"
      ],
      "metadata": {
        "id": "1nlqgGSRgrqb"
      },
      "execution_count": null,
      "outputs": []
    },
    {
      "cell_type": "code",
      "source": [
        "final_df['last_ind_days']"
      ],
      "metadata": {
        "id": "RrhUt9qsvdSE"
      },
      "execution_count": null,
      "outputs": []
    },
    {
      "cell_type": "code",
      "source": [
        "#Drop stage and volume columns\n",
        "#Might need to convert date to three features (day,month,year)\n",
        "train_df, val_df, test_df = train_val_split(final_df, pure_growth_perc=0.15)\n",
        "train_df = downsample_0(train_df, 0.5)\n",
        "print(len(train_df[train_df['transition_point']==1]))\n",
        "print(len(train_df[train_df['transition_point']==0]))\n",
        "print(len(val_df[val_df['transition_point']==1]))\n",
        "print(len(val_df[val_df['transition_point']==0]))"
      ],
      "metadata": {
        "id": "H9QdueVpfdTb"
      },
      "execution_count": null,
      "outputs": []
    },
    {
      "cell_type": "code",
      "source": [
        "c_feature = ['country','cluster','cluster_id','business_unit','ther_area_fact','prevalence_pct','launch_months', 'month']"
      ],
      "metadata": {
        "id": "vUTt-gIvfrp5"
      },
      "execution_count": null,
      "outputs": []
    },
    {
      "cell_type": "code",
      "source": [
        "drop1 = [\"date\",\"stage_name\",\"stage_name_lag_1\",\"stage_id_cumsum\",\"volume\",\"gx_entry_date\",\"launch_date\",\"start_date\",\"last_stage_days\",\"growth_date\",\n",
        "         'first_comp_month','last_ind_days',\n",
        "         'population','prevalence','regulatory_designations_hasany',\n",
        "         '1','2','3','4','5','6','7','8','9','10','11','12',\n",
        "         'vol_mean_alltime', 'vol_std_alltime','vol_mean_before_2016', 'vol_std_before_2016', 'vol_mean_before_4m','vol_std_before_4m', 'vol_mean_before_1y', 'vol_std_before_1y'\n",
        "         ]\n",
        "drop2 = drop1.copy()\n",
        "drop2.remove('date')\n",
        "\n",
        "training_set = train_df.drop(drop1,axis=1)\n",
        "val_set = val_df.drop(drop2, axis=1)\n",
        "x_train = training_set.drop([\"transition_point\"],axis=1)\n",
        "y_train = training_set.transition_point\n",
        "\n",
        "x_val = val_set.drop([\"transition_point\"],axis=1)\n",
        "y_val = val_set.transition_point"
      ],
      "metadata": {
        "id": "7n8naELNfWHY"
      },
      "execution_count": null,
      "outputs": []
    },
    {
      "cell_type": "code",
      "source": [
        "a=[]\n",
        "for i in training_set.columns:\n",
        "  if i not in c_feature:\n",
        "    a.append(i)\n",
        "a"
      ],
      "metadata": {
        "id": "kEJo8nU4u4JV"
      },
      "execution_count": null,
      "outputs": []
    },
    {
      "cell_type": "code",
      "source": [
        "training_set.loc[:,a].info()"
      ],
      "metadata": {
        "id": "XT4rcisHvNF2"
      },
      "execution_count": null,
      "outputs": []
    },
    {
      "cell_type": "code",
      "source": [
        "preprocess = make_column_transformer(\n",
        "    (OneHotEncoder(handle_unknown=\"ignore\"), c_feature),\n",
        "    remainder='passthrough'\n",
        "    )\n",
        "p = preprocess.fit(training_set)\n",
        "ts = p.transform(training_set)\n",
        "a = ts.toarray()\n",
        "a.shape"
      ],
      "metadata": {
        "id": "OFjncuIpoIcQ"
      },
      "execution_count": null,
      "outputs": []
    },
    {
      "cell_type": "code",
      "source": [
        "best_rfc_pipe = make_pipeline(preprocess, RandomForestClassifier(random_state = 0,\n",
        "                                                                    n_estimators = 200,\n",
        "                                                                    max_features = 10,\n",
        "                                                                    class_weight = {0:1,1:20},\n",
        "                                                                    oob_score=True,\n",
        "                                                                    warm_start=True))\n",
        "\n",
        "best_rfc_pipe.fit(x_train,y_train)"
      ],
      "metadata": {
        "id": "E-xkXCBdfo8t"
      },
      "execution_count": null,
      "outputs": []
    },
    {
      "cell_type": "code",
      "source": [
        "pred1 = best_rfc_pipe.predict(x_val)\n",
        "#\n",
        "conf_mat = confusion_matrix(y_val, pred1)\n",
        "cmd = ConfusionMatrixDisplay(conf_mat, display_labels=['0','1'])\n",
        "cmd.plot()\n",
        "print(classification_report(y_val, pred1))"
      ],
      "metadata": {
        "id": "bss651ZJfw8W"
      },
      "execution_count": null,
      "outputs": []
    },
    {
      "cell_type": "code",
      "source": [
        "6600+415"
      ],
      "metadata": {
        "id": "T1nypMyt_Zdo"
      },
      "execution_count": null,
      "outputs": []
    },
    {
      "cell_type": "code",
      "source": [
        "6898+350"
      ],
      "metadata": {
        "id": "gqMjCrrm_b1o"
      },
      "execution_count": null,
      "outputs": []
    },
    {
      "cell_type": "code",
      "source": [
        "evaluate_validation(x)"
      ],
      "metadata": {
        "id": "dkGvptPU_5eZ"
      },
      "execution_count": null,
      "outputs": []
    },
    {
      "cell_type": "markdown",
      "source": [
        "![微信图片_20221103201814.jpg](data:image/jpeg;base64,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)"
      ],
      "metadata": {
        "id": "VXuaWZM4AIBM"
      }
    },
    {
      "cell_type": "code",
      "source": [
        "#\n",
        "x = custom_prediction(val_set,pred1,method = \"average\")\n",
        "#x['predicted_date'] = pd.NaT\n",
        "compute_error_validation(x)"
      ],
      "metadata": {
        "id": "2AE77I45jKu_"
      },
      "execution_count": null,
      "outputs": []
    },
    {
      "cell_type": "code",
      "source": [
        "variables = []\n",
        "for i in c_feature:\n",
        "  n = len(training_set.loc[:,i].unique())\n",
        "  variables.extend([i] * n)\n",
        "print(len(variables))"
      ],
      "metadata": {
        "id": "Vnjba4WDqie1"
      },
      "execution_count": null,
      "outputs": []
    },
    {
      "cell_type": "code",
      "source": [
        "len(best_rfc_pipe.steps[1][1].feature_importances_)"
      ],
      "metadata": {
        "id": "H9xjeap4qbla"
      },
      "execution_count": null,
      "outputs": []
    },
    {
      "cell_type": "code",
      "source": [
        "c_feature"
      ],
      "metadata": {
        "id": "mowWlNnWlThw"
      },
      "execution_count": null,
      "outputs": []
    },
    {
      "cell_type": "code",
      "source": [
        "training_set.columns"
      ],
      "metadata": {
        "id": "UUSpB5JGqC_s"
      },
      "execution_count": null,
      "outputs": []
    },
    {
      "cell_type": "code",
      "source": [
        "f_imps = zip(best_rfc_pipe.steps[0][1].feature_names_in_, best_rfc_pipe.steps[1][1].feature_importances_)\n",
        "feats,imps = zip(*(sorted(list(filter(lambda x:x[1] != 0, f_imps)), key = lambda x:x[1], reverse=True)))\n",
        "ax = sns.barplot(list(imps[:20]),list(feats[:20]))\n",
        "\n",
        "plt.show()"
      ],
      "metadata": {
        "id": "h1nP2_Qaf1at"
      },
      "execution_count": null,
      "outputs": []
    },
    {
      "cell_type": "code",
      "source": [
        "list(x_val.columns)"
      ],
      "metadata": {
        "id": "973mAmUDp4Kc"
      },
      "execution_count": null,
      "outputs": []
    },
    {
      "cell_type": "markdown",
      "source": [
        "#### DNN"
      ],
      "metadata": {
        "id": "-6wojt5dfTul"
      }
    },
    {
      "cell_type": "code",
      "source": [
        "def prediction_hang_v2(predictions, y_test, val_df):\n",
        "  pred = np.argmax(predictions, axis = 1)\n",
        "  index = y_test.index\n",
        "  output = list(zip(pred, y_test))\n",
        "  df = pd.DataFrame(output, columns=['predicitions', 'actual'], index=y_test.index)\n",
        "  df[\"correct\"] = df.apply(lambda row: row[0] == row[1], axis =1)\n",
        "  correct = df[df.correct == True]\n",
        "  incorrect = df[df.correct == False].iloc[0,:]\n",
        "  # join cluster and dates\n",
        "  output = pd.concat([val_df.loc[:,['cluster_id', 'date']], df], axis = 1)\n",
        "  output['cumsum'] = output.groupby(['cluster_id']).predicitions.cumsum()\n",
        "  output_right = output.loc[(output['cumsum'] == 1) & (output['predicitions']==1), ['cluster_id','date'] ]\n",
        "  output_left = output.groupby(['cluster_id']).agg(count = ('cluster_id','count')).reset_index()\n",
        "  output = output_left.merge(output_right, left_on = 'cluster_id', right_on = 'cluster_id', how = 'left').drop(['count'],axis=1).rename(columns = {'date':'predicted_date'})\n",
        "  return output"
      ],
      "metadata": {
        "id": "Z5Ftz3bLSCLs"
      },
      "execution_count": null,
      "outputs": []
    },
    {
      "cell_type": "code",
      "source": [
        "tf.keras.utils.set_random_seed(1234)\n",
        "\n",
        "mode_test = tf.keras.models.Sequential([\n",
        "      #tf.keras.layers.BatchNormalization(),\n",
        "      Dense(128, activation = \"relu\"),\n",
        "      #Dense(64, activation = \"relu\"),\n",
        "      Dense(32, activation = \"relu\"),\n",
        "      #Dense(8, activation = \"relu\"),\n",
        "      Dense(2, activation = \"softmax\")\n",
        "  ])\n",
        "\n",
        "mode_test.compile(\n",
        "      optimizer='adam',\n",
        "      loss='sparse_categorical_crossentropy',\n",
        "      metrics=['accuracy']\n",
        "  )\n",
        "\n",
        "col_drop = col_drop = [\"transition_point\",\"stage_name_lag_1\",\"stage_id_cumsum\",\"volume\",\"start_date\", \\\n",
        "            'cluster',\\\n",
        "            '1', '2', '3', '4', '5', '6', '7', '8', '9', '10', '11', '12', \\\n",
        "            'vol_mean_alltime', 'vol_std_alltime',\\\n",
        "            'vol_mean_before_2016', 'vol_std_before_2016', \n",
        "            'vol_mean_before_4m','vol_std_before_4m', \\\n",
        "            'vol_mean_before_1y', 'vol_std_before_1y', \\\n",
        "            #'population','prevalence','growth_date','prevalence_pct','regulatory_designations_hasany',\n",
        "            #'x1','x2','x3'\\\n",
        "            \"last_stage_days\"\\\n",
        "            ]\n",
        "\n",
        "pure_growth_perc = 1\n",
        "training_set, val_set, x_train, y_train, x_test, y_test, val_df = input_hang(input, train_balance = False, val_balance = False, col_drop = col_drop, pure_growth_perc=pure_growth_perc)\n",
        "\n",
        "epochs = 30\n",
        "batch_size = 200\n",
        "\n",
        "history_test = mode_test.fit(x_train, y_train, epochs=epochs, batch_size=batch_size, verbose = 0, validation_data = (x_test, y_test))\n",
        "predictions_test = mode_test.predict(x_test)\n",
        "err1 = compute_error_validation(prediction_hang(predictions_test, y_test, val_df))\n",
        "err1_1 = evaluate_validation(err1.loc[:,['cluster_id','predicted_date']])\n",
        "\n",
        "print(f'training set growth pct: {1 - y_train.sum() / y_train.shape[0]}')\n",
        "print(f'test set growth pct:{1 - y_test.sum() / y_test.shape[0]}')\n",
        "print(f'prediction growth pct: {1 - np.argmax(predictions_test, axis = 1).sum() / y_test.shape[0]}')\n",
        "print(f\"mean accurary: {np.mean(history_test.history['accuracy'])}\")"
      ],
      "metadata": {
        "id": "1r6SAIlmOKSh"
      },
      "execution_count": null,
      "outputs": []
    },
    {
      "cell_type": "code",
      "source": [
        "pred = np.argmax(predictions_test, axis = 1)\n",
        "index = y_test.index\n",
        "output = list(zip(pred, y_test))\n",
        "df = pd.DataFrame(output, columns=['predicitions', 'actual'], index=y_test.index)\n",
        "df[\"correct\"] = df.apply(lambda row: row[0] == row[1], axis =1)\n",
        "correct = df[df.correct == True]\n",
        "incorrect = df[df.correct == False].iloc[0,:]\n",
        "# join cluster and dates\n",
        "output = pd.concat([val_df.loc[:,['cluster_id', 'date']], df], axis = 1)\n",
        "output['cumsum'] = output.groupby(['cluster_id']).predicitions.cumsum()\n",
        "output_right = output.loc[(output['cumsum'] == 3) & (output['predicitions']==1), ['cluster_id','date'] ]\n",
        "output_left = output.groupby(['cluster_id']).agg(count = ('cluster_id','count')).reset_index()"
      ],
      "metadata": {
        "id": "vXfI5GH_SF99"
      },
      "execution_count": null,
      "outputs": []
    },
    {
      "cell_type": "code",
      "source": [
        "output = output_left.merge(output_right, left_on = 'cluster_id', right_on = 'cluster_id', how = 'left').drop(['count'],axis=1).rename(columns = {'date':'predicted_date'})\n",
        "err1 = compute_error_validation(output)\n",
        "err1_1 = evaluate_validation(err1.loc[:,['cluster_id','predicted_date']])"
      ],
      "metadata": {
        "id": "NEoCFF3zXwlN"
      },
      "execution_count": null,
      "outputs": []
    },
    {
      "cell_type": "code",
      "source": [
        "output.head(200)"
      ],
      "metadata": {
        "id": "TDVjY3m-ShJU"
      },
      "execution_count": null,
      "outputs": []
    },
    {
      "cell_type": "code",
      "source": [
        "plot(history_test)"
      ],
      "metadata": {
        "id": "W_Lhe5gxPN3D"
      },
      "execution_count": null,
      "outputs": []
    },
    {
      "cell_type": "markdown",
      "source": [
        "With leak information. "
      ],
      "metadata": {
        "id": "jD4wPoNJXYjZ"
      }
    },
    {
      "cell_type": "code",
      "source": [
        "#@title\n",
        "tf.keras.utils.set_random_seed(1234)\n",
        "\n",
        "mode_test = tf.keras.models.Sequential([\n",
        "      #tf.keras.layers.BatchNormalization(),\n",
        "      Dense(128, activation = \"relu\"),\n",
        "      #Dense(64, activation = \"relu\"),\n",
        "      Dense(32, activation = \"relu\"),\n",
        "      #Dense(8, activation = \"relu\"),\n",
        "      Dense(2, activation = \"softmax\")\n",
        "  ])\n",
        "\n",
        "mode_test.compile(\n",
        "      optimizer='adam',\n",
        "      loss='sparse_categorical_crossentropy',\n",
        "      metrics=['accuracy']\n",
        "  )\n",
        "# slightly higher when include month\n",
        "# much higher after exclude last_stage_days\n",
        "\n",
        "epochs = 30\n",
        "batch_size = 200\n",
        "\n",
        "col_drop = [\"transition_point\",\"stage_name_lag_1\",\"stage_id_cumsum\",\"volume\",\"start_date\", \\\n",
        "            #'cluster',\\\n",
        "            #'1', '2', '3', '4', '5', '6', '7', '8', '9', '10', '11', '12', \\\n",
        "            'vol_mean_alltime', 'vol_std_alltime',\\\n",
        "            'vol_mean_before_2016', 'vol_std_before_2016', \n",
        "            'vol_mean_before_4m','vol_std_before_4m', \\\n",
        "            'vol_mean_before_1y', 'vol_std_before_1y', \\\n",
        "            #'x1','x2','x3'\\\n",
        "            #\"last_stage_days\"\\\n",
        "            ]\n",
        "\n",
        "training_set, val_set, x_train, y_train, x_test, y_test, val_df = input_hang(\n",
        "    input, \n",
        "    train_balance = False, \n",
        "    val_balance = False, \n",
        "    col_drop = col_drop\n",
        "    )\n",
        "\n",
        "n = 5\n",
        "\n",
        "result = model_avg(\n",
        "    training_set =training_set, \n",
        "    val_set = val_set, \n",
        "    x_train = x_train, \n",
        "    y_train = y_train, \n",
        "    x_test = x_test, \n",
        "    y_test = y_test, \n",
        "    val_df = val_df, \n",
        "    seeds = True,\n",
        "    n = n, \n",
        "    epochs = epochs, \n",
        "    batch_size = batch_size, \n",
        "    model = mode_test\n",
        "                   )\n",
        "print(result)\n",
        "print(f'the average of the result is: {np.mean(result)}')"
      ],
      "metadata": {
        "id": "up78yKEbUlIv",
        "cellView": "form"
      },
      "execution_count": null,
      "outputs": []
    },
    {
      "cell_type": "code",
      "source": [
        "tf.keras.utils.set_random_seed(1234)\n",
        "\n",
        "mode_test = tf.keras.models.Sequential([\n",
        "      #tf.keras.layers.BatchNormalization(),\n",
        "      Dense(128, activation = \"relu\"),\n",
        "      #Dense(64, activation = \"relu\"),\n",
        "      Dense(32, activation = \"relu\"),\n",
        "      #Dense(8, activation = \"relu\"),\n",
        "      Dense(2, activation = \"softmax\")\n",
        "  ])\n",
        "\n",
        "mode_test.compile(\n",
        "      optimizer='adam',\n",
        "      loss='sparse_categorical_crossentropy',\n",
        "      metrics=['accuracy']\n",
        "  )\n",
        "# slightly higher when include month\n",
        "# much higher after exclude last_stage_days\n",
        "\n",
        "epochs = 30\n",
        "batch_size = 200\n",
        "\n",
        "col_drop = col_drop = [\"transition_point\",\"stage_name_lag_1\",\"stage_id_cumsum\",\"volume\",\"start_date\", \\\n",
        "            'cluster',\\\n",
        "            '1', '2', '3', '4', '5', '6', '7', '8', '9', '10', '11', '12', \\\n",
        "            'vol_mean_alltime', 'vol_std_alltime',\\\n",
        "            'vol_mean_before_2016', 'vol_std_before_2016', \n",
        "            'vol_mean_before_4m','vol_std_before_4m', \\\n",
        "            'vol_mean_before_1y', 'vol_std_before_1y', \\\n",
        "            'population','prevalence','growth_date','prevalence_pct','regulatory_designations_hasany',\n",
        "            #'x1','x2','x3'\\\n",
        "            \"last_stage_days\"\\\n",
        "            ]\n",
        "\n",
        "pure_growth_perc = 1\n",
        "training_set, val_set, x_train, y_train, x_test, y_test, val_df = input_hang(input, train_balance = True, val_balance = False, col_drop = col_drop, pure_growth_perc=pure_growth_perc)\n",
        "\n",
        "n = 5\n",
        "\n",
        "result = model_avg(\n",
        "    training_set =training_set, \n",
        "    val_set = val_set, \n",
        "    x_train = x_train, \n",
        "    y_train = y_train, \n",
        "    x_test = x_test, \n",
        "    y_test = y_test, \n",
        "    val_df = val_df, \n",
        "    seeds = True,\n",
        "    n = n, \n",
        "    epochs = epochs, \n",
        "    batch_size = batch_size, \n",
        "    model = mode_test\n",
        "                   )\n",
        "print(result)\n",
        "print(f'the average of the result is: {np.mean(result)}')"
      ],
      "metadata": {
        "id": "Z_QEoAcUQIDJ"
      },
      "execution_count": null,
      "outputs": []
    },
    {
      "cell_type": "code",
      "source": [
        "x_train.head()"
      ],
      "metadata": {
        "id": "WavSwNG7ZMPB"
      },
      "execution_count": null,
      "outputs": []
    },
    {
      "cell_type": "code",
      "source": [
        "x_train.columns"
      ],
      "metadata": {
        "id": "W50JImfJYzW5"
      },
      "execution_count": null,
      "outputs": []
    },
    {
      "cell_type": "code",
      "source": [
        "tf.keras.utils.set_random_seed(1234)\n",
        "\n",
        "mode_test = tf.keras.models.Sequential([\n",
        "      #tf.keras.layers.BatchNormalization(),\n",
        "      Dense(128, activation = \"relu\"),\n",
        "      #Dense(64, activation = \"relu\"),\n",
        "      Dense(32, activation = \"relu\"),\n",
        "      #Dense(8, activation = \"relu\"),\n",
        "      Dense(2, activation = \"softmax\")\n",
        "  ])\n",
        "\n",
        "mode_test.compile(\n",
        "      optimizer='adam',\n",
        "      loss='sparse_categorical_crossentropy',\n",
        "      metrics=['accuracy']\n",
        "  )\n",
        "# slightly higher when include month\n",
        "# much higher after exclude last_stage_days\n",
        "\n",
        "epochs = 30\n",
        "batch_size = 200\n",
        "\n",
        "col_drop = [\"transition_point\",\"stage_name_lag_1\",\"stage_id_cumsum\",\"volume\",\"start_date\", \\\n",
        "            #'cluster',\\\n",
        "            #'1', '2', '3', '4', '5', '6', '7', '8', '9', '10', '11', '12', \\\n",
        "            'vol_mean_alltime', 'vol_std_alltime',\\\n",
        "            'vol_mean_before_2016', 'vol_std_before_2016', \n",
        "            'vol_mean_before_4m','vol_std_before_4m', \\\n",
        "            'vol_mean_before_1y', 'vol_std_before_1y', \\\n",
        "            #'x1','x2','x3'\\\n",
        "            #\"month_since_growth\",\n",
        "            \"last_stage_days\"\\\n",
        "            ]\n",
        "input = final_df_v2.assign(\n",
        "    x1 = lambda x: 100* x.vol_std_before_2016 / x.vol_mean_before_2016 ,\n",
        "    x2 = lambda x: 100* (x.vol_std_before_4m - x.vol_std_before_1y)/x.vol_std_before_1y ,\n",
        "    x3 = lambda x: 100*(x.vol_mean_before_4m - x.vol_mean_before_1y) / x.vol_mean_before_1y ,\n",
        "                   )\n",
        "input.x1 = input.x1.fillna(0)\n",
        "input.x2 = input.x2.fillna(0)\n",
        "input.x3 = input.x3.fillna(0)\n",
        "\n",
        "training_set, val_set, x_train, y_train, x_test, y_test, val_df = input_hang(\n",
        "    input, \n",
        "    train_balance = False, \n",
        "    val_balance = False, \n",
        "    col_drop = col_drop\n",
        "    )\n",
        "\n",
        "n = 5\n",
        "\n",
        "result = model_avg(\n",
        "    training_set =training_set, \n",
        "    val_set = val_set, \n",
        "    x_train = x_train, \n",
        "    y_train = y_train, \n",
        "    x_test = x_test, \n",
        "    y_test = y_test, \n",
        "    val_df = val_df, \n",
        "    seeds = True,\n",
        "    n = n, \n",
        "    epochs = epochs, \n",
        "    batch_size = batch_size, \n",
        "    model = mode_test\n",
        "                   )\n",
        "print(result)\n",
        "print(f'the average of the result is: {np.mean(result)}')"
      ],
      "metadata": {
        "id": "xvDNQXk0Qcch"
      },
      "execution_count": null,
      "outputs": []
    },
    {
      "cell_type": "code",
      "source": [
        "input.month_since_growth.value_counts()"
      ],
      "metadata": {
        "id": "5fP_be1QRCjg"
      },
      "execution_count": null,
      "outputs": []
    },
    {
      "cell_type": "markdown",
      "source": [
        "#### Hide"
      ],
      "metadata": {
        "id": "DG9fcCMJQI5-"
      }
    },
    {
      "cell_type": "code",
      "source": [],
      "metadata": {
        "id": "8vFuYHrM6wD5"
      },
      "execution_count": null,
      "outputs": []
    },
    {
      "cell_type": "code",
      "source": [
        "test_df = test_df[(test_df['cluster_id'].isin(true_tp.cluster_id.unique())) & (test_df['date']>\"2019-03-01\")]\n",
        "test_df_set = test_df.drop(set(col_drop).intersection(test_df),axis=1)\n",
        "test = convert_to_int(test_df_set)\n",
        "(x_val, y_val) = (test.drop(['stage_name'], axis = 1), test.stage_name)"
      ],
      "metadata": {
        "id": "gZg8R2mi4kPN"
      },
      "execution_count": null,
      "outputs": []
    },
    {
      "cell_type": "code",
      "source": [
        "def x_1_to_4(final_df_v2):\n",
        "  output = final_df_v2.copy()\n",
        "  output = output.drop(columns = ['vol_mean_before_2016', 'vol_std_before_2016', 'vol_mean_before_4m','vol_std_before_4m', 'vol_mean_before_1y', 'vol_std_before_1y','x1','x2','x3','x4'])\n",
        "  output_right = output.query('date<=\"2019-03-01\"').groupby(['cluster_id']).agg(vol_mean_before_2016 = ('volume', np.mean), vol_std_before_2016 = ('volume', np.std)).reset_index()\n",
        "  output = output.merge(output_right, how = 'left', on = 'cluster_id')\n",
        "  #\n",
        "  output_right = output.query('date<=\"2019-03-01\" & date >= \"2018-11-01\" ').groupby(['cluster_id']).agg(vol_mean_before_4m = ('volume', np.mean), vol_std_before_4m = ('volume', np.std)).reset_index()\n",
        "  output = output.merge(output_right, how = 'left', on = 'cluster_id')\n",
        "  #\n",
        "  output_right = output.query('date<=\"2019-03-01\" & date >= \"2018-03-01\" ').groupby(['cluster_id']).agg(vol_mean_before_1y = ('volume', np.mean), vol_std_before_1y = ('volume', np.std)).reset_index()\n",
        "  output = output.merge(output_right, how = 'left', on = 'cluster_id')\n",
        "  output = output.assign(\n",
        "    x1 = lambda x: 100* x.vol_mean_alltime / x.vol_std_alltime ,\n",
        "    x2 = lambda x: 100* (x.vol_std_before_4m - x.vol_std_before_1y)/ x.vol_std_before_1y ,\n",
        "    x3 = lambda x: 100*(x.vol_mean_before_4m - x.vol_mean_before_1y) / x.vol_mean_before_1y,\n",
        "    x4 = lambda x: 100*(x.vol_std_before_4m - x.vol_std_before_2016) / x.vol_std_before_2016,\n",
        "    )\n",
        "  output.x1 = output.x1.fillna(0)\n",
        "  output.x2 = output.x2.fillna(0)\n",
        "  output.x3 = output.x3.fillna(0)\n",
        "  output.x4 = output.x4.fillna(0)\n",
        "  return output\n",
        "a = x_1_to_4(final_df_v2)"
      ],
      "metadata": {
        "id": "ftEpuejl4foA"
      },
      "execution_count": null,
      "outputs": []
    },
    {
      "cell_type": "code",
      "source": [
        "sns.lineplot(x='date',y='volume',hue='stage_name', data=final_df_v2.loc[final_df_v2.cluster_id == 'ID_35'])"
      ],
      "metadata": {
        "colab": {
          "base_uri": "https://localhost:8080/",
          "height": 307
        },
        "id": "QI-TsIBz3QHB",
        "outputId": "e47cb87a-dcf5-4848-8c72-be8612d1b411"
      },
      "execution_count": null,
      "outputs": [
        {
          "output_type": "execute_result",
          "data": {
            "text/plain": [
              "<matplotlib.axes._subplots.AxesSubplot at 0x7f3d3ec822d0>"
            ]
          },
          "metadata": {},
          "execution_count": 173
        },
        {
          "output_type": "display_data",
          "data": {
            "text/plain": [
              "<Figure size 432x288 with 1 Axes>"
            ],
            "image/png": "[encoded data removed]"
          },
          "metadata": {
            "needs_background": "light"
          }
        }
      ]
    },
    {
      "cell_type": "code",
      "source": [
        "tf.keras.utils.set_random_seed(1234)\n",
        "\n",
        "mode_test = tf.keras.models.Sequential([\n",
        "      #tf.keras.layers.BatchNormalization(),\n",
        "      Dense(128, activation = \"relu\"),\n",
        "      #Dense(64, activation = \"relu\"),\n",
        "      #Dense(32, activation = \"relu\"),\n",
        "      #Dense(8, activation = \"relu\"),\n",
        "      Dense(2, activation = \"softmax\")\n",
        "  ])\n",
        "\n",
        "mode_test.compile(\n",
        "      optimizer='adam',\n",
        "      loss='sparse_categorical_crossentropy',\n",
        "      metrics=['accuracy']\n",
        "  )\n",
        "# slightly higher when include month\n",
        "# much higher after exclude last_stage_days\n",
        "\n",
        "epochs = 60\n",
        "batch_size = 200\n",
        "\n",
        "col_drop = [\"transition_point\",\"stage_name_lag_1\",\"stage_id_cumsum\",\"volume\",\"start_date\", \\\n",
        "            'cluster',\\\n",
        "            '1', '2', '3', '4', '5', '6', '7', '8', '9', '10', '11', '12', \\\n",
        "            'vol_mean_alltime', 'vol_std_alltime',\\\n",
        "            'vol_mean_before_2016', 'vol_std_before_2016', \n",
        "            'vol_mean_before_4m','vol_std_before_4m', \\\n",
        "            'vol_mean_before_1y', 'vol_std_before_1y', \\\n",
        "            #'x1','x2','x3'\\\n",
        "            \"last_stage_days\"\\\n",
        "            ]\n",
        "input = final_df_v2.assign(\n",
        "    x1 = lambda x: 100* x.vol_std_before_2016 / x.vol_mean_before_2016 ,\n",
        "    x2 = lambda x: 100* (x.vol_std_before_4m - x.vol_std_before_1y)/x.vol_std_before_1y ,\n",
        "    x3 = lambda x: 100*(x.vol_mean_before_4m - x.vol_mean_before_1y) / x.vol_mean_before_1y ,\n",
        "                   )\n",
        "input.x1 = input.x1.fillna(0)\n",
        "input.x2 = input.x2.fillna(0)\n",
        "input.x3 = input.x3.fillna(0)\n",
        "\n",
        "training_set, val_set, x_train, y_train, x_test, y_test, val_df = input_hang(\n",
        "    input, \n",
        "    train_balance = False, \n",
        "    val_balance = False, \n",
        "    col_drop = col_drop\n",
        "    )\n",
        "\n",
        "epochs = 200\n",
        "batch_size = 500\n",
        "\n",
        "history_test = mode_test.fit(x_train, y_train, epochs=epochs, batch_size=batch_size, verbose = 0, validation_data = (x_test, y_test))\n",
        "predictions_test = mode_test.predict(x_test)\n",
        "err_test = compute_error_validation(prediction_hang(predictions_test, y_test, val_df))\n",
        "err_test.absolute_error.mean()\n",
        "print(f'training set growth pct: {1 - y_train.sum() / y_train.shape[0]}')\n",
        "print(f'test set growth pct:{1 - y_test.sum() / y_test.shape[0]}')\n",
        "print(f'prediction growth pct: {1 - np.argmax(predictions_test, axis = 1).sum() / y_test.shape[0]}')\n",
        "print(f\"mean accurary: {np.mean(history_test.history['accuracy'])}\")"
      ],
      "metadata": {
        "id": "5d07SFHokBe8"
      },
      "execution_count": null,
      "outputs": []
    },
    {
      "cell_type": "code",
      "source": [
        "plot(history_test)"
      ],
      "metadata": {
        "id": "9lUa9MFNrxdP"
      },
      "execution_count": null,
      "outputs": []
    },
    {
      "cell_type": "code",
      "source": [
        "err_test"
      ],
      "metadata": {
        "id": "RRGuHllhpPaq"
      },
      "execution_count": null,
      "outputs": []
    },
    {
      "cell_type": "code",
      "source": [
        "evaluate_validation(prediction_hang(predictions_test, y_test, val_df))"
      ],
      "metadata": {
        "id": "sjGbHyRnp6cM"
      },
      "execution_count": null,
      "outputs": []
    },
    {
      "cell_type": "code",
      "source": [
        "tf.keras.utils.set_random_seed(1234)\n",
        "\n",
        "mode_test = tf.keras.models.Sequential([\n",
        "      #tf.keras.layers.BatchNormalization(),\n",
        "      Dense(128, activation = \"relu\"),\n",
        "      #Dense(64, activation = \"relu\"),\n",
        "      Dense(32, activation = \"relu\"),\n",
        "      #Dense(8, activation = \"relu\"),\n",
        "      Dense(2, activation = \"softmax\")\n",
        "  ])\n",
        "\n",
        "mode_test.compile(\n",
        "      optimizer='adam',\n",
        "      loss='sparse_categorical_crossentropy',\n",
        "      metrics=['accuracy']\n",
        "  )\n",
        "# slightly higher when include month\n",
        "# much higher after exclude last_stage_days\n",
        "\n",
        "epochs = 30\n",
        "batch_size = 200\n",
        "\n",
        "col_drop = [\"transition_point\",\"stage_name_lag_1\",\"stage_id_cumsum\",\"volume\",\"start_date\", \\\n",
        "            'cluster',\\\n",
        "            '1', '2', '3', '4', '5', '6', '7', '8', '9', '10', '11', '12', \\\n",
        "            'vol_mean_alltime', 'vol_std_alltime',\\\n",
        "            'vol_mean_before_2016', 'vol_std_before_2016', \n",
        "            'vol_mean_before_4m','vol_std_before_4m', \\\n",
        "            'vol_mean_before_1y', 'vol_std_before_1y', \\\n",
        "            #'x1','x2','x3'\\\n",
        "            #\"last_stage_days\"\\\n",
        "            ]\n",
        "input = final_df_v2.assign(\n",
        "    x1 = lambda x: 100* x.vol_std_before_2016 / x.vol_mean_before_2016 ,\n",
        "    x2 = lambda x: 100* (x.vol_std_before_4m - x.vol_std_before_1y)/x.vol_std_before_1y ,\n",
        "    x3 = lambda x: 100*(x.vol_mean_before_4m - x.vol_mean_before_1y) / x.vol_mean_before_1y ,\n",
        "                   )\n",
        "input.x1 = input.x1.fillna(0)\n",
        "input.x2 = input.x2.fillna(0)\n",
        "input.x3 = input.x3.fillna(0)\n",
        "\n",
        "training_set, val_set, x_train, y_train, x_test, y_test, val_df = input_hang(\n",
        "    input, \n",
        "    train_balance = False, \n",
        "    val_balance = False, \n",
        "    col_drop = col_drop\n",
        "    )\n",
        "\n",
        "n = 5\n",
        "\n",
        "result = model_avg(\n",
        "    training_set =training_set, \n",
        "    val_set = val_set, \n",
        "    x_train = x_train, \n",
        "    y_train = y_train, \n",
        "    x_test = x_test, \n",
        "    y_test = y_test, \n",
        "    val_df = val_df, \n",
        "    seeds = True,\n",
        "    n = n, \n",
        "    epochs = epochs, \n",
        "    batch_size = batch_size, \n",
        "    model = mode_test\n",
        "                   )\n",
        "print(result)\n",
        "print(f'the average of the result is: {np.mean(result)}')"
      ],
      "metadata": {
        "id": "WBYV_UAD_037"
      },
      "execution_count": null,
      "outputs": []
    },
    {
      "cell_type": "markdown",
      "source": [
        "* More layers add more uncertainty. Adding epochs not helping"
      ],
      "metadata": {
        "id": "utkNgnQd95W1"
      }
    },
    {
      "cell_type": "code",
      "source": [
        "#@title\n",
        "tf.keras.utils.set_random_seed(1234)\n",
        "\n",
        "mode_test = tf.keras.models.Sequential([\n",
        "      #tf.keras.layers.BatchNormalization(),\n",
        "      Dense(128, activation = \"relu\"),\n",
        "      #Dense(64, activation = \"relu\"),\n",
        "      Dense(32, activation = \"relu\"),\n",
        "      #Dense(8, activation = \"relu\"),\n",
        "      Dense(2, activation = \"softmax\")\n",
        "  ])\n",
        "\n",
        "mode_test.compile(\n",
        "      optimizer='adam',\n",
        "      loss='sparse_categorical_crossentropy',\n",
        "      metrics=['accuracy']\n",
        "  )\n",
        "# slightly higher when include month\n",
        "# much higher after exclude last_stage_days\n",
        "\n",
        "epochs = 100\n",
        "batch_size = 200\n",
        "\n",
        "col_drop = [\"transition_point\",\"stage_name_lag_1\",\"stage_id_cumsum\",\"volume\",\"start_date\", \\\n",
        "            #'cluster',\\\n",
        "            #'1', '2', '3', '4', '5', '6', '7', '8', '9', '10', '11', '12', \\\n",
        "            'vol_mean_alltime', 'vol_std_alltime',\\\n",
        "            'vol_mean_before_2016', 'vol_std_before_2016', \n",
        "            'vol_mean_before_4m','vol_std_before_4m', \\\n",
        "            'vol_mean_before_1y', 'vol_std_before_1y', \\\n",
        "            #'x1','x2','x3'\\\n",
        "            #\"last_stage_days\"\\\n",
        "            ]\n",
        "input = final_df_v2.assign(\n",
        "    x1 = lambda x: 100* x.vol_std_before_2016 / x.vol_mean_before_2016 ,\n",
        "    x2 = lambda x: 100* (x.vol_std_before_4m - x.vol_std_before_1y)/x.vol_std_before_1y ,\n",
        "    x3 = lambda x: 100*(x.vol_mean_before_4m - x.vol_mean_before_1y) / x.vol_mean_before_1y ,\n",
        "                   )\n",
        "input.x1 = input.x1.fillna(0)\n",
        "input.x2 = input.x2.fillna(0)\n",
        "input.x3 = input.x3.fillna(0)\n",
        "\n",
        "training_set, val_set, x_train, y_train, x_test, y_test, val_df = input_hang(\n",
        "    input, \n",
        "    train_balance = False, \n",
        "    val_balance = False, \n",
        "    col_drop = col_drop\n",
        "    )\n",
        "\n",
        "n = 5\n",
        "\n",
        "result = model_avg(\n",
        "    training_set =training_set, \n",
        "    val_set = val_set, \n",
        "    x_train = x_train, \n",
        "    y_train = y_train, \n",
        "    x_test = x_test, \n",
        "    y_test = y_test, \n",
        "    val_df = val_df, \n",
        "    seeds = True,\n",
        "    n = n, \n",
        "    epochs = epochs, \n",
        "    batch_size = batch_size, \n",
        "    model = mode_test\n",
        "                   )\n",
        "print(result)\n",
        "print(f'the average of the result is: {np.mean(result)}')"
      ],
      "metadata": {
        "id": "4EsCrnp59BYO"
      },
      "execution_count": null,
      "outputs": []
    },
    {
      "cell_type": "markdown",
      "source": [
        "* better when batch size decreased"
      ],
      "metadata": {
        "id": "kuzViVCZ_Xfm"
      }
    },
    {
      "cell_type": "code",
      "source": [
        "#@title\n",
        "tf.keras.utils.set_random_seed(1234)\n",
        "\n",
        "mode_test = tf.keras.models.Sequential([\n",
        "      #tf.keras.layers.BatchNormalization(),\n",
        "      Dense(128, activation = \"relu\"),\n",
        "      #Dense(64, activation = \"relu\"),\n",
        "      Dense(32, activation = \"relu\"),\n",
        "      #Dense(8, activation = \"relu\"),\n",
        "      Dense(2, activation = \"softmax\")\n",
        "  ])\n",
        "\n",
        "mode_test.compile(\n",
        "      optimizer='adam',\n",
        "      loss='sparse_categorical_crossentropy',\n",
        "      metrics=['accuracy']\n",
        "  )\n",
        "# slightly higher when include month\n",
        "# much higher after exclude last_stage_days\n",
        "\n",
        "epochs = 30\n",
        "batch_size = 100\n",
        "\n",
        "col_drop = [\"transition_point\",\"stage_name_lag_1\",\"stage_id_cumsum\",\"volume\",\"start_date\", \\\n",
        "            #'cluster',\\\n",
        "            #'1', '2', '3', '4', '5', '6', '7', '8', '9', '10', '11', '12', \\\n",
        "            'vol_mean_alltime', 'vol_std_alltime',\\\n",
        "            'vol_mean_before_2016', 'vol_std_before_2016', \n",
        "            'vol_mean_before_4m','vol_std_before_4m', \\\n",
        "            'vol_mean_before_1y', 'vol_std_before_1y', \\\n",
        "            #'x1','x2','x3'\\\n",
        "            #\"last_stage_days\"\\\n",
        "            ]\n",
        "input = final_df_v2.assign(\n",
        "    x1 = lambda x: 100* x.vol_std_before_2016 / x.vol_mean_before_2016 ,\n",
        "    x2 = lambda x: 100* (x.vol_std_before_4m - x.vol_std_before_1y)/x.vol_std_before_1y ,\n",
        "    x3 = lambda x: 100*(x.vol_mean_before_4m - x.vol_mean_before_1y) / x.vol_mean_before_1y ,\n",
        "                   )\n",
        "input.x1 = input.x1.fillna(0)\n",
        "input.x2 = input.x2.fillna(0)\n",
        "input.x3 = input.x3.fillna(0)\n",
        "\n",
        "training_set, val_set, x_train, y_train, x_test, y_test, val_df = input_hang(\n",
        "    input, \n",
        "    train_balance = False, \n",
        "    val_balance = False, \n",
        "    col_drop = col_drop\n",
        "    )\n",
        "\n",
        "n = 5\n",
        "\n",
        "result = model_avg(\n",
        "    training_set =training_set, \n",
        "    val_set = val_set, \n",
        "    x_train = x_train, \n",
        "    y_train = y_train, \n",
        "    x_test = x_test, \n",
        "    y_test = y_test, \n",
        "    val_df = val_df, \n",
        "    seeds = True,\n",
        "    n = n, \n",
        "    epochs = epochs, \n",
        "    batch_size = batch_size, \n",
        "    model = mode_test\n",
        "                   )\n",
        "print(result)\n",
        "print(f'the average of the result is: {np.mean(result)}')"
      ],
      "metadata": {
        "id": "wqcTJ0vz-bSM"
      },
      "execution_count": null,
      "outputs": []
    },
    {
      "cell_type": "markdown",
      "source": [
        "* By far, the best model"
      ],
      "metadata": {
        "id": "YdGrj7Tt895j"
      }
    },
    {
      "cell_type": "code",
      "source": [
        "tf.keras.utils.set_random_seed(1234)\n",
        "\n",
        "mode_test = tf.keras.models.Sequential([\n",
        "      #tf.keras.layers.BatchNormalization(),\n",
        "      Dense(128, activation = \"relu\"),\n",
        "      #Dense(64, activation = \"relu\"),\n",
        "      #Dense(32, activation = \"relu\"),\n",
        "      #Dense(8, activation = \"relu\"),\n",
        "      Dense(2, activation = \"softmax\")\n",
        "  ])\n",
        "\n",
        "mode_test.compile(\n",
        "      optimizer='adam',\n",
        "      loss='sparse_categorical_crossentropy',\n",
        "      metrics=['accuracy']\n",
        "  )\n",
        "# slightly higher when include month\n",
        "# much higher after exclude last_stage_days\n",
        "\n",
        "epochs = 60\n",
        "batch_size = 200\n",
        "\n",
        "col_drop = [\"transition_point\",\"stage_name_lag_1\",\"stage_id_cumsum\",\"volume\",\"start_date\", \\\n",
        "            'cluster',\\\n",
        "            '1', '2', '3', '4', '5', '6', '7', '8', '9', '10', '11', '12', \\\n",
        "            'vol_mean_alltime', 'vol_std_alltime',\\\n",
        "            'vol_mean_before_2016', 'vol_std_before_2016', \n",
        "            'vol_mean_before_4m','vol_std_before_4m', \\\n",
        "            'vol_mean_before_1y', 'vol_std_before_1y', \\\n",
        "            #'x1','x2','x3'\\\n",
        "            #\"last_stage_days\"\\\n",
        "            ]\n",
        "input = final_df_v2.assign(\n",
        "    x1 = lambda x: 100* x.vol_std_before_2016 / x.vol_mean_before_2016 ,\n",
        "    x2 = lambda x: 100* (x.vol_std_before_4m - x.vol_std_before_1y)/x.vol_std_before_1y ,\n",
        "    x3 = lambda x: 100*(x.vol_mean_before_4m - x.vol_mean_before_1y) / x.vol_mean_before_1y ,\n",
        "                   )\n",
        "input.x1 = input.x1.fillna(0)\n",
        "input.x2 = input.x2.fillna(0)\n",
        "input.x3 = input.x3.fillna(0)\n",
        "\n",
        "training_set, val_set, x_train, y_train, x_test, y_test, val_df = input_hang(\n",
        "    input, \n",
        "    train_balance = False, \n",
        "    val_balance = False, \n",
        "    col_drop = col_drop\n",
        "    )\n",
        "\n",
        "n = 5\n",
        "\n",
        "result = model_avg(\n",
        "    training_set =training_set, \n",
        "    val_set = val_set, \n",
        "    x_train = x_train, \n",
        "    y_train = y_train, \n",
        "    x_test = x_test, \n",
        "    y_test = y_test, \n",
        "    val_df = val_df, \n",
        "    seeds = True,\n",
        "    n = n, \n",
        "    epochs = epochs, \n",
        "    batch_size = batch_size, \n",
        "    model = mode_test\n",
        "                   )\n",
        "print(result)\n",
        "print(f'the average of the result is: {np.mean(result)}')"
      ],
      "metadata": {
        "id": "sJVK-z8K6XE3"
      },
      "execution_count": null,
      "outputs": []
    },
    {
      "cell_type": "markdown",
      "source": [
        "* small batches leads to small variance, but average performance is not better. "
      ],
      "metadata": {
        "id": "7_vJ5EjN8m6f"
      }
    },
    {
      "cell_type": "code",
      "source": [
        "#@title\n",
        "tf.keras.utils.set_random_seed(1234)\n",
        "\n",
        "mode_test = tf.keras.models.Sequential([\n",
        "      #tf.keras.layers.BatchNormalization(),\n",
        "      Dense(128, activation = \"relu\"),\n",
        "      #Dense(64, activation = \"relu\"),\n",
        "      #Dense(32, activation = \"relu\"),\n",
        "      #Dense(8, activation = \"relu\"),\n",
        "      Dense(2, activation = \"softmax\")\n",
        "  ])\n",
        "\n",
        "mode_test.compile(\n",
        "      optimizer='adam',\n",
        "      loss='sparse_categorical_crossentropy',\n",
        "      metrics=['accuracy']\n",
        "  )\n",
        "# slightly higher when include month\n",
        "# much higher after exclude last_stage_days\n",
        "\n",
        "epochs = 30\n",
        "batch_size = 80\n",
        "\n",
        "col_drop = [\"transition_point\",\"stage_name_lag_1\",\"stage_id_cumsum\",\"volume\",\"start_date\", \\\n",
        "            'cluster',\\\n",
        "            '1', '2', '3', '4', '5', '6', '7', '8', '9', '10', '11', '12', \\\n",
        "            'vol_mean_alltime', 'vol_std_alltime',\\\n",
        "            'vol_mean_before_2016', 'vol_std_before_2016', \n",
        "            'vol_mean_before_4m','vol_std_before_4m', \\\n",
        "            'vol_mean_before_1y', 'vol_std_before_1y', \\\n",
        "            #'x1','x2','x3'\\\n",
        "            #\"last_stage_days\"\\\n",
        "            ]\n",
        "input = final_df_v2.assign(\n",
        "    x1 = lambda x: 100* x.vol_std_before_2016 / x.vol_mean_before_2016 ,\n",
        "    x2 = lambda x: 100* (x.vol_std_before_4m - x.vol_std_before_1y)/x.vol_std_before_1y ,\n",
        "    x3 = lambda x: 100*(x.vol_mean_before_4m - x.vol_mean_before_1y) / x.vol_mean_before_1y ,\n",
        "                   )\n",
        "input.x1 = input.x1.fillna(0)\n",
        "input.x2 = input.x2.fillna(0)\n",
        "input.x3 = input.x3.fillna(0)\n",
        "\n",
        "training_set, val_set, x_train, y_train, x_test, y_test, val_df = input_hang(\n",
        "    input, \n",
        "    train_balance = False, \n",
        "    val_balance = False, \n",
        "    col_drop = col_drop\n",
        "    )\n",
        "\n",
        "n = 5\n",
        "\n",
        "result = model_avg(\n",
        "    training_set =training_set, \n",
        "    val_set = val_set, \n",
        "    x_train = x_train, \n",
        "    y_train = y_train, \n",
        "    x_test = x_test, \n",
        "    y_test = y_test, \n",
        "    val_df = val_df, \n",
        "    seeds = True,\n",
        "    n = n, \n",
        "    epochs = epochs, \n",
        "    batch_size = batch_size, \n",
        "    model = mode_test\n",
        "                   )\n",
        "print(result)\n",
        "print(f'the average of the result is: {np.mean(result)}')"
      ],
      "metadata": {
        "cellView": "form",
        "id": "3P-nMrJ68IB2"
      },
      "execution_count": null,
      "outputs": []
    },
    {
      "cell_type": "markdown",
      "source": [
        "* Large batch size does not lead to better result. need to increase epoch number. "
      ],
      "metadata": {
        "id": "_vCj819k8w2V"
      }
    },
    {
      "cell_type": "code",
      "source": [
        "#@title\n",
        "tf.keras.utils.set_random_seed(1234)\n",
        "\n",
        "mode_test = tf.keras.models.Sequential([\n",
        "      #tf.keras.layers.BatchNormalization(),\n",
        "      Dense(128, activation = \"relu\"),\n",
        "      #Dense(64, activation = \"relu\"),\n",
        "      #Dense(32, activation = \"relu\"),\n",
        "      #Dense(8, activation = \"relu\"),\n",
        "      Dense(2, activation = \"softmax\")\n",
        "  ])\n",
        "\n",
        "mode_test.compile(\n",
        "      optimizer='adam',\n",
        "      loss='sparse_categorical_crossentropy',\n",
        "      metrics=['accuracy']\n",
        "  )\n",
        "# slightly higher when include month\n",
        "# much higher after exclude last_stage_days\n",
        "\n",
        "epochs = 30\n",
        "batch_size = 800\n",
        "\n",
        "col_drop = [\"transition_point\",\"stage_name_lag_1\",\"stage_id_cumsum\",\"volume\",\"start_date\", \\\n",
        "            'cluster',\\\n",
        "            '1', '2', '3', '4', '5', '6', '7', '8', '9', '10', '11', '12', \\\n",
        "            'vol_mean_alltime', 'vol_std_alltime',\\\n",
        "            'vol_mean_before_2016', 'vol_std_before_2016', \n",
        "            'vol_mean_before_4m','vol_std_before_4m', \\\n",
        "            'vol_mean_before_1y', 'vol_std_before_1y', \\\n",
        "            #'x1','x2','x3'\\\n",
        "            #\"last_stage_days\"\\\n",
        "            ]\n",
        "input = final_df_v2.assign(\n",
        "    x1 = lambda x: 100* x.vol_std_before_2016 / x.vol_mean_before_2016 ,\n",
        "    x2 = lambda x: 100* (x.vol_std_before_4m - x.vol_std_before_1y)/x.vol_std_before_1y ,\n",
        "    x3 = lambda x: 100*(x.vol_mean_before_4m - x.vol_mean_before_1y) / x.vol_mean_before_1y ,\n",
        "                   )\n",
        "input.x1 = input.x1.fillna(0)\n",
        "input.x2 = input.x2.fillna(0)\n",
        "input.x3 = input.x3.fillna(0)\n",
        "\n",
        "training_set, val_set, x_train, y_train, x_test, y_test, val_df = input_hang(\n",
        "    input, \n",
        "    train_balance = False, \n",
        "    val_balance = False, \n",
        "    col_drop = col_drop\n",
        "    )\n",
        "\n",
        "n = 5\n",
        "\n",
        "result = model_avg(\n",
        "    training_set =training_set, \n",
        "    val_set = val_set, \n",
        "    x_train = x_train, \n",
        "    y_train = y_train, \n",
        "    x_test = x_test, \n",
        "    y_test = y_test, \n",
        "    val_df = val_df, \n",
        "    seeds = True,\n",
        "    n = n, \n",
        "    epochs = epochs, \n",
        "    batch_size = batch_size, \n",
        "    model = mode_test\n",
        "                   )\n",
        "print(result)\n",
        "print(f'the average of the result is: {np.mean(result)}')"
      ],
      "metadata": {
        "cellView": "form",
        "id": "7QdPbnqB6KJH"
      },
      "execution_count": null,
      "outputs": []
    },
    {
      "cell_type": "markdown",
      "source": [
        "#### Model Selection"
      ],
      "metadata": {
        "id": "2puIHPY1UDJT"
      }
    },
    {
      "cell_type": "markdown",
      "source": [
        "Model Improvement Below"
      ],
      "metadata": {
        "id": "yVnDXvBfReK2"
      }
    },
    {
      "cell_type": "markdown",
      "source": [
        "* After test, 3 hidden layer is too much. 1 hidden layer can perform very well. \n",
        "* Small batches may cause unstable of the result \n",
        "* When model made 50/50 maturity and growth prediction, the result is bad due to the test set property\n",
        "* Adding cluster would harm the result slightly\n",
        "* Deeper model with more feature is better\n"
      ],
      "metadata": {
        "id": "ifUPon53mwoD"
      }
    },
    {
      "cell_type": "code",
      "source": [
        "def model_avg(training_set, val_set, x_train, y_train, x_test, y_test, val_df, seeds, model, n = 5, epochs = 5, batch_size = 32):\n",
        "  if seeds:\n",
        "    seeds = []\n",
        "    for i in range(n):\n",
        "      seeds.append(random.randint(0,100))\n",
        "\n",
        "  err = []\n",
        "  for i in seeds:\n",
        "    tf.keras.utils.set_random_seed(i)\n",
        "    history_test = mode_test.fit(x_train, y_train, epochs=epochs, batch_size=batch_size, verbose = 0, validation_data = (x_test, y_test))\n",
        "    predictions_test = mode_test.predict(x_test)\n",
        "    err_test = compute_error_validation(prediction_hang(predictions_test, y_test, val_df))\n",
        "    err.append(err_test.absolute_error.mean())\n",
        "  return err"
      ],
      "metadata": {
        "id": "5DRZ38YN8gFO"
      },
      "execution_count": null,
      "outputs": []
    },
    {
      "cell_type": "code",
      "source": [
        "tf.keras.utils.set_random_seed(1234)\n",
        "\n",
        "mode_test = tf.keras.models.Sequential([\n",
        "      Dense(128, activation = \"relu\"),\n",
        "      Dense(2, activation = \"softmax\")\n",
        "  ])\n",
        "\n",
        "mode_test.compile(\n",
        "      optimizer='adam',\n",
        "      loss='sparse_categorical_crossentropy',\n",
        "      metrics=['accuracy']\n",
        "  )\n",
        "# 13.699 with last_stage_days and clusters\n",
        "# 22.015 after include last_stage_days\n",
        "training_set, val_set, x_train, y_train, x_test, y_test, val_df = input_hang(final_df, train_balance = False, val_balance = False, col_drop = [\"transition_point\",\"stage_name_lag_1\",\"stage_id_cumsum\",\"volume\",\"start_date\",\"last_stage_days\"])\n",
        "n = 5\n",
        "epochs = 5\n",
        "batch_size = 32\n",
        "\n",
        "result = model_avg(\n",
        "    training_set =training_set, \n",
        "    val_set = val_set, \n",
        "    x_train = x_train, \n",
        "    y_train = y_train, \n",
        "    x_test = x_test, \n",
        "    y_test = y_test, \n",
        "    val_df = val_df, \n",
        "    seeds = True,\n",
        "    n = n, \n",
        "    epochs = epochs, \n",
        "    batch_size = batch_size, \n",
        "    model = mode_test\n",
        "                   )\n",
        "print(result)\n",
        "print(f'the average of the result is: {np.mean(result)}')"
      ],
      "metadata": {
        "id": "nmrtXPRPsF94"
      },
      "execution_count": null,
      "outputs": []
    },
    {
      "cell_type": "code",
      "source": [
        "tf.keras.utils.set_random_seed(1234)\n",
        "\n",
        "mode_test = tf.keras.models.Sequential([\n",
        "      Dense(128, activation = \"relu\"),\n",
        "      Dense(2, activation = \"softmax\")\n",
        "  ])\n",
        "\n",
        "mode_test.compile(\n",
        "      optimizer='adam',\n",
        "      loss='sparse_categorical_crossentropy',\n",
        "      metrics=['accuracy']\n",
        "  )\n",
        "\n",
        "training_set, val_set, x_train, y_train, x_test, y_test, val_df = input_hang(final_df, train_balance = False, val_balance = False, col_drop = [\"transition_point\",\"stage_name_lag_1\",\"stage_id_cumsum\",\"volume\",\"start_date\",\"cluster\"])\n",
        "n = 5\n",
        "epochs = 5\n",
        "batch_size = 32\n",
        "\n",
        "result = model_avg(\n",
        "    training_set =training_set, \n",
        "    val_set = val_set, \n",
        "    x_train = x_train, \n",
        "    y_train = y_train, \n",
        "    x_test = x_test, \n",
        "    y_test = y_test, \n",
        "    val_df = val_df, \n",
        "    seeds = True,\n",
        "    n = n, \n",
        "    epochs = epochs, \n",
        "    batch_size = batch_size, \n",
        "    model = mode_test\n",
        "                   )\n",
        "print(result)\n",
        "print(f'the average of the result is: {np.mean(result)}')"
      ],
      "metadata": {
        "id": "3kUkW0OMbRdK"
      },
      "execution_count": null,
      "outputs": []
    },
    {
      "cell_type": "code",
      "source": [
        "tf.keras.utils.set_random_seed(1234)\n",
        "\n",
        "mode_test = tf.keras.models.Sequential([\n",
        "      Dense(128, activation = \"relu\"),\n",
        "      Dense(2, activation = \"softmax\")\n",
        "  ])\n",
        "\n",
        "mode_test.compile(\n",
        "      optimizer='adam',\n",
        "      loss='sparse_categorical_crossentropy',\n",
        "      #loss = 'sparse_categorical_accuracy',\n",
        "      metrics=['accuracy']\n",
        "  )\n",
        "\n",
        "training_set, val_set, x_train, y_train, x_test, y_test, val_df = input_hang(final_df, train_balance = False, val_balance = False)\n",
        "n = 5\n",
        "epochs = 30\n",
        "batch_size = 32\n",
        "\n",
        "result = model_avg(\n",
        "    training_set =training_set, \n",
        "    val_set = val_set, \n",
        "    x_train = x_train, \n",
        "    y_train = y_train, \n",
        "    x_test = x_test, \n",
        "    y_test = y_test, \n",
        "    val_df = val_df, \n",
        "    seeds = True,\n",
        "    n = n, \n",
        "    epochs = epochs, \n",
        "    batch_size = batch_size, \n",
        "    model = mode_test\n",
        "                   )\n",
        "print(result)\n",
        "print(f'the average of the result is: {np.mean(result)}')"
      ],
      "metadata": {
        "id": "0DK85dlTtUoM"
      },
      "execution_count": null,
      "outputs": []
    },
    {
      "cell_type": "code",
      "source": [
        "tf.keras.utils.set_random_seed(1)\n",
        "\n",
        "mode_test = tf.keras.models.Sequential([\n",
        "      Dense(64, activation = \"relu\"),\n",
        "      Dense(32, activation = \"relu\"),\n",
        "      Dense(2, activation = \"softmax\")\n",
        "  ])\n",
        "\n",
        "mode_test.compile(\n",
        "      optimizer='adam',\n",
        "      loss='sparse_categorical_crossentropy',\n",
        "      #loss = 'sparse_categorical_accuracy',\n",
        "      metrics=['accuracy']\n",
        "  )\n",
        "\n",
        "training_set, val_set, x_train, y_train, x_test, y_test, val_df = input_hang(final_df, train_balance = False, val_balance = False)\n",
        "n = 5\n",
        "epochs = 30\n",
        "batch_size = 32\n",
        "\n",
        "result = model_avg(\n",
        "    training_set =training_set, \n",
        "    val_set = val_set, \n",
        "    x_train = x_train, \n",
        "    y_train = y_train, \n",
        "    x_test = x_test, \n",
        "    y_test = y_test, \n",
        "    val_df = val_df, \n",
        "    seeds = True,\n",
        "    n = n, \n",
        "    epochs = epochs, \n",
        "    batch_size = batch_size, \n",
        "    model = mode_test\n",
        "                   )\n",
        "print(result)\n",
        "print(f'the average of the result is: {np.mean(result)}')"
      ],
      "metadata": {
        "id": "FTf4kKjRukWu"
      },
      "execution_count": null,
      "outputs": []
    },
    {
      "cell_type": "code",
      "source": [
        "tf.keras.utils.set_random_seed(1234)\n",
        "\n",
        "mode_test = tf.keras.models.Sequential([\n",
        "      Dense(64, activation = \"relu\"),\n",
        "      Dense(32, activation = \"relu\"),\n",
        "      Dense(2, activation = \"softmax\")\n",
        "  ])\n",
        "\n",
        "mode_test.compile(\n",
        "      optimizer='adam',\n",
        "      loss='sparse_categorical_crossentropy',\n",
        "      #loss = 'sparse_categorical_accuracy',\n",
        "      metrics=['accuracy']\n",
        "  )\n",
        "\n",
        "training_set, val_set, x_train, y_train, x_test, y_test, val_df = input_hang(final_df, train_balance = False, val_balance = False)\n",
        "n = 5\n",
        "epochs = 30\n",
        "batch_size = 400\n",
        "\n",
        "result = model_avg(\n",
        "    training_set =training_set, \n",
        "    val_set = val_set, \n",
        "    x_train = x_train, \n",
        "    y_train = y_train, \n",
        "    x_test = x_test, \n",
        "    y_test = y_test, \n",
        "    val_df = val_df, \n",
        "    seeds = True,\n",
        "    n = n, \n",
        "    epochs = epochs, \n",
        "    batch_size = batch_size, \n",
        "    model = mode_test\n",
        "                   )\n",
        "print(result)\n",
        "print(f'the average of the result is: {np.mean(result)}')"
      ],
      "metadata": {
        "id": "qCA4NP9evQ4R"
      },
      "execution_count": null,
      "outputs": []
    },
    {
      "cell_type": "code",
      "source": [
        "tf.keras.utils.set_random_seed(1234)\n",
        "\n",
        "mode_test = tf.keras.models.Sequential([\n",
        "      Dense(64, activation = \"relu\"),\n",
        "      Dense(32, activation = \"relu\"),\n",
        "      Dense(2, activation = \"softmax\")\n",
        "  ])\n",
        "\n",
        "mode_test.compile(\n",
        "      optimizer='adam',\n",
        "      loss='sparse_categorical_crossentropy',\n",
        "      #loss = 'sparse_categorical_accuracy',\n",
        "      metrics=['accuracy']\n",
        "  )\n",
        "\n",
        "training_set, val_set, x_train, y_train, x_test, y_test, val_df = input_hang(final_df, train_balance = False, val_balance = False)\n",
        "n = 5\n",
        "epochs = 200\n",
        "batch_size = 400\n",
        "\n",
        "result = model_avg(\n",
        "    training_set =training_set, \n",
        "    val_set = val_set, \n",
        "    x_train = x_train, \n",
        "    y_train = y_train, \n",
        "    x_test = x_test, \n",
        "    y_test = y_test, \n",
        "    val_df = val_df, \n",
        "    seeds = True,\n",
        "    n = n, \n",
        "    epochs = epochs, \n",
        "    batch_size = batch_size, \n",
        "    model = mode_test\n",
        "                   )\n",
        "print(result)\n",
        "print(f'the average of the result is: {np.mean(result)}')"
      ],
      "metadata": {
        "id": "v96E9iP8xrg-"
      },
      "execution_count": null,
      "outputs": []
    },
    {
      "cell_type": "code",
      "source": [
        "tf.keras.utils.set_random_seed(1234)\n",
        "\n",
        "mode_test = tf.keras.models.Sequential([\n",
        "      Dense(128, activation = \"relu\"),\n",
        "      Dense(2, activation = \"softmax\")\n",
        "  ])\n",
        "\n",
        "mode_test.compile(\n",
        "      optimizer='adam',\n",
        "      loss='sparse_categorical_crossentropy',\n",
        "      #loss = 'sparse_categorical_accuracy',\n",
        "      metrics=['accuracy']\n",
        "  )\n",
        "\n",
        "training_set, val_set, x_train, y_train, x_test, y_test, val_df = input_hang(final_df, train_balance = False, val_balance = False)\n",
        "n = 5\n",
        "epochs = 200\n",
        "batch_size = 400\n",
        "\n",
        "result = model_avg(\n",
        "    training_set =training_set, \n",
        "    val_set = val_set, \n",
        "    x_train = x_train, \n",
        "    y_train = y_train, \n",
        "    x_test = x_test, \n",
        "    y_test = y_test, \n",
        "    val_df = val_df, \n",
        "    seeds = True,\n",
        "    n = n, \n",
        "    epochs = epochs, \n",
        "    batch_size = batch_size, \n",
        "    model = mode_test\n",
        "                   )\n",
        "print(result)\n",
        "print(f'the average of the result is: {np.mean(result)}')"
      ],
      "metadata": {
        "id": "fOkhKTlyv9KI"
      },
      "execution_count": null,
      "outputs": []
    },
    {
      "cell_type": "code",
      "source": [
        "tf.keras.utils.set_random_seed(1234)\n",
        "\n",
        "mode_test = tf.keras.models.Sequential([\n",
        "      Dense(64, activation = \"relu\"),\n",
        "      Dense(2, activation = \"softmax\")\n",
        "  ])\n",
        "\n",
        "mode_test.compile(\n",
        "      optimizer='adam',\n",
        "      loss='sparse_categorical_crossentropy',\n",
        "      #loss = 'sparse_categorical_accuracy',\n",
        "      metrics=['accuracy']\n",
        "  )\n",
        "\n",
        "training_set, val_set, x_train, y_train, x_test, y_test, val_df = input_hang(final_df, train_balance = False, val_balance = False)\n",
        "n = 5\n",
        "epochs = 300\n",
        "batch_size = 400\n",
        "\n",
        "result = model_avg(\n",
        "    training_set =training_set, \n",
        "    val_set = val_set, \n",
        "    x_train = x_train, \n",
        "    y_train = y_train, \n",
        "    x_test = x_test, \n",
        "    y_test = y_test, \n",
        "    val_df = val_df, \n",
        "    seeds = True,\n",
        "    n = n, \n",
        "    epochs = epochs, \n",
        "    batch_size = batch_size, \n",
        "    model = mode_test\n",
        "                   )\n",
        "print(result)\n",
        "print(f'the average of the result is: {np.mean(result)}')"
      ],
      "metadata": {
        "id": "GfLXyqTJyeAu"
      },
      "execution_count": null,
      "outputs": []
    },
    {
      "cell_type": "code",
      "source": [
        "tf.keras.utils.set_random_seed(1234)\n",
        "\n",
        "mode_test = tf.keras.models.Sequential([\n",
        "      Dense(128, activation = \"relu\"),\n",
        "      Dense(16, activation = \"relu\"),\n",
        "      Dense(2, activation = \"softmax\")\n",
        "  ])\n",
        "\n",
        "mode_test.compile(\n",
        "      optimizer='adam',\n",
        "      loss='sparse_categorical_crossentropy',\n",
        "      #loss = 'sparse_categorical_accuracy',\n",
        "      metrics=['accuracy']\n",
        "  )\n",
        "\n",
        "training_set, val_set, x_train, y_train, x_test, y_test, val_df = input_hang(final_df, train_balance = False, val_balance = False)\n",
        "n = 5\n",
        "epochs = 200\n",
        "batch_size = 400\n",
        "seeds = True\n",
        "\n",
        "result = model_avg(\n",
        "    training_set =training_set, \n",
        "    val_set = val_set, \n",
        "    x_train = x_train, \n",
        "    y_train = y_train, \n",
        "    x_test = x_test, \n",
        "    y_test = y_test, \n",
        "    val_df = val_df, \n",
        "    seeds = seeds,\n",
        "    n = n, \n",
        "    epochs = epochs, \n",
        "    batch_size = batch_size, \n",
        "    model = mode_test\n",
        "                   )\n",
        "print(result)\n",
        "print(f'the average of the result is: {np.mean(result)}')"
      ],
      "metadata": {
        "id": "DSK9noDQac0C"
      },
      "execution_count": null,
      "outputs": []
    },
    {
      "cell_type": "code",
      "source": [
        "mode_test = tf.keras.models.Sequential([\n",
        "      Dense(128, activation = \"relu\"),\n",
        "      Dense(2, activation = \"softmax\")\n",
        "  ])\n",
        "\n",
        "mode_test.compile(\n",
        "      optimizer='adam',\n",
        "      loss='sparse_categorical_crossentropy',\n",
        "      #loss = 'sparse_categorical_accuracy',\n",
        "      metrics=['accuracy']\n",
        "  )\n",
        "\n",
        "training_set, val_set, x_train, y_train, x_test, y_test, val_df = input_hang(final_df, train_balance = False, val_balance = False)\n",
        "\n",
        "epochs = 200\n",
        "batch_size = 500\n",
        "\n",
        "history_test = mode_test.fit(x_train, y_train, epochs=epochs, batch_size=batch_size, verbose = 0, validation_data = (x_test, y_test))\n",
        "predictions_test = mode_test.predict(x_test)\n",
        "err_test = compute_error_validation(prediction_hang(predictions_test, y_test, val_df))\n",
        "err_test.absolute_error.mean()\n",
        "print(f'training set growth pct: {1 - y_train.sum() / y_train.shape[0]}')\n",
        "print(f'test set growth pct:{1 - y_test.sum() / y_test.shape[0]}')\n",
        "print(f'prediction growth pct: {1 - np.argmax(predictions_test, axis = 1).sum() / y_test.shape[0]}')\n",
        "print(f\"mean accurary: {np.mean(history_test.history['accuracy'])}\")"
      ],
      "metadata": {
        "id": "An6Mha8pfYjj"
      },
      "execution_count": null,
      "outputs": []
    },
    {
      "cell_type": "code",
      "source": [
        "mode_test = tf.keras.models.Sequential([\n",
        "      Dense(64, activation = \"relu\"),\n",
        "      Dense(2, activation = \"softmax\")\n",
        "  ])\n",
        "\n",
        "mode_test.compile(\n",
        "      optimizer='adam',\n",
        "      loss='sparse_categorical_crossentropy',\n",
        "      #loss = 'sparse_categorical_accuracy',\n",
        "      metrics=['accuracy']\n",
        "  )\n",
        "\n",
        "training_set, val_set, x_train, y_train, x_test, y_test, val_df = input_hang(final_df, train_balance = False, val_balance = False)\n",
        "\n",
        "epochs = 50\n",
        "batch_size = 500\n",
        "\n",
        "history_test = mode_test.fit(x_train, y_train, epochs=epochs, batch_size=batch_size, verbose = 0, validation_data = (x_test, y_test))\n",
        "predictions_test = mode_test.predict(x_test)\n",
        "err_test = compute_error_validation(prediction_hang(predictions_test, y_test, val_df))\n",
        "err_test.absolute_error.mean()\n",
        "print(f'training set growth pct: {1 - y_train.sum() / y_train.shape[0]}')\n",
        "print(f'test set growth pct:{1 - y_test.sum() / y_test.shape[0]}')\n",
        "print(f'prediction growth pct: {1 - np.argmax(predictions_test, axis = 1).sum() / y_test.shape[0]}')\n",
        "print(f\"mean accurary: {np.mean(history_test.history['accuracy'])}\")"
      ],
      "metadata": {
        "id": "3WijjEVKkQYP"
      },
      "execution_count": null,
      "outputs": []
    },
    {
      "cell_type": "code",
      "source": [
        "plot(history_test)"
      ],
      "metadata": {
        "id": "95idIQ-Hf6-A"
      },
      "execution_count": null,
      "outputs": []
    },
    {
      "cell_type": "code",
      "source": [
        "# ! pip install 'tensorflow_addons'"
      ],
      "metadata": {
        "id": "-ygFxhE_pJe2"
      },
      "execution_count": null,
      "outputs": []
    },
    {
      "cell_type": "code",
      "source": [
        "tf.keras.utils.set_random_seed(1234)\n",
        "mode_test = tf.keras.models.Sequential([\n",
        "      Dense(64, activation = \"relu\"),\n",
        "      Dense(32, activation = \"relu\"),\n",
        "      Dense(16, activation = \"relu\"),\n",
        "      Dense(1, activation = \"sigmoid\")\n",
        "  ])\n",
        "\n",
        "loss_fn = tf.keras.losses.BinaryFocalCrossentropy(apply_class_balancing=True, gamma=2, from_logits=True)\n",
        "\n",
        "mode_test.compile(\n",
        "      optimizer='adam',\n",
        "      loss = loss_fn,\n",
        "      metrics=['accuracy']\n",
        "  )\n",
        "\n",
        "training_set, val_set, x_train, y_train, x_test, y_test, val_df = input_hang(final_df, train_balance = False, val_balance = False)\n",
        "\n",
        "epochs = 20\n",
        "batch_size = 128\n",
        "\n",
        "history_test = mode_test.fit(x_train, y_train, epochs=epochs, batch_size=batch_size, verbose = 0, validation_data = (x_test, y_test))\n",
        "predictions_test = mode_test.predict(x_test)\n",
        "err_test = compute_error_validation(prediction_hang(np.concatenate((1 - predictions_test, predictions_test), axis = 1), y_test, val_df))\n",
        "err_test.absolute_error.mean()\n",
        "print(f'training set growth pct: {1 - y_train.sum() / y_train.shape[0]}')\n",
        "print(f'test set growth pct:{1 - y_test.sum() / y_test.shape[0]}')\n",
        "print(f'prediction growth pct: {1 - predictions_test.sum() / y_test.shape[0]}')\n",
        "print(f\"mean accurary: {np.mean(history_test.history['accuracy'])}\")"
      ],
      "metadata": {
        "id": "JLmCTFFLo7ul"
      },
      "execution_count": null,
      "outputs": []
    },
    {
      "cell_type": "code",
      "source": [
        "# Example 1: (batch_size = 1, number of samples = 4)\n",
        "y_true = [0, 1, 0, 0]\n",
        "y_pred = [-18.6, 0.51, 2.94, -12.8]\n",
        "loss = tf.keras.losses.BinaryFocalCrossentropy(\n",
        "    apply_class_balancing=True, gamma=3, from_logits=True)\n",
        "loss(y_true, y_pred, sample_weight=[0.8, 0.2]).numpy()\n"
      ],
      "metadata": {
        "id": "ou3-tyHDy4bQ"
      },
      "execution_count": null,
      "outputs": []
    },
    {
      "cell_type": "code",
      "source": [
        "predictions_test.sum()"
      ],
      "metadata": {
        "id": "ZIavUgUotFrc"
      },
      "execution_count": null,
      "outputs": []
    },
    {
      "cell_type": "code",
      "source": [
        "predictions_test[0]"
      ],
      "metadata": {
        "id": "2RsPAtfzszNy"
      },
      "execution_count": null,
      "outputs": []
    },
    {
      "cell_type": "markdown",
      "source": [
        "https://amaarora.github.io/2020/06/29/FocalLoss.html#alpha-and-gamma"
      ],
      "metadata": {
        "id": "ijKpNFNmqXOm"
      }
    },
    {
      "cell_type": "code",
      "source": [
        "from sklearn.preprocessing import LabelEncoder\n",
        "\n",
        "Y = final_df.stage_name\n",
        "# encode class values as integers\n",
        "encoder = LabelEncoder()\n",
        "encoder.fit(Y)\n",
        "encoded_Y = encoder.transform(Y)\n",
        "pd.value_counts(encoded_Y)"
      ],
      "metadata": {
        "id": "Z3mhYKXmxzZJ"
      },
      "execution_count": null,
      "outputs": []
    },
    {
      "cell_type": "code",
      "source": [
        "encoded_Y"
      ],
      "metadata": {
        "id": "LhKd7MiIycbS"
      },
      "execution_count": null,
      "outputs": []
    },
    {
      "cell_type": "code",
      "source": [
        "np.array(y_test)"
      ],
      "metadata": {
        "id": "u8-UyqC5ymjy"
      },
      "execution_count": null,
      "outputs": []
    }
  ]
}